{
 "cells": [
  {
   "cell_type": "code",
   "execution_count": 182,
   "metadata": {},
   "outputs": [],
   "source": [
    "import pandas as pd\n",
    "import numpy as np\n",
    "import seaborn as sns\n",
    "import matplotlib.pyplot as plt\n",
    "import plotly_express as px\n",
    "import plotly.graph_objects as go\n"
   ]
  },
  {
   "cell_type": "code",
   "execution_count": 183,
   "metadata": {},
   "outputs": [],
   "source": [
    "def single_bank_type(bank_type, sa, last_days, file_name):\n",
    "\n",
    "    banks_df = pd.read_csv(f'{file_name}').iloc[-last_days:,:]\n",
    "    banks_df.set_index('Series Description', inplace=True, drop=True)\n",
    "    banks_df = banks_df.astype(float)\n",
    "    banks_df.index = banks_df.index.astype('datetime64[ns]')\n",
    "\n",
    "    # ----------------------------------- ASSETS ------------------------------------\n",
    "\n",
    "    banks_df[f'LESS: Allowance for loan and lease losses, {bank_type}, {sa}'] = banks_df[f'LESS: Allowance for loan and lease losses, {bank_type}, {sa}'] * -1\n",
    "    col_asset = [\n",
    "        f'Treasury and agency securities, {bank_type}, {sa}', \n",
    "        f'Other securities, {bank_type}, {sa}',\n",
    "        f'Commercial and industrial loans, {bank_type}, {sa}', \n",
    "        f'Real estate loans, {bank_type}, {sa}',   \n",
    "        f'Consumer loans, {bank_type}, {sa}',\n",
    "        f'Other loans and leases: All other loans and leases, {bank_type}, {sa}',\n",
    "        f'LESS: Allowance for loan and lease losses, {bank_type}, {sa}',\n",
    "        f'Cash assets, {bank_type}, {sa}',\n",
    "        f'Total fed funds sold and securities purchased under agreements to resell, {bank_type}, {sa}',\n",
    "        f'Loans to commercial banks, {bank_type}, {sa}',\n",
    "        f'Other assets, {bank_type}, {sa}'\n",
    "    ]\n",
    "    asset_df = banks_df[col_asset]\n",
    "    asset_percent_df = asset_df.div(banks_df[f'Total assets, {bank_type}, {sa}'], axis=0)\n",
    "\n",
    "    \n",
    "    fig = px.bar(asset_df, template='plotly_white')\n",
    "    fig.update_layout(\n",
    "        title=(f'{bank_type}: Assets'.capitalize()),\n",
    "        xaxis_title='Date',\n",
    "        yaxis_title='Value (1000000 multiplier)',\n",
    "        legend_title='Legend'\n",
    "    )\n",
    "    fig.show()\n",
    "\n",
    "    fig = px.bar(asset_percent_df, template='plotly_white')\n",
    "    fig.update_layout(\n",
    "        title=f'{bank_type}: Assets as % of total assets'.capitalize(),\n",
    "        xaxis_title='Date',\n",
    "        yaxis_title='% of total assets',\n",
    "        legend_title='Legend'\n",
    "    )\n",
    "    fig.show()\n",
    "\n",
    "    diff_asset_1w_df = asset_df -asset_df.shift(1)\n",
    "    fig = px.bar(diff_asset_1w_df,  template='plotly_white')\n",
    "    fig.update_layout(\n",
    "        title=f'{bank_type}: assets wow change'.capitalize(),\n",
    "        xaxis_title='Date',\n",
    "        yaxis_title='Value (1000000 multiplier)',\n",
    "        legend_title='Legend'\n",
    "    )\n",
    "    fig.show()\n",
    "    \n",
    "    # ----------------------------------- LIABILITIES ------------------------------------\n",
    "\n",
    "    liabilities_col = [\n",
    "        f'Deposits, {bank_type}, {sa}',\n",
    "        f'Borrowings, {bank_type}, {sa}',\n",
    "        f'Net due to related foreign offices, {bank_type}, {sa}',\n",
    "        f'Other liabilities, {bank_type}, {sa}'\n",
    "    ]\n",
    "    liabilities_df = banks_df[liabilities_col]\n",
    "\n",
    "    liabilities_percent = liabilities_df.div(banks_df[f'Total liabilities, {bank_type}, {sa}'], axis=0)\n",
    "\n",
    "    fig = px.bar(liabilities_df, template='plotly_white')\n",
    "    fig.update_layout(\n",
    "        title=f'{bank_type}: Liabilities'.capitalize(),\n",
    "        xaxis_title='Date',\n",
    "        yaxis_title='Value (1000000 multiplier)',\n",
    "        legend_title='Legend'\n",
    "    )\n",
    "    fig.show()\n",
    "\n",
    "    fig = px.bar(liabilities_percent, template='plotly_white')\n",
    "    fig.update_layout(\n",
    "        title=f'{bank_type}: Liabilities as % of total liabilities'.capitalize(),\n",
    "        xaxis_title='Date',\n",
    "        yaxis_title='% value ',\n",
    "        legend_title='Legend'\n",
    "    )\n",
    "    fig.show()\n",
    "\n",
    "    diff_liabilities_1w_df = liabilities_df -liabilities_df.shift(1)\n",
    "    fig = px.bar(diff_liabilities_1w_df, title='Value change 1w', template='plotly_white')\n",
    "    fig.update_layout(\n",
    "        title=f'{bank_type}: liabilities wow change'.capitalize(),\n",
    "        xaxis_title='Date',\n",
    "        yaxis_title='Value (1000000 multiplier) ',\n",
    "        legend_title='Legend'\n",
    "    )\n",
    "    fig.show()\n",
    "\n"
   ]
  },
  {
   "attachments": {},
   "cell_type": "markdown",
   "metadata": {},
   "source": [
    "# SMALL BANKS"
   ]
  },
  {
   "cell_type": "code",
   "execution_count": 195,
   "metadata": {},
   "outputs": [
    {
     "data": {
      "application/vnd.plotly.v1+json": {
       "config": {
        "plotlyServerURL": "https://plot.ly"
       },
       "data": [
        {
         "alignmentgroup": "True",
         "hovertemplate": "variable=Treasury and agency securities, small domestically chartered commercial banks, not seasonally adjusted<br>Series Description=%{x}<br>value=%{y}<extra></extra>",
         "legendgroup": "Treasury and agency securities, small domestically chartered commercial banks, not seasonally adjusted",
         "marker": {
          "color": "#636efa",
          "pattern": {
           "shape": ""
          }
         },
         "name": "Treasury and agency securities, small domestically chartered commercial banks, not seasonally adjusted",
         "offsetgroup": "Treasury and agency securities, small domestically chartered commercial banks, not seasonally adjusted",
         "orientation": "v",
         "showlegend": true,
         "textposition": "auto",
         "type": "bar",
         "x": [
          "2022-05-04T00:00:00",
          "2022-05-11T00:00:00",
          "2022-05-18T00:00:00",
          "2022-05-25T00:00:00",
          "2022-06-01T00:00:00",
          "2022-06-08T00:00:00",
          "2022-06-15T00:00:00",
          "2022-06-22T00:00:00",
          "2022-06-29T00:00:00",
          "2022-07-06T00:00:00",
          "2022-07-13T00:00:00",
          "2022-07-20T00:00:00",
          "2022-07-27T00:00:00",
          "2022-08-03T00:00:00",
          "2022-08-10T00:00:00",
          "2022-08-17T00:00:00",
          "2022-08-24T00:00:00",
          "2022-08-31T00:00:00",
          "2022-09-07T00:00:00",
          "2022-09-14T00:00:00",
          "2022-09-21T00:00:00",
          "2022-09-28T00:00:00",
          "2022-10-05T00:00:00",
          "2022-10-12T00:00:00",
          "2022-10-19T00:00:00",
          "2022-10-26T00:00:00",
          "2022-11-02T00:00:00",
          "2022-11-09T00:00:00",
          "2022-11-16T00:00:00",
          "2022-11-23T00:00:00",
          "2022-11-30T00:00:00",
          "2022-12-07T00:00:00",
          "2022-12-14T00:00:00",
          "2022-12-21T00:00:00",
          "2022-12-28T00:00:00",
          "2023-01-04T00:00:00",
          "2023-01-11T00:00:00",
          "2023-01-18T00:00:00",
          "2023-01-25T00:00:00",
          "2023-02-01T00:00:00",
          "2023-02-08T00:00:00",
          "2023-02-15T00:00:00",
          "2023-02-22T00:00:00",
          "2023-03-01T00:00:00",
          "2023-03-08T00:00:00",
          "2023-03-15T00:00:00",
          "2023-03-22T00:00:00",
          "2023-03-29T00:00:00",
          "2023-04-05T00:00:00",
          "2023-04-12T00:00:00",
          "2023-04-19T00:00:00",
          "2023-04-26T00:00:00"
         ],
         "xaxis": "x",
         "y": [
          1118728.1,
          1120948.3,
          1120629,
          1118772.4,
          1122178.3,
          1125741.3,
          1128217.4,
          1128750.2,
          1126106.5,
          1123414.2,
          1123634.2,
          1124017.7,
          1126006.3,
          1137577.9,
          1139176.9,
          1140055.9,
          1141494.3,
          1133499.9,
          1127721,
          1129139.5,
          1128555.9,
          1124264.7,
          1111747.4,
          1107398.9,
          1106438.3,
          1106232.2,
          1100104.8,
          1102353,
          1106243.7,
          1104187.4,
          1107894.5,
          1115393.3,
          1111017.8,
          1109246.9,
          1108134.8,
          1093236.3,
          1092605.7,
          1087344.5,
          1083772.5,
          1091364.9,
          1093080.6,
          1091389.6,
          1094488.8,
          1077494.7,
          1071954.1,
          1048059,
          1024570,
          926484,
          934992,
          934404,
          932639,
          937012
         ],
         "yaxis": "y"
        },
        {
         "alignmentgroup": "True",
         "hovertemplate": "variable=Other securities, small domestically chartered commercial banks, not seasonally adjusted<br>Series Description=%{x}<br>value=%{y}<extra></extra>",
         "legendgroup": "Other securities, small domestically chartered commercial banks, not seasonally adjusted",
         "marker": {
          "color": "#EF553B",
          "pattern": {
           "shape": ""
          }
         },
         "name": "Other securities, small domestically chartered commercial banks, not seasonally adjusted",
         "offsetgroup": "Other securities, small domestically chartered commercial banks, not seasonally adjusted",
         "orientation": "v",
         "showlegend": true,
         "textposition": "auto",
         "type": "bar",
         "x": [
          "2022-05-04T00:00:00",
          "2022-05-11T00:00:00",
          "2022-05-18T00:00:00",
          "2022-05-25T00:00:00",
          "2022-06-01T00:00:00",
          "2022-06-08T00:00:00",
          "2022-06-15T00:00:00",
          "2022-06-22T00:00:00",
          "2022-06-29T00:00:00",
          "2022-07-06T00:00:00",
          "2022-07-13T00:00:00",
          "2022-07-20T00:00:00",
          "2022-07-27T00:00:00",
          "2022-08-03T00:00:00",
          "2022-08-10T00:00:00",
          "2022-08-17T00:00:00",
          "2022-08-24T00:00:00",
          "2022-08-31T00:00:00",
          "2022-09-07T00:00:00",
          "2022-09-14T00:00:00",
          "2022-09-21T00:00:00",
          "2022-09-28T00:00:00",
          "2022-10-05T00:00:00",
          "2022-10-12T00:00:00",
          "2022-10-19T00:00:00",
          "2022-10-26T00:00:00",
          "2022-11-02T00:00:00",
          "2022-11-09T00:00:00",
          "2022-11-16T00:00:00",
          "2022-11-23T00:00:00",
          "2022-11-30T00:00:00",
          "2022-12-07T00:00:00",
          "2022-12-14T00:00:00",
          "2022-12-21T00:00:00",
          "2022-12-28T00:00:00",
          "2023-01-04T00:00:00",
          "2023-01-11T00:00:00",
          "2023-01-18T00:00:00",
          "2023-01-25T00:00:00",
          "2023-02-01T00:00:00",
          "2023-02-08T00:00:00",
          "2023-02-15T00:00:00",
          "2023-02-22T00:00:00",
          "2023-03-01T00:00:00",
          "2023-03-08T00:00:00",
          "2023-03-15T00:00:00",
          "2023-03-22T00:00:00",
          "2023-03-29T00:00:00",
          "2023-04-05T00:00:00",
          "2023-04-12T00:00:00",
          "2023-04-19T00:00:00",
          "2023-04-26T00:00:00"
         ],
         "xaxis": "x",
         "y": [
          422431,
          423398,
          423883.8,
          424504.4,
          425544.1,
          426779.4,
          426261.8,
          426425.5,
          426728.5,
          423515.6,
          423743.3,
          423863.5,
          424870.2,
          427385.1,
          430577.4,
          429352.1,
          429954.9,
          427075.7,
          426193.4,
          427004.3,
          425362.7,
          423725.7,
          416233.1,
          416286.3,
          414905.2,
          413328.3,
          409935,
          409625.9,
          410225.1,
          410658.1,
          415419.8,
          414895.3,
          411628.7,
          410786.3,
          410611,
          425893.5,
          425861.6,
          424411.7,
          423074.6,
          427198.2,
          427548.1,
          426775,
          424634.3,
          418617.3,
          417225.7,
          415443,
          413500,
          402603,
          403487,
          401992,
          402218,
          402845
         ],
         "yaxis": "y"
        },
        {
         "alignmentgroup": "True",
         "hovertemplate": "variable=Commercial and industrial loans, small domestically chartered commercial banks, not seasonally adjusted<br>Series Description=%{x}<br>value=%{y}<extra></extra>",
         "legendgroup": "Commercial and industrial loans, small domestically chartered commercial banks, not seasonally adjusted",
         "marker": {
          "color": "#00cc96",
          "pattern": {
           "shape": ""
          }
         },
         "name": "Commercial and industrial loans, small domestically chartered commercial banks, not seasonally adjusted",
         "offsetgroup": "Commercial and industrial loans, small domestically chartered commercial banks, not seasonally adjusted",
         "orientation": "v",
         "showlegend": true,
         "textposition": "auto",
         "type": "bar",
         "x": [
          "2022-05-04T00:00:00",
          "2022-05-11T00:00:00",
          "2022-05-18T00:00:00",
          "2022-05-25T00:00:00",
          "2022-06-01T00:00:00",
          "2022-06-08T00:00:00",
          "2022-06-15T00:00:00",
          "2022-06-22T00:00:00",
          "2022-06-29T00:00:00",
          "2022-07-06T00:00:00",
          "2022-07-13T00:00:00",
          "2022-07-20T00:00:00",
          "2022-07-27T00:00:00",
          "2022-08-03T00:00:00",
          "2022-08-10T00:00:00",
          "2022-08-17T00:00:00",
          "2022-08-24T00:00:00",
          "2022-08-31T00:00:00",
          "2022-09-07T00:00:00",
          "2022-09-14T00:00:00",
          "2022-09-21T00:00:00",
          "2022-09-28T00:00:00",
          "2022-10-05T00:00:00",
          "2022-10-12T00:00:00",
          "2022-10-19T00:00:00",
          "2022-10-26T00:00:00",
          "2022-11-02T00:00:00",
          "2022-11-09T00:00:00",
          "2022-11-16T00:00:00",
          "2022-11-23T00:00:00",
          "2022-11-30T00:00:00",
          "2022-12-07T00:00:00",
          "2022-12-14T00:00:00",
          "2022-12-21T00:00:00",
          "2022-12-28T00:00:00",
          "2023-01-04T00:00:00",
          "2023-01-11T00:00:00",
          "2023-01-18T00:00:00",
          "2023-01-25T00:00:00",
          "2023-02-01T00:00:00",
          "2023-02-08T00:00:00",
          "2023-02-15T00:00:00",
          "2023-02-22T00:00:00",
          "2023-03-01T00:00:00",
          "2023-03-08T00:00:00",
          "2023-03-15T00:00:00",
          "2023-03-22T00:00:00",
          "2023-03-29T00:00:00",
          "2023-04-05T00:00:00",
          "2023-04-12T00:00:00",
          "2023-04-19T00:00:00",
          "2023-04-26T00:00:00"
         ],
         "xaxis": "x",
         "y": [
          746990.5,
          746480.4,
          748213.1,
          749600.4,
          753147.1,
          753625,
          756514.1,
          759764.6,
          764063.7,
          763829.9,
          762409.5,
          762791.8,
          766801.3,
          768562.4,
          767544.2,
          768131.8,
          768669.3,
          772645.7,
          772992.1,
          775884.9,
          778499.5,
          780198.2,
          781214.6,
          780695.9,
          780526.3,
          783017.9,
          782667,
          783164.6,
          774149.1,
          776147,
          773682.2,
          778707.4,
          781432.6,
          783098,
          785048.5,
          781888.8,
          780843.5,
          783112.4,
          782465.4,
          783455.6,
          782622.9,
          782772.9,
          783297.4,
          783898.4,
          782508.3,
          792179,
          771164,
          763988,
          763868,
          762495,
          765164,
          769748
         ],
         "yaxis": "y"
        },
        {
         "alignmentgroup": "True",
         "hovertemplate": "variable=Real estate loans, small domestically chartered commercial banks, not seasonally adjusted<br>Series Description=%{x}<br>value=%{y}<extra></extra>",
         "legendgroup": "Real estate loans, small domestically chartered commercial banks, not seasonally adjusted",
         "marker": {
          "color": "#ab63fa",
          "pattern": {
           "shape": ""
          }
         },
         "name": "Real estate loans, small domestically chartered commercial banks, not seasonally adjusted",
         "offsetgroup": "Real estate loans, small domestically chartered commercial banks, not seasonally adjusted",
         "orientation": "v",
         "showlegend": true,
         "textposition": "auto",
         "type": "bar",
         "x": [
          "2022-05-04T00:00:00",
          "2022-05-11T00:00:00",
          "2022-05-18T00:00:00",
          "2022-05-25T00:00:00",
          "2022-06-01T00:00:00",
          "2022-06-08T00:00:00",
          "2022-06-15T00:00:00",
          "2022-06-22T00:00:00",
          "2022-06-29T00:00:00",
          "2022-07-06T00:00:00",
          "2022-07-13T00:00:00",
          "2022-07-20T00:00:00",
          "2022-07-27T00:00:00",
          "2022-08-03T00:00:00",
          "2022-08-10T00:00:00",
          "2022-08-17T00:00:00",
          "2022-08-24T00:00:00",
          "2022-08-31T00:00:00",
          "2022-09-07T00:00:00",
          "2022-09-14T00:00:00",
          "2022-09-21T00:00:00",
          "2022-09-28T00:00:00",
          "2022-10-05T00:00:00",
          "2022-10-12T00:00:00",
          "2022-10-19T00:00:00",
          "2022-10-26T00:00:00",
          "2022-11-02T00:00:00",
          "2022-11-09T00:00:00",
          "2022-11-16T00:00:00",
          "2022-11-23T00:00:00",
          "2022-11-30T00:00:00",
          "2022-12-07T00:00:00",
          "2022-12-14T00:00:00",
          "2022-12-21T00:00:00",
          "2022-12-28T00:00:00",
          "2023-01-04T00:00:00",
          "2023-01-11T00:00:00",
          "2023-01-18T00:00:00",
          "2023-01-25T00:00:00",
          "2023-02-01T00:00:00",
          "2023-02-08T00:00:00",
          "2023-02-15T00:00:00",
          "2023-02-22T00:00:00",
          "2023-03-01T00:00:00",
          "2023-03-08T00:00:00",
          "2023-03-15T00:00:00",
          "2023-03-22T00:00:00",
          "2023-03-29T00:00:00",
          "2023-04-05T00:00:00",
          "2023-04-12T00:00:00",
          "2023-04-19T00:00:00",
          "2023-04-26T00:00:00"
         ],
         "xaxis": "x",
         "y": [
          2536582.5,
          2544621.8,
          2554998.7,
          2561246.8,
          2569555.4,
          2579904.5,
          2593168.1,
          2598985,
          2610091.8,
          2616870.1,
          2623633.6,
          2633093.7,
          2640345.8,
          2649304.5,
          2660184.4,
          2665940.4,
          2673937.2,
          2687543.2,
          2691294.4,
          2699274.7,
          2705962.5,
          2715034.6,
          2724291.3,
          2729892.2,
          2736960.2,
          2745967.4,
          2758508,
          2765548.1,
          2772746.7,
          2781294.2,
          2788701.3,
          2848551,
          2855146.6,
          2865033.1,
          2871780.8,
          2872000.9,
          2874997.5,
          2879049,
          2883695.5,
          2887366.2,
          2891241.3,
          2896942.7,
          2900051.5,
          2907270.9,
          2910606.1,
          2917257,
          2896285,
          2883564,
          2886582,
          2888899,
          2897072,
          2918394
         ],
         "yaxis": "y"
        },
        {
         "alignmentgroup": "True",
         "hovertemplate": "variable=Consumer loans, small domestically chartered commercial banks, not seasonally adjusted<br>Series Description=%{x}<br>value=%{y}<extra></extra>",
         "legendgroup": "Consumer loans, small domestically chartered commercial banks, not seasonally adjusted",
         "marker": {
          "color": "#FFA15A",
          "pattern": {
           "shape": ""
          }
         },
         "name": "Consumer loans, small domestically chartered commercial banks, not seasonally adjusted",
         "offsetgroup": "Consumer loans, small domestically chartered commercial banks, not seasonally adjusted",
         "orientation": "v",
         "showlegend": true,
         "textposition": "auto",
         "type": "bar",
         "x": [
          "2022-05-04T00:00:00",
          "2022-05-11T00:00:00",
          "2022-05-18T00:00:00",
          "2022-05-25T00:00:00",
          "2022-06-01T00:00:00",
          "2022-06-08T00:00:00",
          "2022-06-15T00:00:00",
          "2022-06-22T00:00:00",
          "2022-06-29T00:00:00",
          "2022-07-06T00:00:00",
          "2022-07-13T00:00:00",
          "2022-07-20T00:00:00",
          "2022-07-27T00:00:00",
          "2022-08-03T00:00:00",
          "2022-08-10T00:00:00",
          "2022-08-17T00:00:00",
          "2022-08-24T00:00:00",
          "2022-08-31T00:00:00",
          "2022-09-07T00:00:00",
          "2022-09-14T00:00:00",
          "2022-09-21T00:00:00",
          "2022-09-28T00:00:00",
          "2022-10-05T00:00:00",
          "2022-10-12T00:00:00",
          "2022-10-19T00:00:00",
          "2022-10-26T00:00:00",
          "2022-11-02T00:00:00",
          "2022-11-09T00:00:00",
          "2022-11-16T00:00:00",
          "2022-11-23T00:00:00",
          "2022-11-30T00:00:00",
          "2022-12-07T00:00:00",
          "2022-12-14T00:00:00",
          "2022-12-21T00:00:00",
          "2022-12-28T00:00:00",
          "2023-01-04T00:00:00",
          "2023-01-11T00:00:00",
          "2023-01-18T00:00:00",
          "2023-01-25T00:00:00",
          "2023-02-01T00:00:00",
          "2023-02-08T00:00:00",
          "2023-02-15T00:00:00",
          "2023-02-22T00:00:00",
          "2023-03-01T00:00:00",
          "2023-03-08T00:00:00",
          "2023-03-15T00:00:00",
          "2023-03-22T00:00:00",
          "2023-03-29T00:00:00",
          "2023-04-05T00:00:00",
          "2023-04-12T00:00:00",
          "2023-04-19T00:00:00",
          "2023-04-26T00:00:00"
         ],
         "xaxis": "x",
         "y": [
          393185.3,
          394170,
          395320.1,
          399000.7,
          401133.3,
          400915.2,
          402791.9,
          406901.7,
          410754.8,
          410093.9,
          409905.5,
          411757.8,
          414727.3,
          414421.3,
          414409,
          415513,
          418210.3,
          422133.3,
          421532.1,
          422158,
          422640.8,
          425991.3,
          425485.6,
          427894.1,
          428678.4,
          431984,
          433499.2,
          431387.4,
          431982.9,
          435176.1,
          440917.6,
          440384.7,
          442745.3,
          444660.5,
          447794.7,
          445808.9,
          444844.5,
          444393,
          445371.3,
          445764.6,
          443240.7,
          443865.5,
          444328.2,
          440008.3,
          438316.5,
          438738,
          442115,
          441072,
          438854,
          440295,
          443449,
          449948
         ],
         "yaxis": "y"
        },
        {
         "alignmentgroup": "True",
         "hovertemplate": "variable=Other loans and leases: All other loans and leases, small domestically chartered commercial banks, not seasonally adjusted<br>Series Description=%{x}<br>value=%{y}<extra></extra>",
         "legendgroup": "Other loans and leases: All other loans and leases, small domestically chartered commercial banks, not seasonally adjusted",
         "marker": {
          "color": "#19d3f3",
          "pattern": {
           "shape": ""
          }
         },
         "name": "Other loans and leases: All other loans and leases, small domestically chartered commercial banks, not seasonally adjusted",
         "offsetgroup": "Other loans and leases: All other loans and leases, small domestically chartered commercial banks, not seasonally adjusted",
         "orientation": "v",
         "showlegend": true,
         "textposition": "auto",
         "type": "bar",
         "x": [
          "2022-05-04T00:00:00",
          "2022-05-11T00:00:00",
          "2022-05-18T00:00:00",
          "2022-05-25T00:00:00",
          "2022-06-01T00:00:00",
          "2022-06-08T00:00:00",
          "2022-06-15T00:00:00",
          "2022-06-22T00:00:00",
          "2022-06-29T00:00:00",
          "2022-07-06T00:00:00",
          "2022-07-13T00:00:00",
          "2022-07-20T00:00:00",
          "2022-07-27T00:00:00",
          "2022-08-03T00:00:00",
          "2022-08-10T00:00:00",
          "2022-08-17T00:00:00",
          "2022-08-24T00:00:00",
          "2022-08-31T00:00:00",
          "2022-09-07T00:00:00",
          "2022-09-14T00:00:00",
          "2022-09-21T00:00:00",
          "2022-09-28T00:00:00",
          "2022-10-05T00:00:00",
          "2022-10-12T00:00:00",
          "2022-10-19T00:00:00",
          "2022-10-26T00:00:00",
          "2022-11-02T00:00:00",
          "2022-11-09T00:00:00",
          "2022-11-16T00:00:00",
          "2022-11-23T00:00:00",
          "2022-11-30T00:00:00",
          "2022-12-07T00:00:00",
          "2022-12-14T00:00:00",
          "2022-12-21T00:00:00",
          "2022-12-28T00:00:00",
          "2023-01-04T00:00:00",
          "2023-01-11T00:00:00",
          "2023-01-18T00:00:00",
          "2023-01-25T00:00:00",
          "2023-02-01T00:00:00",
          "2023-02-08T00:00:00",
          "2023-02-15T00:00:00",
          "2023-02-22T00:00:00",
          "2023-03-01T00:00:00",
          "2023-03-08T00:00:00",
          "2023-03-15T00:00:00",
          "2023-03-22T00:00:00",
          "2023-03-29T00:00:00",
          "2023-04-05T00:00:00",
          "2023-04-12T00:00:00",
          "2023-04-19T00:00:00",
          "2023-04-26T00:00:00"
         ],
         "xaxis": "x",
         "y": [
          351163.7,
          350365.6,
          351588.9,
          352442.5,
          357190.4,
          356748.1,
          357733.6,
          359149,
          360648.5,
          360613.4,
          355846.5,
          355839.2,
          356322.6,
          356782.1,
          354937.3,
          354383.6,
          354382.8,
          361134.4,
          359822.2,
          358729.4,
          358387.3,
          361309.4,
          363630.4,
          362207.5,
          360658.9,
          359576.3,
          362043,
          360755.9,
          351202.3,
          351751.2,
          354571.7,
          360214.4,
          361900.2,
          365579.9,
          367409.1,
          364680.7,
          357936.1,
          356186.4,
          354457.3,
          354770.4,
          351543.8,
          351862.2,
          352680.1,
          357026.7,
          357016.4,
          364042,
          366384,
          366730,
          365662,
          362222,
          359660,
          362971
         ],
         "yaxis": "y"
        },
        {
         "alignmentgroup": "True",
         "hovertemplate": "variable=LESS: Allowance for loan and lease losses, small domestically chartered commercial banks, not seasonally adjusted<br>Series Description=%{x}<br>value=%{y}<extra></extra>",
         "legendgroup": "LESS: Allowance for loan and lease losses, small domestically chartered commercial banks, not seasonally adjusted",
         "marker": {
          "color": "#FF6692",
          "pattern": {
           "shape": ""
          }
         },
         "name": "LESS: Allowance for loan and lease losses, small domestically chartered commercial banks, not seasonally adjusted",
         "offsetgroup": "LESS: Allowance for loan and lease losses, small domestically chartered commercial banks, not seasonally adjusted",
         "orientation": "v",
         "showlegend": true,
         "textposition": "auto",
         "type": "bar",
         "x": [
          "2022-05-04T00:00:00",
          "2022-05-11T00:00:00",
          "2022-05-18T00:00:00",
          "2022-05-25T00:00:00",
          "2022-06-01T00:00:00",
          "2022-06-08T00:00:00",
          "2022-06-15T00:00:00",
          "2022-06-22T00:00:00",
          "2022-06-29T00:00:00",
          "2022-07-06T00:00:00",
          "2022-07-13T00:00:00",
          "2022-07-20T00:00:00",
          "2022-07-27T00:00:00",
          "2022-08-03T00:00:00",
          "2022-08-10T00:00:00",
          "2022-08-17T00:00:00",
          "2022-08-24T00:00:00",
          "2022-08-31T00:00:00",
          "2022-09-07T00:00:00",
          "2022-09-14T00:00:00",
          "2022-09-21T00:00:00",
          "2022-09-28T00:00:00",
          "2022-10-05T00:00:00",
          "2022-10-12T00:00:00",
          "2022-10-19T00:00:00",
          "2022-10-26T00:00:00",
          "2022-11-02T00:00:00",
          "2022-11-09T00:00:00",
          "2022-11-16T00:00:00",
          "2022-11-23T00:00:00",
          "2022-11-30T00:00:00",
          "2022-12-07T00:00:00",
          "2022-12-14T00:00:00",
          "2022-12-21T00:00:00",
          "2022-12-28T00:00:00",
          "2023-01-04T00:00:00",
          "2023-01-11T00:00:00",
          "2023-01-18T00:00:00",
          "2023-01-25T00:00:00",
          "2023-02-01T00:00:00",
          "2023-02-08T00:00:00",
          "2023-02-15T00:00:00",
          "2023-02-22T00:00:00",
          "2023-03-01T00:00:00",
          "2023-03-08T00:00:00",
          "2023-03-15T00:00:00",
          "2023-03-22T00:00:00",
          "2023-03-29T00:00:00",
          "2023-04-05T00:00:00",
          "2023-04-12T00:00:00",
          "2023-04-19T00:00:00",
          "2023-04-26T00:00:00"
         ],
         "xaxis": "x",
         "y": [
          -56946.8,
          -57024.3,
          -57049.9,
          -57009.9,
          -57119.7,
          -57309.6,
          -57345.4,
          -57402.4,
          -57305.4,
          -57405,
          -57614.5,
          -57637.5,
          -57618.7,
          -57686,
          -57805.2,
          -57842.7,
          -57780.5,
          -57748.2,
          -58061.5,
          -58085.4,
          -58086.2,
          -57886.1,
          -59081.4,
          -59515.7,
          -59611.7,
          -59640.2,
          -60430,
          -60260.8,
          -60031.8,
          -60277,
          -59726.7,
          -60675.2,
          -60619.1,
          -60510.9,
          -60319.8,
          -61096.8,
          -62080.8,
          -62110,
          -62464.6,
          -62544.5,
          -62928.2,
          -63042.7,
          -63063.4,
          -62701.7,
          -62900.1,
          -62901,
          -62868,
          -62780,
          -63967,
          -64258,
          -64258,
          -64350
         ],
         "yaxis": "y"
        },
        {
         "alignmentgroup": "True",
         "hovertemplate": "variable=Cash assets, small domestically chartered commercial banks, not seasonally adjusted<br>Series Description=%{x}<br>value=%{y}<extra></extra>",
         "legendgroup": "Cash assets, small domestically chartered commercial banks, not seasonally adjusted",
         "marker": {
          "color": "#B6E880",
          "pattern": {
           "shape": ""
          }
         },
         "name": "Cash assets, small domestically chartered commercial banks, not seasonally adjusted",
         "offsetgroup": "Cash assets, small domestically chartered commercial banks, not seasonally adjusted",
         "orientation": "v",
         "showlegend": true,
         "textposition": "auto",
         "type": "bar",
         "x": [
          "2022-05-04T00:00:00",
          "2022-05-11T00:00:00",
          "2022-05-18T00:00:00",
          "2022-05-25T00:00:00",
          "2022-06-01T00:00:00",
          "2022-06-08T00:00:00",
          "2022-06-15T00:00:00",
          "2022-06-22T00:00:00",
          "2022-06-29T00:00:00",
          "2022-07-06T00:00:00",
          "2022-07-13T00:00:00",
          "2022-07-20T00:00:00",
          "2022-07-27T00:00:00",
          "2022-08-03T00:00:00",
          "2022-08-10T00:00:00",
          "2022-08-17T00:00:00",
          "2022-08-24T00:00:00",
          "2022-08-31T00:00:00",
          "2022-09-07T00:00:00",
          "2022-09-14T00:00:00",
          "2022-09-21T00:00:00",
          "2022-09-28T00:00:00",
          "2022-10-05T00:00:00",
          "2022-10-12T00:00:00",
          "2022-10-19T00:00:00",
          "2022-10-26T00:00:00",
          "2022-11-02T00:00:00",
          "2022-11-09T00:00:00",
          "2022-11-16T00:00:00",
          "2022-11-23T00:00:00",
          "2022-11-30T00:00:00",
          "2022-12-07T00:00:00",
          "2022-12-14T00:00:00",
          "2022-12-21T00:00:00",
          "2022-12-28T00:00:00",
          "2023-01-04T00:00:00",
          "2023-01-11T00:00:00",
          "2023-01-18T00:00:00",
          "2023-01-25T00:00:00",
          "2023-02-01T00:00:00",
          "2023-02-08T00:00:00",
          "2023-02-15T00:00:00",
          "2023-02-22T00:00:00",
          "2023-03-01T00:00:00",
          "2023-03-08T00:00:00",
          "2023-03-15T00:00:00",
          "2023-03-22T00:00:00",
          "2023-03-29T00:00:00",
          "2023-04-05T00:00:00",
          "2023-04-12T00:00:00",
          "2023-04-19T00:00:00",
          "2023-04-26T00:00:00"
         ],
         "xaxis": "x",
         "y": [
          629731.4,
          612103.1,
          600964.2,
          603502.7,
          612645,
          595159.5,
          592437.2,
          562755.4,
          563667.1,
          549966.3,
          542671.8,
          527982.1,
          522175.4,
          522613.7,
          523646.7,
          517313.7,
          505165.4,
          522108.9,
          512795.4,
          498149.7,
          463689.3,
          465992,
          475256,
          479393.1,
          466295.9,
          459662.7,
          460245.7,
          467375.7,
          490724.5,
          476920.7,
          474259.3,
          469425.7,
          467106.7,
          452153.7,
          454018.4,
          471252.2,
          442759.8,
          440817.3,
          418008.8,
          440312.7,
          424919.3,
          424180.6,
          426109.3,
          437229.5,
          422076.8,
          535855,
          540002,
          527021,
          485159,
          482300,
          457925,
          484248
         ],
         "yaxis": "y"
        },
        {
         "alignmentgroup": "True",
         "hovertemplate": "variable=Total fed funds sold and securities purchased under agreements to resell, small domestically chartered commercial banks, not seasonally adjusted<br>Series Description=%{x}<br>value=%{y}<extra></extra>",
         "legendgroup": "Total fed funds sold and securities purchased under agreements to resell, small domestically chartered commercial banks, not seasonally adjusted",
         "marker": {
          "color": "#FF97FF",
          "pattern": {
           "shape": ""
          }
         },
         "name": "Total fed funds sold and securities purchased under agreements to resell, small domestically chartered commercial banks, not seasonally adjusted",
         "offsetgroup": "Total fed funds sold and securities purchased under agreements to resell, small domestically chartered commercial banks, not seasonally adjusted",
         "orientation": "v",
         "showlegend": true,
         "textposition": "auto",
         "type": "bar",
         "x": [
          "2022-05-04T00:00:00",
          "2022-05-11T00:00:00",
          "2022-05-18T00:00:00",
          "2022-05-25T00:00:00",
          "2022-06-01T00:00:00",
          "2022-06-08T00:00:00",
          "2022-06-15T00:00:00",
          "2022-06-22T00:00:00",
          "2022-06-29T00:00:00",
          "2022-07-06T00:00:00",
          "2022-07-13T00:00:00",
          "2022-07-20T00:00:00",
          "2022-07-27T00:00:00",
          "2022-08-03T00:00:00",
          "2022-08-10T00:00:00",
          "2022-08-17T00:00:00",
          "2022-08-24T00:00:00",
          "2022-08-31T00:00:00",
          "2022-09-07T00:00:00",
          "2022-09-14T00:00:00",
          "2022-09-21T00:00:00",
          "2022-09-28T00:00:00",
          "2022-10-05T00:00:00",
          "2022-10-12T00:00:00",
          "2022-10-19T00:00:00",
          "2022-10-26T00:00:00",
          "2022-11-02T00:00:00",
          "2022-11-09T00:00:00",
          "2022-11-16T00:00:00",
          "2022-11-23T00:00:00",
          "2022-11-30T00:00:00",
          "2022-12-07T00:00:00",
          "2022-12-14T00:00:00",
          "2022-12-21T00:00:00",
          "2022-12-28T00:00:00",
          "2023-01-04T00:00:00",
          "2023-01-11T00:00:00",
          "2023-01-18T00:00:00",
          "2023-01-25T00:00:00",
          "2023-02-01T00:00:00",
          "2023-02-08T00:00:00",
          "2023-02-15T00:00:00",
          "2023-02-22T00:00:00",
          "2023-03-01T00:00:00",
          "2023-03-08T00:00:00",
          "2023-03-15T00:00:00",
          "2023-03-22T00:00:00",
          "2023-03-29T00:00:00",
          "2023-04-05T00:00:00",
          "2023-04-12T00:00:00",
          "2023-04-19T00:00:00",
          "2023-04-26T00:00:00"
         ],
         "xaxis": "x",
         "y": [
          56664,
          54469,
          55057,
          54296,
          52622,
          52124,
          51875,
          52916,
          45061,
          51679,
          49502,
          49583,
          48561,
          46309,
          44282,
          43978,
          45102,
          45697,
          44398,
          43749,
          44809,
          43458,
          42685,
          41446,
          41357,
          40653,
          39095,
          37527,
          38468,
          35951,
          37525,
          44748,
          46034,
          47829,
          49025,
          48687,
          50214,
          48510,
          45171,
          44865,
          43666,
          43552,
          44190,
          43807,
          43731,
          43861,
          43832,
          43026,
          42948,
          40806,
          36320,
          37669
         ],
         "yaxis": "y"
        },
        {
         "alignmentgroup": "True",
         "hovertemplate": "variable=Loans to commercial banks, small domestically chartered commercial banks, not seasonally adjusted<br>Series Description=%{x}<br>value=%{y}<extra></extra>",
         "legendgroup": "Loans to commercial banks, small domestically chartered commercial banks, not seasonally adjusted",
         "marker": {
          "color": "#FECB52",
          "pattern": {
           "shape": ""
          }
         },
         "name": "Loans to commercial banks, small domestically chartered commercial banks, not seasonally adjusted",
         "offsetgroup": "Loans to commercial banks, small domestically chartered commercial banks, not seasonally adjusted",
         "orientation": "v",
         "showlegend": true,
         "textposition": "auto",
         "type": "bar",
         "x": [
          "2022-05-04T00:00:00",
          "2022-05-11T00:00:00",
          "2022-05-18T00:00:00",
          "2022-05-25T00:00:00",
          "2022-06-01T00:00:00",
          "2022-06-08T00:00:00",
          "2022-06-15T00:00:00",
          "2022-06-22T00:00:00",
          "2022-06-29T00:00:00",
          "2022-07-06T00:00:00",
          "2022-07-13T00:00:00",
          "2022-07-20T00:00:00",
          "2022-07-27T00:00:00",
          "2022-08-03T00:00:00",
          "2022-08-10T00:00:00",
          "2022-08-17T00:00:00",
          "2022-08-24T00:00:00",
          "2022-08-31T00:00:00",
          "2022-09-07T00:00:00",
          "2022-09-14T00:00:00",
          "2022-09-21T00:00:00",
          "2022-09-28T00:00:00",
          "2022-10-05T00:00:00",
          "2022-10-12T00:00:00",
          "2022-10-19T00:00:00",
          "2022-10-26T00:00:00",
          "2022-11-02T00:00:00",
          "2022-11-09T00:00:00",
          "2022-11-16T00:00:00",
          "2022-11-23T00:00:00",
          "2022-11-30T00:00:00",
          "2022-12-07T00:00:00",
          "2022-12-14T00:00:00",
          "2022-12-21T00:00:00",
          "2022-12-28T00:00:00",
          "2023-01-04T00:00:00",
          "2023-01-11T00:00:00",
          "2023-01-18T00:00:00",
          "2023-01-25T00:00:00",
          "2023-02-01T00:00:00",
          "2023-02-08T00:00:00",
          "2023-02-15T00:00:00",
          "2023-02-22T00:00:00",
          "2023-03-01T00:00:00",
          "2023-03-08T00:00:00",
          "2023-03-15T00:00:00",
          "2023-03-22T00:00:00",
          "2023-03-29T00:00:00",
          "2023-04-05T00:00:00",
          "2023-04-12T00:00:00",
          "2023-04-19T00:00:00",
          "2023-04-26T00:00:00"
         ],
         "xaxis": "x",
         "y": [
          1749,
          1793,
          2303,
          2450,
          2494,
          2576,
          2618,
          2723,
          2808,
          2904,
          2879,
          2818,
          2697,
          2533,
          2517,
          2512,
          2500,
          2007,
          2434,
          2496,
          2488,
          2480,
          2219,
          2204,
          2175,
          1752,
          1425,
          1399,
          901,
          861,
          830,
          805,
          773,
          738,
          759,
          735,
          711,
          732,
          696,
          670,
          669,
          656,
          651,
          648,
          645,
          654,
          647,
          637,
          650,
          628,
          618,
          613
         ],
         "yaxis": "y"
        },
        {
         "alignmentgroup": "True",
         "hovertemplate": "variable=Other assets, small domestically chartered commercial banks, not seasonally adjusted<br>Series Description=%{x}<br>value=%{y}<extra></extra>",
         "legendgroup": "Other assets, small domestically chartered commercial banks, not seasonally adjusted",
         "marker": {
          "color": "#636efa",
          "pattern": {
           "shape": ""
          }
         },
         "name": "Other assets, small domestically chartered commercial banks, not seasonally adjusted",
         "offsetgroup": "Other assets, small domestically chartered commercial banks, not seasonally adjusted",
         "orientation": "v",
         "showlegend": true,
         "textposition": "auto",
         "type": "bar",
         "x": [
          "2022-05-04T00:00:00",
          "2022-05-11T00:00:00",
          "2022-05-18T00:00:00",
          "2022-05-25T00:00:00",
          "2022-06-01T00:00:00",
          "2022-06-08T00:00:00",
          "2022-06-15T00:00:00",
          "2022-06-22T00:00:00",
          "2022-06-29T00:00:00",
          "2022-07-06T00:00:00",
          "2022-07-13T00:00:00",
          "2022-07-20T00:00:00",
          "2022-07-27T00:00:00",
          "2022-08-03T00:00:00",
          "2022-08-10T00:00:00",
          "2022-08-17T00:00:00",
          "2022-08-24T00:00:00",
          "2022-08-31T00:00:00",
          "2022-09-07T00:00:00",
          "2022-09-14T00:00:00",
          "2022-09-21T00:00:00",
          "2022-09-28T00:00:00",
          "2022-10-05T00:00:00",
          "2022-10-12T00:00:00",
          "2022-10-19T00:00:00",
          "2022-10-26T00:00:00",
          "2022-11-02T00:00:00",
          "2022-11-09T00:00:00",
          "2022-11-16T00:00:00",
          "2022-11-23T00:00:00",
          "2022-11-30T00:00:00",
          "2022-12-07T00:00:00",
          "2022-12-14T00:00:00",
          "2022-12-21T00:00:00",
          "2022-12-28T00:00:00",
          "2023-01-04T00:00:00",
          "2023-01-11T00:00:00",
          "2023-01-18T00:00:00",
          "2023-01-25T00:00:00",
          "2023-02-01T00:00:00",
          "2023-02-08T00:00:00",
          "2023-02-15T00:00:00",
          "2023-02-22T00:00:00",
          "2023-03-01T00:00:00",
          "2023-03-08T00:00:00",
          "2023-03-15T00:00:00",
          "2023-03-22T00:00:00",
          "2023-03-29T00:00:00",
          "2023-04-05T00:00:00",
          "2023-04-12T00:00:00",
          "2023-04-19T00:00:00",
          "2023-04-26T00:00:00"
         ],
         "xaxis": "x",
         "y": [
          414164.2,
          418116,
          418472.3,
          413790.7,
          418277,
          418268.4,
          419069.6,
          420544.4,
          422537.4,
          423441.5,
          428029.7,
          425222.1,
          406199.7,
          410152.4,
          405200.3,
          407481.1,
          409776.1,
          416277.3,
          415222.6,
          415850.5,
          419834.6,
          422702.2,
          429145.7,
          429271.6,
          432264.2,
          433073.7,
          438236.8,
          434650.5,
          434500.2,
          435655.2,
          437019.2,
          437953.8,
          437151.8,
          452545.4,
          448560.7,
          447215.3,
          447487,
          447962,
          444789,
          449282.5,
          444627.1,
          447587.1,
          447750.7,
          450291.3,
          454000.1,
          457190,
          461993,
          462073,
          488949,
          492618,
          492044,
          455866
         ],
         "yaxis": "y"
        }
       ],
       "layout": {
        "barmode": "relative",
        "legend": {
         "title": {
          "text": "Legend"
         },
         "tracegroupgap": 0
        },
        "margin": {
         "t": 60
        },
        "template": {
         "data": {
          "bar": [
           {
            "error_x": {
             "color": "#2a3f5f"
            },
            "error_y": {
             "color": "#2a3f5f"
            },
            "marker": {
             "line": {
              "color": "white",
              "width": 0.5
             },
             "pattern": {
              "fillmode": "overlay",
              "size": 10,
              "solidity": 0.2
             }
            },
            "type": "bar"
           }
          ],
          "barpolar": [
           {
            "marker": {
             "line": {
              "color": "white",
              "width": 0.5
             },
             "pattern": {
              "fillmode": "overlay",
              "size": 10,
              "solidity": 0.2
             }
            },
            "type": "barpolar"
           }
          ],
          "carpet": [
           {
            "aaxis": {
             "endlinecolor": "#2a3f5f",
             "gridcolor": "#C8D4E3",
             "linecolor": "#C8D4E3",
             "minorgridcolor": "#C8D4E3",
             "startlinecolor": "#2a3f5f"
            },
            "baxis": {
             "endlinecolor": "#2a3f5f",
             "gridcolor": "#C8D4E3",
             "linecolor": "#C8D4E3",
             "minorgridcolor": "#C8D4E3",
             "startlinecolor": "#2a3f5f"
            },
            "type": "carpet"
           }
          ],
          "choropleth": [
           {
            "colorbar": {
             "outlinewidth": 0,
             "ticks": ""
            },
            "type": "choropleth"
           }
          ],
          "contour": [
           {
            "colorbar": {
             "outlinewidth": 0,
             "ticks": ""
            },
            "colorscale": [
             [
              0,
              "#0d0887"
             ],
             [
              0.1111111111111111,
              "#46039f"
             ],
             [
              0.2222222222222222,
              "#7201a8"
             ],
             [
              0.3333333333333333,
              "#9c179e"
             ],
             [
              0.4444444444444444,
              "#bd3786"
             ],
             [
              0.5555555555555556,
              "#d8576b"
             ],
             [
              0.6666666666666666,
              "#ed7953"
             ],
             [
              0.7777777777777778,
              "#fb9f3a"
             ],
             [
              0.8888888888888888,
              "#fdca26"
             ],
             [
              1,
              "#f0f921"
             ]
            ],
            "type": "contour"
           }
          ],
          "contourcarpet": [
           {
            "colorbar": {
             "outlinewidth": 0,
             "ticks": ""
            },
            "type": "contourcarpet"
           }
          ],
          "heatmap": [
           {
            "colorbar": {
             "outlinewidth": 0,
             "ticks": ""
            },
            "colorscale": [
             [
              0,
              "#0d0887"
             ],
             [
              0.1111111111111111,
              "#46039f"
             ],
             [
              0.2222222222222222,
              "#7201a8"
             ],
             [
              0.3333333333333333,
              "#9c179e"
             ],
             [
              0.4444444444444444,
              "#bd3786"
             ],
             [
              0.5555555555555556,
              "#d8576b"
             ],
             [
              0.6666666666666666,
              "#ed7953"
             ],
             [
              0.7777777777777778,
              "#fb9f3a"
             ],
             [
              0.8888888888888888,
              "#fdca26"
             ],
             [
              1,
              "#f0f921"
             ]
            ],
            "type": "heatmap"
           }
          ],
          "heatmapgl": [
           {
            "colorbar": {
             "outlinewidth": 0,
             "ticks": ""
            },
            "colorscale": [
             [
              0,
              "#0d0887"
             ],
             [
              0.1111111111111111,
              "#46039f"
             ],
             [
              0.2222222222222222,
              "#7201a8"
             ],
             [
              0.3333333333333333,
              "#9c179e"
             ],
             [
              0.4444444444444444,
              "#bd3786"
             ],
             [
              0.5555555555555556,
              "#d8576b"
             ],
             [
              0.6666666666666666,
              "#ed7953"
             ],
             [
              0.7777777777777778,
              "#fb9f3a"
             ],
             [
              0.8888888888888888,
              "#fdca26"
             ],
             [
              1,
              "#f0f921"
             ]
            ],
            "type": "heatmapgl"
           }
          ],
          "histogram": [
           {
            "marker": {
             "pattern": {
              "fillmode": "overlay",
              "size": 10,
              "solidity": 0.2
             }
            },
            "type": "histogram"
           }
          ],
          "histogram2d": [
           {
            "colorbar": {
             "outlinewidth": 0,
             "ticks": ""
            },
            "colorscale": [
             [
              0,
              "#0d0887"
             ],
             [
              0.1111111111111111,
              "#46039f"
             ],
             [
              0.2222222222222222,
              "#7201a8"
             ],
             [
              0.3333333333333333,
              "#9c179e"
             ],
             [
              0.4444444444444444,
              "#bd3786"
             ],
             [
              0.5555555555555556,
              "#d8576b"
             ],
             [
              0.6666666666666666,
              "#ed7953"
             ],
             [
              0.7777777777777778,
              "#fb9f3a"
             ],
             [
              0.8888888888888888,
              "#fdca26"
             ],
             [
              1,
              "#f0f921"
             ]
            ],
            "type": "histogram2d"
           }
          ],
          "histogram2dcontour": [
           {
            "colorbar": {
             "outlinewidth": 0,
             "ticks": ""
            },
            "colorscale": [
             [
              0,
              "#0d0887"
             ],
             [
              0.1111111111111111,
              "#46039f"
             ],
             [
              0.2222222222222222,
              "#7201a8"
             ],
             [
              0.3333333333333333,
              "#9c179e"
             ],
             [
              0.4444444444444444,
              "#bd3786"
             ],
             [
              0.5555555555555556,
              "#d8576b"
             ],
             [
              0.6666666666666666,
              "#ed7953"
             ],
             [
              0.7777777777777778,
              "#fb9f3a"
             ],
             [
              0.8888888888888888,
              "#fdca26"
             ],
             [
              1,
              "#f0f921"
             ]
            ],
            "type": "histogram2dcontour"
           }
          ],
          "mesh3d": [
           {
            "colorbar": {
             "outlinewidth": 0,
             "ticks": ""
            },
            "type": "mesh3d"
           }
          ],
          "parcoords": [
           {
            "line": {
             "colorbar": {
              "outlinewidth": 0,
              "ticks": ""
             }
            },
            "type": "parcoords"
           }
          ],
          "pie": [
           {
            "automargin": true,
            "type": "pie"
           }
          ],
          "scatter": [
           {
            "fillpattern": {
             "fillmode": "overlay",
             "size": 10,
             "solidity": 0.2
            },
            "type": "scatter"
           }
          ],
          "scatter3d": [
           {
            "line": {
             "colorbar": {
              "outlinewidth": 0,
              "ticks": ""
             }
            },
            "marker": {
             "colorbar": {
              "outlinewidth": 0,
              "ticks": ""
             }
            },
            "type": "scatter3d"
           }
          ],
          "scattercarpet": [
           {
            "marker": {
             "colorbar": {
              "outlinewidth": 0,
              "ticks": ""
             }
            },
            "type": "scattercarpet"
           }
          ],
          "scattergeo": [
           {
            "marker": {
             "colorbar": {
              "outlinewidth": 0,
              "ticks": ""
             }
            },
            "type": "scattergeo"
           }
          ],
          "scattergl": [
           {
            "marker": {
             "colorbar": {
              "outlinewidth": 0,
              "ticks": ""
             }
            },
            "type": "scattergl"
           }
          ],
          "scattermapbox": [
           {
            "marker": {
             "colorbar": {
              "outlinewidth": 0,
              "ticks": ""
             }
            },
            "type": "scattermapbox"
           }
          ],
          "scatterpolar": [
           {
            "marker": {
             "colorbar": {
              "outlinewidth": 0,
              "ticks": ""
             }
            },
            "type": "scatterpolar"
           }
          ],
          "scatterpolargl": [
           {
            "marker": {
             "colorbar": {
              "outlinewidth": 0,
              "ticks": ""
             }
            },
            "type": "scatterpolargl"
           }
          ],
          "scatterternary": [
           {
            "marker": {
             "colorbar": {
              "outlinewidth": 0,
              "ticks": ""
             }
            },
            "type": "scatterternary"
           }
          ],
          "surface": [
           {
            "colorbar": {
             "outlinewidth": 0,
             "ticks": ""
            },
            "colorscale": [
             [
              0,
              "#0d0887"
             ],
             [
              0.1111111111111111,
              "#46039f"
             ],
             [
              0.2222222222222222,
              "#7201a8"
             ],
             [
              0.3333333333333333,
              "#9c179e"
             ],
             [
              0.4444444444444444,
              "#bd3786"
             ],
             [
              0.5555555555555556,
              "#d8576b"
             ],
             [
              0.6666666666666666,
              "#ed7953"
             ],
             [
              0.7777777777777778,
              "#fb9f3a"
             ],
             [
              0.8888888888888888,
              "#fdca26"
             ],
             [
              1,
              "#f0f921"
             ]
            ],
            "type": "surface"
           }
          ],
          "table": [
           {
            "cells": {
             "fill": {
              "color": "#EBF0F8"
             },
             "line": {
              "color": "white"
             }
            },
            "header": {
             "fill": {
              "color": "#C8D4E3"
             },
             "line": {
              "color": "white"
             }
            },
            "type": "table"
           }
          ]
         },
         "layout": {
          "annotationdefaults": {
           "arrowcolor": "#2a3f5f",
           "arrowhead": 0,
           "arrowwidth": 1
          },
          "autotypenumbers": "strict",
          "coloraxis": {
           "colorbar": {
            "outlinewidth": 0,
            "ticks": ""
           }
          },
          "colorscale": {
           "diverging": [
            [
             0,
             "#8e0152"
            ],
            [
             0.1,
             "#c51b7d"
            ],
            [
             0.2,
             "#de77ae"
            ],
            [
             0.3,
             "#f1b6da"
            ],
            [
             0.4,
             "#fde0ef"
            ],
            [
             0.5,
             "#f7f7f7"
            ],
            [
             0.6,
             "#e6f5d0"
            ],
            [
             0.7,
             "#b8e186"
            ],
            [
             0.8,
             "#7fbc41"
            ],
            [
             0.9,
             "#4d9221"
            ],
            [
             1,
             "#276419"
            ]
           ],
           "sequential": [
            [
             0,
             "#0d0887"
            ],
            [
             0.1111111111111111,
             "#46039f"
            ],
            [
             0.2222222222222222,
             "#7201a8"
            ],
            [
             0.3333333333333333,
             "#9c179e"
            ],
            [
             0.4444444444444444,
             "#bd3786"
            ],
            [
             0.5555555555555556,
             "#d8576b"
            ],
            [
             0.6666666666666666,
             "#ed7953"
            ],
            [
             0.7777777777777778,
             "#fb9f3a"
            ],
            [
             0.8888888888888888,
             "#fdca26"
            ],
            [
             1,
             "#f0f921"
            ]
           ],
           "sequentialminus": [
            [
             0,
             "#0d0887"
            ],
            [
             0.1111111111111111,
             "#46039f"
            ],
            [
             0.2222222222222222,
             "#7201a8"
            ],
            [
             0.3333333333333333,
             "#9c179e"
            ],
            [
             0.4444444444444444,
             "#bd3786"
            ],
            [
             0.5555555555555556,
             "#d8576b"
            ],
            [
             0.6666666666666666,
             "#ed7953"
            ],
            [
             0.7777777777777778,
             "#fb9f3a"
            ],
            [
             0.8888888888888888,
             "#fdca26"
            ],
            [
             1,
             "#f0f921"
            ]
           ]
          },
          "colorway": [
           "#636efa",
           "#EF553B",
           "#00cc96",
           "#ab63fa",
           "#FFA15A",
           "#19d3f3",
           "#FF6692",
           "#B6E880",
           "#FF97FF",
           "#FECB52"
          ],
          "font": {
           "color": "#2a3f5f"
          },
          "geo": {
           "bgcolor": "white",
           "lakecolor": "white",
           "landcolor": "white",
           "showlakes": true,
           "showland": true,
           "subunitcolor": "#C8D4E3"
          },
          "hoverlabel": {
           "align": "left"
          },
          "hovermode": "closest",
          "mapbox": {
           "style": "light"
          },
          "paper_bgcolor": "white",
          "plot_bgcolor": "white",
          "polar": {
           "angularaxis": {
            "gridcolor": "#EBF0F8",
            "linecolor": "#EBF0F8",
            "ticks": ""
           },
           "bgcolor": "white",
           "radialaxis": {
            "gridcolor": "#EBF0F8",
            "linecolor": "#EBF0F8",
            "ticks": ""
           }
          },
          "scene": {
           "xaxis": {
            "backgroundcolor": "white",
            "gridcolor": "#DFE8F3",
            "gridwidth": 2,
            "linecolor": "#EBF0F8",
            "showbackground": true,
            "ticks": "",
            "zerolinecolor": "#EBF0F8"
           },
           "yaxis": {
            "backgroundcolor": "white",
            "gridcolor": "#DFE8F3",
            "gridwidth": 2,
            "linecolor": "#EBF0F8",
            "showbackground": true,
            "ticks": "",
            "zerolinecolor": "#EBF0F8"
           },
           "zaxis": {
            "backgroundcolor": "white",
            "gridcolor": "#DFE8F3",
            "gridwidth": 2,
            "linecolor": "#EBF0F8",
            "showbackground": true,
            "ticks": "",
            "zerolinecolor": "#EBF0F8"
           }
          },
          "shapedefaults": {
           "line": {
            "color": "#2a3f5f"
           }
          },
          "ternary": {
           "aaxis": {
            "gridcolor": "#DFE8F3",
            "linecolor": "#A2B1C6",
            "ticks": ""
           },
           "baxis": {
            "gridcolor": "#DFE8F3",
            "linecolor": "#A2B1C6",
            "ticks": ""
           },
           "bgcolor": "white",
           "caxis": {
            "gridcolor": "#DFE8F3",
            "linecolor": "#A2B1C6",
            "ticks": ""
           }
          },
          "title": {
           "x": 0.05
          },
          "xaxis": {
           "automargin": true,
           "gridcolor": "#EBF0F8",
           "linecolor": "#EBF0F8",
           "ticks": "",
           "title": {
            "standoff": 15
           },
           "zerolinecolor": "#EBF0F8",
           "zerolinewidth": 2
          },
          "yaxis": {
           "automargin": true,
           "gridcolor": "#EBF0F8",
           "linecolor": "#EBF0F8",
           "ticks": "",
           "title": {
            "standoff": 15
           },
           "zerolinecolor": "#EBF0F8",
           "zerolinewidth": 2
          }
         }
        },
        "title": {
         "text": "Small domestically chartered commercial banks: assets"
        },
        "xaxis": {
         "anchor": "y",
         "domain": [
          0,
          1
         ],
         "title": {
          "text": "Date"
         }
        },
        "yaxis": {
         "anchor": "x",
         "domain": [
          0,
          1
         ],
         "title": {
          "text": "Value (1000000 multiplier)"
         }
        }
       }
      }
     },
     "metadata": {},
     "output_type": "display_data"
    },
    {
     "data": {
      "application/vnd.plotly.v1+json": {
       "config": {
        "plotlyServerURL": "https://plot.ly"
       },
       "data": [
        {
         "alignmentgroup": "True",
         "hovertemplate": "variable=Treasury and agency securities, small domestically chartered commercial banks, not seasonally adjusted<br>Series Description=%{x}<br>value=%{y}<extra></extra>",
         "legendgroup": "Treasury and agency securities, small domestically chartered commercial banks, not seasonally adjusted",
         "marker": {
          "color": "#636efa",
          "pattern": {
           "shape": ""
          }
         },
         "name": "Treasury and agency securities, small domestically chartered commercial banks, not seasonally adjusted",
         "offsetgroup": "Treasury and agency securities, small domestically chartered commercial banks, not seasonally adjusted",
         "orientation": "v",
         "showlegend": true,
         "textposition": "auto",
         "type": "bar",
         "x": [
          "2022-05-04T00:00:00",
          "2022-05-11T00:00:00",
          "2022-05-18T00:00:00",
          "2022-05-25T00:00:00",
          "2022-06-01T00:00:00",
          "2022-06-08T00:00:00",
          "2022-06-15T00:00:00",
          "2022-06-22T00:00:00",
          "2022-06-29T00:00:00",
          "2022-07-06T00:00:00",
          "2022-07-13T00:00:00",
          "2022-07-20T00:00:00",
          "2022-07-27T00:00:00",
          "2022-08-03T00:00:00",
          "2022-08-10T00:00:00",
          "2022-08-17T00:00:00",
          "2022-08-24T00:00:00",
          "2022-08-31T00:00:00",
          "2022-09-07T00:00:00",
          "2022-09-14T00:00:00",
          "2022-09-21T00:00:00",
          "2022-09-28T00:00:00",
          "2022-10-05T00:00:00",
          "2022-10-12T00:00:00",
          "2022-10-19T00:00:00",
          "2022-10-26T00:00:00",
          "2022-11-02T00:00:00",
          "2022-11-09T00:00:00",
          "2022-11-16T00:00:00",
          "2022-11-23T00:00:00",
          "2022-11-30T00:00:00",
          "2022-12-07T00:00:00",
          "2022-12-14T00:00:00",
          "2022-12-21T00:00:00",
          "2022-12-28T00:00:00",
          "2023-01-04T00:00:00",
          "2023-01-11T00:00:00",
          "2023-01-18T00:00:00",
          "2023-01-25T00:00:00",
          "2023-02-01T00:00:00",
          "2023-02-08T00:00:00",
          "2023-02-15T00:00:00",
          "2023-02-22T00:00:00",
          "2023-03-01T00:00:00",
          "2023-03-08T00:00:00",
          "2023-03-15T00:00:00",
          "2023-03-22T00:00:00",
          "2023-03-29T00:00:00",
          "2023-04-05T00:00:00",
          "2023-04-12T00:00:00",
          "2023-04-19T00:00:00",
          "2023-04-26T00:00:00"
         ],
         "xaxis": "x",
         "y": [
          0.16913414337991015,
          0.16959805434674596,
          0.16942313053005328,
          0.16893258547764828,
          0.1685542848568425,
          0.16916912425257513,
          0.16906334462467848,
          0.16944353357354702,
          0.16870099678927647,
          0.16845511636586596,
          0.16859636559252172,
          0.16878836862228588,
          0.1692965597402494,
          0.17034823263419815,
          0.17041633081113444,
          0.17049301275379236,
          0.170590953176592,
          0.16836555222970226,
          0.16790698438954196,
          0.16816809012279,
          0.16863892964397623,
          0.1676188200621293,
          0.16561538822386102,
          0.16486083284428837,
          0.1648780166946029,
          0.16472556153297466,
          0.16357634224464393,
          0.16371109794713212,
          0.16386096826097543,
          0.1636239239162892,
          0.16362119863675204,
          0.16282155241867294,
          0.16209021776552104,
          0.1614351725181774,
          0.161000061864158,
          0.15866305244660042,
          0.15936070814943598,
          0.158726964620882,
          0.15893337250993236,
          0.15903300683645344,
          0.15980171779588837,
          0.15940744850304553,
          0.15966010561219257,
          0.15721608987289218,
          0.15682895193438873,
          0.15079167648028302,
          0.1485395550699777,
          0.13716711047495136,
          0.13857514483079164,
          0.138586239530992,
          0.13872670984378502,
          0.13871458086231103
         ],
         "yaxis": "y"
        },
        {
         "alignmentgroup": "True",
         "hovertemplate": "variable=Other securities, small domestically chartered commercial banks, not seasonally adjusted<br>Series Description=%{x}<br>value=%{y}<extra></extra>",
         "legendgroup": "Other securities, small domestically chartered commercial banks, not seasonally adjusted",
         "marker": {
          "color": "#EF553B",
          "pattern": {
           "shape": ""
          }
         },
         "name": "Other securities, small domestically chartered commercial banks, not seasonally adjusted",
         "offsetgroup": "Other securities, small domestically chartered commercial banks, not seasonally adjusted",
         "orientation": "v",
         "showlegend": true,
         "textposition": "auto",
         "type": "bar",
         "x": [
          "2022-05-04T00:00:00",
          "2022-05-11T00:00:00",
          "2022-05-18T00:00:00",
          "2022-05-25T00:00:00",
          "2022-06-01T00:00:00",
          "2022-06-08T00:00:00",
          "2022-06-15T00:00:00",
          "2022-06-22T00:00:00",
          "2022-06-29T00:00:00",
          "2022-07-06T00:00:00",
          "2022-07-13T00:00:00",
          "2022-07-20T00:00:00",
          "2022-07-27T00:00:00",
          "2022-08-03T00:00:00",
          "2022-08-10T00:00:00",
          "2022-08-17T00:00:00",
          "2022-08-24T00:00:00",
          "2022-08-31T00:00:00",
          "2022-09-07T00:00:00",
          "2022-09-14T00:00:00",
          "2022-09-21T00:00:00",
          "2022-09-28T00:00:00",
          "2022-10-05T00:00:00",
          "2022-10-12T00:00:00",
          "2022-10-19T00:00:00",
          "2022-10-26T00:00:00",
          "2022-11-02T00:00:00",
          "2022-11-09T00:00:00",
          "2022-11-16T00:00:00",
          "2022-11-23T00:00:00",
          "2022-11-30T00:00:00",
          "2022-12-07T00:00:00",
          "2022-12-14T00:00:00",
          "2022-12-21T00:00:00",
          "2022-12-28T00:00:00",
          "2023-01-04T00:00:00",
          "2023-01-11T00:00:00",
          "2023-01-18T00:00:00",
          "2023-01-25T00:00:00",
          "2023-02-01T00:00:00",
          "2023-02-08T00:00:00",
          "2023-02-15T00:00:00",
          "2023-02-22T00:00:00",
          "2023-03-01T00:00:00",
          "2023-03-08T00:00:00",
          "2023-03-15T00:00:00",
          "2023-03-22T00:00:00",
          "2023-03-29T00:00:00",
          "2023-04-05T00:00:00",
          "2023-04-12T00:00:00",
          "2023-04-19T00:00:00",
          "2023-04-26T00:00:00"
         ],
         "xaxis": "x",
         "y": [
          0.06386494209103966,
          0.06405957974538481,
          0.06408518820856411,
          0.06409938772053887,
          0.06391790097041501,
          0.06413364895383998,
          0.06387531835064393,
          0.06401331625532965,
          0.06392781083173996,
          0.06350584644627026,
          0.0635808168923495,
          0.06364955701634616,
          0.06387980528719218,
          0.06399939418583118,
          0.06441266552911859,
          0.064208722625941,
          0.06425473715807982,
          0.06343612035112368,
          0.0634561638567747,
          0.06359577147484333,
          0.06356150407655639,
          0.0631740922435791,
          0.06200563765484963,
          0.06197342811128608,
          0.06182789089303718,
          0.06154741862962387,
          0.06095389080936481,
          0.06083378539957904,
          0.06076408126975591,
          0.06085333858184569,
          0.06135194787359247,
          0.06056509110930739,
          0.06005393038845852,
          0.0597841266976755,
          0.05965735973827713,
          0.06181057354861544,
          0.06211353844268966,
          0.06195422047988323,
          0.062043162196208736,
          0.06225105302646311,
          0.0625049249070638,
          0.062334398124086254,
          0.061944130615644,
          0.061079998870664946,
          0.06104092446784027,
          0.05977272887499484,
          0.05994817925708911,
          0.059605875739404936,
          0.059800799859615505,
          0.059621490919926,
          0.059828486456118095,
          0.0596368833349815
         ],
         "yaxis": "y"
        },
        {
         "alignmentgroup": "True",
         "hovertemplate": "variable=Commercial and industrial loans, small domestically chartered commercial banks, not seasonally adjusted<br>Series Description=%{x}<br>value=%{y}<extra></extra>",
         "legendgroup": "Commercial and industrial loans, small domestically chartered commercial banks, not seasonally adjusted",
         "marker": {
          "color": "#00cc96",
          "pattern": {
           "shape": ""
          }
         },
         "name": "Commercial and industrial loans, small domestically chartered commercial banks, not seasonally adjusted",
         "offsetgroup": "Commercial and industrial loans, small domestically chartered commercial banks, not seasonally adjusted",
         "orientation": "v",
         "showlegend": true,
         "textposition": "auto",
         "type": "bar",
         "x": [
          "2022-05-04T00:00:00",
          "2022-05-11T00:00:00",
          "2022-05-18T00:00:00",
          "2022-05-25T00:00:00",
          "2022-06-01T00:00:00",
          "2022-06-08T00:00:00",
          "2022-06-15T00:00:00",
          "2022-06-22T00:00:00",
          "2022-06-29T00:00:00",
          "2022-07-06T00:00:00",
          "2022-07-13T00:00:00",
          "2022-07-20T00:00:00",
          "2022-07-27T00:00:00",
          "2022-08-03T00:00:00",
          "2022-08-10T00:00:00",
          "2022-08-17T00:00:00",
          "2022-08-24T00:00:00",
          "2022-08-31T00:00:00",
          "2022-09-07T00:00:00",
          "2022-09-14T00:00:00",
          "2022-09-21T00:00:00",
          "2022-09-28T00:00:00",
          "2022-10-05T00:00:00",
          "2022-10-12T00:00:00",
          "2022-10-19T00:00:00",
          "2022-10-26T00:00:00",
          "2022-11-02T00:00:00",
          "2022-11-09T00:00:00",
          "2022-11-16T00:00:00",
          "2022-11-23T00:00:00",
          "2022-11-30T00:00:00",
          "2022-12-07T00:00:00",
          "2022-12-14T00:00:00",
          "2022-12-21T00:00:00",
          "2022-12-28T00:00:00",
          "2023-01-04T00:00:00",
          "2023-01-11T00:00:00",
          "2023-01-18T00:00:00",
          "2023-01-25T00:00:00",
          "2023-02-01T00:00:00",
          "2023-02-08T00:00:00",
          "2023-02-15T00:00:00",
          "2023-02-22T00:00:00",
          "2023-03-01T00:00:00",
          "2023-03-08T00:00:00",
          "2023-03-15T00:00:00",
          "2023-03-22T00:00:00",
          "2023-03-29T00:00:00",
          "2023-04-05T00:00:00",
          "2023-04-12T00:00:00",
          "2023-04-19T00:00:00",
          "2023-04-26T00:00:00"
         ],
         "xaxis": "x",
         "y": [
          0.11293324832944732,
          0.11294153659716569,
          0.11311915514018984,
          0.11318828892014082,
          0.11312477779378272,
          0.11324989255066588,
          0.11336361591456441,
          0.11405286883501109,
          0.11446369220007406,
          0.11453572038543555,
          0.11439618942998682,
          0.11454480078067897,
          0.11528960547942842,
          0.11508947783628504,
          0.11482155782773294,
          0.11487252929789979,
          0.11487401081598372,
          0.11476570925008892,
          0.11509120825801705,
          0.11555621053741535,
          0.11633036733791448,
          0.11632127353869348,
          0.11637639922985052,
          0.11622386140362004,
          0.11631161748646682,
          0.11659673553876898,
          0.11637600804540506,
          0.1163082393201874,
          0.11466986985269403,
          0.11501328277777496,
          0.11426251229509606,
          0.1136732197942273,
          0.11400589648795662,
          0.11396882040295962,
          0.11405909918753966,
          0.11347671466983805,
          0.11388900233074394,
          0.114316165860014,
          0.11474720468948349,
          0.11416465729368586,
          0.11441469531743566,
          0.11433115245585042,
          0.11426461888852207,
          0.1143777703088622,
          0.11448247324112128,
          0.1139764073229409,
          0.11180139711877597,
          0.11310937522670347,
          0.11321286035774332,
          0.11308953590864738,
          0.11381540361373471,
          0.11395293890537389
         ],
         "yaxis": "y"
        },
        {
         "alignmentgroup": "True",
         "hovertemplate": "variable=Real estate loans, small domestically chartered commercial banks, not seasonally adjusted<br>Series Description=%{x}<br>value=%{y}<extra></extra>",
         "legendgroup": "Real estate loans, small domestically chartered commercial banks, not seasonally adjusted",
         "marker": {
          "color": "#ab63fa",
          "pattern": {
           "shape": ""
          }
         },
         "name": "Real estate loans, small domestically chartered commercial banks, not seasonally adjusted",
         "offsetgroup": "Real estate loans, small domestically chartered commercial banks, not seasonally adjusted",
         "orientation": "v",
         "showlegend": true,
         "textposition": "auto",
         "type": "bar",
         "x": [
          "2022-05-04T00:00:00",
          "2022-05-11T00:00:00",
          "2022-05-18T00:00:00",
          "2022-05-25T00:00:00",
          "2022-06-01T00:00:00",
          "2022-06-08T00:00:00",
          "2022-06-15T00:00:00",
          "2022-06-22T00:00:00",
          "2022-06-29T00:00:00",
          "2022-07-06T00:00:00",
          "2022-07-13T00:00:00",
          "2022-07-20T00:00:00",
          "2022-07-27T00:00:00",
          "2022-08-03T00:00:00",
          "2022-08-10T00:00:00",
          "2022-08-17T00:00:00",
          "2022-08-24T00:00:00",
          "2022-08-31T00:00:00",
          "2022-09-07T00:00:00",
          "2022-09-14T00:00:00",
          "2022-09-21T00:00:00",
          "2022-09-28T00:00:00",
          "2022-10-05T00:00:00",
          "2022-10-12T00:00:00",
          "2022-10-19T00:00:00",
          "2022-10-26T00:00:00",
          "2022-11-02T00:00:00",
          "2022-11-09T00:00:00",
          "2022-11-16T00:00:00",
          "2022-11-23T00:00:00",
          "2022-11-30T00:00:00",
          "2022-12-07T00:00:00",
          "2022-12-14T00:00:00",
          "2022-12-21T00:00:00",
          "2022-12-28T00:00:00",
          "2023-01-04T00:00:00",
          "2023-01-11T00:00:00",
          "2023-01-18T00:00:00",
          "2023-01-25T00:00:00",
          "2023-02-01T00:00:00",
          "2023-02-08T00:00:00",
          "2023-02-15T00:00:00",
          "2023-02-22T00:00:00",
          "2023-03-01T00:00:00",
          "2023-03-08T00:00:00",
          "2023-03-15T00:00:00",
          "2023-03-22T00:00:00",
          "2023-03-29T00:00:00",
          "2023-04-05T00:00:00",
          "2023-04-12T00:00:00",
          "2023-04-19T00:00:00",
          "2023-04-26T00:00:00"
         ],
         "xaxis": "x",
         "y": [
          0.38349149203454436,
          0.3849980470359913,
          0.38627938260942424,
          0.3867435807053813,
          0.3859543290464963,
          0.38769136827464507,
          0.3885861644750584,
          0.3901493900994615,
          0.3910154930919206,
          0.3923977079957289,
          0.393664672725718,
          0.39539910274777584,
          0.39697953773848027,
          0.39672389845550626,
          0.3979529998624614,
          0.3986858983125743,
          0.3996073354745158,
          0.3991969430338557,
          0.4007082663251475,
          0.40201575714583265,
          0.40434915067719557,
          0.40478981158072047,
          0.40583370042906064,
          0.4064048660939854,
          0.4078533521011191,
          0.4088933787284825,
          0.4101669665404498,
          0.41071318885747593,
          0.410709646531252,
          0.4121458645240984,
          0.4118538808035138,
          0.41582237939188194,
          0.41654718236421323,
          0.4169649811676631,
          0.41723884716940673,
          0.4168178731564105,
          0.41932934957950346,
          0.4202740794336898,
          0.4228889837181841,
          0.4207451867143103,
          0.42268184642780904,
          0.4231250181113359,
          0.42304912464229644,
          0.4241967622664354,
          0.42582728510188883,
          0.4197264407383945,
          0.41989603956376864,
          0.42691524273445913,
          0.4278202580513589,
          0.42846739611008006,
          0.43092908053443396,
          0.4320369434981445
         ],
         "yaxis": "y"
        },
        {
         "alignmentgroup": "True",
         "hovertemplate": "variable=Consumer loans, small domestically chartered commercial banks, not seasonally adjusted<br>Series Description=%{x}<br>value=%{y}<extra></extra>",
         "legendgroup": "Consumer loans, small domestically chartered commercial banks, not seasonally adjusted",
         "marker": {
          "color": "#FFA15A",
          "pattern": {
           "shape": ""
          }
         },
         "name": "Consumer loans, small domestically chartered commercial banks, not seasonally adjusted",
         "offsetgroup": "Consumer loans, small domestically chartered commercial banks, not seasonally adjusted",
         "orientation": "v",
         "showlegend": true,
         "textposition": "auto",
         "type": "bar",
         "x": [
          "2022-05-04T00:00:00",
          "2022-05-11T00:00:00",
          "2022-05-18T00:00:00",
          "2022-05-25T00:00:00",
          "2022-06-01T00:00:00",
          "2022-06-08T00:00:00",
          "2022-06-15T00:00:00",
          "2022-06-22T00:00:00",
          "2022-06-29T00:00:00",
          "2022-07-06T00:00:00",
          "2022-07-13T00:00:00",
          "2022-07-20T00:00:00",
          "2022-07-27T00:00:00",
          "2022-08-03T00:00:00",
          "2022-08-10T00:00:00",
          "2022-08-17T00:00:00",
          "2022-08-24T00:00:00",
          "2022-08-31T00:00:00",
          "2022-09-07T00:00:00",
          "2022-09-14T00:00:00",
          "2022-09-21T00:00:00",
          "2022-09-28T00:00:00",
          "2022-10-05T00:00:00",
          "2022-10-12T00:00:00",
          "2022-10-19T00:00:00",
          "2022-10-26T00:00:00",
          "2022-11-02T00:00:00",
          "2022-11-09T00:00:00",
          "2022-11-16T00:00:00",
          "2022-11-23T00:00:00",
          "2022-11-30T00:00:00",
          "2022-12-07T00:00:00",
          "2022-12-14T00:00:00",
          "2022-12-21T00:00:00",
          "2022-12-28T00:00:00",
          "2023-01-04T00:00:00",
          "2023-01-11T00:00:00",
          "2023-01-18T00:00:00",
          "2023-01-25T00:00:00",
          "2023-02-01T00:00:00",
          "2023-02-08T00:00:00",
          "2023-02-15T00:00:00",
          "2023-02-22T00:00:00",
          "2023-03-01T00:00:00",
          "2023-03-08T00:00:00",
          "2023-03-15T00:00:00",
          "2023-03-22T00:00:00",
          "2023-03-29T00:00:00",
          "2023-04-05T00:00:00",
          "2023-04-12T00:00:00",
          "2023-04-19T00:00:00",
          "2023-04-26T00:00:00"
         ],
         "xaxis": "x",
         "y": [
          0.05944345091990894,
          0.05963742046074458,
          0.05976676393655145,
          0.060248375682481536,
          0.06025133128466773,
          0.06024694419894341,
          0.06035835451724911,
          0.061082480308825966,
          0.06153480527461648,
          0.061493272601887895,
          0.061504515914863944,
          0.061831701875781374,
          0.062354806647495965,
          0.062058111379420106,
          0.06199393723232223,
          0.06213911371220177,
          0.06249956193847704,
          0.06270199597639715,
          0.0627621404003214,
          0.06287398907757348,
          0.06315477340189692,
          0.06351187497280004,
          0.06338396908116219,
          0.06370150602024005,
          0.0638803305993797,
          0.06432538030737174,
          0.06445768939648236,
          0.06406559867352714,
          0.06398692825657143,
          0.0644865365033032,
          0.0651176318792448,
          0.06428595233217875,
          0.0645936384562524,
          0.06471403664010153,
          0.0650597512165867,
          0.06470092594058689,
          0.06488226680163006,
          0.0648710247660862,
          0.06531293489005566,
          0.06495653715750702,
          0.0647990873290149,
          0.06483062220267496,
          0.064817006202782,
          0.06420113661590957,
          0.0641265491783179,
          0.06312434562902128,
          0.0640967092436468,
          0.0653012591166256,
          0.06504254219241687,
          0.06530240488514404,
          0.06596144998602528,
          0.06660997749210802
         ],
         "yaxis": "y"
        },
        {
         "alignmentgroup": "True",
         "hovertemplate": "variable=Other loans and leases: All other loans and leases, small domestically chartered commercial banks, not seasonally adjusted<br>Series Description=%{x}<br>value=%{y}<extra></extra>",
         "legendgroup": "Other loans and leases: All other loans and leases, small domestically chartered commercial banks, not seasonally adjusted",
         "marker": {
          "color": "#19d3f3",
          "pattern": {
           "shape": ""
          }
         },
         "name": "Other loans and leases: All other loans and leases, small domestically chartered commercial banks, not seasonally adjusted",
         "offsetgroup": "Other loans and leases: All other loans and leases, small domestically chartered commercial banks, not seasonally adjusted",
         "orientation": "v",
         "showlegend": true,
         "textposition": "auto",
         "type": "bar",
         "x": [
          "2022-05-04T00:00:00",
          "2022-05-11T00:00:00",
          "2022-05-18T00:00:00",
          "2022-05-25T00:00:00",
          "2022-06-01T00:00:00",
          "2022-06-08T00:00:00",
          "2022-06-15T00:00:00",
          "2022-06-22T00:00:00",
          "2022-06-29T00:00:00",
          "2022-07-06T00:00:00",
          "2022-07-13T00:00:00",
          "2022-07-20T00:00:00",
          "2022-07-27T00:00:00",
          "2022-08-03T00:00:00",
          "2022-08-10T00:00:00",
          "2022-08-17T00:00:00",
          "2022-08-24T00:00:00",
          "2022-08-31T00:00:00",
          "2022-09-07T00:00:00",
          "2022-09-14T00:00:00",
          "2022-09-21T00:00:00",
          "2022-09-28T00:00:00",
          "2022-10-05T00:00:00",
          "2022-10-12T00:00:00",
          "2022-10-19T00:00:00",
          "2022-10-26T00:00:00",
          "2022-11-02T00:00:00",
          "2022-11-09T00:00:00",
          "2022-11-16T00:00:00",
          "2022-11-23T00:00:00",
          "2022-11-30T00:00:00",
          "2022-12-07T00:00:00",
          "2022-12-14T00:00:00",
          "2022-12-21T00:00:00",
          "2022-12-28T00:00:00",
          "2023-01-04T00:00:00",
          "2023-01-11T00:00:00",
          "2023-01-18T00:00:00",
          "2023-01-25T00:00:00",
          "2023-02-01T00:00:00",
          "2023-02-08T00:00:00",
          "2023-02-15T00:00:00",
          "2023-02-22T00:00:00",
          "2023-03-01T00:00:00",
          "2023-03-08T00:00:00",
          "2023-03-15T00:00:00",
          "2023-03-22T00:00:00",
          "2023-03-29T00:00:00",
          "2023-04-05T00:00:00",
          "2023-04-12T00:00:00",
          "2023-04-19T00:00:00",
          "2023-04-26T00:00:00"
         ],
         "xaxis": "x",
         "y": [
          0.053090444036955675,
          0.053009870366037624,
          0.05315522987323892,
          0.05321817266604544,
          0.05365098614875151,
          0.05360979796669989,
          0.05360636957081754,
          0.05391403309554749,
          0.05402842576661921,
          0.054073708753272456,
          0.05339320092679565,
          0.05343467283465315,
          0.053573581548967346,
          0.053426846786068675,
          0.05309720758383608,
          0.05299733779241426,
          0.0529608423286823,
          0.053641462769553123,
          0.05357412029962255,
          0.053427267462429914,
          0.05355343999353032,
          0.053868324163656396,
          0.054169490179152104,
          0.05392260197517587,
          0.05374427488207622,
          0.05354337717836215,
          0.05383275272981049,
          0.05357607270983596,
          0.05202140263802774,
          0.05212422419080622,
          0.05236549739769522,
          0.05258294792658412,
          0.0527988680535862,
          0.053204975579087085,
          0.053380588561477,
          0.052926666476737876,
          0.05220634522430858,
          0.051994916156967115,
          0.05198055320629085,
          0.05169691956244087,
          0.05139355974343906,
          0.0513926974626369,
          0.05144770966438271,
          0.052093380834469176,
          0.05223218777314113,
          0.05237730269883202,
          0.05311742130333576,
          0.05429483339645252,
          0.05419475739804932,
          0.0537229986765842,
          0.0534981364305114,
          0.05373396512549882
         ],
         "yaxis": "y"
        },
        {
         "alignmentgroup": "True",
         "hovertemplate": "variable=LESS: Allowance for loan and lease losses, small domestically chartered commercial banks, not seasonally adjusted<br>Series Description=%{x}<br>value=%{y}<extra></extra>",
         "legendgroup": "LESS: Allowance for loan and lease losses, small domestically chartered commercial banks, not seasonally adjusted",
         "marker": {
          "color": "#FF6692",
          "pattern": {
           "shape": ""
          }
         },
         "name": "LESS: Allowance for loan and lease losses, small domestically chartered commercial banks, not seasonally adjusted",
         "offsetgroup": "LESS: Allowance for loan and lease losses, small domestically chartered commercial banks, not seasonally adjusted",
         "orientation": "v",
         "showlegend": true,
         "textposition": "auto",
         "type": "bar",
         "x": [
          "2022-05-04T00:00:00",
          "2022-05-11T00:00:00",
          "2022-05-18T00:00:00",
          "2022-05-25T00:00:00",
          "2022-06-01T00:00:00",
          "2022-06-08T00:00:00",
          "2022-06-15T00:00:00",
          "2022-06-22T00:00:00",
          "2022-06-29T00:00:00",
          "2022-07-06T00:00:00",
          "2022-07-13T00:00:00",
          "2022-07-20T00:00:00",
          "2022-07-27T00:00:00",
          "2022-08-03T00:00:00",
          "2022-08-10T00:00:00",
          "2022-08-17T00:00:00",
          "2022-08-24T00:00:00",
          "2022-08-31T00:00:00",
          "2022-09-07T00:00:00",
          "2022-09-14T00:00:00",
          "2022-09-21T00:00:00",
          "2022-09-28T00:00:00",
          "2022-10-05T00:00:00",
          "2022-10-12T00:00:00",
          "2022-10-19T00:00:00",
          "2022-10-26T00:00:00",
          "2022-11-02T00:00:00",
          "2022-11-09T00:00:00",
          "2022-11-16T00:00:00",
          "2022-11-23T00:00:00",
          "2022-11-30T00:00:00",
          "2022-12-07T00:00:00",
          "2022-12-14T00:00:00",
          "2022-12-21T00:00:00",
          "2022-12-28T00:00:00",
          "2023-01-04T00:00:00",
          "2023-01-11T00:00:00",
          "2023-01-18T00:00:00",
          "2023-01-25T00:00:00",
          "2023-02-01T00:00:00",
          "2023-02-08T00:00:00",
          "2023-02-15T00:00:00",
          "2023-02-22T00:00:00",
          "2023-03-01T00:00:00",
          "2023-03-08T00:00:00",
          "2023-03-15T00:00:00",
          "2023-03-22T00:00:00",
          "2023-03-29T00:00:00",
          "2023-04-05T00:00:00",
          "2023-04-12T00:00:00",
          "2023-04-19T00:00:00",
          "2023-04-26T00:00:00"
         ],
         "xaxis": "x",
         "y": [
          -0.00860946304667512,
          -0.008627704177333733,
          -0.008625131648767333,
          -0.008608390593852853,
          -0.008579536945900117,
          -0.008612116161382175,
          -0.00859320652459361,
          -0.008617022164516274,
          -0.00858487017116783,
          -0.00860783667767644,
          -0.008644802112137868,
          -0.008655148043013027,
          -0.00866304894271507,
          -0.008638272726409643,
          -0.00864742788043173,
          -0.008650256701284373,
          -0.008635023906838672,
          -0.008577687199858854,
          -0.00864480786837648,
          -0.008650933548970969,
          -0.008679760209561557,
          -0.008630351713434055,
          -0.00880126996277142,
          -0.008860229018929687,
          -0.008883151340471183,
          -0.008880834814733212,
          -0.00898543335311675,
          -0.008949367154779404,
          -0.008892135498217279,
          -0.008932142552887457,
          -0.008820834695557831,
          -0.00885717195657663,
          -0.008843929520976079,
          -0.008806504287485665,
          -0.00876381784204741,
          -0.008867071814866975,
          -0.00905472143380133,
          -0.00906661299395268,
          -0.009160326120550136,
          -0.009113945203920854,
          -0.009199719085493989,
          -0.009207963823132406,
          -0.009199462894699284,
          -0.009148737439156892,
          -0.009202405923507587,
          -0.009050012682765266,
          -0.00911444288642002,
          -0.009294657215469933,
          -0.009480547736655767,
          -0.009530432853222465,
          -0.009558147280075075,
          -0.009526327601449837
         ],
         "yaxis": "y"
        },
        {
         "alignmentgroup": "True",
         "hovertemplate": "variable=Cash assets, small domestically chartered commercial banks, not seasonally adjusted<br>Series Description=%{x}<br>value=%{y}<extra></extra>",
         "legendgroup": "Cash assets, small domestically chartered commercial banks, not seasonally adjusted",
         "marker": {
          "color": "#B6E880",
          "pattern": {
           "shape": ""
          }
         },
         "name": "Cash assets, small domestically chartered commercial banks, not seasonally adjusted",
         "offsetgroup": "Cash assets, small domestically chartered commercial banks, not seasonally adjusted",
         "orientation": "v",
         "showlegend": true,
         "textposition": "auto",
         "type": "bar",
         "x": [
          "2022-05-04T00:00:00",
          "2022-05-11T00:00:00",
          "2022-05-18T00:00:00",
          "2022-05-25T00:00:00",
          "2022-06-01T00:00:00",
          "2022-06-08T00:00:00",
          "2022-06-15T00:00:00",
          "2022-06-22T00:00:00",
          "2022-06-29T00:00:00",
          "2022-07-06T00:00:00",
          "2022-07-13T00:00:00",
          "2022-07-20T00:00:00",
          "2022-07-27T00:00:00",
          "2022-08-03T00:00:00",
          "2022-08-10T00:00:00",
          "2022-08-17T00:00:00",
          "2022-08-24T00:00:00",
          "2022-08-31T00:00:00",
          "2022-09-07T00:00:00",
          "2022-09-14T00:00:00",
          "2022-09-21T00:00:00",
          "2022-09-28T00:00:00",
          "2022-10-05T00:00:00",
          "2022-10-12T00:00:00",
          "2022-10-19T00:00:00",
          "2022-10-26T00:00:00",
          "2022-11-02T00:00:00",
          "2022-11-09T00:00:00",
          "2022-11-16T00:00:00",
          "2022-11-23T00:00:00",
          "2022-11-30T00:00:00",
          "2022-12-07T00:00:00",
          "2022-12-14T00:00:00",
          "2022-12-21T00:00:00",
          "2022-12-28T00:00:00",
          "2023-01-04T00:00:00",
          "2023-01-11T00:00:00",
          "2023-01-18T00:00:00",
          "2023-01-25T00:00:00",
          "2023-02-01T00:00:00",
          "2023-02-08T00:00:00",
          "2023-02-15T00:00:00",
          "2023-02-22T00:00:00",
          "2023-03-01T00:00:00",
          "2023-03-08T00:00:00",
          "2023-03-15T00:00:00",
          "2023-03-22T00:00:00",
          "2023-03-29T00:00:00",
          "2023-04-05T00:00:00",
          "2023-04-12T00:00:00",
          "2023-04-19T00:00:00",
          "2023-04-26T00:00:00"
         ],
         "xaxis": "x",
         "y": [
          0.0952055114182182,
          0.09261042174702586,
          0.0908572204543065,
          0.09112780352263027,
          0.09202097371346449,
          0.08943672174557377,
          0.08877669721463219,
          0.08447862380320721,
          0.08444245870823122,
          0.08246703403233177,
          0.08142551480682222,
          0.07928454980804003,
          0.07850977281476013,
          0.07825953734282202,
          0.07833546243376151,
          0.07736319881491033,
          0.07549459256856068,
          0.0775519726755533,
          0.07635038207396061,
          0.07419179263876677,
          0.06928860789205443,
          0.06947565746606806,
          0.07079819295796806,
          0.0713682718357452,
          0.06948597421548483,
          0.06844692856821856,
          0.06843466926044293,
          0.0694102424548302,
          0.07268795448903623,
          0.07067245680479907,
          0.07004175499619049,
          0.06852526478258587,
          0.06814780710330105,
          0.06580456575017901,
          0.06596398785370339,
          0.0683935508948759,
          0.06457820535633545,
          0.06434905587086036,
          0.0613002713418451,
          0.0641620897183676,
          0.06212061037825246,
          0.06195546223868263,
          0.06215929833209572,
          0.06379568490413894,
          0.06175064975246664,
          0.07709725673873517,
          0.07828811776345014,
          0.07802611564756579,
          0.0719054052772238,
          0.07153238141724291,
          0.06811470312223192,
          0.07168772476063529
         ],
         "yaxis": "y"
        },
        {
         "alignmentgroup": "True",
         "hovertemplate": "variable=Total fed funds sold and securities purchased under agreements to resell, small domestically chartered commercial banks, not seasonally adjusted<br>Series Description=%{x}<br>value=%{y}<extra></extra>",
         "legendgroup": "Total fed funds sold and securities purchased under agreements to resell, small domestically chartered commercial banks, not seasonally adjusted",
         "marker": {
          "color": "#FF97FF",
          "pattern": {
           "shape": ""
          }
         },
         "name": "Total fed funds sold and securities purchased under agreements to resell, small domestically chartered commercial banks, not seasonally adjusted",
         "offsetgroup": "Total fed funds sold and securities purchased under agreements to resell, small domestically chartered commercial banks, not seasonally adjusted",
         "orientation": "v",
         "showlegend": true,
         "textposition": "auto",
         "type": "bar",
         "x": [
          "2022-05-04T00:00:00",
          "2022-05-11T00:00:00",
          "2022-05-18T00:00:00",
          "2022-05-25T00:00:00",
          "2022-06-01T00:00:00",
          "2022-06-08T00:00:00",
          "2022-06-15T00:00:00",
          "2022-06-22T00:00:00",
          "2022-06-29T00:00:00",
          "2022-07-06T00:00:00",
          "2022-07-13T00:00:00",
          "2022-07-20T00:00:00",
          "2022-07-27T00:00:00",
          "2022-08-03T00:00:00",
          "2022-08-10T00:00:00",
          "2022-08-17T00:00:00",
          "2022-08-24T00:00:00",
          "2022-08-31T00:00:00",
          "2022-09-07T00:00:00",
          "2022-09-14T00:00:00",
          "2022-09-21T00:00:00",
          "2022-09-28T00:00:00",
          "2022-10-05T00:00:00",
          "2022-10-12T00:00:00",
          "2022-10-19T00:00:00",
          "2022-10-26T00:00:00",
          "2022-11-02T00:00:00",
          "2022-11-09T00:00:00",
          "2022-11-16T00:00:00",
          "2022-11-23T00:00:00",
          "2022-11-30T00:00:00",
          "2022-12-07T00:00:00",
          "2022-12-14T00:00:00",
          "2022-12-21T00:00:00",
          "2022-12-28T00:00:00",
          "2023-01-04T00:00:00",
          "2023-01-11T00:00:00",
          "2023-01-18T00:00:00",
          "2023-01-25T00:00:00",
          "2023-02-01T00:00:00",
          "2023-02-08T00:00:00",
          "2023-02-15T00:00:00",
          "2023-02-22T00:00:00",
          "2023-03-01T00:00:00",
          "2023-03-08T00:00:00",
          "2023-03-15T00:00:00",
          "2023-03-22T00:00:00",
          "2023-03-29T00:00:00",
          "2023-04-05T00:00:00",
          "2023-04-12T00:00:00",
          "2023-04-19T00:00:00",
          "2023-04-26T00:00:00"
         ],
         "xaxis": "x",
         "y": [
          0.008566708121910255,
          0.00824109053219752,
          0.008323833577029635,
          0.008198596659243999,
          0.007903969964253243,
          0.007832857720100724,
          0.007773467243463181,
          0.007943541469651845,
          0.006750547675838464,
          0.007749227274029105,
          0.0074275571974945324,
          0.007445642254031054,
          0.0073012115807400465,
          0.00693460755967313,
          0.00662441097688924,
          0.006576819360249161,
          0.006740281725603582,
          0.0067876500388228565,
          0.006610442026819474,
          0.00651574564062451,
          0.006695762078260307,
          0.006479238103144229,
          0.0063587221758607294,
          0.006170154294052826,
          0.006162892351465682,
          0.006053510513434719,
          0.00581309807943239,
          0.005573157031061762,
          0.005698024519428408,
          0.0053273961364841815,
          0.005541940571818092,
          0.006532170157047542,
          0.006716058990790242,
          0.006960833396398861,
          0.007122804944750716,
          0.007066018604091022,
          0.00732390339810215,
          0.007081329839585326,
          0.006624249433941307,
          0.006537699583079393,
          0.0063837029120041655,
          0.0063611685480644475,
          0.006446278908475618,
          0.006391832135287336,
          0.006397929628743203,
          0.006310592936181735,
          0.00635465197871035,
          0.0063700529046321975,
          0.006365322184781088,
          0.006052146705602351,
          0.005402469874759979,
          0.005576491599363076
         ],
         "yaxis": "y"
        },
        {
         "alignmentgroup": "True",
         "hovertemplate": "variable=Loans to commercial banks, small domestically chartered commercial banks, not seasonally adjusted<br>Series Description=%{x}<br>value=%{y}<extra></extra>",
         "legendgroup": "Loans to commercial banks, small domestically chartered commercial banks, not seasonally adjusted",
         "marker": {
          "color": "#FECB52",
          "pattern": {
           "shape": ""
          }
         },
         "name": "Loans to commercial banks, small domestically chartered commercial banks, not seasonally adjusted",
         "offsetgroup": "Loans to commercial banks, small domestically chartered commercial banks, not seasonally adjusted",
         "orientation": "v",
         "showlegend": true,
         "textposition": "auto",
         "type": "bar",
         "x": [
          "2022-05-04T00:00:00",
          "2022-05-11T00:00:00",
          "2022-05-18T00:00:00",
          "2022-05-25T00:00:00",
          "2022-06-01T00:00:00",
          "2022-06-08T00:00:00",
          "2022-06-15T00:00:00",
          "2022-06-22T00:00:00",
          "2022-06-29T00:00:00",
          "2022-07-06T00:00:00",
          "2022-07-13T00:00:00",
          "2022-07-20T00:00:00",
          "2022-07-27T00:00:00",
          "2022-08-03T00:00:00",
          "2022-08-10T00:00:00",
          "2022-08-17T00:00:00",
          "2022-08-24T00:00:00",
          "2022-08-31T00:00:00",
          "2022-09-07T00:00:00",
          "2022-09-14T00:00:00",
          "2022-09-21T00:00:00",
          "2022-09-28T00:00:00",
          "2022-10-05T00:00:00",
          "2022-10-12T00:00:00",
          "2022-10-19T00:00:00",
          "2022-10-26T00:00:00",
          "2022-11-02T00:00:00",
          "2022-11-09T00:00:00",
          "2022-11-16T00:00:00",
          "2022-11-23T00:00:00",
          "2022-11-30T00:00:00",
          "2022-12-07T00:00:00",
          "2022-12-14T00:00:00",
          "2022-12-21T00:00:00",
          "2022-12-28T00:00:00",
          "2023-01-04T00:00:00",
          "2023-01-11T00:00:00",
          "2023-01-18T00:00:00",
          "2023-01-25T00:00:00",
          "2023-02-01T00:00:00",
          "2023-02-08T00:00:00",
          "2023-02-15T00:00:00",
          "2023-02-22T00:00:00",
          "2023-03-01T00:00:00",
          "2023-03-08T00:00:00",
          "2023-03-15T00:00:00",
          "2023-03-22T00:00:00",
          "2023-03-29T00:00:00",
          "2023-04-05T00:00:00",
          "2023-04-12T00:00:00",
          "2023-04-19T00:00:00",
          "2023-04-26T00:00:00"
         ],
         "xaxis": "x",
         "y": [
          0.0002644213699213087,
          0.0002712786231476648,
          0.00034818077134422966,
          0.00036994551744415425,
          0.0003746056989633155,
          0.00038710462525860383,
          0.0003923072239688985,
          0.00040876603337104044,
          0.0004206639416292228,
          0.0004354526210604021,
          0.0004319812769501588,
          0.0004231655985289214,
          0.0004054975728106074,
          0.0003793077144540378,
          0.0003765331834341316,
          0.0003756644284175245,
          0.00037361323919136524,
          0.0002981117716243402,
          0.0003623995651443443,
          0.0003717410939449765,
          0.00037177924190925134,
          0.00036974804399184704,
          0.00033056119264929034,
          0.00032811417420480695,
          0.0003241117794916908,
          0.00026088481586937316,
          0.000211885529177418,
          0.00020776631988849112,
          0.00013345950119592897,
          0.00012758721797760507,
          0.00012257989805753542,
          0.0001175113295884346,
          0.00011277563539733366,
          0.0001074054453687587,
          0.00011027453244397335,
          0.00010667167157571634,
          0.00010370206149780199,
          0.00010685494624977239,
          0.00010206720254196608,
          0.00009763197861725607,
          0.00009780372024299883,
          0.0000958148091369002,
          0.00009496554807462385,
          0.00009454898129673781,
          0.00009436474378677289,
          0.00009409561524504354,
          0.0000938004159113341,
          0.0000943086436166669,
          0.00009633648645123655,
          0.00009314189411160802,
          0.00009192528586458335,
          0.00009074807800604118
         ],
         "yaxis": "y"
        },
        {
         "alignmentgroup": "True",
         "hovertemplate": "variable=Other assets, small domestically chartered commercial banks, not seasonally adjusted<br>Series Description=%{x}<br>value=%{y}<extra></extra>",
         "legendgroup": "Other assets, small domestically chartered commercial banks, not seasonally adjusted",
         "marker": {
          "color": "#636efa",
          "pattern": {
           "shape": ""
          }
         },
         "name": "Other assets, small domestically chartered commercial banks, not seasonally adjusted",
         "offsetgroup": "Other assets, small domestically chartered commercial banks, not seasonally adjusted",
         "orientation": "v",
         "showlegend": true,
         "textposition": "auto",
         "type": "bar",
         "x": [
          "2022-05-04T00:00:00",
          "2022-05-11T00:00:00",
          "2022-05-18T00:00:00",
          "2022-05-25T00:00:00",
          "2022-06-01T00:00:00",
          "2022-06-08T00:00:00",
          "2022-06-15T00:00:00",
          "2022-06-22T00:00:00",
          "2022-06-29T00:00:00",
          "2022-07-06T00:00:00",
          "2022-07-13T00:00:00",
          "2022-07-20T00:00:00",
          "2022-07-27T00:00:00",
          "2022-08-03T00:00:00",
          "2022-08-10T00:00:00",
          "2022-08-17T00:00:00",
          "2022-08-24T00:00:00",
          "2022-08-31T00:00:00",
          "2022-09-07T00:00:00",
          "2022-09-14T00:00:00",
          "2022-09-21T00:00:00",
          "2022-09-28T00:00:00",
          "2022-10-05T00:00:00",
          "2022-10-12T00:00:00",
          "2022-10-19T00:00:00",
          "2022-10-26T00:00:00",
          "2022-11-02T00:00:00",
          "2022-11-09T00:00:00",
          "2022-11-16T00:00:00",
          "2022-11-23T00:00:00",
          "2022-11-30T00:00:00",
          "2022-12-07T00:00:00",
          "2022-12-14T00:00:00",
          "2022-12-21T00:00:00",
          "2022-12-28T00:00:00",
          "2023-01-04T00:00:00",
          "2023-01-11T00:00:00",
          "2023-01-18T00:00:00",
          "2023-01-25T00:00:00",
          "2023-02-01T00:00:00",
          "2023-02-08T00:00:00",
          "2023-02-15T00:00:00",
          "2023-02-22T00:00:00",
          "2023-03-01T00:00:00",
          "2023-03-08T00:00:00",
          "2023-03-15T00:00:00",
          "2023-03-22T00:00:00",
          "2023-03-29T00:00:00",
          "2023-04-05T00:00:00",
          "2023-04-12T00:00:00",
          "2023-04-19T00:00:00",
          "2023-04-26T00:00:00"
         ],
         "xaxis": "x",
         "y": [
          0.06261513158168261,
          0.06326041985276576,
          0.06326704654806507,
          0.06248163862248114,
          0.06282636244798666,
          0.06285467090043316,
          0.06279756738951744,
          0.06313046869056342,
          0.06329994592940298,
          0.06349473520686924,
          0.06422397234407551,
          0.06385357148836936,
          0.06107267053259061,
          0.06141885883215093,
          0.06061635235894524,
          0.06093795960288381,
          0.06123911042568192,
          0.06183216910313749,
          0.061822715562080535,
          0.06193458324822334,
          0.06273544586626759,
          0.06302149662945586,
          0.06392920883835718,
          0.06390657737911806,
          0.06441467543565615,
          0.06448764411094073,
          0.06516213071790758,
          0.064550203590202,
          0.0643598001792801,
          0.06455753189950887,
          0.06454189034359721,
          0.06393109731218306,
          0.06377758345418903,
          0.0658615721362914,
          0.06517104277370407,
          0.0649050389186877,
          0.06526768550417288,
          0.06539201561740511,
          0.06522754159689446,
          0.06546916333299604,
          0.06500177055434359,
          0.06537419597353454,
          0.06531626824315896,
          0.06570151805830826,
          0.06642109010181282,
          0.06577916564813678,
          0.06697857117175422,
          0.06841048333105829,
          0.07246712109822409,
          0.07306269680489191,
          0.07318978213261011,
          0.06748607394502769
         ],
         "yaxis": "y"
        }
       ],
       "layout": {
        "barmode": "relative",
        "legend": {
         "title": {
          "text": "Legend"
         },
         "tracegroupgap": 0
        },
        "margin": {
         "t": 60
        },
        "template": {
         "data": {
          "bar": [
           {
            "error_x": {
             "color": "#2a3f5f"
            },
            "error_y": {
             "color": "#2a3f5f"
            },
            "marker": {
             "line": {
              "color": "white",
              "width": 0.5
             },
             "pattern": {
              "fillmode": "overlay",
              "size": 10,
              "solidity": 0.2
             }
            },
            "type": "bar"
           }
          ],
          "barpolar": [
           {
            "marker": {
             "line": {
              "color": "white",
              "width": 0.5
             },
             "pattern": {
              "fillmode": "overlay",
              "size": 10,
              "solidity": 0.2
             }
            },
            "type": "barpolar"
           }
          ],
          "carpet": [
           {
            "aaxis": {
             "endlinecolor": "#2a3f5f",
             "gridcolor": "#C8D4E3",
             "linecolor": "#C8D4E3",
             "minorgridcolor": "#C8D4E3",
             "startlinecolor": "#2a3f5f"
            },
            "baxis": {
             "endlinecolor": "#2a3f5f",
             "gridcolor": "#C8D4E3",
             "linecolor": "#C8D4E3",
             "minorgridcolor": "#C8D4E3",
             "startlinecolor": "#2a3f5f"
            },
            "type": "carpet"
           }
          ],
          "choropleth": [
           {
            "colorbar": {
             "outlinewidth": 0,
             "ticks": ""
            },
            "type": "choropleth"
           }
          ],
          "contour": [
           {
            "colorbar": {
             "outlinewidth": 0,
             "ticks": ""
            },
            "colorscale": [
             [
              0,
              "#0d0887"
             ],
             [
              0.1111111111111111,
              "#46039f"
             ],
             [
              0.2222222222222222,
              "#7201a8"
             ],
             [
              0.3333333333333333,
              "#9c179e"
             ],
             [
              0.4444444444444444,
              "#bd3786"
             ],
             [
              0.5555555555555556,
              "#d8576b"
             ],
             [
              0.6666666666666666,
              "#ed7953"
             ],
             [
              0.7777777777777778,
              "#fb9f3a"
             ],
             [
              0.8888888888888888,
              "#fdca26"
             ],
             [
              1,
              "#f0f921"
             ]
            ],
            "type": "contour"
           }
          ],
          "contourcarpet": [
           {
            "colorbar": {
             "outlinewidth": 0,
             "ticks": ""
            },
            "type": "contourcarpet"
           }
          ],
          "heatmap": [
           {
            "colorbar": {
             "outlinewidth": 0,
             "ticks": ""
            },
            "colorscale": [
             [
              0,
              "#0d0887"
             ],
             [
              0.1111111111111111,
              "#46039f"
             ],
             [
              0.2222222222222222,
              "#7201a8"
             ],
             [
              0.3333333333333333,
              "#9c179e"
             ],
             [
              0.4444444444444444,
              "#bd3786"
             ],
             [
              0.5555555555555556,
              "#d8576b"
             ],
             [
              0.6666666666666666,
              "#ed7953"
             ],
             [
              0.7777777777777778,
              "#fb9f3a"
             ],
             [
              0.8888888888888888,
              "#fdca26"
             ],
             [
              1,
              "#f0f921"
             ]
            ],
            "type": "heatmap"
           }
          ],
          "heatmapgl": [
           {
            "colorbar": {
             "outlinewidth": 0,
             "ticks": ""
            },
            "colorscale": [
             [
              0,
              "#0d0887"
             ],
             [
              0.1111111111111111,
              "#46039f"
             ],
             [
              0.2222222222222222,
              "#7201a8"
             ],
             [
              0.3333333333333333,
              "#9c179e"
             ],
             [
              0.4444444444444444,
              "#bd3786"
             ],
             [
              0.5555555555555556,
              "#d8576b"
             ],
             [
              0.6666666666666666,
              "#ed7953"
             ],
             [
              0.7777777777777778,
              "#fb9f3a"
             ],
             [
              0.8888888888888888,
              "#fdca26"
             ],
             [
              1,
              "#f0f921"
             ]
            ],
            "type": "heatmapgl"
           }
          ],
          "histogram": [
           {
            "marker": {
             "pattern": {
              "fillmode": "overlay",
              "size": 10,
              "solidity": 0.2
             }
            },
            "type": "histogram"
           }
          ],
          "histogram2d": [
           {
            "colorbar": {
             "outlinewidth": 0,
             "ticks": ""
            },
            "colorscale": [
             [
              0,
              "#0d0887"
             ],
             [
              0.1111111111111111,
              "#46039f"
             ],
             [
              0.2222222222222222,
              "#7201a8"
             ],
             [
              0.3333333333333333,
              "#9c179e"
             ],
             [
              0.4444444444444444,
              "#bd3786"
             ],
             [
              0.5555555555555556,
              "#d8576b"
             ],
             [
              0.6666666666666666,
              "#ed7953"
             ],
             [
              0.7777777777777778,
              "#fb9f3a"
             ],
             [
              0.8888888888888888,
              "#fdca26"
             ],
             [
              1,
              "#f0f921"
             ]
            ],
            "type": "histogram2d"
           }
          ],
          "histogram2dcontour": [
           {
            "colorbar": {
             "outlinewidth": 0,
             "ticks": ""
            },
            "colorscale": [
             [
              0,
              "#0d0887"
             ],
             [
              0.1111111111111111,
              "#46039f"
             ],
             [
              0.2222222222222222,
              "#7201a8"
             ],
             [
              0.3333333333333333,
              "#9c179e"
             ],
             [
              0.4444444444444444,
              "#bd3786"
             ],
             [
              0.5555555555555556,
              "#d8576b"
             ],
             [
              0.6666666666666666,
              "#ed7953"
             ],
             [
              0.7777777777777778,
              "#fb9f3a"
             ],
             [
              0.8888888888888888,
              "#fdca26"
             ],
             [
              1,
              "#f0f921"
             ]
            ],
            "type": "histogram2dcontour"
           }
          ],
          "mesh3d": [
           {
            "colorbar": {
             "outlinewidth": 0,
             "ticks": ""
            },
            "type": "mesh3d"
           }
          ],
          "parcoords": [
           {
            "line": {
             "colorbar": {
              "outlinewidth": 0,
              "ticks": ""
             }
            },
            "type": "parcoords"
           }
          ],
          "pie": [
           {
            "automargin": true,
            "type": "pie"
           }
          ],
          "scatter": [
           {
            "fillpattern": {
             "fillmode": "overlay",
             "size": 10,
             "solidity": 0.2
            },
            "type": "scatter"
           }
          ],
          "scatter3d": [
           {
            "line": {
             "colorbar": {
              "outlinewidth": 0,
              "ticks": ""
             }
            },
            "marker": {
             "colorbar": {
              "outlinewidth": 0,
              "ticks": ""
             }
            },
            "type": "scatter3d"
           }
          ],
          "scattercarpet": [
           {
            "marker": {
             "colorbar": {
              "outlinewidth": 0,
              "ticks": ""
             }
            },
            "type": "scattercarpet"
           }
          ],
          "scattergeo": [
           {
            "marker": {
             "colorbar": {
              "outlinewidth": 0,
              "ticks": ""
             }
            },
            "type": "scattergeo"
           }
          ],
          "scattergl": [
           {
            "marker": {
             "colorbar": {
              "outlinewidth": 0,
              "ticks": ""
             }
            },
            "type": "scattergl"
           }
          ],
          "scattermapbox": [
           {
            "marker": {
             "colorbar": {
              "outlinewidth": 0,
              "ticks": ""
             }
            },
            "type": "scattermapbox"
           }
          ],
          "scatterpolar": [
           {
            "marker": {
             "colorbar": {
              "outlinewidth": 0,
              "ticks": ""
             }
            },
            "type": "scatterpolar"
           }
          ],
          "scatterpolargl": [
           {
            "marker": {
             "colorbar": {
              "outlinewidth": 0,
              "ticks": ""
             }
            },
            "type": "scatterpolargl"
           }
          ],
          "scatterternary": [
           {
            "marker": {
             "colorbar": {
              "outlinewidth": 0,
              "ticks": ""
             }
            },
            "type": "scatterternary"
           }
          ],
          "surface": [
           {
            "colorbar": {
             "outlinewidth": 0,
             "ticks": ""
            },
            "colorscale": [
             [
              0,
              "#0d0887"
             ],
             [
              0.1111111111111111,
              "#46039f"
             ],
             [
              0.2222222222222222,
              "#7201a8"
             ],
             [
              0.3333333333333333,
              "#9c179e"
             ],
             [
              0.4444444444444444,
              "#bd3786"
             ],
             [
              0.5555555555555556,
              "#d8576b"
             ],
             [
              0.6666666666666666,
              "#ed7953"
             ],
             [
              0.7777777777777778,
              "#fb9f3a"
             ],
             [
              0.8888888888888888,
              "#fdca26"
             ],
             [
              1,
              "#f0f921"
             ]
            ],
            "type": "surface"
           }
          ],
          "table": [
           {
            "cells": {
             "fill": {
              "color": "#EBF0F8"
             },
             "line": {
              "color": "white"
             }
            },
            "header": {
             "fill": {
              "color": "#C8D4E3"
             },
             "line": {
              "color": "white"
             }
            },
            "type": "table"
           }
          ]
         },
         "layout": {
          "annotationdefaults": {
           "arrowcolor": "#2a3f5f",
           "arrowhead": 0,
           "arrowwidth": 1
          },
          "autotypenumbers": "strict",
          "coloraxis": {
           "colorbar": {
            "outlinewidth": 0,
            "ticks": ""
           }
          },
          "colorscale": {
           "diverging": [
            [
             0,
             "#8e0152"
            ],
            [
             0.1,
             "#c51b7d"
            ],
            [
             0.2,
             "#de77ae"
            ],
            [
             0.3,
             "#f1b6da"
            ],
            [
             0.4,
             "#fde0ef"
            ],
            [
             0.5,
             "#f7f7f7"
            ],
            [
             0.6,
             "#e6f5d0"
            ],
            [
             0.7,
             "#b8e186"
            ],
            [
             0.8,
             "#7fbc41"
            ],
            [
             0.9,
             "#4d9221"
            ],
            [
             1,
             "#276419"
            ]
           ],
           "sequential": [
            [
             0,
             "#0d0887"
            ],
            [
             0.1111111111111111,
             "#46039f"
            ],
            [
             0.2222222222222222,
             "#7201a8"
            ],
            [
             0.3333333333333333,
             "#9c179e"
            ],
            [
             0.4444444444444444,
             "#bd3786"
            ],
            [
             0.5555555555555556,
             "#d8576b"
            ],
            [
             0.6666666666666666,
             "#ed7953"
            ],
            [
             0.7777777777777778,
             "#fb9f3a"
            ],
            [
             0.8888888888888888,
             "#fdca26"
            ],
            [
             1,
             "#f0f921"
            ]
           ],
           "sequentialminus": [
            [
             0,
             "#0d0887"
            ],
            [
             0.1111111111111111,
             "#46039f"
            ],
            [
             0.2222222222222222,
             "#7201a8"
            ],
            [
             0.3333333333333333,
             "#9c179e"
            ],
            [
             0.4444444444444444,
             "#bd3786"
            ],
            [
             0.5555555555555556,
             "#d8576b"
            ],
            [
             0.6666666666666666,
             "#ed7953"
            ],
            [
             0.7777777777777778,
             "#fb9f3a"
            ],
            [
             0.8888888888888888,
             "#fdca26"
            ],
            [
             1,
             "#f0f921"
            ]
           ]
          },
          "colorway": [
           "#636efa",
           "#EF553B",
           "#00cc96",
           "#ab63fa",
           "#FFA15A",
           "#19d3f3",
           "#FF6692",
           "#B6E880",
           "#FF97FF",
           "#FECB52"
          ],
          "font": {
           "color": "#2a3f5f"
          },
          "geo": {
           "bgcolor": "white",
           "lakecolor": "white",
           "landcolor": "white",
           "showlakes": true,
           "showland": true,
           "subunitcolor": "#C8D4E3"
          },
          "hoverlabel": {
           "align": "left"
          },
          "hovermode": "closest",
          "mapbox": {
           "style": "light"
          },
          "paper_bgcolor": "white",
          "plot_bgcolor": "white",
          "polar": {
           "angularaxis": {
            "gridcolor": "#EBF0F8",
            "linecolor": "#EBF0F8",
            "ticks": ""
           },
           "bgcolor": "white",
           "radialaxis": {
            "gridcolor": "#EBF0F8",
            "linecolor": "#EBF0F8",
            "ticks": ""
           }
          },
          "scene": {
           "xaxis": {
            "backgroundcolor": "white",
            "gridcolor": "#DFE8F3",
            "gridwidth": 2,
            "linecolor": "#EBF0F8",
            "showbackground": true,
            "ticks": "",
            "zerolinecolor": "#EBF0F8"
           },
           "yaxis": {
            "backgroundcolor": "white",
            "gridcolor": "#DFE8F3",
            "gridwidth": 2,
            "linecolor": "#EBF0F8",
            "showbackground": true,
            "ticks": "",
            "zerolinecolor": "#EBF0F8"
           },
           "zaxis": {
            "backgroundcolor": "white",
            "gridcolor": "#DFE8F3",
            "gridwidth": 2,
            "linecolor": "#EBF0F8",
            "showbackground": true,
            "ticks": "",
            "zerolinecolor": "#EBF0F8"
           }
          },
          "shapedefaults": {
           "line": {
            "color": "#2a3f5f"
           }
          },
          "ternary": {
           "aaxis": {
            "gridcolor": "#DFE8F3",
            "linecolor": "#A2B1C6",
            "ticks": ""
           },
           "baxis": {
            "gridcolor": "#DFE8F3",
            "linecolor": "#A2B1C6",
            "ticks": ""
           },
           "bgcolor": "white",
           "caxis": {
            "gridcolor": "#DFE8F3",
            "linecolor": "#A2B1C6",
            "ticks": ""
           }
          },
          "title": {
           "x": 0.05
          },
          "xaxis": {
           "automargin": true,
           "gridcolor": "#EBF0F8",
           "linecolor": "#EBF0F8",
           "ticks": "",
           "title": {
            "standoff": 15
           },
           "zerolinecolor": "#EBF0F8",
           "zerolinewidth": 2
          },
          "yaxis": {
           "automargin": true,
           "gridcolor": "#EBF0F8",
           "linecolor": "#EBF0F8",
           "ticks": "",
           "title": {
            "standoff": 15
           },
           "zerolinecolor": "#EBF0F8",
           "zerolinewidth": 2
          }
         }
        },
        "title": {
         "text": "Small domestically chartered commercial banks: assets as % of total assets"
        },
        "xaxis": {
         "anchor": "y",
         "domain": [
          0,
          1
         ],
         "title": {
          "text": "Date"
         }
        },
        "yaxis": {
         "anchor": "x",
         "domain": [
          0,
          1
         ],
         "title": {
          "text": "% of total assets"
         }
        }
       }
      }
     },
     "metadata": {},
     "output_type": "display_data"
    },
    {
     "data": {
      "application/vnd.plotly.v1+json": {
       "config": {
        "plotlyServerURL": "https://plot.ly"
       },
       "data": [
        {
         "alignmentgroup": "True",
         "hovertemplate": "variable=Treasury and agency securities, small domestically chartered commercial banks, not seasonally adjusted<br>Series Description=%{x}<br>value=%{y}<extra></extra>",
         "legendgroup": "Treasury and agency securities, small domestically chartered commercial banks, not seasonally adjusted",
         "marker": {
          "color": "#636efa",
          "pattern": {
           "shape": ""
          }
         },
         "name": "Treasury and agency securities, small domestically chartered commercial banks, not seasonally adjusted",
         "offsetgroup": "Treasury and agency securities, small domestically chartered commercial banks, not seasonally adjusted",
         "orientation": "v",
         "showlegend": true,
         "textposition": "auto",
         "type": "bar",
         "x": [
          "2022-05-04T00:00:00",
          "2022-05-11T00:00:00",
          "2022-05-18T00:00:00",
          "2022-05-25T00:00:00",
          "2022-06-01T00:00:00",
          "2022-06-08T00:00:00",
          "2022-06-15T00:00:00",
          "2022-06-22T00:00:00",
          "2022-06-29T00:00:00",
          "2022-07-06T00:00:00",
          "2022-07-13T00:00:00",
          "2022-07-20T00:00:00",
          "2022-07-27T00:00:00",
          "2022-08-03T00:00:00",
          "2022-08-10T00:00:00",
          "2022-08-17T00:00:00",
          "2022-08-24T00:00:00",
          "2022-08-31T00:00:00",
          "2022-09-07T00:00:00",
          "2022-09-14T00:00:00",
          "2022-09-21T00:00:00",
          "2022-09-28T00:00:00",
          "2022-10-05T00:00:00",
          "2022-10-12T00:00:00",
          "2022-10-19T00:00:00",
          "2022-10-26T00:00:00",
          "2022-11-02T00:00:00",
          "2022-11-09T00:00:00",
          "2022-11-16T00:00:00",
          "2022-11-23T00:00:00",
          "2022-11-30T00:00:00",
          "2022-12-07T00:00:00",
          "2022-12-14T00:00:00",
          "2022-12-21T00:00:00",
          "2022-12-28T00:00:00",
          "2023-01-04T00:00:00",
          "2023-01-11T00:00:00",
          "2023-01-18T00:00:00",
          "2023-01-25T00:00:00",
          "2023-02-01T00:00:00",
          "2023-02-08T00:00:00",
          "2023-02-15T00:00:00",
          "2023-02-22T00:00:00",
          "2023-03-01T00:00:00",
          "2023-03-08T00:00:00",
          "2023-03-15T00:00:00",
          "2023-03-22T00:00:00",
          "2023-03-29T00:00:00",
          "2023-04-05T00:00:00",
          "2023-04-12T00:00:00",
          "2023-04-19T00:00:00",
          "2023-04-26T00:00:00"
         ],
         "xaxis": "x",
         "y": [
          null,
          2220.1999999999534,
          -319.30000000004657,
          -1856.6000000000931,
          3405.9000000001397,
          3563,
          2476.0999999998603,
          532.8000000000466,
          -2643.6999999999534,
          -2692.3000000000466,
          220,
          383.5,
          1988.6000000000931,
          11571.59999999986,
          1599,
          879,
          1438.4000000001397,
          -7994.40000000014,
          -5778.899999999907,
          1418.5,
          -583.6000000000931,
          -4291.199999999953,
          -12517.300000000047,
          -4348.5,
          -960.5999999998603,
          -206.10000000009313,
          -6127.399999999907,
          2248.1999999999534,
          3890.6999999999534,
          -2056.3000000000466,
          3707.100000000093,
          7498.800000000047,
          -4375.5,
          -1770.9000000001397,
          -1112.0999999998603,
          -14898.5,
          -630.6000000000931,
          -5261.199999999953,
          -3572,
          7592.399999999907,
          1715.7000000001863,
          -1691,
          3099.1999999999534,
          -16994.100000000093,
          -5540.59999999986,
          -23895.100000000093,
          -23489,
          -98086,
          8508,
          -588,
          -1765,
          4373
         ],
         "yaxis": "y"
        },
        {
         "alignmentgroup": "True",
         "hovertemplate": "variable=Other securities, small domestically chartered commercial banks, not seasonally adjusted<br>Series Description=%{x}<br>value=%{y}<extra></extra>",
         "legendgroup": "Other securities, small domestically chartered commercial banks, not seasonally adjusted",
         "marker": {
          "color": "#EF553B",
          "pattern": {
           "shape": ""
          }
         },
         "name": "Other securities, small domestically chartered commercial banks, not seasonally adjusted",
         "offsetgroup": "Other securities, small domestically chartered commercial banks, not seasonally adjusted",
         "orientation": "v",
         "showlegend": true,
         "textposition": "auto",
         "type": "bar",
         "x": [
          "2022-05-04T00:00:00",
          "2022-05-11T00:00:00",
          "2022-05-18T00:00:00",
          "2022-05-25T00:00:00",
          "2022-06-01T00:00:00",
          "2022-06-08T00:00:00",
          "2022-06-15T00:00:00",
          "2022-06-22T00:00:00",
          "2022-06-29T00:00:00",
          "2022-07-06T00:00:00",
          "2022-07-13T00:00:00",
          "2022-07-20T00:00:00",
          "2022-07-27T00:00:00",
          "2022-08-03T00:00:00",
          "2022-08-10T00:00:00",
          "2022-08-17T00:00:00",
          "2022-08-24T00:00:00",
          "2022-08-31T00:00:00",
          "2022-09-07T00:00:00",
          "2022-09-14T00:00:00",
          "2022-09-21T00:00:00",
          "2022-09-28T00:00:00",
          "2022-10-05T00:00:00",
          "2022-10-12T00:00:00",
          "2022-10-19T00:00:00",
          "2022-10-26T00:00:00",
          "2022-11-02T00:00:00",
          "2022-11-09T00:00:00",
          "2022-11-16T00:00:00",
          "2022-11-23T00:00:00",
          "2022-11-30T00:00:00",
          "2022-12-07T00:00:00",
          "2022-12-14T00:00:00",
          "2022-12-21T00:00:00",
          "2022-12-28T00:00:00",
          "2023-01-04T00:00:00",
          "2023-01-11T00:00:00",
          "2023-01-18T00:00:00",
          "2023-01-25T00:00:00",
          "2023-02-01T00:00:00",
          "2023-02-08T00:00:00",
          "2023-02-15T00:00:00",
          "2023-02-22T00:00:00",
          "2023-03-01T00:00:00",
          "2023-03-08T00:00:00",
          "2023-03-15T00:00:00",
          "2023-03-22T00:00:00",
          "2023-03-29T00:00:00",
          "2023-04-05T00:00:00",
          "2023-04-12T00:00:00",
          "2023-04-19T00:00:00",
          "2023-04-26T00:00:00"
         ],
         "xaxis": "x",
         "y": [
          null,
          967,
          485.79999999998836,
          620.6000000000349,
          1039.6999999999534,
          1235.3000000000466,
          -517.6000000000349,
          163.70000000001164,
          303,
          -3212.9000000000233,
          227.70000000001164,
          120.20000000001164,
          1006.7000000000116,
          2514.899999999965,
          3192.3000000000466,
          -1225.3000000000466,
          602.8000000000466,
          -2879.2000000000116,
          -882.2999999999884,
          810.8999999999651,
          -1641.5999999999767,
          -1637,
          -7492.600000000035,
          53.20000000001164,
          -1381.0999999999767,
          -1576.9000000000233,
          -3393.2999999999884,
          -309.0999999999767,
          599.1999999999534,
          433,
          4761.700000000012,
          -524.5,
          -3266.5999999999767,
          -842.4000000000233,
          -175.29999999998836,
          15282.5,
          -31.900000000023283,
          -1449.899999999965,
          -1337.100000000035,
          4123.600000000035,
          349.8999999999651,
          -773.0999999999767,
          -2140.7000000000116,
          -6017,
          -1391.5999999999767,
          -1782.7000000000116,
          -1943,
          -10897,
          884,
          -1495,
          226,
          627
         ],
         "yaxis": "y"
        },
        {
         "alignmentgroup": "True",
         "hovertemplate": "variable=Commercial and industrial loans, small domestically chartered commercial banks, not seasonally adjusted<br>Series Description=%{x}<br>value=%{y}<extra></extra>",
         "legendgroup": "Commercial and industrial loans, small domestically chartered commercial banks, not seasonally adjusted",
         "marker": {
          "color": "#00cc96",
          "pattern": {
           "shape": ""
          }
         },
         "name": "Commercial and industrial loans, small domestically chartered commercial banks, not seasonally adjusted",
         "offsetgroup": "Commercial and industrial loans, small domestically chartered commercial banks, not seasonally adjusted",
         "orientation": "v",
         "showlegend": true,
         "textposition": "auto",
         "type": "bar",
         "x": [
          "2022-05-04T00:00:00",
          "2022-05-11T00:00:00",
          "2022-05-18T00:00:00",
          "2022-05-25T00:00:00",
          "2022-06-01T00:00:00",
          "2022-06-08T00:00:00",
          "2022-06-15T00:00:00",
          "2022-06-22T00:00:00",
          "2022-06-29T00:00:00",
          "2022-07-06T00:00:00",
          "2022-07-13T00:00:00",
          "2022-07-20T00:00:00",
          "2022-07-27T00:00:00",
          "2022-08-03T00:00:00",
          "2022-08-10T00:00:00",
          "2022-08-17T00:00:00",
          "2022-08-24T00:00:00",
          "2022-08-31T00:00:00",
          "2022-09-07T00:00:00",
          "2022-09-14T00:00:00",
          "2022-09-21T00:00:00",
          "2022-09-28T00:00:00",
          "2022-10-05T00:00:00",
          "2022-10-12T00:00:00",
          "2022-10-19T00:00:00",
          "2022-10-26T00:00:00",
          "2022-11-02T00:00:00",
          "2022-11-09T00:00:00",
          "2022-11-16T00:00:00",
          "2022-11-23T00:00:00",
          "2022-11-30T00:00:00",
          "2022-12-07T00:00:00",
          "2022-12-14T00:00:00",
          "2022-12-21T00:00:00",
          "2022-12-28T00:00:00",
          "2023-01-04T00:00:00",
          "2023-01-11T00:00:00",
          "2023-01-18T00:00:00",
          "2023-01-25T00:00:00",
          "2023-02-01T00:00:00",
          "2023-02-08T00:00:00",
          "2023-02-15T00:00:00",
          "2023-02-22T00:00:00",
          "2023-03-01T00:00:00",
          "2023-03-08T00:00:00",
          "2023-03-15T00:00:00",
          "2023-03-22T00:00:00",
          "2023-03-29T00:00:00",
          "2023-04-05T00:00:00",
          "2023-04-12T00:00:00",
          "2023-04-19T00:00:00",
          "2023-04-26T00:00:00"
         ],
         "xaxis": "x",
         "y": [
          null,
          -510.0999999999767,
          1732.6999999999534,
          1387.3000000000466,
          3546.6999999999534,
          477.9000000000233,
          2889.0999999999767,
          3250.5,
          4299.099999999977,
          -233.79999999993015,
          -1420.4000000000233,
          382.30000000004657,
          4009.5,
          1761.0999999999767,
          -1018.2000000000698,
          587.6000000000931,
          537.5,
          3976.399999999907,
          346.4000000000233,
          2892.8000000000466,
          2614.5999999999767,
          1698.6999999999534,
          1016.4000000000233,
          -518.6999999999534,
          -169.59999999997672,
          2491.5999999999767,
          -350.9000000000233,
          497.5999999999767,
          -9015.5,
          1997.9000000000233,
          -2464.8000000000466,
          5025.20000000007,
          2725.1999999999534,
          1665.4000000000233,
          1950.5,
          -3159.6999999999534,
          -1045.3000000000466,
          2268.9000000000233,
          -647,
          990.1999999999534,
          -832.6999999999534,
          150,
          524.5,
          601,
          -1390.0999999999767,
          9670.699999999953,
          -21015,
          -7176,
          -120,
          -1373,
          2669,
          4584
         ],
         "yaxis": "y"
        },
        {
         "alignmentgroup": "True",
         "hovertemplate": "variable=Real estate loans, small domestically chartered commercial banks, not seasonally adjusted<br>Series Description=%{x}<br>value=%{y}<extra></extra>",
         "legendgroup": "Real estate loans, small domestically chartered commercial banks, not seasonally adjusted",
         "marker": {
          "color": "#ab63fa",
          "pattern": {
           "shape": ""
          }
         },
         "name": "Real estate loans, small domestically chartered commercial banks, not seasonally adjusted",
         "offsetgroup": "Real estate loans, small domestically chartered commercial banks, not seasonally adjusted",
         "orientation": "v",
         "showlegend": true,
         "textposition": "auto",
         "type": "bar",
         "x": [
          "2022-05-04T00:00:00",
          "2022-05-11T00:00:00",
          "2022-05-18T00:00:00",
          "2022-05-25T00:00:00",
          "2022-06-01T00:00:00",
          "2022-06-08T00:00:00",
          "2022-06-15T00:00:00",
          "2022-06-22T00:00:00",
          "2022-06-29T00:00:00",
          "2022-07-06T00:00:00",
          "2022-07-13T00:00:00",
          "2022-07-20T00:00:00",
          "2022-07-27T00:00:00",
          "2022-08-03T00:00:00",
          "2022-08-10T00:00:00",
          "2022-08-17T00:00:00",
          "2022-08-24T00:00:00",
          "2022-08-31T00:00:00",
          "2022-09-07T00:00:00",
          "2022-09-14T00:00:00",
          "2022-09-21T00:00:00",
          "2022-09-28T00:00:00",
          "2022-10-05T00:00:00",
          "2022-10-12T00:00:00",
          "2022-10-19T00:00:00",
          "2022-10-26T00:00:00",
          "2022-11-02T00:00:00",
          "2022-11-09T00:00:00",
          "2022-11-16T00:00:00",
          "2022-11-23T00:00:00",
          "2022-11-30T00:00:00",
          "2022-12-07T00:00:00",
          "2022-12-14T00:00:00",
          "2022-12-21T00:00:00",
          "2022-12-28T00:00:00",
          "2023-01-04T00:00:00",
          "2023-01-11T00:00:00",
          "2023-01-18T00:00:00",
          "2023-01-25T00:00:00",
          "2023-02-01T00:00:00",
          "2023-02-08T00:00:00",
          "2023-02-15T00:00:00",
          "2023-02-22T00:00:00",
          "2023-03-01T00:00:00",
          "2023-03-08T00:00:00",
          "2023-03-15T00:00:00",
          "2023-03-22T00:00:00",
          "2023-03-29T00:00:00",
          "2023-04-05T00:00:00",
          "2023-04-12T00:00:00",
          "2023-04-19T00:00:00",
          "2023-04-26T00:00:00"
         ],
         "xaxis": "x",
         "y": [
          null,
          8039.299999999814,
          10376.900000000373,
          6248.0999999996275,
          8308.600000000093,
          10349.100000000093,
          13263.600000000093,
          5816.899999999907,
          11106.799999999814,
          6778.300000000279,
          6763.5,
          9460.100000000093,
          7252.0999999996275,
          8958.700000000186,
          10879.899999999907,
          5756,
          7996.800000000279,
          13606,
          3751.1999999997206,
          7980.300000000279,
          6687.799999999814,
          9072.100000000093,
          9256.69999999972,
          5600.9000000003725,
          7068,
          9007.19999999972,
          12540.600000000093,
          7040.100000000093,
          7198.600000000093,
          8547.5,
          7407.0999999996275,
          59849.700000000186,
          6595.600000000093,
          9886.5,
          6747.699999999721,
          220.10000000009313,
          2996.600000000093,
          4051.5,
          4646.5,
          3670.7000000001863,
          3875.0999999996275,
          5701.4000000003725,
          3108.7999999998137,
          7219.399999999907,
          3335.2000000001863,
          6650.899999999907,
          -20972,
          -12721,
          3018,
          2317,
          8173,
          21322
         ],
         "yaxis": "y"
        },
        {
         "alignmentgroup": "True",
         "hovertemplate": "variable=Consumer loans, small domestically chartered commercial banks, not seasonally adjusted<br>Series Description=%{x}<br>value=%{y}<extra></extra>",
         "legendgroup": "Consumer loans, small domestically chartered commercial banks, not seasonally adjusted",
         "marker": {
          "color": "#FFA15A",
          "pattern": {
           "shape": ""
          }
         },
         "name": "Consumer loans, small domestically chartered commercial banks, not seasonally adjusted",
         "offsetgroup": "Consumer loans, small domestically chartered commercial banks, not seasonally adjusted",
         "orientation": "v",
         "showlegend": true,
         "textposition": "auto",
         "type": "bar",
         "x": [
          "2022-05-04T00:00:00",
          "2022-05-11T00:00:00",
          "2022-05-18T00:00:00",
          "2022-05-25T00:00:00",
          "2022-06-01T00:00:00",
          "2022-06-08T00:00:00",
          "2022-06-15T00:00:00",
          "2022-06-22T00:00:00",
          "2022-06-29T00:00:00",
          "2022-07-06T00:00:00",
          "2022-07-13T00:00:00",
          "2022-07-20T00:00:00",
          "2022-07-27T00:00:00",
          "2022-08-03T00:00:00",
          "2022-08-10T00:00:00",
          "2022-08-17T00:00:00",
          "2022-08-24T00:00:00",
          "2022-08-31T00:00:00",
          "2022-09-07T00:00:00",
          "2022-09-14T00:00:00",
          "2022-09-21T00:00:00",
          "2022-09-28T00:00:00",
          "2022-10-05T00:00:00",
          "2022-10-12T00:00:00",
          "2022-10-19T00:00:00",
          "2022-10-26T00:00:00",
          "2022-11-02T00:00:00",
          "2022-11-09T00:00:00",
          "2022-11-16T00:00:00",
          "2022-11-23T00:00:00",
          "2022-11-30T00:00:00",
          "2022-12-07T00:00:00",
          "2022-12-14T00:00:00",
          "2022-12-21T00:00:00",
          "2022-12-28T00:00:00",
          "2023-01-04T00:00:00",
          "2023-01-11T00:00:00",
          "2023-01-18T00:00:00",
          "2023-01-25T00:00:00",
          "2023-02-01T00:00:00",
          "2023-02-08T00:00:00",
          "2023-02-15T00:00:00",
          "2023-02-22T00:00:00",
          "2023-03-01T00:00:00",
          "2023-03-08T00:00:00",
          "2023-03-15T00:00:00",
          "2023-03-22T00:00:00",
          "2023-03-29T00:00:00",
          "2023-04-05T00:00:00",
          "2023-04-12T00:00:00",
          "2023-04-19T00:00:00",
          "2023-04-26T00:00:00"
         ],
         "xaxis": "x",
         "y": [
          null,
          984.7000000000116,
          1150.0999999999767,
          3680.600000000035,
          2132.5999999999767,
          -218.09999999997672,
          1876.7000000000116,
          4109.799999999988,
          3853.0999999999767,
          -660.8999999999651,
          -188.40000000002328,
          1852.2999999999884,
          2969.5,
          -306,
          -12.299999999988358,
          1104,
          2697.2999999999884,
          3923,
          -601.2000000000116,
          625.9000000000233,
          482.79999999998836,
          3350.5,
          -505.70000000001164,
          2408.5,
          784.3000000000466,
          3305.5999999999767,
          1515.2000000000116,
          -2111.7999999999884,
          595.5,
          3193.1999999999534,
          5741.5,
          -532.8999999999651,
          2360.5999999999767,
          1915.2000000000116,
          3134.2000000000116,
          -1985.7999999999884,
          -964.4000000000233,
          -451.5,
          978.2999999999884,
          393.29999999998836,
          -2523.899999999965,
          624.7999999999884,
          462.70000000001164,
          -4319.900000000023,
          -1691.7999999999884,
          421.5,
          3377,
          -1043,
          -2218,
          1441,
          3154,
          6499
         ],
         "yaxis": "y"
        },
        {
         "alignmentgroup": "True",
         "hovertemplate": "variable=Other loans and leases: All other loans and leases, small domestically chartered commercial banks, not seasonally adjusted<br>Series Description=%{x}<br>value=%{y}<extra></extra>",
         "legendgroup": "Other loans and leases: All other loans and leases, small domestically chartered commercial banks, not seasonally adjusted",
         "marker": {
          "color": "#19d3f3",
          "pattern": {
           "shape": ""
          }
         },
         "name": "Other loans and leases: All other loans and leases, small domestically chartered commercial banks, not seasonally adjusted",
         "offsetgroup": "Other loans and leases: All other loans and leases, small domestically chartered commercial banks, not seasonally adjusted",
         "orientation": "v",
         "showlegend": true,
         "textposition": "auto",
         "type": "bar",
         "x": [
          "2022-05-04T00:00:00",
          "2022-05-11T00:00:00",
          "2022-05-18T00:00:00",
          "2022-05-25T00:00:00",
          "2022-06-01T00:00:00",
          "2022-06-08T00:00:00",
          "2022-06-15T00:00:00",
          "2022-06-22T00:00:00",
          "2022-06-29T00:00:00",
          "2022-07-06T00:00:00",
          "2022-07-13T00:00:00",
          "2022-07-20T00:00:00",
          "2022-07-27T00:00:00",
          "2022-08-03T00:00:00",
          "2022-08-10T00:00:00",
          "2022-08-17T00:00:00",
          "2022-08-24T00:00:00",
          "2022-08-31T00:00:00",
          "2022-09-07T00:00:00",
          "2022-09-14T00:00:00",
          "2022-09-21T00:00:00",
          "2022-09-28T00:00:00",
          "2022-10-05T00:00:00",
          "2022-10-12T00:00:00",
          "2022-10-19T00:00:00",
          "2022-10-26T00:00:00",
          "2022-11-02T00:00:00",
          "2022-11-09T00:00:00",
          "2022-11-16T00:00:00",
          "2022-11-23T00:00:00",
          "2022-11-30T00:00:00",
          "2022-12-07T00:00:00",
          "2022-12-14T00:00:00",
          "2022-12-21T00:00:00",
          "2022-12-28T00:00:00",
          "2023-01-04T00:00:00",
          "2023-01-11T00:00:00",
          "2023-01-18T00:00:00",
          "2023-01-25T00:00:00",
          "2023-02-01T00:00:00",
          "2023-02-08T00:00:00",
          "2023-02-15T00:00:00",
          "2023-02-22T00:00:00",
          "2023-03-01T00:00:00",
          "2023-03-08T00:00:00",
          "2023-03-15T00:00:00",
          "2023-03-22T00:00:00",
          "2023-03-29T00:00:00",
          "2023-04-05T00:00:00",
          "2023-04-12T00:00:00",
          "2023-04-19T00:00:00",
          "2023-04-26T00:00:00"
         ],
         "xaxis": "x",
         "y": [
          null,
          -798.1000000000349,
          1223.3000000000466,
          853.5999999999767,
          4747.900000000023,
          -442.30000000004657,
          985.5,
          1415.4000000000233,
          1499.5,
          -35.09999999997672,
          -4766.900000000023,
          -7.2999999999883585,
          483.3999999999651,
          459.5,
          -1844.7999999999884,
          -553.7000000000116,
          -0.7999999999883585,
          6751.600000000035,
          -1312.2000000000116,
          -1092.7999999999884,
          -342.1000000000349,
          2922.100000000035,
          2321,
          -1422.9000000000233,
          -1548.5999999999767,
          -1082.600000000035,
          2466.7000000000116,
          -1287.0999999999767,
          -9553.600000000035,
          548.9000000000233,
          2820.5,
          5642.700000000012,
          1685.7999999999884,
          3679.7000000000116,
          1829.1999999999534,
          -2728.399999999965,
          -6744.600000000035,
          -1749.6999999999534,
          -1729.100000000035,
          313.1000000000349,
          -3226.600000000035,
          318.4000000000233,
          817.8999999999651,
          4346.600000000035,
          -10.299999999988358,
          7025.599999999977,
          2342,
          346,
          -1068,
          -3440,
          -2562,
          3311
         ],
         "yaxis": "y"
        },
        {
         "alignmentgroup": "True",
         "hovertemplate": "variable=LESS: Allowance for loan and lease losses, small domestically chartered commercial banks, not seasonally adjusted<br>Series Description=%{x}<br>value=%{y}<extra></extra>",
         "legendgroup": "LESS: Allowance for loan and lease losses, small domestically chartered commercial banks, not seasonally adjusted",
         "marker": {
          "color": "#FF6692",
          "pattern": {
           "shape": ""
          }
         },
         "name": "LESS: Allowance for loan and lease losses, small domestically chartered commercial banks, not seasonally adjusted",
         "offsetgroup": "LESS: Allowance for loan and lease losses, small domestically chartered commercial banks, not seasonally adjusted",
         "orientation": "v",
         "showlegend": true,
         "textposition": "auto",
         "type": "bar",
         "x": [
          "2022-05-04T00:00:00",
          "2022-05-11T00:00:00",
          "2022-05-18T00:00:00",
          "2022-05-25T00:00:00",
          "2022-06-01T00:00:00",
          "2022-06-08T00:00:00",
          "2022-06-15T00:00:00",
          "2022-06-22T00:00:00",
          "2022-06-29T00:00:00",
          "2022-07-06T00:00:00",
          "2022-07-13T00:00:00",
          "2022-07-20T00:00:00",
          "2022-07-27T00:00:00",
          "2022-08-03T00:00:00",
          "2022-08-10T00:00:00",
          "2022-08-17T00:00:00",
          "2022-08-24T00:00:00",
          "2022-08-31T00:00:00",
          "2022-09-07T00:00:00",
          "2022-09-14T00:00:00",
          "2022-09-21T00:00:00",
          "2022-09-28T00:00:00",
          "2022-10-05T00:00:00",
          "2022-10-12T00:00:00",
          "2022-10-19T00:00:00",
          "2022-10-26T00:00:00",
          "2022-11-02T00:00:00",
          "2022-11-09T00:00:00",
          "2022-11-16T00:00:00",
          "2022-11-23T00:00:00",
          "2022-11-30T00:00:00",
          "2022-12-07T00:00:00",
          "2022-12-14T00:00:00",
          "2022-12-21T00:00:00",
          "2022-12-28T00:00:00",
          "2023-01-04T00:00:00",
          "2023-01-11T00:00:00",
          "2023-01-18T00:00:00",
          "2023-01-25T00:00:00",
          "2023-02-01T00:00:00",
          "2023-02-08T00:00:00",
          "2023-02-15T00:00:00",
          "2023-02-22T00:00:00",
          "2023-03-01T00:00:00",
          "2023-03-08T00:00:00",
          "2023-03-15T00:00:00",
          "2023-03-22T00:00:00",
          "2023-03-29T00:00:00",
          "2023-04-05T00:00:00",
          "2023-04-12T00:00:00",
          "2023-04-19T00:00:00",
          "2023-04-26T00:00:00"
         ],
         "xaxis": "x",
         "y": [
          null,
          -77.5,
          -25.599999999998545,
          40,
          -109.79999999999563,
          -189.90000000000146,
          -35.80000000000291,
          -57,
          97,
          -99.59999999999854,
          -209.5,
          -23,
          18.80000000000291,
          -67.30000000000291,
          -119.19999999999709,
          -37.5,
          62.19999999999709,
          32.30000000000291,
          -313.3000000000029,
          -23.900000000001455,
          -0.7999999999956344,
          200.09999999999854,
          -1195.300000000003,
          -434.29999999999563,
          -96,
          -28.5,
          -789.8000000000029,
          169.1999999999971,
          229,
          -245.1999999999971,
          550.3000000000029,
          -948.5,
          56.099999999998545,
          108.19999999999709,
          191.09999999999854,
          -777,
          -984,
          -29.19999999999709,
          -354.59999999999854,
          -79.90000000000146,
          -383.6999999999971,
          -114.5,
          -20.700000000004366,
          361.70000000000437,
          -198.40000000000146,
          -0.9000000000014552,
          33,
          88,
          -1187,
          -291,
          0,
          -92
         ],
         "yaxis": "y"
        },
        {
         "alignmentgroup": "True",
         "hovertemplate": "variable=Cash assets, small domestically chartered commercial banks, not seasonally adjusted<br>Series Description=%{x}<br>value=%{y}<extra></extra>",
         "legendgroup": "Cash assets, small domestically chartered commercial banks, not seasonally adjusted",
         "marker": {
          "color": "#B6E880",
          "pattern": {
           "shape": ""
          }
         },
         "name": "Cash assets, small domestically chartered commercial banks, not seasonally adjusted",
         "offsetgroup": "Cash assets, small domestically chartered commercial banks, not seasonally adjusted",
         "orientation": "v",
         "showlegend": true,
         "textposition": "auto",
         "type": "bar",
         "x": [
          "2022-05-04T00:00:00",
          "2022-05-11T00:00:00",
          "2022-05-18T00:00:00",
          "2022-05-25T00:00:00",
          "2022-06-01T00:00:00",
          "2022-06-08T00:00:00",
          "2022-06-15T00:00:00",
          "2022-06-22T00:00:00",
          "2022-06-29T00:00:00",
          "2022-07-06T00:00:00",
          "2022-07-13T00:00:00",
          "2022-07-20T00:00:00",
          "2022-07-27T00:00:00",
          "2022-08-03T00:00:00",
          "2022-08-10T00:00:00",
          "2022-08-17T00:00:00",
          "2022-08-24T00:00:00",
          "2022-08-31T00:00:00",
          "2022-09-07T00:00:00",
          "2022-09-14T00:00:00",
          "2022-09-21T00:00:00",
          "2022-09-28T00:00:00",
          "2022-10-05T00:00:00",
          "2022-10-12T00:00:00",
          "2022-10-19T00:00:00",
          "2022-10-26T00:00:00",
          "2022-11-02T00:00:00",
          "2022-11-09T00:00:00",
          "2022-11-16T00:00:00",
          "2022-11-23T00:00:00",
          "2022-11-30T00:00:00",
          "2022-12-07T00:00:00",
          "2022-12-14T00:00:00",
          "2022-12-21T00:00:00",
          "2022-12-28T00:00:00",
          "2023-01-04T00:00:00",
          "2023-01-11T00:00:00",
          "2023-01-18T00:00:00",
          "2023-01-25T00:00:00",
          "2023-02-01T00:00:00",
          "2023-02-08T00:00:00",
          "2023-02-15T00:00:00",
          "2023-02-22T00:00:00",
          "2023-03-01T00:00:00",
          "2023-03-08T00:00:00",
          "2023-03-15T00:00:00",
          "2023-03-22T00:00:00",
          "2023-03-29T00:00:00",
          "2023-04-05T00:00:00",
          "2023-04-12T00:00:00",
          "2023-04-19T00:00:00",
          "2023-04-26T00:00:00"
         ],
         "xaxis": "x",
         "y": [
          null,
          -17628.300000000047,
          -11138.900000000023,
          2538.5,
          9142.300000000047,
          -17485.5,
          -2722.3000000000466,
          -29681.79999999993,
          911.6999999999534,
          -13700.79999999993,
          -7294.5,
          -14689.70000000007,
          -5806.699999999953,
          438.29999999998836,
          1033,
          -6333,
          -12148.299999999988,
          16943.5,
          -9313.5,
          -14645.700000000012,
          -34460.40000000002,
          2302.7000000000116,
          9264,
          4137.099999999977,
          -13097.199999999953,
          -6633.200000000012,
          583,
          7130,
          23348.79999999999,
          -13803.799999999988,
          -2661.4000000000233,
          -4833.599999999977,
          -2319,
          -14953,
          1864.7000000000116,
          17233.79999999999,
          -28492.400000000023,
          -1942.5,
          -22808.5,
          22303.900000000023,
          -15393.400000000023,
          -738.7000000000116,
          1928.7000000000116,
          11120.200000000012,
          -15152.700000000012,
          113778.20000000001,
          4147,
          -12981,
          -41862,
          -2859,
          -24375,
          26323
         ],
         "yaxis": "y"
        },
        {
         "alignmentgroup": "True",
         "hovertemplate": "variable=Total fed funds sold and securities purchased under agreements to resell, small domestically chartered commercial banks, not seasonally adjusted<br>Series Description=%{x}<br>value=%{y}<extra></extra>",
         "legendgroup": "Total fed funds sold and securities purchased under agreements to resell, small domestically chartered commercial banks, not seasonally adjusted",
         "marker": {
          "color": "#FF97FF",
          "pattern": {
           "shape": ""
          }
         },
         "name": "Total fed funds sold and securities purchased under agreements to resell, small domestically chartered commercial banks, not seasonally adjusted",
         "offsetgroup": "Total fed funds sold and securities purchased under agreements to resell, small domestically chartered commercial banks, not seasonally adjusted",
         "orientation": "v",
         "showlegend": true,
         "textposition": "auto",
         "type": "bar",
         "x": [
          "2022-05-04T00:00:00",
          "2022-05-11T00:00:00",
          "2022-05-18T00:00:00",
          "2022-05-25T00:00:00",
          "2022-06-01T00:00:00",
          "2022-06-08T00:00:00",
          "2022-06-15T00:00:00",
          "2022-06-22T00:00:00",
          "2022-06-29T00:00:00",
          "2022-07-06T00:00:00",
          "2022-07-13T00:00:00",
          "2022-07-20T00:00:00",
          "2022-07-27T00:00:00",
          "2022-08-03T00:00:00",
          "2022-08-10T00:00:00",
          "2022-08-17T00:00:00",
          "2022-08-24T00:00:00",
          "2022-08-31T00:00:00",
          "2022-09-07T00:00:00",
          "2022-09-14T00:00:00",
          "2022-09-21T00:00:00",
          "2022-09-28T00:00:00",
          "2022-10-05T00:00:00",
          "2022-10-12T00:00:00",
          "2022-10-19T00:00:00",
          "2022-10-26T00:00:00",
          "2022-11-02T00:00:00",
          "2022-11-09T00:00:00",
          "2022-11-16T00:00:00",
          "2022-11-23T00:00:00",
          "2022-11-30T00:00:00",
          "2022-12-07T00:00:00",
          "2022-12-14T00:00:00",
          "2022-12-21T00:00:00",
          "2022-12-28T00:00:00",
          "2023-01-04T00:00:00",
          "2023-01-11T00:00:00",
          "2023-01-18T00:00:00",
          "2023-01-25T00:00:00",
          "2023-02-01T00:00:00",
          "2023-02-08T00:00:00",
          "2023-02-15T00:00:00",
          "2023-02-22T00:00:00",
          "2023-03-01T00:00:00",
          "2023-03-08T00:00:00",
          "2023-03-15T00:00:00",
          "2023-03-22T00:00:00",
          "2023-03-29T00:00:00",
          "2023-04-05T00:00:00",
          "2023-04-12T00:00:00",
          "2023-04-19T00:00:00",
          "2023-04-26T00:00:00"
         ],
         "xaxis": "x",
         "y": [
          null,
          -2195,
          588,
          -761,
          -1674,
          -498,
          -249,
          1041,
          -7855,
          6618,
          -2177,
          81,
          -1022,
          -2252,
          -2027,
          -304,
          1124,
          595,
          -1299,
          -649,
          1060,
          -1351,
          -773,
          -1239,
          -89,
          -704,
          -1558,
          -1568,
          941,
          -2517,
          1574,
          7223,
          1286,
          1795,
          1196,
          -338,
          1527,
          -1704,
          -3339,
          -306,
          -1199,
          -114,
          638,
          -383,
          -76,
          130,
          -29,
          -806,
          -78,
          -2142,
          -4486,
          1349
         ],
         "yaxis": "y"
        },
        {
         "alignmentgroup": "True",
         "hovertemplate": "variable=Loans to commercial banks, small domestically chartered commercial banks, not seasonally adjusted<br>Series Description=%{x}<br>value=%{y}<extra></extra>",
         "legendgroup": "Loans to commercial banks, small domestically chartered commercial banks, not seasonally adjusted",
         "marker": {
          "color": "#FECB52",
          "pattern": {
           "shape": ""
          }
         },
         "name": "Loans to commercial banks, small domestically chartered commercial banks, not seasonally adjusted",
         "offsetgroup": "Loans to commercial banks, small domestically chartered commercial banks, not seasonally adjusted",
         "orientation": "v",
         "showlegend": true,
         "textposition": "auto",
         "type": "bar",
         "x": [
          "2022-05-04T00:00:00",
          "2022-05-11T00:00:00",
          "2022-05-18T00:00:00",
          "2022-05-25T00:00:00",
          "2022-06-01T00:00:00",
          "2022-06-08T00:00:00",
          "2022-06-15T00:00:00",
          "2022-06-22T00:00:00",
          "2022-06-29T00:00:00",
          "2022-07-06T00:00:00",
          "2022-07-13T00:00:00",
          "2022-07-20T00:00:00",
          "2022-07-27T00:00:00",
          "2022-08-03T00:00:00",
          "2022-08-10T00:00:00",
          "2022-08-17T00:00:00",
          "2022-08-24T00:00:00",
          "2022-08-31T00:00:00",
          "2022-09-07T00:00:00",
          "2022-09-14T00:00:00",
          "2022-09-21T00:00:00",
          "2022-09-28T00:00:00",
          "2022-10-05T00:00:00",
          "2022-10-12T00:00:00",
          "2022-10-19T00:00:00",
          "2022-10-26T00:00:00",
          "2022-11-02T00:00:00",
          "2022-11-09T00:00:00",
          "2022-11-16T00:00:00",
          "2022-11-23T00:00:00",
          "2022-11-30T00:00:00",
          "2022-12-07T00:00:00",
          "2022-12-14T00:00:00",
          "2022-12-21T00:00:00",
          "2022-12-28T00:00:00",
          "2023-01-04T00:00:00",
          "2023-01-11T00:00:00",
          "2023-01-18T00:00:00",
          "2023-01-25T00:00:00",
          "2023-02-01T00:00:00",
          "2023-02-08T00:00:00",
          "2023-02-15T00:00:00",
          "2023-02-22T00:00:00",
          "2023-03-01T00:00:00",
          "2023-03-08T00:00:00",
          "2023-03-15T00:00:00",
          "2023-03-22T00:00:00",
          "2023-03-29T00:00:00",
          "2023-04-05T00:00:00",
          "2023-04-12T00:00:00",
          "2023-04-19T00:00:00",
          "2023-04-26T00:00:00"
         ],
         "xaxis": "x",
         "y": [
          null,
          44,
          510,
          147,
          44,
          82,
          42,
          105,
          85,
          96,
          -25,
          -61,
          -121,
          -164,
          -16,
          -5,
          -12,
          -493,
          427,
          62,
          -8,
          -8,
          -261,
          -15,
          -29,
          -423,
          -327,
          -26,
          -498,
          -40,
          -31,
          -25,
          -32,
          -35,
          21,
          -24,
          -24,
          21,
          -36,
          -26,
          -1,
          -13,
          -5,
          -3,
          -3,
          9,
          -7,
          -10,
          13,
          -22,
          -10,
          -5
         ],
         "yaxis": "y"
        },
        {
         "alignmentgroup": "True",
         "hovertemplate": "variable=Other assets, small domestically chartered commercial banks, not seasonally adjusted<br>Series Description=%{x}<br>value=%{y}<extra></extra>",
         "legendgroup": "Other assets, small domestically chartered commercial banks, not seasonally adjusted",
         "marker": {
          "color": "#636efa",
          "pattern": {
           "shape": ""
          }
         },
         "name": "Other assets, small domestically chartered commercial banks, not seasonally adjusted",
         "offsetgroup": "Other assets, small domestically chartered commercial banks, not seasonally adjusted",
         "orientation": "v",
         "showlegend": true,
         "textposition": "auto",
         "type": "bar",
         "x": [
          "2022-05-04T00:00:00",
          "2022-05-11T00:00:00",
          "2022-05-18T00:00:00",
          "2022-05-25T00:00:00",
          "2022-06-01T00:00:00",
          "2022-06-08T00:00:00",
          "2022-06-15T00:00:00",
          "2022-06-22T00:00:00",
          "2022-06-29T00:00:00",
          "2022-07-06T00:00:00",
          "2022-07-13T00:00:00",
          "2022-07-20T00:00:00",
          "2022-07-27T00:00:00",
          "2022-08-03T00:00:00",
          "2022-08-10T00:00:00",
          "2022-08-17T00:00:00",
          "2022-08-24T00:00:00",
          "2022-08-31T00:00:00",
          "2022-09-07T00:00:00",
          "2022-09-14T00:00:00",
          "2022-09-21T00:00:00",
          "2022-09-28T00:00:00",
          "2022-10-05T00:00:00",
          "2022-10-12T00:00:00",
          "2022-10-19T00:00:00",
          "2022-10-26T00:00:00",
          "2022-11-02T00:00:00",
          "2022-11-09T00:00:00",
          "2022-11-16T00:00:00",
          "2022-11-23T00:00:00",
          "2022-11-30T00:00:00",
          "2022-12-07T00:00:00",
          "2022-12-14T00:00:00",
          "2022-12-21T00:00:00",
          "2022-12-28T00:00:00",
          "2023-01-04T00:00:00",
          "2023-01-11T00:00:00",
          "2023-01-18T00:00:00",
          "2023-01-25T00:00:00",
          "2023-02-01T00:00:00",
          "2023-02-08T00:00:00",
          "2023-02-15T00:00:00",
          "2023-02-22T00:00:00",
          "2023-03-01T00:00:00",
          "2023-03-08T00:00:00",
          "2023-03-15T00:00:00",
          "2023-03-22T00:00:00",
          "2023-03-29T00:00:00",
          "2023-04-05T00:00:00",
          "2023-04-12T00:00:00",
          "2023-04-19T00:00:00",
          "2023-04-26T00:00:00"
         ],
         "xaxis": "x",
         "y": [
          null,
          3951.7999999999884,
          356.29999999998836,
          -4681.599999999977,
          4486.299999999988,
          -8.599999999976717,
          801.1999999999534,
          1474.8000000000466,
          1993,
          904.0999999999767,
          4588.200000000012,
          -2807.600000000035,
          -19022.399999999965,
          3952.7000000000116,
          -4952.100000000035,
          2280.7999999999884,
          2295,
          6501.200000000012,
          -1054.7000000000116,
          627.9000000000233,
          3984.0999999999767,
          2867.600000000035,
          6443.5,
          125.89999999996508,
          2992.600000000035,
          809.5,
          5163.099999999977,
          -3586.2999999999884,
          -150.29999999998836,
          1155,
          1364,
          934.5999999999767,
          -802,
          15393.600000000035,
          -3984.7000000000116,
          -1345.4000000000233,
          271.70000000001164,
          475,
          -3173,
          4493.5,
          -4655.400000000023,
          2960,
          163.60000000003492,
          2540.5999999999767,
          3708.7999999999884,
          3189.9000000000233,
          4803,
          80,
          26876,
          3669,
          -574,
          -36178
         ],
         "yaxis": "y"
        }
       ],
       "layout": {
        "barmode": "relative",
        "legend": {
         "title": {
          "text": "Legend"
         },
         "tracegroupgap": 0
        },
        "margin": {
         "t": 60
        },
        "template": {
         "data": {
          "bar": [
           {
            "error_x": {
             "color": "#2a3f5f"
            },
            "error_y": {
             "color": "#2a3f5f"
            },
            "marker": {
             "line": {
              "color": "white",
              "width": 0.5
             },
             "pattern": {
              "fillmode": "overlay",
              "size": 10,
              "solidity": 0.2
             }
            },
            "type": "bar"
           }
          ],
          "barpolar": [
           {
            "marker": {
             "line": {
              "color": "white",
              "width": 0.5
             },
             "pattern": {
              "fillmode": "overlay",
              "size": 10,
              "solidity": 0.2
             }
            },
            "type": "barpolar"
           }
          ],
          "carpet": [
           {
            "aaxis": {
             "endlinecolor": "#2a3f5f",
             "gridcolor": "#C8D4E3",
             "linecolor": "#C8D4E3",
             "minorgridcolor": "#C8D4E3",
             "startlinecolor": "#2a3f5f"
            },
            "baxis": {
             "endlinecolor": "#2a3f5f",
             "gridcolor": "#C8D4E3",
             "linecolor": "#C8D4E3",
             "minorgridcolor": "#C8D4E3",
             "startlinecolor": "#2a3f5f"
            },
            "type": "carpet"
           }
          ],
          "choropleth": [
           {
            "colorbar": {
             "outlinewidth": 0,
             "ticks": ""
            },
            "type": "choropleth"
           }
          ],
          "contour": [
           {
            "colorbar": {
             "outlinewidth": 0,
             "ticks": ""
            },
            "colorscale": [
             [
              0,
              "#0d0887"
             ],
             [
              0.1111111111111111,
              "#46039f"
             ],
             [
              0.2222222222222222,
              "#7201a8"
             ],
             [
              0.3333333333333333,
              "#9c179e"
             ],
             [
              0.4444444444444444,
              "#bd3786"
             ],
             [
              0.5555555555555556,
              "#d8576b"
             ],
             [
              0.6666666666666666,
              "#ed7953"
             ],
             [
              0.7777777777777778,
              "#fb9f3a"
             ],
             [
              0.8888888888888888,
              "#fdca26"
             ],
             [
              1,
              "#f0f921"
             ]
            ],
            "type": "contour"
           }
          ],
          "contourcarpet": [
           {
            "colorbar": {
             "outlinewidth": 0,
             "ticks": ""
            },
            "type": "contourcarpet"
           }
          ],
          "heatmap": [
           {
            "colorbar": {
             "outlinewidth": 0,
             "ticks": ""
            },
            "colorscale": [
             [
              0,
              "#0d0887"
             ],
             [
              0.1111111111111111,
              "#46039f"
             ],
             [
              0.2222222222222222,
              "#7201a8"
             ],
             [
              0.3333333333333333,
              "#9c179e"
             ],
             [
              0.4444444444444444,
              "#bd3786"
             ],
             [
              0.5555555555555556,
              "#d8576b"
             ],
             [
              0.6666666666666666,
              "#ed7953"
             ],
             [
              0.7777777777777778,
              "#fb9f3a"
             ],
             [
              0.8888888888888888,
              "#fdca26"
             ],
             [
              1,
              "#f0f921"
             ]
            ],
            "type": "heatmap"
           }
          ],
          "heatmapgl": [
           {
            "colorbar": {
             "outlinewidth": 0,
             "ticks": ""
            },
            "colorscale": [
             [
              0,
              "#0d0887"
             ],
             [
              0.1111111111111111,
              "#46039f"
             ],
             [
              0.2222222222222222,
              "#7201a8"
             ],
             [
              0.3333333333333333,
              "#9c179e"
             ],
             [
              0.4444444444444444,
              "#bd3786"
             ],
             [
              0.5555555555555556,
              "#d8576b"
             ],
             [
              0.6666666666666666,
              "#ed7953"
             ],
             [
              0.7777777777777778,
              "#fb9f3a"
             ],
             [
              0.8888888888888888,
              "#fdca26"
             ],
             [
              1,
              "#f0f921"
             ]
            ],
            "type": "heatmapgl"
           }
          ],
          "histogram": [
           {
            "marker": {
             "pattern": {
              "fillmode": "overlay",
              "size": 10,
              "solidity": 0.2
             }
            },
            "type": "histogram"
           }
          ],
          "histogram2d": [
           {
            "colorbar": {
             "outlinewidth": 0,
             "ticks": ""
            },
            "colorscale": [
             [
              0,
              "#0d0887"
             ],
             [
              0.1111111111111111,
              "#46039f"
             ],
             [
              0.2222222222222222,
              "#7201a8"
             ],
             [
              0.3333333333333333,
              "#9c179e"
             ],
             [
              0.4444444444444444,
              "#bd3786"
             ],
             [
              0.5555555555555556,
              "#d8576b"
             ],
             [
              0.6666666666666666,
              "#ed7953"
             ],
             [
              0.7777777777777778,
              "#fb9f3a"
             ],
             [
              0.8888888888888888,
              "#fdca26"
             ],
             [
              1,
              "#f0f921"
             ]
            ],
            "type": "histogram2d"
           }
          ],
          "histogram2dcontour": [
           {
            "colorbar": {
             "outlinewidth": 0,
             "ticks": ""
            },
            "colorscale": [
             [
              0,
              "#0d0887"
             ],
             [
              0.1111111111111111,
              "#46039f"
             ],
             [
              0.2222222222222222,
              "#7201a8"
             ],
             [
              0.3333333333333333,
              "#9c179e"
             ],
             [
              0.4444444444444444,
              "#bd3786"
             ],
             [
              0.5555555555555556,
              "#d8576b"
             ],
             [
              0.6666666666666666,
              "#ed7953"
             ],
             [
              0.7777777777777778,
              "#fb9f3a"
             ],
             [
              0.8888888888888888,
              "#fdca26"
             ],
             [
              1,
              "#f0f921"
             ]
            ],
            "type": "histogram2dcontour"
           }
          ],
          "mesh3d": [
           {
            "colorbar": {
             "outlinewidth": 0,
             "ticks": ""
            },
            "type": "mesh3d"
           }
          ],
          "parcoords": [
           {
            "line": {
             "colorbar": {
              "outlinewidth": 0,
              "ticks": ""
             }
            },
            "type": "parcoords"
           }
          ],
          "pie": [
           {
            "automargin": true,
            "type": "pie"
           }
          ],
          "scatter": [
           {
            "fillpattern": {
             "fillmode": "overlay",
             "size": 10,
             "solidity": 0.2
            },
            "type": "scatter"
           }
          ],
          "scatter3d": [
           {
            "line": {
             "colorbar": {
              "outlinewidth": 0,
              "ticks": ""
             }
            },
            "marker": {
             "colorbar": {
              "outlinewidth": 0,
              "ticks": ""
             }
            },
            "type": "scatter3d"
           }
          ],
          "scattercarpet": [
           {
            "marker": {
             "colorbar": {
              "outlinewidth": 0,
              "ticks": ""
             }
            },
            "type": "scattercarpet"
           }
          ],
          "scattergeo": [
           {
            "marker": {
             "colorbar": {
              "outlinewidth": 0,
              "ticks": ""
             }
            },
            "type": "scattergeo"
           }
          ],
          "scattergl": [
           {
            "marker": {
             "colorbar": {
              "outlinewidth": 0,
              "ticks": ""
             }
            },
            "type": "scattergl"
           }
          ],
          "scattermapbox": [
           {
            "marker": {
             "colorbar": {
              "outlinewidth": 0,
              "ticks": ""
             }
            },
            "type": "scattermapbox"
           }
          ],
          "scatterpolar": [
           {
            "marker": {
             "colorbar": {
              "outlinewidth": 0,
              "ticks": ""
             }
            },
            "type": "scatterpolar"
           }
          ],
          "scatterpolargl": [
           {
            "marker": {
             "colorbar": {
              "outlinewidth": 0,
              "ticks": ""
             }
            },
            "type": "scatterpolargl"
           }
          ],
          "scatterternary": [
           {
            "marker": {
             "colorbar": {
              "outlinewidth": 0,
              "ticks": ""
             }
            },
            "type": "scatterternary"
           }
          ],
          "surface": [
           {
            "colorbar": {
             "outlinewidth": 0,
             "ticks": ""
            },
            "colorscale": [
             [
              0,
              "#0d0887"
             ],
             [
              0.1111111111111111,
              "#46039f"
             ],
             [
              0.2222222222222222,
              "#7201a8"
             ],
             [
              0.3333333333333333,
              "#9c179e"
             ],
             [
              0.4444444444444444,
              "#bd3786"
             ],
             [
              0.5555555555555556,
              "#d8576b"
             ],
             [
              0.6666666666666666,
              "#ed7953"
             ],
             [
              0.7777777777777778,
              "#fb9f3a"
             ],
             [
              0.8888888888888888,
              "#fdca26"
             ],
             [
              1,
              "#f0f921"
             ]
            ],
            "type": "surface"
           }
          ],
          "table": [
           {
            "cells": {
             "fill": {
              "color": "#EBF0F8"
             },
             "line": {
              "color": "white"
             }
            },
            "header": {
             "fill": {
              "color": "#C8D4E3"
             },
             "line": {
              "color": "white"
             }
            },
            "type": "table"
           }
          ]
         },
         "layout": {
          "annotationdefaults": {
           "arrowcolor": "#2a3f5f",
           "arrowhead": 0,
           "arrowwidth": 1
          },
          "autotypenumbers": "strict",
          "coloraxis": {
           "colorbar": {
            "outlinewidth": 0,
            "ticks": ""
           }
          },
          "colorscale": {
           "diverging": [
            [
             0,
             "#8e0152"
            ],
            [
             0.1,
             "#c51b7d"
            ],
            [
             0.2,
             "#de77ae"
            ],
            [
             0.3,
             "#f1b6da"
            ],
            [
             0.4,
             "#fde0ef"
            ],
            [
             0.5,
             "#f7f7f7"
            ],
            [
             0.6,
             "#e6f5d0"
            ],
            [
             0.7,
             "#b8e186"
            ],
            [
             0.8,
             "#7fbc41"
            ],
            [
             0.9,
             "#4d9221"
            ],
            [
             1,
             "#276419"
            ]
           ],
           "sequential": [
            [
             0,
             "#0d0887"
            ],
            [
             0.1111111111111111,
             "#46039f"
            ],
            [
             0.2222222222222222,
             "#7201a8"
            ],
            [
             0.3333333333333333,
             "#9c179e"
            ],
            [
             0.4444444444444444,
             "#bd3786"
            ],
            [
             0.5555555555555556,
             "#d8576b"
            ],
            [
             0.6666666666666666,
             "#ed7953"
            ],
            [
             0.7777777777777778,
             "#fb9f3a"
            ],
            [
             0.8888888888888888,
             "#fdca26"
            ],
            [
             1,
             "#f0f921"
            ]
           ],
           "sequentialminus": [
            [
             0,
             "#0d0887"
            ],
            [
             0.1111111111111111,
             "#46039f"
            ],
            [
             0.2222222222222222,
             "#7201a8"
            ],
            [
             0.3333333333333333,
             "#9c179e"
            ],
            [
             0.4444444444444444,
             "#bd3786"
            ],
            [
             0.5555555555555556,
             "#d8576b"
            ],
            [
             0.6666666666666666,
             "#ed7953"
            ],
            [
             0.7777777777777778,
             "#fb9f3a"
            ],
            [
             0.8888888888888888,
             "#fdca26"
            ],
            [
             1,
             "#f0f921"
            ]
           ]
          },
          "colorway": [
           "#636efa",
           "#EF553B",
           "#00cc96",
           "#ab63fa",
           "#FFA15A",
           "#19d3f3",
           "#FF6692",
           "#B6E880",
           "#FF97FF",
           "#FECB52"
          ],
          "font": {
           "color": "#2a3f5f"
          },
          "geo": {
           "bgcolor": "white",
           "lakecolor": "white",
           "landcolor": "white",
           "showlakes": true,
           "showland": true,
           "subunitcolor": "#C8D4E3"
          },
          "hoverlabel": {
           "align": "left"
          },
          "hovermode": "closest",
          "mapbox": {
           "style": "light"
          },
          "paper_bgcolor": "white",
          "plot_bgcolor": "white",
          "polar": {
           "angularaxis": {
            "gridcolor": "#EBF0F8",
            "linecolor": "#EBF0F8",
            "ticks": ""
           },
           "bgcolor": "white",
           "radialaxis": {
            "gridcolor": "#EBF0F8",
            "linecolor": "#EBF0F8",
            "ticks": ""
           }
          },
          "scene": {
           "xaxis": {
            "backgroundcolor": "white",
            "gridcolor": "#DFE8F3",
            "gridwidth": 2,
            "linecolor": "#EBF0F8",
            "showbackground": true,
            "ticks": "",
            "zerolinecolor": "#EBF0F8"
           },
           "yaxis": {
            "backgroundcolor": "white",
            "gridcolor": "#DFE8F3",
            "gridwidth": 2,
            "linecolor": "#EBF0F8",
            "showbackground": true,
            "ticks": "",
            "zerolinecolor": "#EBF0F8"
           },
           "zaxis": {
            "backgroundcolor": "white",
            "gridcolor": "#DFE8F3",
            "gridwidth": 2,
            "linecolor": "#EBF0F8",
            "showbackground": true,
            "ticks": "",
            "zerolinecolor": "#EBF0F8"
           }
          },
          "shapedefaults": {
           "line": {
            "color": "#2a3f5f"
           }
          },
          "ternary": {
           "aaxis": {
            "gridcolor": "#DFE8F3",
            "linecolor": "#A2B1C6",
            "ticks": ""
           },
           "baxis": {
            "gridcolor": "#DFE8F3",
            "linecolor": "#A2B1C6",
            "ticks": ""
           },
           "bgcolor": "white",
           "caxis": {
            "gridcolor": "#DFE8F3",
            "linecolor": "#A2B1C6",
            "ticks": ""
           }
          },
          "title": {
           "x": 0.05
          },
          "xaxis": {
           "automargin": true,
           "gridcolor": "#EBF0F8",
           "linecolor": "#EBF0F8",
           "ticks": "",
           "title": {
            "standoff": 15
           },
           "zerolinecolor": "#EBF0F8",
           "zerolinewidth": 2
          },
          "yaxis": {
           "automargin": true,
           "gridcolor": "#EBF0F8",
           "linecolor": "#EBF0F8",
           "ticks": "",
           "title": {
            "standoff": 15
           },
           "zerolinecolor": "#EBF0F8",
           "zerolinewidth": 2
          }
         }
        },
        "title": {
         "text": "Small domestically chartered commercial banks: assets wow change"
        },
        "xaxis": {
         "anchor": "y",
         "domain": [
          0,
          1
         ],
         "title": {
          "text": "Date"
         }
        },
        "yaxis": {
         "anchor": "x",
         "domain": [
          0,
          1
         ],
         "title": {
          "text": "Value (1000000 multiplier)"
         }
        }
       }
      }
     },
     "metadata": {},
     "output_type": "display_data"
    },
    {
     "data": {
      "application/vnd.plotly.v1+json": {
       "config": {
        "plotlyServerURL": "https://plot.ly"
       },
       "data": [
        {
         "alignmentgroup": "True",
         "hovertemplate": "variable=Deposits, small domestically chartered commercial banks, not seasonally adjusted<br>Series Description=%{x}<br>value=%{y}<extra></extra>",
         "legendgroup": "Deposits, small domestically chartered commercial banks, not seasonally adjusted",
         "marker": {
          "color": "#636efa",
          "pattern": {
           "shape": ""
          }
         },
         "name": "Deposits, small domestically chartered commercial banks, not seasonally adjusted",
         "offsetgroup": "Deposits, small domestically chartered commercial banks, not seasonally adjusted",
         "orientation": "v",
         "showlegend": true,
         "textposition": "auto",
         "type": "bar",
         "x": [
          "2022-05-04T00:00:00",
          "2022-05-11T00:00:00",
          "2022-05-18T00:00:00",
          "2022-05-25T00:00:00",
          "2022-06-01T00:00:00",
          "2022-06-08T00:00:00",
          "2022-06-15T00:00:00",
          "2022-06-22T00:00:00",
          "2022-06-29T00:00:00",
          "2022-07-06T00:00:00",
          "2022-07-13T00:00:00",
          "2022-07-20T00:00:00",
          "2022-07-27T00:00:00",
          "2022-08-03T00:00:00",
          "2022-08-10T00:00:00",
          "2022-08-17T00:00:00",
          "2022-08-24T00:00:00",
          "2022-08-31T00:00:00",
          "2022-09-07T00:00:00",
          "2022-09-14T00:00:00",
          "2022-09-21T00:00:00",
          "2022-09-28T00:00:00",
          "2022-10-05T00:00:00",
          "2022-10-12T00:00:00",
          "2022-10-19T00:00:00",
          "2022-10-26T00:00:00",
          "2022-11-02T00:00:00",
          "2022-11-09T00:00:00",
          "2022-11-16T00:00:00",
          "2022-11-23T00:00:00",
          "2022-11-30T00:00:00",
          "2022-12-07T00:00:00",
          "2022-12-14T00:00:00",
          "2022-12-21T00:00:00",
          "2022-12-28T00:00:00",
          "2023-01-04T00:00:00",
          "2023-01-11T00:00:00",
          "2023-01-18T00:00:00",
          "2023-01-25T00:00:00",
          "2023-02-01T00:00:00",
          "2023-02-08T00:00:00",
          "2023-02-15T00:00:00",
          "2023-02-22T00:00:00",
          "2023-03-01T00:00:00",
          "2023-03-08T00:00:00",
          "2023-03-15T00:00:00",
          "2023-03-22T00:00:00",
          "2023-03-29T00:00:00",
          "2023-04-05T00:00:00",
          "2023-04-12T00:00:00",
          "2023-04-19T00:00:00",
          "2023-04-26T00:00:00"
         ],
         "xaxis": "x",
         "y": [
          5544342.1,
          5541587.4,
          5548781,
          5546127.8,
          5583829,
          5585343,
          5591671.2,
          5567716.6,
          5579556.8,
          5578659.2,
          5576135.5,
          5559522.3,
          5555977.3,
          5573485.4,
          5572920.8,
          5573599.9,
          5565344.2,
          5596549.9,
          5595058.1,
          5583431.8,
          5540559.9,
          5556325.7,
          5579303.5,
          5574319.7,
          5554198.3,
          5551391,
          5562183.8,
          5577592.3,
          5583130.5,
          5561303.7,
          5566382.8,
          5633925.4,
          5638964.9,
          5625026.4,
          5625181.3,
          5629442.4,
          5600156.2,
          5587991.2,
          5548713.8,
          5565962.6,
          5562029,
          5562156.1,
          5557041.9,
          5580315.2,
          5574945.8,
          5394322,
          5346861,
          5373088,
          5401358,
          5384378,
          5344438,
          5318068
         ],
         "yaxis": "y"
        },
        {
         "alignmentgroup": "True",
         "hovertemplate": "variable=Borrowings, small domestically chartered commercial banks, not seasonally adjusted<br>Series Description=%{x}<br>value=%{y}<extra></extra>",
         "legendgroup": "Borrowings, small domestically chartered commercial banks, not seasonally adjusted",
         "marker": {
          "color": "#EF553B",
          "pattern": {
           "shape": ""
          }
         },
         "name": "Borrowings, small domestically chartered commercial banks, not seasonally adjusted",
         "offsetgroup": "Borrowings, small domestically chartered commercial banks, not seasonally adjusted",
         "orientation": "v",
         "showlegend": true,
         "textposition": "auto",
         "type": "bar",
         "x": [
          "2022-05-04T00:00:00",
          "2022-05-11T00:00:00",
          "2022-05-18T00:00:00",
          "2022-05-25T00:00:00",
          "2022-06-01T00:00:00",
          "2022-06-08T00:00:00",
          "2022-06-15T00:00:00",
          "2022-06-22T00:00:00",
          "2022-06-29T00:00:00",
          "2022-07-06T00:00:00",
          "2022-07-13T00:00:00",
          "2022-07-20T00:00:00",
          "2022-07-27T00:00:00",
          "2022-08-03T00:00:00",
          "2022-08-10T00:00:00",
          "2022-08-17T00:00:00",
          "2022-08-24T00:00:00",
          "2022-08-31T00:00:00",
          "2022-09-07T00:00:00",
          "2022-09-14T00:00:00",
          "2022-09-21T00:00:00",
          "2022-09-28T00:00:00",
          "2022-10-05T00:00:00",
          "2022-10-12T00:00:00",
          "2022-10-19T00:00:00",
          "2022-10-26T00:00:00",
          "2022-11-02T00:00:00",
          "2022-11-09T00:00:00",
          "2022-11-16T00:00:00",
          "2022-11-23T00:00:00",
          "2022-11-30T00:00:00",
          "2022-12-07T00:00:00",
          "2022-12-14T00:00:00",
          "2022-12-21T00:00:00",
          "2022-12-28T00:00:00",
          "2023-01-04T00:00:00",
          "2023-01-11T00:00:00",
          "2023-01-18T00:00:00",
          "2023-01-25T00:00:00",
          "2023-02-01T00:00:00",
          "2023-02-08T00:00:00",
          "2023-02-15T00:00:00",
          "2023-02-22T00:00:00",
          "2023-03-01T00:00:00",
          "2023-03-08T00:00:00",
          "2023-03-15T00:00:00",
          "2023-03-22T00:00:00",
          "2023-03-29T00:00:00",
          "2023-04-05T00:00:00",
          "2023-04-12T00:00:00",
          "2023-04-19T00:00:00",
          "2023-04-26T00:00:00"
         ],
         "xaxis": "x",
         "y": [
          231233.1,
          231391.2,
          239856.2,
          246530.5,
          243273.8,
          235199.7,
          247395.6,
          262615.3,
          268363.1,
          270699.8,
          269577.4,
          279120.3,
          272644.8,
          273017.7,
          276077.5,
          275803.1,
          284526.4,
          290210.8,
          284739.4,
          295027.2,
          313243.4,
          318271.9,
          319637.8,
          328761.2,
          339035.2,
          341540.7,
          339579.9,
          337910.2,
          346553.8,
          362919.5,
          368707.5,
          375277.2,
          373888.6,
          398281.7,
          407478.5,
          415394.1,
          405738.3,
          406708.7,
          413938.4,
          422849.2,
          409748.9,
          413063.8,
          417968.3,
          418228.4,
          407322.8,
          718716,
          702829,
          573625,
          548188,
          558669,
          566921,
          582542
         ],
         "yaxis": "y"
        },
        {
         "alignmentgroup": "True",
         "hovertemplate": "variable=Net due to related foreign offices, small domestically chartered commercial banks, not seasonally adjusted<br>Series Description=%{x}<br>value=%{y}<extra></extra>",
         "legendgroup": "Net due to related foreign offices, small domestically chartered commercial banks, not seasonally adjusted",
         "marker": {
          "color": "#00cc96",
          "pattern": {
           "shape": ""
          }
         },
         "name": "Net due to related foreign offices, small domestically chartered commercial banks, not seasonally adjusted",
         "offsetgroup": "Net due to related foreign offices, small domestically chartered commercial banks, not seasonally adjusted",
         "orientation": "v",
         "showlegend": true,
         "textposition": "auto",
         "type": "bar",
         "x": [
          "2022-05-04T00:00:00",
          "2022-05-11T00:00:00",
          "2022-05-18T00:00:00",
          "2022-05-25T00:00:00",
          "2022-06-01T00:00:00",
          "2022-06-08T00:00:00",
          "2022-06-15T00:00:00",
          "2022-06-22T00:00:00",
          "2022-06-29T00:00:00",
          "2022-07-06T00:00:00",
          "2022-07-13T00:00:00",
          "2022-07-20T00:00:00",
          "2022-07-27T00:00:00",
          "2022-08-03T00:00:00",
          "2022-08-10T00:00:00",
          "2022-08-17T00:00:00",
          "2022-08-24T00:00:00",
          "2022-08-31T00:00:00",
          "2022-09-07T00:00:00",
          "2022-09-14T00:00:00",
          "2022-09-21T00:00:00",
          "2022-09-28T00:00:00",
          "2022-10-05T00:00:00",
          "2022-10-12T00:00:00",
          "2022-10-19T00:00:00",
          "2022-10-26T00:00:00",
          "2022-11-02T00:00:00",
          "2022-11-09T00:00:00",
          "2022-11-16T00:00:00",
          "2022-11-23T00:00:00",
          "2022-11-30T00:00:00",
          "2022-12-07T00:00:00",
          "2022-12-14T00:00:00",
          "2022-12-21T00:00:00",
          "2022-12-28T00:00:00",
          "2023-01-04T00:00:00",
          "2023-01-11T00:00:00",
          "2023-01-18T00:00:00",
          "2023-01-25T00:00:00",
          "2023-02-01T00:00:00",
          "2023-02-08T00:00:00",
          "2023-02-15T00:00:00",
          "2023-02-22T00:00:00",
          "2023-03-01T00:00:00",
          "2023-03-08T00:00:00",
          "2023-03-15T00:00:00",
          "2023-03-22T00:00:00",
          "2023-03-29T00:00:00",
          "2023-04-05T00:00:00",
          "2023-04-12T00:00:00",
          "2023-04-19T00:00:00",
          "2023-04-26T00:00:00"
         ],
         "xaxis": "x",
         "y": [
          44116.4,
          41364.8,
          31410.4,
          32005.3,
          35414.1,
          33356.7,
          30561.1,
          30320.5,
          32556.4,
          28772.5,
          27849.4,
          30778.5,
          32981.5,
          33573.7,
          31853.3,
          32719.4,
          30893.2,
          36542.1,
          32217.7,
          27539.3,
          29306.7,
          27138,
          31302.4,
          29152,
          29659.8,
          30861.2,
          32318.9,
          30731.9,
          32053.4,
          32484.2,
          37664.4,
          34565.6,
          34636.8,
          31562.8,
          36812.6,
          34249,
          36272.9,
          36833.8,
          36852,
          42356.9,
          35376.9,
          35185.2,
          42377.8,
          36756.9,
          31317.4,
          31255,
          31914,
          33942,
          33020,
          30737,
          32199,
          34120
         ],
         "yaxis": "y"
        },
        {
         "alignmentgroup": "True",
         "hovertemplate": "variable=Other liabilities, small domestically chartered commercial banks, not seasonally adjusted<br>Series Description=%{x}<br>value=%{y}<extra></extra>",
         "legendgroup": "Other liabilities, small domestically chartered commercial banks, not seasonally adjusted",
         "marker": {
          "color": "#ab63fa",
          "pattern": {
           "shape": ""
          }
         },
         "name": "Other liabilities, small domestically chartered commercial banks, not seasonally adjusted",
         "offsetgroup": "Other liabilities, small domestically chartered commercial banks, not seasonally adjusted",
         "orientation": "v",
         "showlegend": true,
         "textposition": "auto",
         "type": "bar",
         "x": [
          "2022-05-04T00:00:00",
          "2022-05-11T00:00:00",
          "2022-05-18T00:00:00",
          "2022-05-25T00:00:00",
          "2022-06-01T00:00:00",
          "2022-06-08T00:00:00",
          "2022-06-15T00:00:00",
          "2022-06-22T00:00:00",
          "2022-06-29T00:00:00",
          "2022-07-06T00:00:00",
          "2022-07-13T00:00:00",
          "2022-07-20T00:00:00",
          "2022-07-27T00:00:00",
          "2022-08-03T00:00:00",
          "2022-08-10T00:00:00",
          "2022-08-17T00:00:00",
          "2022-08-24T00:00:00",
          "2022-08-31T00:00:00",
          "2022-09-07T00:00:00",
          "2022-09-14T00:00:00",
          "2022-09-21T00:00:00",
          "2022-09-28T00:00:00",
          "2022-10-05T00:00:00",
          "2022-10-12T00:00:00",
          "2022-10-19T00:00:00",
          "2022-10-26T00:00:00",
          "2022-11-02T00:00:00",
          "2022-11-09T00:00:00",
          "2022-11-16T00:00:00",
          "2022-11-23T00:00:00",
          "2022-11-30T00:00:00",
          "2022-12-07T00:00:00",
          "2022-12-14T00:00:00",
          "2022-12-21T00:00:00",
          "2022-12-28T00:00:00",
          "2023-01-04T00:00:00",
          "2023-01-11T00:00:00",
          "2023-01-18T00:00:00",
          "2023-01-25T00:00:00",
          "2023-02-01T00:00:00",
          "2023-02-08T00:00:00",
          "2023-02-15T00:00:00",
          "2023-02-22T00:00:00",
          "2023-03-01T00:00:00",
          "2023-03-08T00:00:00",
          "2023-03-15T00:00:00",
          "2023-03-22T00:00:00",
          "2023-03-29T00:00:00",
          "2023-04-05T00:00:00",
          "2023-04-12T00:00:00",
          "2023-04-19T00:00:00",
          "2023-04-26T00:00:00"
         ],
         "xaxis": "x",
         "y": [
          100082.1,
          100013.8,
          96973.6,
          97316.9,
          98973.6,
          101130.2,
          103968.1,
          99488.4,
          99253.8,
          100704.7,
          102969,
          100639.9,
          101575.1,
          102317.6,
          103219.5,
          101039.2,
          104722.9,
          109108.9,
          111115.9,
          112880.2,
          110735.8,
          113501.1,
          115845.7,
          119736.3,
          121804.4,
          122655,
          129487,
          123353.8,
          123476.1,
          121117.9,
          123647.8,
          120977.7,
          120710.2,
          120276.4,
          119703.3,
          119036.4,
          119238.7,
          118391.4,
          117710.9,
          117352.5,
          119301.1,
          122605.4,
          124841,
          124268.8,
          125543.1,
          121169,
          124584,
          124175,
          116780,
          120069,
          114594,
          117248
         ],
         "yaxis": "y"
        }
       ],
       "layout": {
        "barmode": "relative",
        "legend": {
         "title": {
          "text": "Legend"
         },
         "tracegroupgap": 0
        },
        "margin": {
         "t": 60
        },
        "template": {
         "data": {
          "bar": [
           {
            "error_x": {
             "color": "#2a3f5f"
            },
            "error_y": {
             "color": "#2a3f5f"
            },
            "marker": {
             "line": {
              "color": "white",
              "width": 0.5
             },
             "pattern": {
              "fillmode": "overlay",
              "size": 10,
              "solidity": 0.2
             }
            },
            "type": "bar"
           }
          ],
          "barpolar": [
           {
            "marker": {
             "line": {
              "color": "white",
              "width": 0.5
             },
             "pattern": {
              "fillmode": "overlay",
              "size": 10,
              "solidity": 0.2
             }
            },
            "type": "barpolar"
           }
          ],
          "carpet": [
           {
            "aaxis": {
             "endlinecolor": "#2a3f5f",
             "gridcolor": "#C8D4E3",
             "linecolor": "#C8D4E3",
             "minorgridcolor": "#C8D4E3",
             "startlinecolor": "#2a3f5f"
            },
            "baxis": {
             "endlinecolor": "#2a3f5f",
             "gridcolor": "#C8D4E3",
             "linecolor": "#C8D4E3",
             "minorgridcolor": "#C8D4E3",
             "startlinecolor": "#2a3f5f"
            },
            "type": "carpet"
           }
          ],
          "choropleth": [
           {
            "colorbar": {
             "outlinewidth": 0,
             "ticks": ""
            },
            "type": "choropleth"
           }
          ],
          "contour": [
           {
            "colorbar": {
             "outlinewidth": 0,
             "ticks": ""
            },
            "colorscale": [
             [
              0,
              "#0d0887"
             ],
             [
              0.1111111111111111,
              "#46039f"
             ],
             [
              0.2222222222222222,
              "#7201a8"
             ],
             [
              0.3333333333333333,
              "#9c179e"
             ],
             [
              0.4444444444444444,
              "#bd3786"
             ],
             [
              0.5555555555555556,
              "#d8576b"
             ],
             [
              0.6666666666666666,
              "#ed7953"
             ],
             [
              0.7777777777777778,
              "#fb9f3a"
             ],
             [
              0.8888888888888888,
              "#fdca26"
             ],
             [
              1,
              "#f0f921"
             ]
            ],
            "type": "contour"
           }
          ],
          "contourcarpet": [
           {
            "colorbar": {
             "outlinewidth": 0,
             "ticks": ""
            },
            "type": "contourcarpet"
           }
          ],
          "heatmap": [
           {
            "colorbar": {
             "outlinewidth": 0,
             "ticks": ""
            },
            "colorscale": [
             [
              0,
              "#0d0887"
             ],
             [
              0.1111111111111111,
              "#46039f"
             ],
             [
              0.2222222222222222,
              "#7201a8"
             ],
             [
              0.3333333333333333,
              "#9c179e"
             ],
             [
              0.4444444444444444,
              "#bd3786"
             ],
             [
              0.5555555555555556,
              "#d8576b"
             ],
             [
              0.6666666666666666,
              "#ed7953"
             ],
             [
              0.7777777777777778,
              "#fb9f3a"
             ],
             [
              0.8888888888888888,
              "#fdca26"
             ],
             [
              1,
              "#f0f921"
             ]
            ],
            "type": "heatmap"
           }
          ],
          "heatmapgl": [
           {
            "colorbar": {
             "outlinewidth": 0,
             "ticks": ""
            },
            "colorscale": [
             [
              0,
              "#0d0887"
             ],
             [
              0.1111111111111111,
              "#46039f"
             ],
             [
              0.2222222222222222,
              "#7201a8"
             ],
             [
              0.3333333333333333,
              "#9c179e"
             ],
             [
              0.4444444444444444,
              "#bd3786"
             ],
             [
              0.5555555555555556,
              "#d8576b"
             ],
             [
              0.6666666666666666,
              "#ed7953"
             ],
             [
              0.7777777777777778,
              "#fb9f3a"
             ],
             [
              0.8888888888888888,
              "#fdca26"
             ],
             [
              1,
              "#f0f921"
             ]
            ],
            "type": "heatmapgl"
           }
          ],
          "histogram": [
           {
            "marker": {
             "pattern": {
              "fillmode": "overlay",
              "size": 10,
              "solidity": 0.2
             }
            },
            "type": "histogram"
           }
          ],
          "histogram2d": [
           {
            "colorbar": {
             "outlinewidth": 0,
             "ticks": ""
            },
            "colorscale": [
             [
              0,
              "#0d0887"
             ],
             [
              0.1111111111111111,
              "#46039f"
             ],
             [
              0.2222222222222222,
              "#7201a8"
             ],
             [
              0.3333333333333333,
              "#9c179e"
             ],
             [
              0.4444444444444444,
              "#bd3786"
             ],
             [
              0.5555555555555556,
              "#d8576b"
             ],
             [
              0.6666666666666666,
              "#ed7953"
             ],
             [
              0.7777777777777778,
              "#fb9f3a"
             ],
             [
              0.8888888888888888,
              "#fdca26"
             ],
             [
              1,
              "#f0f921"
             ]
            ],
            "type": "histogram2d"
           }
          ],
          "histogram2dcontour": [
           {
            "colorbar": {
             "outlinewidth": 0,
             "ticks": ""
            },
            "colorscale": [
             [
              0,
              "#0d0887"
             ],
             [
              0.1111111111111111,
              "#46039f"
             ],
             [
              0.2222222222222222,
              "#7201a8"
             ],
             [
              0.3333333333333333,
              "#9c179e"
             ],
             [
              0.4444444444444444,
              "#bd3786"
             ],
             [
              0.5555555555555556,
              "#d8576b"
             ],
             [
              0.6666666666666666,
              "#ed7953"
             ],
             [
              0.7777777777777778,
              "#fb9f3a"
             ],
             [
              0.8888888888888888,
              "#fdca26"
             ],
             [
              1,
              "#f0f921"
             ]
            ],
            "type": "histogram2dcontour"
           }
          ],
          "mesh3d": [
           {
            "colorbar": {
             "outlinewidth": 0,
             "ticks": ""
            },
            "type": "mesh3d"
           }
          ],
          "parcoords": [
           {
            "line": {
             "colorbar": {
              "outlinewidth": 0,
              "ticks": ""
             }
            },
            "type": "parcoords"
           }
          ],
          "pie": [
           {
            "automargin": true,
            "type": "pie"
           }
          ],
          "scatter": [
           {
            "fillpattern": {
             "fillmode": "overlay",
             "size": 10,
             "solidity": 0.2
            },
            "type": "scatter"
           }
          ],
          "scatter3d": [
           {
            "line": {
             "colorbar": {
              "outlinewidth": 0,
              "ticks": ""
             }
            },
            "marker": {
             "colorbar": {
              "outlinewidth": 0,
              "ticks": ""
             }
            },
            "type": "scatter3d"
           }
          ],
          "scattercarpet": [
           {
            "marker": {
             "colorbar": {
              "outlinewidth": 0,
              "ticks": ""
             }
            },
            "type": "scattercarpet"
           }
          ],
          "scattergeo": [
           {
            "marker": {
             "colorbar": {
              "outlinewidth": 0,
              "ticks": ""
             }
            },
            "type": "scattergeo"
           }
          ],
          "scattergl": [
           {
            "marker": {
             "colorbar": {
              "outlinewidth": 0,
              "ticks": ""
             }
            },
            "type": "scattergl"
           }
          ],
          "scattermapbox": [
           {
            "marker": {
             "colorbar": {
              "outlinewidth": 0,
              "ticks": ""
             }
            },
            "type": "scattermapbox"
           }
          ],
          "scatterpolar": [
           {
            "marker": {
             "colorbar": {
              "outlinewidth": 0,
              "ticks": ""
             }
            },
            "type": "scatterpolar"
           }
          ],
          "scatterpolargl": [
           {
            "marker": {
             "colorbar": {
              "outlinewidth": 0,
              "ticks": ""
             }
            },
            "type": "scatterpolargl"
           }
          ],
          "scatterternary": [
           {
            "marker": {
             "colorbar": {
              "outlinewidth": 0,
              "ticks": ""
             }
            },
            "type": "scatterternary"
           }
          ],
          "surface": [
           {
            "colorbar": {
             "outlinewidth": 0,
             "ticks": ""
            },
            "colorscale": [
             [
              0,
              "#0d0887"
             ],
             [
              0.1111111111111111,
              "#46039f"
             ],
             [
              0.2222222222222222,
              "#7201a8"
             ],
             [
              0.3333333333333333,
              "#9c179e"
             ],
             [
              0.4444444444444444,
              "#bd3786"
             ],
             [
              0.5555555555555556,
              "#d8576b"
             ],
             [
              0.6666666666666666,
              "#ed7953"
             ],
             [
              0.7777777777777778,
              "#fb9f3a"
             ],
             [
              0.8888888888888888,
              "#fdca26"
             ],
             [
              1,
              "#f0f921"
             ]
            ],
            "type": "surface"
           }
          ],
          "table": [
           {
            "cells": {
             "fill": {
              "color": "#EBF0F8"
             },
             "line": {
              "color": "white"
             }
            },
            "header": {
             "fill": {
              "color": "#C8D4E3"
             },
             "line": {
              "color": "white"
             }
            },
            "type": "table"
           }
          ]
         },
         "layout": {
          "annotationdefaults": {
           "arrowcolor": "#2a3f5f",
           "arrowhead": 0,
           "arrowwidth": 1
          },
          "autotypenumbers": "strict",
          "coloraxis": {
           "colorbar": {
            "outlinewidth": 0,
            "ticks": ""
           }
          },
          "colorscale": {
           "diverging": [
            [
             0,
             "#8e0152"
            ],
            [
             0.1,
             "#c51b7d"
            ],
            [
             0.2,
             "#de77ae"
            ],
            [
             0.3,
             "#f1b6da"
            ],
            [
             0.4,
             "#fde0ef"
            ],
            [
             0.5,
             "#f7f7f7"
            ],
            [
             0.6,
             "#e6f5d0"
            ],
            [
             0.7,
             "#b8e186"
            ],
            [
             0.8,
             "#7fbc41"
            ],
            [
             0.9,
             "#4d9221"
            ],
            [
             1,
             "#276419"
            ]
           ],
           "sequential": [
            [
             0,
             "#0d0887"
            ],
            [
             0.1111111111111111,
             "#46039f"
            ],
            [
             0.2222222222222222,
             "#7201a8"
            ],
            [
             0.3333333333333333,
             "#9c179e"
            ],
            [
             0.4444444444444444,
             "#bd3786"
            ],
            [
             0.5555555555555556,
             "#d8576b"
            ],
            [
             0.6666666666666666,
             "#ed7953"
            ],
            [
             0.7777777777777778,
             "#fb9f3a"
            ],
            [
             0.8888888888888888,
             "#fdca26"
            ],
            [
             1,
             "#f0f921"
            ]
           ],
           "sequentialminus": [
            [
             0,
             "#0d0887"
            ],
            [
             0.1111111111111111,
             "#46039f"
            ],
            [
             0.2222222222222222,
             "#7201a8"
            ],
            [
             0.3333333333333333,
             "#9c179e"
            ],
            [
             0.4444444444444444,
             "#bd3786"
            ],
            [
             0.5555555555555556,
             "#d8576b"
            ],
            [
             0.6666666666666666,
             "#ed7953"
            ],
            [
             0.7777777777777778,
             "#fb9f3a"
            ],
            [
             0.8888888888888888,
             "#fdca26"
            ],
            [
             1,
             "#f0f921"
            ]
           ]
          },
          "colorway": [
           "#636efa",
           "#EF553B",
           "#00cc96",
           "#ab63fa",
           "#FFA15A",
           "#19d3f3",
           "#FF6692",
           "#B6E880",
           "#FF97FF",
           "#FECB52"
          ],
          "font": {
           "color": "#2a3f5f"
          },
          "geo": {
           "bgcolor": "white",
           "lakecolor": "white",
           "landcolor": "white",
           "showlakes": true,
           "showland": true,
           "subunitcolor": "#C8D4E3"
          },
          "hoverlabel": {
           "align": "left"
          },
          "hovermode": "closest",
          "mapbox": {
           "style": "light"
          },
          "paper_bgcolor": "white",
          "plot_bgcolor": "white",
          "polar": {
           "angularaxis": {
            "gridcolor": "#EBF0F8",
            "linecolor": "#EBF0F8",
            "ticks": ""
           },
           "bgcolor": "white",
           "radialaxis": {
            "gridcolor": "#EBF0F8",
            "linecolor": "#EBF0F8",
            "ticks": ""
           }
          },
          "scene": {
           "xaxis": {
            "backgroundcolor": "white",
            "gridcolor": "#DFE8F3",
            "gridwidth": 2,
            "linecolor": "#EBF0F8",
            "showbackground": true,
            "ticks": "",
            "zerolinecolor": "#EBF0F8"
           },
           "yaxis": {
            "backgroundcolor": "white",
            "gridcolor": "#DFE8F3",
            "gridwidth": 2,
            "linecolor": "#EBF0F8",
            "showbackground": true,
            "ticks": "",
            "zerolinecolor": "#EBF0F8"
           },
           "zaxis": {
            "backgroundcolor": "white",
            "gridcolor": "#DFE8F3",
            "gridwidth": 2,
            "linecolor": "#EBF0F8",
            "showbackground": true,
            "ticks": "",
            "zerolinecolor": "#EBF0F8"
           }
          },
          "shapedefaults": {
           "line": {
            "color": "#2a3f5f"
           }
          },
          "ternary": {
           "aaxis": {
            "gridcolor": "#DFE8F3",
            "linecolor": "#A2B1C6",
            "ticks": ""
           },
           "baxis": {
            "gridcolor": "#DFE8F3",
            "linecolor": "#A2B1C6",
            "ticks": ""
           },
           "bgcolor": "white",
           "caxis": {
            "gridcolor": "#DFE8F3",
            "linecolor": "#A2B1C6",
            "ticks": ""
           }
          },
          "title": {
           "x": 0.05
          },
          "xaxis": {
           "automargin": true,
           "gridcolor": "#EBF0F8",
           "linecolor": "#EBF0F8",
           "ticks": "",
           "title": {
            "standoff": 15
           },
           "zerolinecolor": "#EBF0F8",
           "zerolinewidth": 2
          },
          "yaxis": {
           "automargin": true,
           "gridcolor": "#EBF0F8",
           "linecolor": "#EBF0F8",
           "ticks": "",
           "title": {
            "standoff": 15
           },
           "zerolinecolor": "#EBF0F8",
           "zerolinewidth": 2
          }
         }
        },
        "title": {
         "text": "Small domestically chartered commercial banks: liabilities"
        },
        "xaxis": {
         "anchor": "y",
         "domain": [
          0,
          1
         ],
         "title": {
          "text": "Date"
         }
        },
        "yaxis": {
         "anchor": "x",
         "domain": [
          0,
          1
         ],
         "title": {
          "text": "Value (1000000 multiplier)"
         }
        }
       }
      }
     },
     "metadata": {},
     "output_type": "display_data"
    },
    {
     "data": {
      "application/vnd.plotly.v1+json": {
       "config": {
        "plotlyServerURL": "https://plot.ly"
       },
       "data": [
        {
         "alignmentgroup": "True",
         "hovertemplate": "variable=Deposits, small domestically chartered commercial banks, not seasonally adjusted<br>Series Description=%{x}<br>value=%{y}<extra></extra>",
         "legendgroup": "Deposits, small domestically chartered commercial banks, not seasonally adjusted",
         "marker": {
          "color": "#636efa",
          "pattern": {
           "shape": ""
          }
         },
         "name": "Deposits, small domestically chartered commercial banks, not seasonally adjusted",
         "offsetgroup": "Deposits, small domestically chartered commercial banks, not seasonally adjusted",
         "orientation": "v",
         "showlegend": true,
         "textposition": "auto",
         "type": "bar",
         "x": [
          "2022-05-04T00:00:00",
          "2022-05-11T00:00:00",
          "2022-05-18T00:00:00",
          "2022-05-25T00:00:00",
          "2022-06-01T00:00:00",
          "2022-06-08T00:00:00",
          "2022-06-15T00:00:00",
          "2022-06-22T00:00:00",
          "2022-06-29T00:00:00",
          "2022-07-06T00:00:00",
          "2022-07-13T00:00:00",
          "2022-07-20T00:00:00",
          "2022-07-27T00:00:00",
          "2022-08-03T00:00:00",
          "2022-08-10T00:00:00",
          "2022-08-17T00:00:00",
          "2022-08-24T00:00:00",
          "2022-08-31T00:00:00",
          "2022-09-07T00:00:00",
          "2022-09-14T00:00:00",
          "2022-09-21T00:00:00",
          "2022-09-28T00:00:00",
          "2022-10-05T00:00:00",
          "2022-10-12T00:00:00",
          "2022-10-19T00:00:00",
          "2022-10-26T00:00:00",
          "2022-11-02T00:00:00",
          "2022-11-09T00:00:00",
          "2022-11-16T00:00:00",
          "2022-11-23T00:00:00",
          "2022-11-30T00:00:00",
          "2022-12-07T00:00:00",
          "2022-12-14T00:00:00",
          "2022-12-21T00:00:00",
          "2022-12-28T00:00:00",
          "2023-01-04T00:00:00",
          "2023-01-11T00:00:00",
          "2023-01-18T00:00:00",
          "2023-01-25T00:00:00",
          "2023-02-01T00:00:00",
          "2023-02-08T00:00:00",
          "2023-02-15T00:00:00",
          "2023-02-22T00:00:00",
          "2023-03-01T00:00:00",
          "2023-03-08T00:00:00",
          "2023-03-15T00:00:00",
          "2023-03-22T00:00:00",
          "2023-03-29T00:00:00",
          "2023-04-05T00:00:00",
          "2023-04-12T00:00:00",
          "2023-04-19T00:00:00",
          "2023-04-26T00:00:00"
         ],
         "xaxis": "x",
         "y": [
          0.9365800756876904,
          0.9369720358288128,
          0.9377659330041621,
          0.9365326008756698,
          0.9366498193698372,
          0.9379202749890614,
          0.936064507877667,
          0.934158568871393,
          0.9330783675336786,
          0.9330677431838658,
          0.9330053047157084,
          0.9312337512129273,
          0.9317140370118373,
          0.9316479368194113,
          0.9312925443014873,
          0.9315476274541479,
          0.9298064444816753,
          0.9277466755128799,
          0.9289284936866142,
          0.9276531832300652,
          0.9243747657910257,
          0.9237085869573277,
          0.9227954175271609,
          0.9210753431944871,
          0.9188546173095574,
          0.9181243572465804,
          0.917311761090171,
          0.9189408105149538,
          0.9174912638237953,
          0.9150153921008556,
          0.9130602515171857,
          0.9138941801315769,
          0.9141993668039708,
          0.91091372022818,
          0.9088740686421295,
          0.9082496924068291,
          0.9089088107487155,
          0.9086275065589415,
          0.9070653260653638,
          0.905252241791083,
          0.9078705831844899,
          0.9069210285376329,
          0.9047272415274651,
          0.9059586682464958,
          0.9081004339850094,
          0.8609615699528622,
          0.8615370659090572,
          0.8801372028377531,
          0.8855634686079459,
          0.8835753012092677,
          0.8821894861667386,
          0.8787322095354609
         ],
         "yaxis": "y"
        },
        {
         "alignmentgroup": "True",
         "hovertemplate": "variable=Borrowings, small domestically chartered commercial banks, not seasonally adjusted<br>Series Description=%{x}<br>value=%{y}<extra></extra>",
         "legendgroup": "Borrowings, small domestically chartered commercial banks, not seasonally adjusted",
         "marker": {
          "color": "#EF553B",
          "pattern": {
           "shape": ""
          }
         },
         "name": "Borrowings, small domestically chartered commercial banks, not seasonally adjusted",
         "offsetgroup": "Borrowings, small domestically chartered commercial banks, not seasonally adjusted",
         "orientation": "v",
         "showlegend": true,
         "textposition": "auto",
         "type": "bar",
         "x": [
          "2022-05-04T00:00:00",
          "2022-05-11T00:00:00",
          "2022-05-18T00:00:00",
          "2022-05-25T00:00:00",
          "2022-06-01T00:00:00",
          "2022-06-08T00:00:00",
          "2022-06-15T00:00:00",
          "2022-06-22T00:00:00",
          "2022-06-29T00:00:00",
          "2022-07-06T00:00:00",
          "2022-07-13T00:00:00",
          "2022-07-20T00:00:00",
          "2022-07-27T00:00:00",
          "2022-08-03T00:00:00",
          "2022-08-10T00:00:00",
          "2022-08-17T00:00:00",
          "2022-08-24T00:00:00",
          "2022-08-31T00:00:00",
          "2022-09-07T00:00:00",
          "2022-09-14T00:00:00",
          "2022-09-21T00:00:00",
          "2022-09-28T00:00:00",
          "2022-10-05T00:00:00",
          "2022-10-12T00:00:00",
          "2022-10-19T00:00:00",
          "2022-10-26T00:00:00",
          "2022-11-02T00:00:00",
          "2022-11-09T00:00:00",
          "2022-11-16T00:00:00",
          "2022-11-23T00:00:00",
          "2022-11-30T00:00:00",
          "2022-12-07T00:00:00",
          "2022-12-14T00:00:00",
          "2022-12-21T00:00:00",
          "2022-12-28T00:00:00",
          "2023-01-04T00:00:00",
          "2023-01-11T00:00:00",
          "2023-01-18T00:00:00",
          "2023-01-25T00:00:00",
          "2023-02-01T00:00:00",
          "2023-02-08T00:00:00",
          "2023-02-15T00:00:00",
          "2023-02-22T00:00:00",
          "2023-03-01T00:00:00",
          "2023-03-08T00:00:00",
          "2023-03-15T00:00:00",
          "2023-03-22T00:00:00",
          "2023-03-29T00:00:00",
          "2023-04-05T00:00:00",
          "2023-04-12T00:00:00",
          "2023-04-19T00:00:00",
          "2023-04-26T00:00:00"
         ],
         "xaxis": "x",
         "y": [
          0.03906113843507227,
          0.03912364239475353,
          0.04053664636968605,
          0.04162973856465755,
          0.04080754636780852,
          0.039495974965430905,
          0.041414852962938904,
          0.04406192887255281,
          0.044878798125019055,
          0.045276336555264717,
          0.04510599576202344,
          0.046753341381268965,
          0.04572138681673249,
          0.0456368607191796,
          0.04613539768937572,
          0.04609654945800811,
          0.04753605003355785,
          0.04810858648788841,
          0.047274315513404656,
          0.04901697218177772,
          0.052260836402217146,
          0.05291095282935339,
          0.05286686718305666,
          0.05432301185004359,
          0.05608803325413666,
          0.05648617358443085,
          0.05600329785934513,
          0.055672673147743365,
          0.05695014364162521,
          0.05971206510328621,
          0.060479520504100576,
          0.06087472315768927,
          0.06061550788784358,
          0.06449752218866099,
          0.06583728104535795,
          0.06701934876402885,
          0.06585157673427136,
          0.06613230027578222,
          0.0676677845173732,
          0.06877250419173964,
          0.06688188299669118,
          0.06735090486720843,
          0.06804830949806658,
          0.0678989681957146,
          0.06634862915653623,
          0.11471077472020419,
          0.11324648882695787,
          0.09396248544185505,
          0.08987652118768143,
          0.09167746580037293,
          0.09357985735584053,
          0.09625646358925957
         ],
         "yaxis": "y"
        },
        {
         "alignmentgroup": "True",
         "hovertemplate": "variable=Net due to related foreign offices, small domestically chartered commercial banks, not seasonally adjusted<br>Series Description=%{x}<br>value=%{y}<extra></extra>",
         "legendgroup": "Net due to related foreign offices, small domestically chartered commercial banks, not seasonally adjusted",
         "marker": {
          "color": "#00cc96",
          "pattern": {
           "shape": ""
          }
         },
         "name": "Net due to related foreign offices, small domestically chartered commercial banks, not seasonally adjusted",
         "offsetgroup": "Net due to related foreign offices, small domestically chartered commercial banks, not seasonally adjusted",
         "orientation": "v",
         "showlegend": true,
         "textposition": "auto",
         "type": "bar",
         "x": [
          "2022-05-04T00:00:00",
          "2022-05-11T00:00:00",
          "2022-05-18T00:00:00",
          "2022-05-25T00:00:00",
          "2022-06-01T00:00:00",
          "2022-06-08T00:00:00",
          "2022-06-15T00:00:00",
          "2022-06-22T00:00:00",
          "2022-06-29T00:00:00",
          "2022-07-06T00:00:00",
          "2022-07-13T00:00:00",
          "2022-07-20T00:00:00",
          "2022-07-27T00:00:00",
          "2022-08-03T00:00:00",
          "2022-08-10T00:00:00",
          "2022-08-17T00:00:00",
          "2022-08-24T00:00:00",
          "2022-08-31T00:00:00",
          "2022-09-07T00:00:00",
          "2022-09-14T00:00:00",
          "2022-09-21T00:00:00",
          "2022-09-28T00:00:00",
          "2022-10-05T00:00:00",
          "2022-10-12T00:00:00",
          "2022-10-19T00:00:00",
          "2022-10-26T00:00:00",
          "2022-11-02T00:00:00",
          "2022-11-09T00:00:00",
          "2022-11-16T00:00:00",
          "2022-11-23T00:00:00",
          "2022-11-30T00:00:00",
          "2022-12-07T00:00:00",
          "2022-12-14T00:00:00",
          "2022-12-21T00:00:00",
          "2022-12-28T00:00:00",
          "2023-01-04T00:00:00",
          "2023-01-11T00:00:00",
          "2023-01-18T00:00:00",
          "2023-01-25T00:00:00",
          "2023-02-01T00:00:00",
          "2023-02-08T00:00:00",
          "2023-02-15T00:00:00",
          "2023-02-22T00:00:00",
          "2023-03-01T00:00:00",
          "2023-03-08T00:00:00",
          "2023-03-15T00:00:00",
          "2023-03-22T00:00:00",
          "2023-03-29T00:00:00",
          "2023-04-05T00:00:00",
          "2023-04-12T00:00:00",
          "2023-04-19T00:00:00",
          "2023-04-26T00:00:00"
         ],
         "xaxis": "x",
         "y": [
          0.0074523794718706895,
          0.006993963655188706,
          0.005308481820067134,
          0.005404492635529617,
          0.0059404774695187386,
          0.005601433114622974,
          0.005116030612046747,
          0.005087212033648601,
          0.00544445977586848,
          0.004812391414904459,
          0.0046597931368686524,
          0.005155474960808608,
          0.005530858902484341,
          0.005612084017730425,
          0.005323014962171823,
          0.005468580448647425,
          0.0051613512872503535,
          0.006057627001817532,
          0.005348995309100943,
          0.004575486944951621,
          0.004889465042803319,
          0.0045115432367198996,
          0.005177297000889485,
          0.004816944461367311,
          0.00490674669978528,
          0.005104021571144632,
          0.0053300121214076256,
          0.005063259481096263,
          0.005267423800294413,
          0.005344707752623295,
          0.006178135383941595,
          0.005606978869964453,
          0.005615381757051862,
          0.005111262690041418,
          0.0059479002995503905,
          0.005525706012240482,
          0.0058871140775336025,
          0.005989308617932459,
          0.006024309885321674,
          0.00688895729919578,
          0.00577444792795208,
          0.005737019457850584,
          0.00689941713342176,
          0.005967446457660603,
          0.005101277313096414,
          0.0049884589516303824,
          0.005142287020631666,
          0.005559859979720975,
          0.005413695173220211,
          0.005043935257381496,
          0.005314987144594589,
          0.005637826178482473
         ],
         "yaxis": "y"
        },
        {
         "alignmentgroup": "True",
         "hovertemplate": "variable=Other liabilities, small domestically chartered commercial banks, not seasonally adjusted<br>Series Description=%{x}<br>value=%{y}<extra></extra>",
         "legendgroup": "Other liabilities, small domestically chartered commercial banks, not seasonally adjusted",
         "marker": {
          "color": "#ab63fa",
          "pattern": {
           "shape": ""
          }
         },
         "name": "Other liabilities, small domestically chartered commercial banks, not seasonally adjusted",
         "offsetgroup": "Other liabilities, small domestically chartered commercial banks, not seasonally adjusted",
         "orientation": "v",
         "showlegend": true,
         "textposition": "auto",
         "type": "bar",
         "x": [
          "2022-05-04T00:00:00",
          "2022-05-11T00:00:00",
          "2022-05-18T00:00:00",
          "2022-05-25T00:00:00",
          "2022-06-01T00:00:00",
          "2022-06-08T00:00:00",
          "2022-06-15T00:00:00",
          "2022-06-22T00:00:00",
          "2022-06-29T00:00:00",
          "2022-07-06T00:00:00",
          "2022-07-13T00:00:00",
          "2022-07-20T00:00:00",
          "2022-07-27T00:00:00",
          "2022-08-03T00:00:00",
          "2022-08-10T00:00:00",
          "2022-08-17T00:00:00",
          "2022-08-24T00:00:00",
          "2022-08-31T00:00:00",
          "2022-09-07T00:00:00",
          "2022-09-14T00:00:00",
          "2022-09-21T00:00:00",
          "2022-09-28T00:00:00",
          "2022-10-05T00:00:00",
          "2022-10-12T00:00:00",
          "2022-10-19T00:00:00",
          "2022-10-26T00:00:00",
          "2022-11-02T00:00:00",
          "2022-11-09T00:00:00",
          "2022-11-16T00:00:00",
          "2022-11-23T00:00:00",
          "2022-11-30T00:00:00",
          "2022-12-07T00:00:00",
          "2022-12-14T00:00:00",
          "2022-12-21T00:00:00",
          "2022-12-28T00:00:00",
          "2023-01-04T00:00:00",
          "2023-01-11T00:00:00",
          "2023-01-18T00:00:00",
          "2023-01-25T00:00:00",
          "2023-02-01T00:00:00",
          "2023-02-08T00:00:00",
          "2023-02-15T00:00:00",
          "2023-02-22T00:00:00",
          "2023-03-01T00:00:00",
          "2023-03-08T00:00:00",
          "2023-03-15T00:00:00",
          "2023-03-22T00:00:00",
          "2023-03-29T00:00:00",
          "2023-04-05T00:00:00",
          "2023-04-12T00:00:00",
          "2023-04-19T00:00:00",
          "2023-04-26T00:00:00"
         ],
         "xaxis": "x",
         "y": [
          0.016906406405366475,
          0.016910341213237153,
          0.01638892190568927,
          0.016433167924142945,
          0.016602156792835616,
          0.016982316930884776,
          0.01740460854734736,
          0.016692290222405485,
          0.016598374565433983,
          0.016843528845965038,
          0.017228889653286183,
          0.016857432444995116,
          0.017033717268945838,
          0.01710311844367867,
          0.017249043046965135,
          0.016887259352768597,
          0.017496137490437703,
          0.018087110997414182,
          0.01844819549088015,
          0.018754357643205457,
          0.018474916080174833,
          0.018868933601049045,
          0.019160434828509727,
          0.019784683970554842,
          0.02015061927994545,
          0.020285464136480268,
          0.021354912437140782,
          0.02032325685620649,
          0.020291168734285065,
          0.019927835043234955,
          0.02028209259477208,
          0.019624117840769395,
          0.019569759763317675,
          0.019477494893117772,
          0.019340750012962146,
          0.019205236682982362,
          0.019352514669541333,
          0.019250868286983393,
          0.019242563184633424,
          0.019086296717981552,
          0.01947310221351797,
          0.019991063442514296,
          0.02032503184104663,
          0.020174917100129065,
          0.02044965954535799,
          0.01933919637530321,
          0.020074158243353245,
          0.020340451740670912,
          0.01914631503115252,
          0.019703297732977805,
          0.01891566933282625,
          0.01937350069679698
         ],
         "yaxis": "y"
        }
       ],
       "layout": {
        "barmode": "relative",
        "legend": {
         "title": {
          "text": "Legend"
         },
         "tracegroupgap": 0
        },
        "margin": {
         "t": 60
        },
        "template": {
         "data": {
          "bar": [
           {
            "error_x": {
             "color": "#2a3f5f"
            },
            "error_y": {
             "color": "#2a3f5f"
            },
            "marker": {
             "line": {
              "color": "white",
              "width": 0.5
             },
             "pattern": {
              "fillmode": "overlay",
              "size": 10,
              "solidity": 0.2
             }
            },
            "type": "bar"
           }
          ],
          "barpolar": [
           {
            "marker": {
             "line": {
              "color": "white",
              "width": 0.5
             },
             "pattern": {
              "fillmode": "overlay",
              "size": 10,
              "solidity": 0.2
             }
            },
            "type": "barpolar"
           }
          ],
          "carpet": [
           {
            "aaxis": {
             "endlinecolor": "#2a3f5f",
             "gridcolor": "#C8D4E3",
             "linecolor": "#C8D4E3",
             "minorgridcolor": "#C8D4E3",
             "startlinecolor": "#2a3f5f"
            },
            "baxis": {
             "endlinecolor": "#2a3f5f",
             "gridcolor": "#C8D4E3",
             "linecolor": "#C8D4E3",
             "minorgridcolor": "#C8D4E3",
             "startlinecolor": "#2a3f5f"
            },
            "type": "carpet"
           }
          ],
          "choropleth": [
           {
            "colorbar": {
             "outlinewidth": 0,
             "ticks": ""
            },
            "type": "choropleth"
           }
          ],
          "contour": [
           {
            "colorbar": {
             "outlinewidth": 0,
             "ticks": ""
            },
            "colorscale": [
             [
              0,
              "#0d0887"
             ],
             [
              0.1111111111111111,
              "#46039f"
             ],
             [
              0.2222222222222222,
              "#7201a8"
             ],
             [
              0.3333333333333333,
              "#9c179e"
             ],
             [
              0.4444444444444444,
              "#bd3786"
             ],
             [
              0.5555555555555556,
              "#d8576b"
             ],
             [
              0.6666666666666666,
              "#ed7953"
             ],
             [
              0.7777777777777778,
              "#fb9f3a"
             ],
             [
              0.8888888888888888,
              "#fdca26"
             ],
             [
              1,
              "#f0f921"
             ]
            ],
            "type": "contour"
           }
          ],
          "contourcarpet": [
           {
            "colorbar": {
             "outlinewidth": 0,
             "ticks": ""
            },
            "type": "contourcarpet"
           }
          ],
          "heatmap": [
           {
            "colorbar": {
             "outlinewidth": 0,
             "ticks": ""
            },
            "colorscale": [
             [
              0,
              "#0d0887"
             ],
             [
              0.1111111111111111,
              "#46039f"
             ],
             [
              0.2222222222222222,
              "#7201a8"
             ],
             [
              0.3333333333333333,
              "#9c179e"
             ],
             [
              0.4444444444444444,
              "#bd3786"
             ],
             [
              0.5555555555555556,
              "#d8576b"
             ],
             [
              0.6666666666666666,
              "#ed7953"
             ],
             [
              0.7777777777777778,
              "#fb9f3a"
             ],
             [
              0.8888888888888888,
              "#fdca26"
             ],
             [
              1,
              "#f0f921"
             ]
            ],
            "type": "heatmap"
           }
          ],
          "heatmapgl": [
           {
            "colorbar": {
             "outlinewidth": 0,
             "ticks": ""
            },
            "colorscale": [
             [
              0,
              "#0d0887"
             ],
             [
              0.1111111111111111,
              "#46039f"
             ],
             [
              0.2222222222222222,
              "#7201a8"
             ],
             [
              0.3333333333333333,
              "#9c179e"
             ],
             [
              0.4444444444444444,
              "#bd3786"
             ],
             [
              0.5555555555555556,
              "#d8576b"
             ],
             [
              0.6666666666666666,
              "#ed7953"
             ],
             [
              0.7777777777777778,
              "#fb9f3a"
             ],
             [
              0.8888888888888888,
              "#fdca26"
             ],
             [
              1,
              "#f0f921"
             ]
            ],
            "type": "heatmapgl"
           }
          ],
          "histogram": [
           {
            "marker": {
             "pattern": {
              "fillmode": "overlay",
              "size": 10,
              "solidity": 0.2
             }
            },
            "type": "histogram"
           }
          ],
          "histogram2d": [
           {
            "colorbar": {
             "outlinewidth": 0,
             "ticks": ""
            },
            "colorscale": [
             [
              0,
              "#0d0887"
             ],
             [
              0.1111111111111111,
              "#46039f"
             ],
             [
              0.2222222222222222,
              "#7201a8"
             ],
             [
              0.3333333333333333,
              "#9c179e"
             ],
             [
              0.4444444444444444,
              "#bd3786"
             ],
             [
              0.5555555555555556,
              "#d8576b"
             ],
             [
              0.6666666666666666,
              "#ed7953"
             ],
             [
              0.7777777777777778,
              "#fb9f3a"
             ],
             [
              0.8888888888888888,
              "#fdca26"
             ],
             [
              1,
              "#f0f921"
             ]
            ],
            "type": "histogram2d"
           }
          ],
          "histogram2dcontour": [
           {
            "colorbar": {
             "outlinewidth": 0,
             "ticks": ""
            },
            "colorscale": [
             [
              0,
              "#0d0887"
             ],
             [
              0.1111111111111111,
              "#46039f"
             ],
             [
              0.2222222222222222,
              "#7201a8"
             ],
             [
              0.3333333333333333,
              "#9c179e"
             ],
             [
              0.4444444444444444,
              "#bd3786"
             ],
             [
              0.5555555555555556,
              "#d8576b"
             ],
             [
              0.6666666666666666,
              "#ed7953"
             ],
             [
              0.7777777777777778,
              "#fb9f3a"
             ],
             [
              0.8888888888888888,
              "#fdca26"
             ],
             [
              1,
              "#f0f921"
             ]
            ],
            "type": "histogram2dcontour"
           }
          ],
          "mesh3d": [
           {
            "colorbar": {
             "outlinewidth": 0,
             "ticks": ""
            },
            "type": "mesh3d"
           }
          ],
          "parcoords": [
           {
            "line": {
             "colorbar": {
              "outlinewidth": 0,
              "ticks": ""
             }
            },
            "type": "parcoords"
           }
          ],
          "pie": [
           {
            "automargin": true,
            "type": "pie"
           }
          ],
          "scatter": [
           {
            "fillpattern": {
             "fillmode": "overlay",
             "size": 10,
             "solidity": 0.2
            },
            "type": "scatter"
           }
          ],
          "scatter3d": [
           {
            "line": {
             "colorbar": {
              "outlinewidth": 0,
              "ticks": ""
             }
            },
            "marker": {
             "colorbar": {
              "outlinewidth": 0,
              "ticks": ""
             }
            },
            "type": "scatter3d"
           }
          ],
          "scattercarpet": [
           {
            "marker": {
             "colorbar": {
              "outlinewidth": 0,
              "ticks": ""
             }
            },
            "type": "scattercarpet"
           }
          ],
          "scattergeo": [
           {
            "marker": {
             "colorbar": {
              "outlinewidth": 0,
              "ticks": ""
             }
            },
            "type": "scattergeo"
           }
          ],
          "scattergl": [
           {
            "marker": {
             "colorbar": {
              "outlinewidth": 0,
              "ticks": ""
             }
            },
            "type": "scattergl"
           }
          ],
          "scattermapbox": [
           {
            "marker": {
             "colorbar": {
              "outlinewidth": 0,
              "ticks": ""
             }
            },
            "type": "scattermapbox"
           }
          ],
          "scatterpolar": [
           {
            "marker": {
             "colorbar": {
              "outlinewidth": 0,
              "ticks": ""
             }
            },
            "type": "scatterpolar"
           }
          ],
          "scatterpolargl": [
           {
            "marker": {
             "colorbar": {
              "outlinewidth": 0,
              "ticks": ""
             }
            },
            "type": "scatterpolargl"
           }
          ],
          "scatterternary": [
           {
            "marker": {
             "colorbar": {
              "outlinewidth": 0,
              "ticks": ""
             }
            },
            "type": "scatterternary"
           }
          ],
          "surface": [
           {
            "colorbar": {
             "outlinewidth": 0,
             "ticks": ""
            },
            "colorscale": [
             [
              0,
              "#0d0887"
             ],
             [
              0.1111111111111111,
              "#46039f"
             ],
             [
              0.2222222222222222,
              "#7201a8"
             ],
             [
              0.3333333333333333,
              "#9c179e"
             ],
             [
              0.4444444444444444,
              "#bd3786"
             ],
             [
              0.5555555555555556,
              "#d8576b"
             ],
             [
              0.6666666666666666,
              "#ed7953"
             ],
             [
              0.7777777777777778,
              "#fb9f3a"
             ],
             [
              0.8888888888888888,
              "#fdca26"
             ],
             [
              1,
              "#f0f921"
             ]
            ],
            "type": "surface"
           }
          ],
          "table": [
           {
            "cells": {
             "fill": {
              "color": "#EBF0F8"
             },
             "line": {
              "color": "white"
             }
            },
            "header": {
             "fill": {
              "color": "#C8D4E3"
             },
             "line": {
              "color": "white"
             }
            },
            "type": "table"
           }
          ]
         },
         "layout": {
          "annotationdefaults": {
           "arrowcolor": "#2a3f5f",
           "arrowhead": 0,
           "arrowwidth": 1
          },
          "autotypenumbers": "strict",
          "coloraxis": {
           "colorbar": {
            "outlinewidth": 0,
            "ticks": ""
           }
          },
          "colorscale": {
           "diverging": [
            [
             0,
             "#8e0152"
            ],
            [
             0.1,
             "#c51b7d"
            ],
            [
             0.2,
             "#de77ae"
            ],
            [
             0.3,
             "#f1b6da"
            ],
            [
             0.4,
             "#fde0ef"
            ],
            [
             0.5,
             "#f7f7f7"
            ],
            [
             0.6,
             "#e6f5d0"
            ],
            [
             0.7,
             "#b8e186"
            ],
            [
             0.8,
             "#7fbc41"
            ],
            [
             0.9,
             "#4d9221"
            ],
            [
             1,
             "#276419"
            ]
           ],
           "sequential": [
            [
             0,
             "#0d0887"
            ],
            [
             0.1111111111111111,
             "#46039f"
            ],
            [
             0.2222222222222222,
             "#7201a8"
            ],
            [
             0.3333333333333333,
             "#9c179e"
            ],
            [
             0.4444444444444444,
             "#bd3786"
            ],
            [
             0.5555555555555556,
             "#d8576b"
            ],
            [
             0.6666666666666666,
             "#ed7953"
            ],
            [
             0.7777777777777778,
             "#fb9f3a"
            ],
            [
             0.8888888888888888,
             "#fdca26"
            ],
            [
             1,
             "#f0f921"
            ]
           ],
           "sequentialminus": [
            [
             0,
             "#0d0887"
            ],
            [
             0.1111111111111111,
             "#46039f"
            ],
            [
             0.2222222222222222,
             "#7201a8"
            ],
            [
             0.3333333333333333,
             "#9c179e"
            ],
            [
             0.4444444444444444,
             "#bd3786"
            ],
            [
             0.5555555555555556,
             "#d8576b"
            ],
            [
             0.6666666666666666,
             "#ed7953"
            ],
            [
             0.7777777777777778,
             "#fb9f3a"
            ],
            [
             0.8888888888888888,
             "#fdca26"
            ],
            [
             1,
             "#f0f921"
            ]
           ]
          },
          "colorway": [
           "#636efa",
           "#EF553B",
           "#00cc96",
           "#ab63fa",
           "#FFA15A",
           "#19d3f3",
           "#FF6692",
           "#B6E880",
           "#FF97FF",
           "#FECB52"
          ],
          "font": {
           "color": "#2a3f5f"
          },
          "geo": {
           "bgcolor": "white",
           "lakecolor": "white",
           "landcolor": "white",
           "showlakes": true,
           "showland": true,
           "subunitcolor": "#C8D4E3"
          },
          "hoverlabel": {
           "align": "left"
          },
          "hovermode": "closest",
          "mapbox": {
           "style": "light"
          },
          "paper_bgcolor": "white",
          "plot_bgcolor": "white",
          "polar": {
           "angularaxis": {
            "gridcolor": "#EBF0F8",
            "linecolor": "#EBF0F8",
            "ticks": ""
           },
           "bgcolor": "white",
           "radialaxis": {
            "gridcolor": "#EBF0F8",
            "linecolor": "#EBF0F8",
            "ticks": ""
           }
          },
          "scene": {
           "xaxis": {
            "backgroundcolor": "white",
            "gridcolor": "#DFE8F3",
            "gridwidth": 2,
            "linecolor": "#EBF0F8",
            "showbackground": true,
            "ticks": "",
            "zerolinecolor": "#EBF0F8"
           },
           "yaxis": {
            "backgroundcolor": "white",
            "gridcolor": "#DFE8F3",
            "gridwidth": 2,
            "linecolor": "#EBF0F8",
            "showbackground": true,
            "ticks": "",
            "zerolinecolor": "#EBF0F8"
           },
           "zaxis": {
            "backgroundcolor": "white",
            "gridcolor": "#DFE8F3",
            "gridwidth": 2,
            "linecolor": "#EBF0F8",
            "showbackground": true,
            "ticks": "",
            "zerolinecolor": "#EBF0F8"
           }
          },
          "shapedefaults": {
           "line": {
            "color": "#2a3f5f"
           }
          },
          "ternary": {
           "aaxis": {
            "gridcolor": "#DFE8F3",
            "linecolor": "#A2B1C6",
            "ticks": ""
           },
           "baxis": {
            "gridcolor": "#DFE8F3",
            "linecolor": "#A2B1C6",
            "ticks": ""
           },
           "bgcolor": "white",
           "caxis": {
            "gridcolor": "#DFE8F3",
            "linecolor": "#A2B1C6",
            "ticks": ""
           }
          },
          "title": {
           "x": 0.05
          },
          "xaxis": {
           "automargin": true,
           "gridcolor": "#EBF0F8",
           "linecolor": "#EBF0F8",
           "ticks": "",
           "title": {
            "standoff": 15
           },
           "zerolinecolor": "#EBF0F8",
           "zerolinewidth": 2
          },
          "yaxis": {
           "automargin": true,
           "gridcolor": "#EBF0F8",
           "linecolor": "#EBF0F8",
           "ticks": "",
           "title": {
            "standoff": 15
           },
           "zerolinecolor": "#EBF0F8",
           "zerolinewidth": 2
          }
         }
        },
        "title": {
         "text": "Small domestically chartered commercial banks: liabilities as % of total liabilities"
        },
        "xaxis": {
         "anchor": "y",
         "domain": [
          0,
          1
         ],
         "title": {
          "text": "Date"
         }
        },
        "yaxis": {
         "anchor": "x",
         "domain": [
          0,
          1
         ],
         "title": {
          "text": "% value "
         }
        }
       }
      }
     },
     "metadata": {},
     "output_type": "display_data"
    },
    {
     "data": {
      "application/vnd.plotly.v1+json": {
       "config": {
        "plotlyServerURL": "https://plot.ly"
       },
       "data": [
        {
         "alignmentgroup": "True",
         "hovertemplate": "variable=Deposits, small domestically chartered commercial banks, not seasonally adjusted<br>Series Description=%{x}<br>value=%{y}<extra></extra>",
         "legendgroup": "Deposits, small domestically chartered commercial banks, not seasonally adjusted",
         "marker": {
          "color": "#636efa",
          "pattern": {
           "shape": ""
          }
         },
         "name": "Deposits, small domestically chartered commercial banks, not seasonally adjusted",
         "offsetgroup": "Deposits, small domestically chartered commercial banks, not seasonally adjusted",
         "orientation": "v",
         "showlegend": true,
         "textposition": "auto",
         "type": "bar",
         "x": [
          "2022-05-04T00:00:00",
          "2022-05-11T00:00:00",
          "2022-05-18T00:00:00",
          "2022-05-25T00:00:00",
          "2022-06-01T00:00:00",
          "2022-06-08T00:00:00",
          "2022-06-15T00:00:00",
          "2022-06-22T00:00:00",
          "2022-06-29T00:00:00",
          "2022-07-06T00:00:00",
          "2022-07-13T00:00:00",
          "2022-07-20T00:00:00",
          "2022-07-27T00:00:00",
          "2022-08-03T00:00:00",
          "2022-08-10T00:00:00",
          "2022-08-17T00:00:00",
          "2022-08-24T00:00:00",
          "2022-08-31T00:00:00",
          "2022-09-07T00:00:00",
          "2022-09-14T00:00:00",
          "2022-09-21T00:00:00",
          "2022-09-28T00:00:00",
          "2022-10-05T00:00:00",
          "2022-10-12T00:00:00",
          "2022-10-19T00:00:00",
          "2022-10-26T00:00:00",
          "2022-11-02T00:00:00",
          "2022-11-09T00:00:00",
          "2022-11-16T00:00:00",
          "2022-11-23T00:00:00",
          "2022-11-30T00:00:00",
          "2022-12-07T00:00:00",
          "2022-12-14T00:00:00",
          "2022-12-21T00:00:00",
          "2022-12-28T00:00:00",
          "2023-01-04T00:00:00",
          "2023-01-11T00:00:00",
          "2023-01-18T00:00:00",
          "2023-01-25T00:00:00",
          "2023-02-01T00:00:00",
          "2023-02-08T00:00:00",
          "2023-02-15T00:00:00",
          "2023-02-22T00:00:00",
          "2023-03-01T00:00:00",
          "2023-03-08T00:00:00",
          "2023-03-15T00:00:00",
          "2023-03-22T00:00:00",
          "2023-03-29T00:00:00",
          "2023-04-05T00:00:00",
          "2023-04-12T00:00:00",
          "2023-04-19T00:00:00",
          "2023-04-26T00:00:00"
         ],
         "xaxis": "x",
         "y": [
          null,
          -2754.699999999255,
          7193.5999999996275,
          -2653.2000000001863,
          37701.200000000186,
          1514,
          6328.200000000186,
          -23954.60000000056,
          11840.200000000186,
          -897.5999999996275,
          -2523.7000000001863,
          -16613.200000000186,
          -3545,
          17508.10000000056,
          -564.6000000005588,
          679.1000000005588,
          -8255.700000000186,
          31205.700000000186,
          -1491.800000000745,
          -11626.299999999814,
          -42871.89999999944,
          15765.799999999814,
          22977.799999999814,
          -4983.799999999814,
          -20121.400000000373,
          -2807.2999999998137,
          10792.799999999814,
          15408.5,
          5538.200000000186,
          -21826.799999999814,
          5079.0999999996275,
          67542.60000000056,
          5039.5,
          -13938.5,
          154.8999999994412,
          4261.100000000559,
          -29286.200000000186,
          -12165,
          -39277.40000000037,
          17248.799999999814,
          -3933.5999999996275,
          127.09999999962747,
          -5114.199999999255,
          23273.299999999814,
          -5369.4000000003725,
          -180623.7999999998,
          -47461,
          26227,
          28270,
          -16980,
          -39940,
          -26370
         ],
         "yaxis": "y"
        },
        {
         "alignmentgroup": "True",
         "hovertemplate": "variable=Borrowings, small domestically chartered commercial banks, not seasonally adjusted<br>Series Description=%{x}<br>value=%{y}<extra></extra>",
         "legendgroup": "Borrowings, small domestically chartered commercial banks, not seasonally adjusted",
         "marker": {
          "color": "#EF553B",
          "pattern": {
           "shape": ""
          }
         },
         "name": "Borrowings, small domestically chartered commercial banks, not seasonally adjusted",
         "offsetgroup": "Borrowings, small domestically chartered commercial banks, not seasonally adjusted",
         "orientation": "v",
         "showlegend": true,
         "textposition": "auto",
         "type": "bar",
         "x": [
          "2022-05-04T00:00:00",
          "2022-05-11T00:00:00",
          "2022-05-18T00:00:00",
          "2022-05-25T00:00:00",
          "2022-06-01T00:00:00",
          "2022-06-08T00:00:00",
          "2022-06-15T00:00:00",
          "2022-06-22T00:00:00",
          "2022-06-29T00:00:00",
          "2022-07-06T00:00:00",
          "2022-07-13T00:00:00",
          "2022-07-20T00:00:00",
          "2022-07-27T00:00:00",
          "2022-08-03T00:00:00",
          "2022-08-10T00:00:00",
          "2022-08-17T00:00:00",
          "2022-08-24T00:00:00",
          "2022-08-31T00:00:00",
          "2022-09-07T00:00:00",
          "2022-09-14T00:00:00",
          "2022-09-21T00:00:00",
          "2022-09-28T00:00:00",
          "2022-10-05T00:00:00",
          "2022-10-12T00:00:00",
          "2022-10-19T00:00:00",
          "2022-10-26T00:00:00",
          "2022-11-02T00:00:00",
          "2022-11-09T00:00:00",
          "2022-11-16T00:00:00",
          "2022-11-23T00:00:00",
          "2022-11-30T00:00:00",
          "2022-12-07T00:00:00",
          "2022-12-14T00:00:00",
          "2022-12-21T00:00:00",
          "2022-12-28T00:00:00",
          "2023-01-04T00:00:00",
          "2023-01-11T00:00:00",
          "2023-01-18T00:00:00",
          "2023-01-25T00:00:00",
          "2023-02-01T00:00:00",
          "2023-02-08T00:00:00",
          "2023-02-15T00:00:00",
          "2023-02-22T00:00:00",
          "2023-03-01T00:00:00",
          "2023-03-08T00:00:00",
          "2023-03-15T00:00:00",
          "2023-03-22T00:00:00",
          "2023-03-29T00:00:00",
          "2023-04-05T00:00:00",
          "2023-04-12T00:00:00",
          "2023-04-19T00:00:00",
          "2023-04-26T00:00:00"
         ],
         "xaxis": "x",
         "y": [
          null,
          158.10000000000582,
          8465,
          6674.299999999988,
          -3256.7000000000116,
          -8074.099999999977,
          12195.899999999994,
          15219.699999999983,
          5747.799999999988,
          2336.7000000000116,
          -1122.399999999965,
          9542.899999999965,
          -6475.5,
          372.9000000000233,
          3059.7999999999884,
          -274.4000000000233,
          8723.300000000047,
          5684.399999999965,
          -5471.399999999965,
          10287.799999999988,
          18216.20000000001,
          5028.5,
          1365.899999999965,
          9123.400000000023,
          10274,
          2505.5,
          -1960.7999999999884,
          -1669.7000000000116,
          8643.599999999977,
          16365.700000000012,
          5788,
          6569.700000000012,
          -1388.600000000035,
          24393.100000000035,
          9196.799999999988,
          7915.599999999977,
          -9655.799999999988,
          970.4000000000233,
          7229.700000000012,
          8910.799999999988,
          -13100.299999999988,
          3314.899999999965,
          4904.5,
          260.1000000000349,
          -10905.600000000035,
          311393.2,
          -15887,
          -129204,
          -25437,
          10481,
          8252,
          15621
         ],
         "yaxis": "y"
        },
        {
         "alignmentgroup": "True",
         "hovertemplate": "variable=Net due to related foreign offices, small domestically chartered commercial banks, not seasonally adjusted<br>Series Description=%{x}<br>value=%{y}<extra></extra>",
         "legendgroup": "Net due to related foreign offices, small domestically chartered commercial banks, not seasonally adjusted",
         "marker": {
          "color": "#00cc96",
          "pattern": {
           "shape": ""
          }
         },
         "name": "Net due to related foreign offices, small domestically chartered commercial banks, not seasonally adjusted",
         "offsetgroup": "Net due to related foreign offices, small domestically chartered commercial banks, not seasonally adjusted",
         "orientation": "v",
         "showlegend": true,
         "textposition": "auto",
         "type": "bar",
         "x": [
          "2022-05-04T00:00:00",
          "2022-05-11T00:00:00",
          "2022-05-18T00:00:00",
          "2022-05-25T00:00:00",
          "2022-06-01T00:00:00",
          "2022-06-08T00:00:00",
          "2022-06-15T00:00:00",
          "2022-06-22T00:00:00",
          "2022-06-29T00:00:00",
          "2022-07-06T00:00:00",
          "2022-07-13T00:00:00",
          "2022-07-20T00:00:00",
          "2022-07-27T00:00:00",
          "2022-08-03T00:00:00",
          "2022-08-10T00:00:00",
          "2022-08-17T00:00:00",
          "2022-08-24T00:00:00",
          "2022-08-31T00:00:00",
          "2022-09-07T00:00:00",
          "2022-09-14T00:00:00",
          "2022-09-21T00:00:00",
          "2022-09-28T00:00:00",
          "2022-10-05T00:00:00",
          "2022-10-12T00:00:00",
          "2022-10-19T00:00:00",
          "2022-10-26T00:00:00",
          "2022-11-02T00:00:00",
          "2022-11-09T00:00:00",
          "2022-11-16T00:00:00",
          "2022-11-23T00:00:00",
          "2022-11-30T00:00:00",
          "2022-12-07T00:00:00",
          "2022-12-14T00:00:00",
          "2022-12-21T00:00:00",
          "2022-12-28T00:00:00",
          "2023-01-04T00:00:00",
          "2023-01-11T00:00:00",
          "2023-01-18T00:00:00",
          "2023-01-25T00:00:00",
          "2023-02-01T00:00:00",
          "2023-02-08T00:00:00",
          "2023-02-15T00:00:00",
          "2023-02-22T00:00:00",
          "2023-03-01T00:00:00",
          "2023-03-08T00:00:00",
          "2023-03-15T00:00:00",
          "2023-03-22T00:00:00",
          "2023-03-29T00:00:00",
          "2023-04-05T00:00:00",
          "2023-04-12T00:00:00",
          "2023-04-19T00:00:00",
          "2023-04-26T00:00:00"
         ],
         "xaxis": "x",
         "y": [
          null,
          -2751.5999999999985,
          -9954.400000000001,
          594.8999999999978,
          3408.7999999999993,
          -2057.4000000000015,
          -2795.5999999999985,
          -240.59999999999854,
          2235.9000000000015,
          -3783.9000000000015,
          -923.0999999999985,
          2929.0999999999985,
          2203,
          592.1999999999971,
          -1720.3999999999978,
          866.1000000000022,
          -1826.2000000000007,
          5648.899999999998,
          -4324.399999999998,
          -4678.4000000000015,
          1767.4000000000015,
          -2168.7000000000007,
          4164.4000000000015,
          -2150.4000000000015,
          507.7999999999993,
          1201.4000000000015,
          1457.7000000000007,
          -1587,
          1321.5,
          430.7999999999993,
          5180.200000000001,
          -3098.800000000003,
          71.20000000000437,
          -3074.0000000000036,
          5249.799999999999,
          -2563.5999999999985,
          2023.9000000000015,
          560.9000000000015,
          18.19999999999709,
          5504.9000000000015,
          -6980,
          -191.70000000000437,
          7192.600000000006,
          -5620.9000000000015,
          -5439.5,
          -62.400000000001455,
          659,
          2028,
          -922,
          -2283,
          1462,
          1921
         ],
         "yaxis": "y"
        },
        {
         "alignmentgroup": "True",
         "hovertemplate": "variable=Other liabilities, small domestically chartered commercial banks, not seasonally adjusted<br>Series Description=%{x}<br>value=%{y}<extra></extra>",
         "legendgroup": "Other liabilities, small domestically chartered commercial banks, not seasonally adjusted",
         "marker": {
          "color": "#ab63fa",
          "pattern": {
           "shape": ""
          }
         },
         "name": "Other liabilities, small domestically chartered commercial banks, not seasonally adjusted",
         "offsetgroup": "Other liabilities, small domestically chartered commercial banks, not seasonally adjusted",
         "orientation": "v",
         "showlegend": true,
         "textposition": "auto",
         "type": "bar",
         "x": [
          "2022-05-04T00:00:00",
          "2022-05-11T00:00:00",
          "2022-05-18T00:00:00",
          "2022-05-25T00:00:00",
          "2022-06-01T00:00:00",
          "2022-06-08T00:00:00",
          "2022-06-15T00:00:00",
          "2022-06-22T00:00:00",
          "2022-06-29T00:00:00",
          "2022-07-06T00:00:00",
          "2022-07-13T00:00:00",
          "2022-07-20T00:00:00",
          "2022-07-27T00:00:00",
          "2022-08-03T00:00:00",
          "2022-08-10T00:00:00",
          "2022-08-17T00:00:00",
          "2022-08-24T00:00:00",
          "2022-08-31T00:00:00",
          "2022-09-07T00:00:00",
          "2022-09-14T00:00:00",
          "2022-09-21T00:00:00",
          "2022-09-28T00:00:00",
          "2022-10-05T00:00:00",
          "2022-10-12T00:00:00",
          "2022-10-19T00:00:00",
          "2022-10-26T00:00:00",
          "2022-11-02T00:00:00",
          "2022-11-09T00:00:00",
          "2022-11-16T00:00:00",
          "2022-11-23T00:00:00",
          "2022-11-30T00:00:00",
          "2022-12-07T00:00:00",
          "2022-12-14T00:00:00",
          "2022-12-21T00:00:00",
          "2022-12-28T00:00:00",
          "2023-01-04T00:00:00",
          "2023-01-11T00:00:00",
          "2023-01-18T00:00:00",
          "2023-01-25T00:00:00",
          "2023-02-01T00:00:00",
          "2023-02-08T00:00:00",
          "2023-02-15T00:00:00",
          "2023-02-22T00:00:00",
          "2023-03-01T00:00:00",
          "2023-03-08T00:00:00",
          "2023-03-15T00:00:00",
          "2023-03-22T00:00:00",
          "2023-03-29T00:00:00",
          "2023-04-05T00:00:00",
          "2023-04-12T00:00:00",
          "2023-04-19T00:00:00",
          "2023-04-26T00:00:00"
         ],
         "xaxis": "x",
         "y": [
          null,
          -68.30000000000291,
          -3040.199999999997,
          343.29999999998836,
          1656.7000000000116,
          2156.5999999999913,
          2837.9000000000087,
          -4479.700000000012,
          -234.59999999999127,
          1450.8999999999942,
          2264.300000000003,
          -2329.100000000006,
          935.2000000000116,
          742.5,
          901.8999999999942,
          -2180.300000000003,
          3683.699999999997,
          4386,
          2007,
          1764.300000000003,
          -2144.399999999994,
          2765.300000000003,
          2344.5999999999913,
          3890.600000000006,
          2068.0999999999913,
          850.6000000000058,
          6832,
          -6133.199999999997,
          122.30000000000291,
          -2358.2000000000116,
          2529.9000000000087,
          -2670.100000000006,
          -267.5,
          -433.8000000000029,
          -573.0999999999913,
          -666.9000000000087,
          202.3000000000029,
          -847.3000000000029,
          -680.5,
          -358.3999999999942,
          1948.6000000000058,
          3304.2999999999884,
          2235.600000000006,
          -572.1999999999971,
          1274.300000000003,
          -4374.100000000006,
          3415,
          -409,
          -7395,
          3289,
          -5475,
          2654
         ],
         "yaxis": "y"
        }
       ],
       "layout": {
        "barmode": "relative",
        "legend": {
         "title": {
          "text": "Legend"
         },
         "tracegroupgap": 0
        },
        "template": {
         "data": {
          "bar": [
           {
            "error_x": {
             "color": "#2a3f5f"
            },
            "error_y": {
             "color": "#2a3f5f"
            },
            "marker": {
             "line": {
              "color": "white",
              "width": 0.5
             },
             "pattern": {
              "fillmode": "overlay",
              "size": 10,
              "solidity": 0.2
             }
            },
            "type": "bar"
           }
          ],
          "barpolar": [
           {
            "marker": {
             "line": {
              "color": "white",
              "width": 0.5
             },
             "pattern": {
              "fillmode": "overlay",
              "size": 10,
              "solidity": 0.2
             }
            },
            "type": "barpolar"
           }
          ],
          "carpet": [
           {
            "aaxis": {
             "endlinecolor": "#2a3f5f",
             "gridcolor": "#C8D4E3",
             "linecolor": "#C8D4E3",
             "minorgridcolor": "#C8D4E3",
             "startlinecolor": "#2a3f5f"
            },
            "baxis": {
             "endlinecolor": "#2a3f5f",
             "gridcolor": "#C8D4E3",
             "linecolor": "#C8D4E3",
             "minorgridcolor": "#C8D4E3",
             "startlinecolor": "#2a3f5f"
            },
            "type": "carpet"
           }
          ],
          "choropleth": [
           {
            "colorbar": {
             "outlinewidth": 0,
             "ticks": ""
            },
            "type": "choropleth"
           }
          ],
          "contour": [
           {
            "colorbar": {
             "outlinewidth": 0,
             "ticks": ""
            },
            "colorscale": [
             [
              0,
              "#0d0887"
             ],
             [
              0.1111111111111111,
              "#46039f"
             ],
             [
              0.2222222222222222,
              "#7201a8"
             ],
             [
              0.3333333333333333,
              "#9c179e"
             ],
             [
              0.4444444444444444,
              "#bd3786"
             ],
             [
              0.5555555555555556,
              "#d8576b"
             ],
             [
              0.6666666666666666,
              "#ed7953"
             ],
             [
              0.7777777777777778,
              "#fb9f3a"
             ],
             [
              0.8888888888888888,
              "#fdca26"
             ],
             [
              1,
              "#f0f921"
             ]
            ],
            "type": "contour"
           }
          ],
          "contourcarpet": [
           {
            "colorbar": {
             "outlinewidth": 0,
             "ticks": ""
            },
            "type": "contourcarpet"
           }
          ],
          "heatmap": [
           {
            "colorbar": {
             "outlinewidth": 0,
             "ticks": ""
            },
            "colorscale": [
             [
              0,
              "#0d0887"
             ],
             [
              0.1111111111111111,
              "#46039f"
             ],
             [
              0.2222222222222222,
              "#7201a8"
             ],
             [
              0.3333333333333333,
              "#9c179e"
             ],
             [
              0.4444444444444444,
              "#bd3786"
             ],
             [
              0.5555555555555556,
              "#d8576b"
             ],
             [
              0.6666666666666666,
              "#ed7953"
             ],
             [
              0.7777777777777778,
              "#fb9f3a"
             ],
             [
              0.8888888888888888,
              "#fdca26"
             ],
             [
              1,
              "#f0f921"
             ]
            ],
            "type": "heatmap"
           }
          ],
          "heatmapgl": [
           {
            "colorbar": {
             "outlinewidth": 0,
             "ticks": ""
            },
            "colorscale": [
             [
              0,
              "#0d0887"
             ],
             [
              0.1111111111111111,
              "#46039f"
             ],
             [
              0.2222222222222222,
              "#7201a8"
             ],
             [
              0.3333333333333333,
              "#9c179e"
             ],
             [
              0.4444444444444444,
              "#bd3786"
             ],
             [
              0.5555555555555556,
              "#d8576b"
             ],
             [
              0.6666666666666666,
              "#ed7953"
             ],
             [
              0.7777777777777778,
              "#fb9f3a"
             ],
             [
              0.8888888888888888,
              "#fdca26"
             ],
             [
              1,
              "#f0f921"
             ]
            ],
            "type": "heatmapgl"
           }
          ],
          "histogram": [
           {
            "marker": {
             "pattern": {
              "fillmode": "overlay",
              "size": 10,
              "solidity": 0.2
             }
            },
            "type": "histogram"
           }
          ],
          "histogram2d": [
           {
            "colorbar": {
             "outlinewidth": 0,
             "ticks": ""
            },
            "colorscale": [
             [
              0,
              "#0d0887"
             ],
             [
              0.1111111111111111,
              "#46039f"
             ],
             [
              0.2222222222222222,
              "#7201a8"
             ],
             [
              0.3333333333333333,
              "#9c179e"
             ],
             [
              0.4444444444444444,
              "#bd3786"
             ],
             [
              0.5555555555555556,
              "#d8576b"
             ],
             [
              0.6666666666666666,
              "#ed7953"
             ],
             [
              0.7777777777777778,
              "#fb9f3a"
             ],
             [
              0.8888888888888888,
              "#fdca26"
             ],
             [
              1,
              "#f0f921"
             ]
            ],
            "type": "histogram2d"
           }
          ],
          "histogram2dcontour": [
           {
            "colorbar": {
             "outlinewidth": 0,
             "ticks": ""
            },
            "colorscale": [
             [
              0,
              "#0d0887"
             ],
             [
              0.1111111111111111,
              "#46039f"
             ],
             [
              0.2222222222222222,
              "#7201a8"
             ],
             [
              0.3333333333333333,
              "#9c179e"
             ],
             [
              0.4444444444444444,
              "#bd3786"
             ],
             [
              0.5555555555555556,
              "#d8576b"
             ],
             [
              0.6666666666666666,
              "#ed7953"
             ],
             [
              0.7777777777777778,
              "#fb9f3a"
             ],
             [
              0.8888888888888888,
              "#fdca26"
             ],
             [
              1,
              "#f0f921"
             ]
            ],
            "type": "histogram2dcontour"
           }
          ],
          "mesh3d": [
           {
            "colorbar": {
             "outlinewidth": 0,
             "ticks": ""
            },
            "type": "mesh3d"
           }
          ],
          "parcoords": [
           {
            "line": {
             "colorbar": {
              "outlinewidth": 0,
              "ticks": ""
             }
            },
            "type": "parcoords"
           }
          ],
          "pie": [
           {
            "automargin": true,
            "type": "pie"
           }
          ],
          "scatter": [
           {
            "fillpattern": {
             "fillmode": "overlay",
             "size": 10,
             "solidity": 0.2
            },
            "type": "scatter"
           }
          ],
          "scatter3d": [
           {
            "line": {
             "colorbar": {
              "outlinewidth": 0,
              "ticks": ""
             }
            },
            "marker": {
             "colorbar": {
              "outlinewidth": 0,
              "ticks": ""
             }
            },
            "type": "scatter3d"
           }
          ],
          "scattercarpet": [
           {
            "marker": {
             "colorbar": {
              "outlinewidth": 0,
              "ticks": ""
             }
            },
            "type": "scattercarpet"
           }
          ],
          "scattergeo": [
           {
            "marker": {
             "colorbar": {
              "outlinewidth": 0,
              "ticks": ""
             }
            },
            "type": "scattergeo"
           }
          ],
          "scattergl": [
           {
            "marker": {
             "colorbar": {
              "outlinewidth": 0,
              "ticks": ""
             }
            },
            "type": "scattergl"
           }
          ],
          "scattermapbox": [
           {
            "marker": {
             "colorbar": {
              "outlinewidth": 0,
              "ticks": ""
             }
            },
            "type": "scattermapbox"
           }
          ],
          "scatterpolar": [
           {
            "marker": {
             "colorbar": {
              "outlinewidth": 0,
              "ticks": ""
             }
            },
            "type": "scatterpolar"
           }
          ],
          "scatterpolargl": [
           {
            "marker": {
             "colorbar": {
              "outlinewidth": 0,
              "ticks": ""
             }
            },
            "type": "scatterpolargl"
           }
          ],
          "scatterternary": [
           {
            "marker": {
             "colorbar": {
              "outlinewidth": 0,
              "ticks": ""
             }
            },
            "type": "scatterternary"
           }
          ],
          "surface": [
           {
            "colorbar": {
             "outlinewidth": 0,
             "ticks": ""
            },
            "colorscale": [
             [
              0,
              "#0d0887"
             ],
             [
              0.1111111111111111,
              "#46039f"
             ],
             [
              0.2222222222222222,
              "#7201a8"
             ],
             [
              0.3333333333333333,
              "#9c179e"
             ],
             [
              0.4444444444444444,
              "#bd3786"
             ],
             [
              0.5555555555555556,
              "#d8576b"
             ],
             [
              0.6666666666666666,
              "#ed7953"
             ],
             [
              0.7777777777777778,
              "#fb9f3a"
             ],
             [
              0.8888888888888888,
              "#fdca26"
             ],
             [
              1,
              "#f0f921"
             ]
            ],
            "type": "surface"
           }
          ],
          "table": [
           {
            "cells": {
             "fill": {
              "color": "#EBF0F8"
             },
             "line": {
              "color": "white"
             }
            },
            "header": {
             "fill": {
              "color": "#C8D4E3"
             },
             "line": {
              "color": "white"
             }
            },
            "type": "table"
           }
          ]
         },
         "layout": {
          "annotationdefaults": {
           "arrowcolor": "#2a3f5f",
           "arrowhead": 0,
           "arrowwidth": 1
          },
          "autotypenumbers": "strict",
          "coloraxis": {
           "colorbar": {
            "outlinewidth": 0,
            "ticks": ""
           }
          },
          "colorscale": {
           "diverging": [
            [
             0,
             "#8e0152"
            ],
            [
             0.1,
             "#c51b7d"
            ],
            [
             0.2,
             "#de77ae"
            ],
            [
             0.3,
             "#f1b6da"
            ],
            [
             0.4,
             "#fde0ef"
            ],
            [
             0.5,
             "#f7f7f7"
            ],
            [
             0.6,
             "#e6f5d0"
            ],
            [
             0.7,
             "#b8e186"
            ],
            [
             0.8,
             "#7fbc41"
            ],
            [
             0.9,
             "#4d9221"
            ],
            [
             1,
             "#276419"
            ]
           ],
           "sequential": [
            [
             0,
             "#0d0887"
            ],
            [
             0.1111111111111111,
             "#46039f"
            ],
            [
             0.2222222222222222,
             "#7201a8"
            ],
            [
             0.3333333333333333,
             "#9c179e"
            ],
            [
             0.4444444444444444,
             "#bd3786"
            ],
            [
             0.5555555555555556,
             "#d8576b"
            ],
            [
             0.6666666666666666,
             "#ed7953"
            ],
            [
             0.7777777777777778,
             "#fb9f3a"
            ],
            [
             0.8888888888888888,
             "#fdca26"
            ],
            [
             1,
             "#f0f921"
            ]
           ],
           "sequentialminus": [
            [
             0,
             "#0d0887"
            ],
            [
             0.1111111111111111,
             "#46039f"
            ],
            [
             0.2222222222222222,
             "#7201a8"
            ],
            [
             0.3333333333333333,
             "#9c179e"
            ],
            [
             0.4444444444444444,
             "#bd3786"
            ],
            [
             0.5555555555555556,
             "#d8576b"
            ],
            [
             0.6666666666666666,
             "#ed7953"
            ],
            [
             0.7777777777777778,
             "#fb9f3a"
            ],
            [
             0.8888888888888888,
             "#fdca26"
            ],
            [
             1,
             "#f0f921"
            ]
           ]
          },
          "colorway": [
           "#636efa",
           "#EF553B",
           "#00cc96",
           "#ab63fa",
           "#FFA15A",
           "#19d3f3",
           "#FF6692",
           "#B6E880",
           "#FF97FF",
           "#FECB52"
          ],
          "font": {
           "color": "#2a3f5f"
          },
          "geo": {
           "bgcolor": "white",
           "lakecolor": "white",
           "landcolor": "white",
           "showlakes": true,
           "showland": true,
           "subunitcolor": "#C8D4E3"
          },
          "hoverlabel": {
           "align": "left"
          },
          "hovermode": "closest",
          "mapbox": {
           "style": "light"
          },
          "paper_bgcolor": "white",
          "plot_bgcolor": "white",
          "polar": {
           "angularaxis": {
            "gridcolor": "#EBF0F8",
            "linecolor": "#EBF0F8",
            "ticks": ""
           },
           "bgcolor": "white",
           "radialaxis": {
            "gridcolor": "#EBF0F8",
            "linecolor": "#EBF0F8",
            "ticks": ""
           }
          },
          "scene": {
           "xaxis": {
            "backgroundcolor": "white",
            "gridcolor": "#DFE8F3",
            "gridwidth": 2,
            "linecolor": "#EBF0F8",
            "showbackground": true,
            "ticks": "",
            "zerolinecolor": "#EBF0F8"
           },
           "yaxis": {
            "backgroundcolor": "white",
            "gridcolor": "#DFE8F3",
            "gridwidth": 2,
            "linecolor": "#EBF0F8",
            "showbackground": true,
            "ticks": "",
            "zerolinecolor": "#EBF0F8"
           },
           "zaxis": {
            "backgroundcolor": "white",
            "gridcolor": "#DFE8F3",
            "gridwidth": 2,
            "linecolor": "#EBF0F8",
            "showbackground": true,
            "ticks": "",
            "zerolinecolor": "#EBF0F8"
           }
          },
          "shapedefaults": {
           "line": {
            "color": "#2a3f5f"
           }
          },
          "ternary": {
           "aaxis": {
            "gridcolor": "#DFE8F3",
            "linecolor": "#A2B1C6",
            "ticks": ""
           },
           "baxis": {
            "gridcolor": "#DFE8F3",
            "linecolor": "#A2B1C6",
            "ticks": ""
           },
           "bgcolor": "white",
           "caxis": {
            "gridcolor": "#DFE8F3",
            "linecolor": "#A2B1C6",
            "ticks": ""
           }
          },
          "title": {
           "x": 0.05
          },
          "xaxis": {
           "automargin": true,
           "gridcolor": "#EBF0F8",
           "linecolor": "#EBF0F8",
           "ticks": "",
           "title": {
            "standoff": 15
           },
           "zerolinecolor": "#EBF0F8",
           "zerolinewidth": 2
          },
          "yaxis": {
           "automargin": true,
           "gridcolor": "#EBF0F8",
           "linecolor": "#EBF0F8",
           "ticks": "",
           "title": {
            "standoff": 15
           },
           "zerolinecolor": "#EBF0F8",
           "zerolinewidth": 2
          }
         }
        },
        "title": {
         "text": "Small domestically chartered commercial banks: liabilities wow change"
        },
        "xaxis": {
         "anchor": "y",
         "domain": [
          0,
          1
         ],
         "title": {
          "text": "Date"
         }
        },
        "yaxis": {
         "anchor": "x",
         "domain": [
          0,
          1
         ],
         "title": {
          "text": "Value (1000000 multiplier) "
         }
        }
       }
      }
     },
     "metadata": {},
     "output_type": "display_data"
    }
   ],
   "source": [
    "single_bank_type(bank_type = 'small domestically chartered commercial banks', sa= 'not seasonally adjusted', last_days = 52, file_name = 'FRB_H8_small.csv')\n"
   ]
  },
  {
   "cell_type": "code",
   "execution_count": 198,
   "metadata": {},
   "outputs": [
    {
     "data": {
      "application/vnd.plotly.v1+json": {
       "config": {
        "plotlyServerURL": "https://plot.ly"
       },
       "data": [
        {
         "alignmentgroup": "True",
         "hovertemplate": "variable=Treasury and agency securities, large domestically chartered commercial banks, not seasonally adjusted<br>Series Description=%{x}<br>value=%{y}<extra></extra>",
         "legendgroup": "Treasury and agency securities, large domestically chartered commercial banks, not seasonally adjusted",
         "marker": {
          "color": "#636efa",
          "pattern": {
           "shape": ""
          }
         },
         "name": "Treasury and agency securities, large domestically chartered commercial banks, not seasonally adjusted",
         "offsetgroup": "Treasury and agency securities, large domestically chartered commercial banks, not seasonally adjusted",
         "orientation": "v",
         "showlegend": true,
         "textposition": "auto",
         "type": "bar",
         "x": [
          "2022-05-04T00:00:00",
          "2022-05-11T00:00:00",
          "2022-05-18T00:00:00",
          "2022-05-25T00:00:00",
          "2022-06-01T00:00:00",
          "2022-06-08T00:00:00",
          "2022-06-15T00:00:00",
          "2022-06-22T00:00:00",
          "2022-06-29T00:00:00",
          "2022-07-06T00:00:00",
          "2022-07-13T00:00:00",
          "2022-07-20T00:00:00",
          "2022-07-27T00:00:00",
          "2022-08-03T00:00:00",
          "2022-08-10T00:00:00",
          "2022-08-17T00:00:00",
          "2022-08-24T00:00:00",
          "2022-08-31T00:00:00",
          "2022-09-07T00:00:00",
          "2022-09-14T00:00:00",
          "2022-09-21T00:00:00",
          "2022-09-28T00:00:00",
          "2022-10-05T00:00:00",
          "2022-10-12T00:00:00",
          "2022-10-19T00:00:00",
          "2022-10-26T00:00:00",
          "2022-11-02T00:00:00",
          "2022-11-09T00:00:00",
          "2022-11-16T00:00:00",
          "2022-11-23T00:00:00",
          "2022-11-30T00:00:00",
          "2022-12-07T00:00:00",
          "2022-12-14T00:00:00",
          "2022-12-21T00:00:00",
          "2022-12-28T00:00:00",
          "2023-01-04T00:00:00",
          "2023-01-11T00:00:00",
          "2023-01-18T00:00:00",
          "2023-01-25T00:00:00",
          "2023-02-01T00:00:00",
          "2023-02-08T00:00:00",
          "2023-02-15T00:00:00",
          "2023-02-22T00:00:00",
          "2023-03-01T00:00:00",
          "2023-03-08T00:00:00",
          "2023-03-15T00:00:00",
          "2023-03-22T00:00:00",
          "2023-03-29T00:00:00",
          "2023-04-05T00:00:00",
          "2023-04-12T00:00:00",
          "2023-04-19T00:00:00",
          "2023-04-26T00:00:00"
         ],
         "xaxis": "x",
         "y": [
          3398744.9,
          3388717.7,
          3390455,
          3393872.6,
          3380346.7,
          3365294.7,
          3338095.6,
          3340059.8,
          3344134.5,
          3349665.8,
          3335144.8,
          3321956.3,
          3330315.7,
          3329273.1,
          3318645.1,
          3325855.1,
          3312173.7,
          3301780.1,
          3287431,
          3256023.5,
          3247979.1,
          3234874.3,
          3230988.6,
          3216216.1,
          3213125.7,
          3213335.8,
          3216998.2,
          3205692,
          3213179.3,
          3211384.6,
          3212210.5,
          3218147.7,
          3196509.2,
          3187565.1,
          3175670.2,
          3164607.7,
          3165398.3,
          3184979.5,
          3186386.5,
          3194268.1,
          3178906.4,
          3166379.4,
          3160728.2,
          3154851.3,
          3150005.9,
          3148465,
          3121630,
          3101117,
          3104861,
          3088667,
          3096133,
          3107267
         ],
         "yaxis": "y"
        },
        {
         "alignmentgroup": "True",
         "hovertemplate": "variable=Other securities, large domestically chartered commercial banks, not seasonally adjusted<br>Series Description=%{x}<br>value=%{y}<extra></extra>",
         "legendgroup": "Other securities, large domestically chartered commercial banks, not seasonally adjusted",
         "marker": {
          "color": "#EF553B",
          "pattern": {
           "shape": ""
          }
         },
         "name": "Other securities, large domestically chartered commercial banks, not seasonally adjusted",
         "offsetgroup": "Other securities, large domestically chartered commercial banks, not seasonally adjusted",
         "orientation": "v",
         "showlegend": true,
         "textposition": "auto",
         "type": "bar",
         "x": [
          "2022-05-04T00:00:00",
          "2022-05-11T00:00:00",
          "2022-05-18T00:00:00",
          "2022-05-25T00:00:00",
          "2022-06-01T00:00:00",
          "2022-06-08T00:00:00",
          "2022-06-15T00:00:00",
          "2022-06-22T00:00:00",
          "2022-06-29T00:00:00",
          "2022-07-06T00:00:00",
          "2022-07-13T00:00:00",
          "2022-07-20T00:00:00",
          "2022-07-27T00:00:00",
          "2022-08-03T00:00:00",
          "2022-08-10T00:00:00",
          "2022-08-17T00:00:00",
          "2022-08-24T00:00:00",
          "2022-08-31T00:00:00",
          "2022-09-07T00:00:00",
          "2022-09-14T00:00:00",
          "2022-09-21T00:00:00",
          "2022-09-28T00:00:00",
          "2022-10-05T00:00:00",
          "2022-10-12T00:00:00",
          "2022-10-19T00:00:00",
          "2022-10-26T00:00:00",
          "2022-11-02T00:00:00",
          "2022-11-09T00:00:00",
          "2022-11-16T00:00:00",
          "2022-11-23T00:00:00",
          "2022-11-30T00:00:00",
          "2022-12-07T00:00:00",
          "2022-12-14T00:00:00",
          "2022-12-21T00:00:00",
          "2022-12-28T00:00:00",
          "2023-01-04T00:00:00",
          "2023-01-11T00:00:00",
          "2023-01-18T00:00:00",
          "2023-01-25T00:00:00",
          "2023-02-01T00:00:00",
          "2023-02-08T00:00:00",
          "2023-02-15T00:00:00",
          "2023-02-22T00:00:00",
          "2023-03-01T00:00:00",
          "2023-03-08T00:00:00",
          "2023-03-15T00:00:00",
          "2023-03-22T00:00:00",
          "2023-03-29T00:00:00",
          "2023-04-05T00:00:00",
          "2023-04-12T00:00:00",
          "2023-04-19T00:00:00",
          "2023-04-26T00:00:00"
         ],
         "xaxis": "x",
         "y": [
          633297,
          623498,
          622516.2,
          623446.6,
          626636.9,
          626058.6,
          619614.2,
          615663.5,
          619429.5,
          617951.4,
          615546.7,
          617128.5,
          617859.8,
          617406.9,
          616851.6,
          609021.9,
          608520.1,
          602467.3,
          601204.6,
          602756.7,
          595723.3,
          593314.3,
          590416.9,
          586871.7,
          585989.8,
          585011.7,
          583885,
          583581.1,
          587675.9,
          586953.9,
          584202.2,
          583588.7,
          586261.3,
          577847.7,
          581989,
          597924.5,
          601943.4,
          595457.3,
          595224.4,
          596474.8,
          594550.9,
          592018,
          590309.7,
          587609.7,
          586365.3,
          584085,
          585070,
          586440,
          586855,
          584564,
          586134,
          588583
         ],
         "yaxis": "y"
        },
        {
         "alignmentgroup": "True",
         "hovertemplate": "variable=Commercial and industrial loans, large domestically chartered commercial banks, not seasonally adjusted<br>Series Description=%{x}<br>value=%{y}<extra></extra>",
         "legendgroup": "Commercial and industrial loans, large domestically chartered commercial banks, not seasonally adjusted",
         "marker": {
          "color": "#00cc96",
          "pattern": {
           "shape": ""
          }
         },
         "name": "Commercial and industrial loans, large domestically chartered commercial banks, not seasonally adjusted",
         "offsetgroup": "Commercial and industrial loans, large domestically chartered commercial banks, not seasonally adjusted",
         "orientation": "v",
         "showlegend": true,
         "textposition": "auto",
         "type": "bar",
         "x": [
          "2022-05-04T00:00:00",
          "2022-05-11T00:00:00",
          "2022-05-18T00:00:00",
          "2022-05-25T00:00:00",
          "2022-06-01T00:00:00",
          "2022-06-08T00:00:00",
          "2022-06-15T00:00:00",
          "2022-06-22T00:00:00",
          "2022-06-29T00:00:00",
          "2022-07-06T00:00:00",
          "2022-07-13T00:00:00",
          "2022-07-20T00:00:00",
          "2022-07-27T00:00:00",
          "2022-08-03T00:00:00",
          "2022-08-10T00:00:00",
          "2022-08-17T00:00:00",
          "2022-08-24T00:00:00",
          "2022-08-31T00:00:00",
          "2022-09-07T00:00:00",
          "2022-09-14T00:00:00",
          "2022-09-21T00:00:00",
          "2022-09-28T00:00:00",
          "2022-10-05T00:00:00",
          "2022-10-12T00:00:00",
          "2022-10-19T00:00:00",
          "2022-10-26T00:00:00",
          "2022-11-02T00:00:00",
          "2022-11-09T00:00:00",
          "2022-11-16T00:00:00",
          "2022-11-23T00:00:00",
          "2022-11-30T00:00:00",
          "2022-12-07T00:00:00",
          "2022-12-14T00:00:00",
          "2022-12-21T00:00:00",
          "2022-12-28T00:00:00",
          "2023-01-04T00:00:00",
          "2023-01-11T00:00:00",
          "2023-01-18T00:00:00",
          "2023-01-25T00:00:00",
          "2023-02-01T00:00:00",
          "2023-02-08T00:00:00",
          "2023-02-15T00:00:00",
          "2023-02-22T00:00:00",
          "2023-03-01T00:00:00",
          "2023-03-08T00:00:00",
          "2023-03-15T00:00:00",
          "2023-03-22T00:00:00",
          "2023-03-29T00:00:00",
          "2023-04-05T00:00:00",
          "2023-04-12T00:00:00",
          "2023-04-19T00:00:00",
          "2023-04-26T00:00:00"
         ],
         "xaxis": "x",
         "y": [
          1431804.5,
          1430430.6,
          1437860.9,
          1442215.6,
          1454737.9,
          1459663,
          1465137.9,
          1474536.4,
          1476954.3,
          1479826.1,
          1474706.5,
          1478037.2,
          1478338.7,
          1486635.6,
          1484603.8,
          1486682.2,
          1482590.7,
          1472604.3,
          1473326.9,
          1478759.1,
          1484007.5,
          1479893.8,
          1483369.4,
          1485636.1,
          1486005.7,
          1487927.1,
          1496403,
          1500739.4,
          1499998.9,
          1508295,
          1502243.8,
          1500123.6,
          1507026.4,
          1514121,
          1512435.5,
          1503328.2,
          1497188.5,
          1502419.6,
          1503149.6,
          1507674.4,
          1508066.1,
          1507666.1,
          1509517.6,
          1513242.6,
          1511290.7,
          1521236,
          1519830,
          1518054,
          1524290,
          1518437,
          1524376,
          1522608
         ],
         "yaxis": "y"
        },
        {
         "alignmentgroup": "True",
         "hovertemplate": "variable=Real estate loans, large domestically chartered commercial banks, not seasonally adjusted<br>Series Description=%{x}<br>value=%{y}<extra></extra>",
         "legendgroup": "Real estate loans, large domestically chartered commercial banks, not seasonally adjusted",
         "marker": {
          "color": "#ab63fa",
          "pattern": {
           "shape": ""
          }
         },
         "name": "Real estate loans, large domestically chartered commercial banks, not seasonally adjusted",
         "offsetgroup": "Real estate loans, large domestically chartered commercial banks, not seasonally adjusted",
         "orientation": "v",
         "showlegend": true,
         "textposition": "auto",
         "type": "bar",
         "x": [
          "2022-05-04T00:00:00",
          "2022-05-11T00:00:00",
          "2022-05-18T00:00:00",
          "2022-05-25T00:00:00",
          "2022-06-01T00:00:00",
          "2022-06-08T00:00:00",
          "2022-06-15T00:00:00",
          "2022-06-22T00:00:00",
          "2022-06-29T00:00:00",
          "2022-07-06T00:00:00",
          "2022-07-13T00:00:00",
          "2022-07-20T00:00:00",
          "2022-07-27T00:00:00",
          "2022-08-03T00:00:00",
          "2022-08-10T00:00:00",
          "2022-08-17T00:00:00",
          "2022-08-24T00:00:00",
          "2022-08-31T00:00:00",
          "2022-09-07T00:00:00",
          "2022-09-14T00:00:00",
          "2022-09-21T00:00:00",
          "2022-09-28T00:00:00",
          "2022-10-05T00:00:00",
          "2022-10-12T00:00:00",
          "2022-10-19T00:00:00",
          "2022-10-26T00:00:00",
          "2022-11-02T00:00:00",
          "2022-11-09T00:00:00",
          "2022-11-16T00:00:00",
          "2022-11-23T00:00:00",
          "2022-11-30T00:00:00",
          "2022-12-07T00:00:00",
          "2022-12-14T00:00:00",
          "2022-12-21T00:00:00",
          "2022-12-28T00:00:00",
          "2023-01-04T00:00:00",
          "2023-01-11T00:00:00",
          "2023-01-18T00:00:00",
          "2023-01-25T00:00:00",
          "2023-02-01T00:00:00",
          "2023-02-08T00:00:00",
          "2023-02-15T00:00:00",
          "2023-02-22T00:00:00",
          "2023-03-01T00:00:00",
          "2023-03-08T00:00:00",
          "2023-03-15T00:00:00",
          "2023-03-22T00:00:00",
          "2023-03-29T00:00:00",
          "2023-04-05T00:00:00",
          "2023-04-12T00:00:00",
          "2023-04-19T00:00:00",
          "2023-04-26T00:00:00"
         ],
         "xaxis": "x",
         "y": [
          2306621.5,
          2315882.2,
          2310384.3,
          2318767.2,
          2322995.6,
          2331073.5,
          2326636.9,
          2330481,
          2334436.2,
          2336902.9,
          2344204.4,
          2345684.3,
          2350368.2,
          2358272.5,
          2366339.6,
          2358653.6,
          2361237.8,
          2364464.8,
          2366653.6,
          2366526.3,
          2370865.5,
          2373679.4,
          2376082.7,
          2381486.8,
          2377763.8,
          2381428.6,
          2383599,
          2384819.9,
          2381149.3,
          2383221.8,
          2387676.7,
          2390449,
          2391932.4,
          2392896.9,
          2389533.2,
          2387504.1,
          2387693.5,
          2386588,
          2387166.5,
          2387767.8,
          2388324.7,
          2388583.3,
          2389342.5,
          2386234.1,
          2388346.9,
          2391426,
          2392719,
          2394970,
          2397529,
          2401177,
          2400535,
          2401482
         ],
         "yaxis": "y"
        },
        {
         "alignmentgroup": "True",
         "hovertemplate": "variable=Consumer loans, large domestically chartered commercial banks, not seasonally adjusted<br>Series Description=%{x}<br>value=%{y}<extra></extra>",
         "legendgroup": "Consumer loans, large domestically chartered commercial banks, not seasonally adjusted",
         "marker": {
          "color": "#FFA15A",
          "pattern": {
           "shape": ""
          }
         },
         "name": "Consumer loans, large domestically chartered commercial banks, not seasonally adjusted",
         "offsetgroup": "Consumer loans, large domestically chartered commercial banks, not seasonally adjusted",
         "orientation": "v",
         "showlegend": true,
         "textposition": "auto",
         "type": "bar",
         "x": [
          "2022-05-04T00:00:00",
          "2022-05-11T00:00:00",
          "2022-05-18T00:00:00",
          "2022-05-25T00:00:00",
          "2022-06-01T00:00:00",
          "2022-06-08T00:00:00",
          "2022-06-15T00:00:00",
          "2022-06-22T00:00:00",
          "2022-06-29T00:00:00",
          "2022-07-06T00:00:00",
          "2022-07-13T00:00:00",
          "2022-07-20T00:00:00",
          "2022-07-27T00:00:00",
          "2022-08-03T00:00:00",
          "2022-08-10T00:00:00",
          "2022-08-17T00:00:00",
          "2022-08-24T00:00:00",
          "2022-08-31T00:00:00",
          "2022-09-07T00:00:00",
          "2022-09-14T00:00:00",
          "2022-09-21T00:00:00",
          "2022-09-28T00:00:00",
          "2022-10-05T00:00:00",
          "2022-10-12T00:00:00",
          "2022-10-19T00:00:00",
          "2022-10-26T00:00:00",
          "2022-11-02T00:00:00",
          "2022-11-09T00:00:00",
          "2022-11-16T00:00:00",
          "2022-11-23T00:00:00",
          "2022-11-30T00:00:00",
          "2022-12-07T00:00:00",
          "2022-12-14T00:00:00",
          "2022-12-21T00:00:00",
          "2022-12-28T00:00:00",
          "2023-01-04T00:00:00",
          "2023-01-11T00:00:00",
          "2023-01-18T00:00:00",
          "2023-01-25T00:00:00",
          "2023-02-01T00:00:00",
          "2023-02-08T00:00:00",
          "2023-02-15T00:00:00",
          "2023-02-22T00:00:00",
          "2023-03-01T00:00:00",
          "2023-03-08T00:00:00",
          "2023-03-15T00:00:00",
          "2023-03-22T00:00:00",
          "2023-03-29T00:00:00",
          "2023-04-05T00:00:00",
          "2023-04-12T00:00:00",
          "2023-04-19T00:00:00",
          "2023-04-26T00:00:00"
         ],
         "xaxis": "x",
         "y": [
          1325222.7,
          1328724,
          1328083.9,
          1336846.3,
          1344867.7,
          1345361.8,
          1346433.1,
          1355905.3,
          1367567.2,
          1363075.1,
          1364012.5,
          1363528.2,
          1371985.7,
          1371649.7,
          1371543,
          1370982,
          1376839.7,
          1388139.7,
          1383288.9,
          1382689,
          1383466.2,
          1393299.7,
          1392786.4,
          1395127.9,
          1393670.6,
          1399711,
          1399019.8,
          1397586.6,
          1396269.1,
          1403977.9,
          1420062.4,
          1418645.3,
          1424626.7,
          1428475.5,
          1430606.3,
          1424737.1,
          1416586.5,
          1413245,
          1413120.7,
          1412177.4,
          1407755.3,
          1406505.5,
          1407616.8,
          1402134.7,
          1399976.5,
          1397427,
          1398378,
          1410152,
          1407063,
          1409240,
          1413032,
          1423627
         ],
         "yaxis": "y"
        },
        {
         "alignmentgroup": "True",
         "hovertemplate": "variable=Other loans and leases: All other loans and leases, large domestically chartered commercial banks, not seasonally adjusted<br>Series Description=%{x}<br>value=%{y}<extra></extra>",
         "legendgroup": "Other loans and leases: All other loans and leases, large domestically chartered commercial banks, not seasonally adjusted",
         "marker": {
          "color": "#19d3f3",
          "pattern": {
           "shape": ""
          }
         },
         "name": "Other loans and leases: All other loans and leases, large domestically chartered commercial banks, not seasonally adjusted",
         "offsetgroup": "Other loans and leases: All other loans and leases, large domestically chartered commercial banks, not seasonally adjusted",
         "orientation": "v",
         "showlegend": true,
         "textposition": "auto",
         "type": "bar",
         "x": [
          "2022-05-04T00:00:00",
          "2022-05-11T00:00:00",
          "2022-05-18T00:00:00",
          "2022-05-25T00:00:00",
          "2022-06-01T00:00:00",
          "2022-06-08T00:00:00",
          "2022-06-15T00:00:00",
          "2022-06-22T00:00:00",
          "2022-06-29T00:00:00",
          "2022-07-06T00:00:00",
          "2022-07-13T00:00:00",
          "2022-07-20T00:00:00",
          "2022-07-27T00:00:00",
          "2022-08-03T00:00:00",
          "2022-08-10T00:00:00",
          "2022-08-17T00:00:00",
          "2022-08-24T00:00:00",
          "2022-08-31T00:00:00",
          "2022-09-07T00:00:00",
          "2022-09-14T00:00:00",
          "2022-09-21T00:00:00",
          "2022-09-28T00:00:00",
          "2022-10-05T00:00:00",
          "2022-10-12T00:00:00",
          "2022-10-19T00:00:00",
          "2022-10-26T00:00:00",
          "2022-11-02T00:00:00",
          "2022-11-09T00:00:00",
          "2022-11-16T00:00:00",
          "2022-11-23T00:00:00",
          "2022-11-30T00:00:00",
          "2022-12-07T00:00:00",
          "2022-12-14T00:00:00",
          "2022-12-21T00:00:00",
          "2022-12-28T00:00:00",
          "2023-01-04T00:00:00",
          "2023-01-11T00:00:00",
          "2023-01-18T00:00:00",
          "2023-01-25T00:00:00",
          "2023-02-01T00:00:00",
          "2023-02-08T00:00:00",
          "2023-02-15T00:00:00",
          "2023-02-22T00:00:00",
          "2023-03-01T00:00:00",
          "2023-03-08T00:00:00",
          "2023-03-15T00:00:00",
          "2023-03-22T00:00:00",
          "2023-03-29T00:00:00",
          "2023-04-05T00:00:00",
          "2023-04-12T00:00:00",
          "2023-04-19T00:00:00",
          "2023-04-26T00:00:00"
         ],
         "xaxis": "x",
         "y": [
          1149050.3,
          1156603.4,
          1158902.1,
          1165614.5,
          1179176.6,
          1172327.9,
          1180056.4,
          1188956,
          1193221.5,
          1185030.6,
          1181603.5,
          1185753.8,
          1187366.4,
          1190118.9,
          1191877.7,
          1190291.4,
          1188323.2,
          1204113.6,
          1198500.8,
          1202205.6,
          1208318.7,
          1211822.6,
          1218291.6,
          1216244.5,
          1215302.1,
          1218826.7,
          1231004,
          1228179.1,
          1236365.7,
          1231071.8,
          1236769.3,
          1236442.6,
          1240611.8,
          1245518.1,
          1242496.9,
          1233562.3,
          1220779.9,
          1220256.6,
          1217658.7,
          1221055.6,
          1213916.2,
          1215298.8,
          1213987.9,
          1223724.3,
          1216264.6,
          1227757,
          1229598,
          1236037,
          1235835,
          1229266,
          1229789,
          1231686
         ],
         "yaxis": "y"
        },
        {
         "alignmentgroup": "True",
         "hovertemplate": "variable=LESS: Allowance for loan and lease losses, large domestically chartered commercial banks, not seasonally adjusted<br>Series Description=%{x}<br>value=%{y}<extra></extra>",
         "legendgroup": "LESS: Allowance for loan and lease losses, large domestically chartered commercial banks, not seasonally adjusted",
         "marker": {
          "color": "#FF6692",
          "pattern": {
           "shape": ""
          }
         },
         "name": "LESS: Allowance for loan and lease losses, large domestically chartered commercial banks, not seasonally adjusted",
         "offsetgroup": "LESS: Allowance for loan and lease losses, large domestically chartered commercial banks, not seasonally adjusted",
         "orientation": "v",
         "showlegend": true,
         "textposition": "auto",
         "type": "bar",
         "x": [
          "2022-05-04T00:00:00",
          "2022-05-11T00:00:00",
          "2022-05-18T00:00:00",
          "2022-05-25T00:00:00",
          "2022-06-01T00:00:00",
          "2022-06-08T00:00:00",
          "2022-06-15T00:00:00",
          "2022-06-22T00:00:00",
          "2022-06-29T00:00:00",
          "2022-07-06T00:00:00",
          "2022-07-13T00:00:00",
          "2022-07-20T00:00:00",
          "2022-07-27T00:00:00",
          "2022-08-03T00:00:00",
          "2022-08-10T00:00:00",
          "2022-08-17T00:00:00",
          "2022-08-24T00:00:00",
          "2022-08-31T00:00:00",
          "2022-09-07T00:00:00",
          "2022-09-14T00:00:00",
          "2022-09-21T00:00:00",
          "2022-09-28T00:00:00",
          "2022-10-05T00:00:00",
          "2022-10-12T00:00:00",
          "2022-10-19T00:00:00",
          "2022-10-26T00:00:00",
          "2022-11-02T00:00:00",
          "2022-11-09T00:00:00",
          "2022-11-16T00:00:00",
          "2022-11-23T00:00:00",
          "2022-11-30T00:00:00",
          "2022-12-07T00:00:00",
          "2022-12-14T00:00:00",
          "2022-12-21T00:00:00",
          "2022-12-28T00:00:00",
          "2023-01-04T00:00:00",
          "2023-01-11T00:00:00",
          "2023-01-18T00:00:00",
          "2023-01-25T00:00:00",
          "2023-02-01T00:00:00",
          "2023-02-08T00:00:00",
          "2023-02-15T00:00:00",
          "2023-02-22T00:00:00",
          "2023-03-01T00:00:00",
          "2023-03-08T00:00:00",
          "2023-03-15T00:00:00",
          "2023-03-22T00:00:00",
          "2023-03-29T00:00:00",
          "2023-04-05T00:00:00",
          "2023-04-12T00:00:00",
          "2023-04-19T00:00:00",
          "2023-04-26T00:00:00"
         ],
         "xaxis": "x",
         "y": [
          -100246.2,
          -100127.7,
          -100171.1,
          -100099.1,
          -100069.3,
          -100368.4,
          -100356.6,
          -100430.6,
          -100246.6,
          -102576,
          -102770.5,
          -102801.5,
          -102788.3,
          -103156,
          -103231.8,
          -103414.3,
          -103213.5,
          -102864.8,
          -103582.5,
          -103607.6,
          -103610.8,
          -103427.9,
          -107070.6,
          -107595.3,
          -107647.3,
          -107594.8,
          -108074,
          -108092.2,
          -108072.2,
          -108106,
          -108016.3,
          -109052.8,
          -109070.9,
          -109046.1,
          -109181.2,
          -112329.2,
          -113295.2,
          -113264,
          -112850.4,
          -112510.5,
          -112336.8,
          -112302.3,
          -112237.6,
          -112186.3,
          -113647.9,
          -113570,
          -113323,
          -113315,
          -116197,
          -116597,
          -116641,
          -116524
         ],
         "yaxis": "y"
        },
        {
         "alignmentgroup": "True",
         "hovertemplate": "variable=Cash assets, large domestically chartered commercial banks, not seasonally adjusted<br>Series Description=%{x}<br>value=%{y}<extra></extra>",
         "legendgroup": "Cash assets, large domestically chartered commercial banks, not seasonally adjusted",
         "marker": {
          "color": "#B6E880",
          "pattern": {
           "shape": ""
          }
         },
         "name": "Cash assets, large domestically chartered commercial banks, not seasonally adjusted",
         "offsetgroup": "Cash assets, large domestically chartered commercial banks, not seasonally adjusted",
         "orientation": "v",
         "showlegend": true,
         "textposition": "auto",
         "type": "bar",
         "x": [
          "2022-05-04T00:00:00",
          "2022-05-11T00:00:00",
          "2022-05-18T00:00:00",
          "2022-05-25T00:00:00",
          "2022-06-01T00:00:00",
          "2022-06-08T00:00:00",
          "2022-06-15T00:00:00",
          "2022-06-22T00:00:00",
          "2022-06-29T00:00:00",
          "2022-07-06T00:00:00",
          "2022-07-13T00:00:00",
          "2022-07-20T00:00:00",
          "2022-07-27T00:00:00",
          "2022-08-03T00:00:00",
          "2022-08-10T00:00:00",
          "2022-08-17T00:00:00",
          "2022-08-24T00:00:00",
          "2022-08-31T00:00:00",
          "2022-09-07T00:00:00",
          "2022-09-14T00:00:00",
          "2022-09-21T00:00:00",
          "2022-09-28T00:00:00",
          "2022-10-05T00:00:00",
          "2022-10-12T00:00:00",
          "2022-10-19T00:00:00",
          "2022-10-26T00:00:00",
          "2022-11-02T00:00:00",
          "2022-11-09T00:00:00",
          "2022-11-16T00:00:00",
          "2022-11-23T00:00:00",
          "2022-11-30T00:00:00",
          "2022-12-07T00:00:00",
          "2022-12-14T00:00:00",
          "2022-12-21T00:00:00",
          "2022-12-28T00:00:00",
          "2023-01-04T00:00:00",
          "2023-01-11T00:00:00",
          "2023-01-18T00:00:00",
          "2023-01-25T00:00:00",
          "2023-02-01T00:00:00",
          "2023-02-08T00:00:00",
          "2023-02-15T00:00:00",
          "2023-02-22T00:00:00",
          "2023-03-01T00:00:00",
          "2023-03-08T00:00:00",
          "2023-03-15T00:00:00",
          "2023-03-22T00:00:00",
          "2023-03-29T00:00:00",
          "2023-04-05T00:00:00",
          "2023-04-12T00:00:00",
          "2023-04-19T00:00:00",
          "2023-04-26T00:00:00"
         ],
         "xaxis": "x",
         "y": [
          1476070.6,
          1429542.9,
          1425737.8,
          1450137.3,
          1529938,
          1413175.5,
          1474419.8,
          1413994.6,
          1469089.9,
          1474237.7,
          1488173.2,
          1444748.9,
          1509858.6,
          1468683.3,
          1475847.3,
          1436618.3,
          1401886.6,
          1449129.1,
          1452868.6,
          1446198.3,
          1371034.7,
          1390916,
          1333076,
          1407484.9,
          1331442.1,
          1381717.3,
          1337342.3,
          1323999.3,
          1379533.5,
          1349983.3,
          1378296.7,
          1359065.3,
          1442659.3,
          1424397.3,
          1414583.6,
          1418580.8,
          1378437.2,
          1364685.7,
          1292622.2,
          1280747.3,
          1248503.7,
          1315958.4,
          1276968.7,
          1291364.5,
          1267464.2,
          1621143,
          1542167,
          1632119,
          1637544,
          1601478,
          1479769,
          1436591
         ],
         "yaxis": "y"
        },
        {
         "alignmentgroup": "True",
         "hovertemplate": "variable=Total fed funds sold and securities purchased under agreements to resell, large domestically chartered commercial banks, not seasonally adjusted<br>Series Description=%{x}<br>value=%{y}<extra></extra>",
         "legendgroup": "Total fed funds sold and securities purchased under agreements to resell, large domestically chartered commercial banks, not seasonally adjusted",
         "marker": {
          "color": "#FF97FF",
          "pattern": {
           "shape": ""
          }
         },
         "name": "Total fed funds sold and securities purchased under agreements to resell, large domestically chartered commercial banks, not seasonally adjusted",
         "offsetgroup": "Total fed funds sold and securities purchased under agreements to resell, large domestically chartered commercial banks, not seasonally adjusted",
         "orientation": "v",
         "showlegend": true,
         "textposition": "auto",
         "type": "bar",
         "x": [
          "2022-05-04T00:00:00",
          "2022-05-11T00:00:00",
          "2022-05-18T00:00:00",
          "2022-05-25T00:00:00",
          "2022-06-01T00:00:00",
          "2022-06-08T00:00:00",
          "2022-06-15T00:00:00",
          "2022-06-22T00:00:00",
          "2022-06-29T00:00:00",
          "2022-07-06T00:00:00",
          "2022-07-13T00:00:00",
          "2022-07-20T00:00:00",
          "2022-07-27T00:00:00",
          "2022-08-03T00:00:00",
          "2022-08-10T00:00:00",
          "2022-08-17T00:00:00",
          "2022-08-24T00:00:00",
          "2022-08-31T00:00:00",
          "2022-09-07T00:00:00",
          "2022-09-14T00:00:00",
          "2022-09-21T00:00:00",
          "2022-09-28T00:00:00",
          "2022-10-05T00:00:00",
          "2022-10-12T00:00:00",
          "2022-10-19T00:00:00",
          "2022-10-26T00:00:00",
          "2022-11-02T00:00:00",
          "2022-11-09T00:00:00",
          "2022-11-16T00:00:00",
          "2022-11-23T00:00:00",
          "2022-11-30T00:00:00",
          "2022-12-07T00:00:00",
          "2022-12-14T00:00:00",
          "2022-12-21T00:00:00",
          "2022-12-28T00:00:00",
          "2023-01-04T00:00:00",
          "2023-01-11T00:00:00",
          "2023-01-18T00:00:00",
          "2023-01-25T00:00:00",
          "2023-02-01T00:00:00",
          "2023-02-08T00:00:00",
          "2023-02-15T00:00:00",
          "2023-02-22T00:00:00",
          "2023-03-01T00:00:00",
          "2023-03-08T00:00:00",
          "2023-03-15T00:00:00",
          "2023-03-22T00:00:00",
          "2023-03-29T00:00:00",
          "2023-04-05T00:00:00",
          "2023-04-12T00:00:00",
          "2023-04-19T00:00:00",
          "2023-04-26T00:00:00"
         ],
         "xaxis": "x",
         "y": [
          228283,
          225893,
          229246,
          218888,
          225441,
          229045,
          234588,
          229625,
          228997,
          270066,
          238584,
          229157,
          226975,
          231842,
          229272,
          229500,
          230229,
          233205,
          235115,
          241422,
          249190,
          246070,
          251412,
          242862,
          239892,
          244455,
          246002,
          239049,
          263860,
          264643,
          251278,
          239587,
          250062,
          257182,
          264218,
          263223,
          253465,
          252011,
          248389,
          267763,
          238065,
          232343,
          221642,
          224848,
          219674,
          223122,
          232427,
          230296,
          219893,
          220720,
          216018,
          212029
         ],
         "yaxis": "y"
        },
        {
         "alignmentgroup": "True",
         "hovertemplate": "variable=Loans to commercial banks, large domestically chartered commercial banks, not seasonally adjusted<br>Series Description=%{x}<br>value=%{y}<extra></extra>",
         "legendgroup": "Loans to commercial banks, large domestically chartered commercial banks, not seasonally adjusted",
         "marker": {
          "color": "#FECB52",
          "pattern": {
           "shape": ""
          }
         },
         "name": "Loans to commercial banks, large domestically chartered commercial banks, not seasonally adjusted",
         "offsetgroup": "Loans to commercial banks, large domestically chartered commercial banks, not seasonally adjusted",
         "orientation": "v",
         "showlegend": true,
         "textposition": "auto",
         "type": "bar",
         "x": [
          "2022-05-04T00:00:00",
          "2022-05-11T00:00:00",
          "2022-05-18T00:00:00",
          "2022-05-25T00:00:00",
          "2022-06-01T00:00:00",
          "2022-06-08T00:00:00",
          "2022-06-15T00:00:00",
          "2022-06-22T00:00:00",
          "2022-06-29T00:00:00",
          "2022-07-06T00:00:00",
          "2022-07-13T00:00:00",
          "2022-07-20T00:00:00",
          "2022-07-27T00:00:00",
          "2022-08-03T00:00:00",
          "2022-08-10T00:00:00",
          "2022-08-17T00:00:00",
          "2022-08-24T00:00:00",
          "2022-08-31T00:00:00",
          "2022-09-07T00:00:00",
          "2022-09-14T00:00:00",
          "2022-09-21T00:00:00",
          "2022-09-28T00:00:00",
          "2022-10-05T00:00:00",
          "2022-10-12T00:00:00",
          "2022-10-19T00:00:00",
          "2022-10-26T00:00:00",
          "2022-11-02T00:00:00",
          "2022-11-09T00:00:00",
          "2022-11-16T00:00:00",
          "2022-11-23T00:00:00",
          "2022-11-30T00:00:00",
          "2022-12-07T00:00:00",
          "2022-12-14T00:00:00",
          "2022-12-21T00:00:00",
          "2022-12-28T00:00:00",
          "2023-01-04T00:00:00",
          "2023-01-11T00:00:00",
          "2023-01-18T00:00:00",
          "2023-01-25T00:00:00",
          "2023-02-01T00:00:00",
          "2023-02-08T00:00:00",
          "2023-02-15T00:00:00",
          "2023-02-22T00:00:00",
          "2023-03-01T00:00:00",
          "2023-03-08T00:00:00",
          "2023-03-15T00:00:00",
          "2023-03-22T00:00:00",
          "2023-03-29T00:00:00",
          "2023-04-05T00:00:00",
          "2023-04-12T00:00:00",
          "2023-04-19T00:00:00",
          "2023-04-26T00:00:00"
         ],
         "xaxis": "x",
         "y": [
          6261,
          6686,
          7197,
          6505,
          6354,
          6408,
          6419,
          6531,
          6454,
          6379,
          6422,
          6420,
          6396,
          6410,
          6326,
          6285,
          7374,
          7233,
          7279,
          7212,
          6194,
          5184,
          4611,
          4705,
          4555,
          4561,
          4615,
          4588,
          4587,
          4692,
          4697,
          4754,
          4770,
          4893,
          4595,
          4663,
          4585,
          4848,
          4729,
          5100,
          4692,
          4627,
          4658,
          4695,
          4686,
          4672,
          9552,
          5348,
          4801,
          4683,
          4593,
          4652
         ],
         "yaxis": "y"
        },
        {
         "alignmentgroup": "True",
         "hovertemplate": "variable=Other assets, large domestically chartered commercial banks, not seasonally adjusted<br>Series Description=%{x}<br>value=%{y}<extra></extra>",
         "legendgroup": "Other assets, large domestically chartered commercial banks, not seasonally adjusted",
         "marker": {
          "color": "#636efa",
          "pattern": {
           "shape": ""
          }
         },
         "name": "Other assets, large domestically chartered commercial banks, not seasonally adjusted",
         "offsetgroup": "Other assets, large domestically chartered commercial banks, not seasonally adjusted",
         "orientation": "v",
         "showlegend": true,
         "textposition": "auto",
         "type": "bar",
         "x": [
          "2022-05-04T00:00:00",
          "2022-05-11T00:00:00",
          "2022-05-18T00:00:00",
          "2022-05-25T00:00:00",
          "2022-06-01T00:00:00",
          "2022-06-08T00:00:00",
          "2022-06-15T00:00:00",
          "2022-06-22T00:00:00",
          "2022-06-29T00:00:00",
          "2022-07-06T00:00:00",
          "2022-07-13T00:00:00",
          "2022-07-20T00:00:00",
          "2022-07-27T00:00:00",
          "2022-08-03T00:00:00",
          "2022-08-10T00:00:00",
          "2022-08-17T00:00:00",
          "2022-08-24T00:00:00",
          "2022-08-31T00:00:00",
          "2022-09-07T00:00:00",
          "2022-09-14T00:00:00",
          "2022-09-21T00:00:00",
          "2022-09-28T00:00:00",
          "2022-10-05T00:00:00",
          "2022-10-12T00:00:00",
          "2022-10-19T00:00:00",
          "2022-10-26T00:00:00",
          "2022-11-02T00:00:00",
          "2022-11-09T00:00:00",
          "2022-11-16T00:00:00",
          "2022-11-23T00:00:00",
          "2022-11-30T00:00:00",
          "2022-12-07T00:00:00",
          "2022-12-14T00:00:00",
          "2022-12-21T00:00:00",
          "2022-12-28T00:00:00",
          "2023-01-04T00:00:00",
          "2023-01-11T00:00:00",
          "2023-01-18T00:00:00",
          "2023-01-25T00:00:00",
          "2023-02-01T00:00:00",
          "2023-02-08T00:00:00",
          "2023-02-15T00:00:00",
          "2023-02-22T00:00:00",
          "2023-03-01T00:00:00",
          "2023-03-08T00:00:00",
          "2023-03-15T00:00:00",
          "2023-03-22T00:00:00",
          "2023-03-29T00:00:00",
          "2023-04-05T00:00:00",
          "2023-04-12T00:00:00",
          "2023-04-19T00:00:00",
          "2023-04-26T00:00:00"
         ],
         "xaxis": "x",
         "y": [
          1256726.8,
          1295426,
          1277026.7,
          1255916.3,
          1265486,
          1286028.6,
          1286904.4,
          1260638.6,
          1221024.6,
          1257190.5,
          1267335.3,
          1272639.9,
          1245134.3,
          1242894.6,
          1265672.7,
          1262260.9,
          1290573.9,
          1270918.7,
          1235733.4,
          1265379.5,
          1245097.4,
          1232963.8,
          1236502.3,
          1269384.4,
          1266380.8,
          1257720.3,
          1275528.2,
          1292206.5,
          1293472.8,
          1328066.8,
          1292401.8,
          1249997.2,
          1277589.2,
          1258831.6,
          1211409.3,
          1228208.7,
          1247207,
          1248716,
          1239655,
          1246180.5,
          1252255.9,
          1267696.9,
          1277532.3,
          1271419.7,
          1284727.9,
          1265772,
          1252870,
          1252702,
          1227671,
          1252143,
          1260006,
          1238822
         ],
         "yaxis": "y"
        }
       ],
       "layout": {
        "barmode": "relative",
        "legend": {
         "title": {
          "text": "Legend"
         },
         "tracegroupgap": 0
        },
        "margin": {
         "t": 60
        },
        "template": {
         "data": {
          "bar": [
           {
            "error_x": {
             "color": "#2a3f5f"
            },
            "error_y": {
             "color": "#2a3f5f"
            },
            "marker": {
             "line": {
              "color": "white",
              "width": 0.5
             },
             "pattern": {
              "fillmode": "overlay",
              "size": 10,
              "solidity": 0.2
             }
            },
            "type": "bar"
           }
          ],
          "barpolar": [
           {
            "marker": {
             "line": {
              "color": "white",
              "width": 0.5
             },
             "pattern": {
              "fillmode": "overlay",
              "size": 10,
              "solidity": 0.2
             }
            },
            "type": "barpolar"
           }
          ],
          "carpet": [
           {
            "aaxis": {
             "endlinecolor": "#2a3f5f",
             "gridcolor": "#C8D4E3",
             "linecolor": "#C8D4E3",
             "minorgridcolor": "#C8D4E3",
             "startlinecolor": "#2a3f5f"
            },
            "baxis": {
             "endlinecolor": "#2a3f5f",
             "gridcolor": "#C8D4E3",
             "linecolor": "#C8D4E3",
             "minorgridcolor": "#C8D4E3",
             "startlinecolor": "#2a3f5f"
            },
            "type": "carpet"
           }
          ],
          "choropleth": [
           {
            "colorbar": {
             "outlinewidth": 0,
             "ticks": ""
            },
            "type": "choropleth"
           }
          ],
          "contour": [
           {
            "colorbar": {
             "outlinewidth": 0,
             "ticks": ""
            },
            "colorscale": [
             [
              0,
              "#0d0887"
             ],
             [
              0.1111111111111111,
              "#46039f"
             ],
             [
              0.2222222222222222,
              "#7201a8"
             ],
             [
              0.3333333333333333,
              "#9c179e"
             ],
             [
              0.4444444444444444,
              "#bd3786"
             ],
             [
              0.5555555555555556,
              "#d8576b"
             ],
             [
              0.6666666666666666,
              "#ed7953"
             ],
             [
              0.7777777777777778,
              "#fb9f3a"
             ],
             [
              0.8888888888888888,
              "#fdca26"
             ],
             [
              1,
              "#f0f921"
             ]
            ],
            "type": "contour"
           }
          ],
          "contourcarpet": [
           {
            "colorbar": {
             "outlinewidth": 0,
             "ticks": ""
            },
            "type": "contourcarpet"
           }
          ],
          "heatmap": [
           {
            "colorbar": {
             "outlinewidth": 0,
             "ticks": ""
            },
            "colorscale": [
             [
              0,
              "#0d0887"
             ],
             [
              0.1111111111111111,
              "#46039f"
             ],
             [
              0.2222222222222222,
              "#7201a8"
             ],
             [
              0.3333333333333333,
              "#9c179e"
             ],
             [
              0.4444444444444444,
              "#bd3786"
             ],
             [
              0.5555555555555556,
              "#d8576b"
             ],
             [
              0.6666666666666666,
              "#ed7953"
             ],
             [
              0.7777777777777778,
              "#fb9f3a"
             ],
             [
              0.8888888888888888,
              "#fdca26"
             ],
             [
              1,
              "#f0f921"
             ]
            ],
            "type": "heatmap"
           }
          ],
          "heatmapgl": [
           {
            "colorbar": {
             "outlinewidth": 0,
             "ticks": ""
            },
            "colorscale": [
             [
              0,
              "#0d0887"
             ],
             [
              0.1111111111111111,
              "#46039f"
             ],
             [
              0.2222222222222222,
              "#7201a8"
             ],
             [
              0.3333333333333333,
              "#9c179e"
             ],
             [
              0.4444444444444444,
              "#bd3786"
             ],
             [
              0.5555555555555556,
              "#d8576b"
             ],
             [
              0.6666666666666666,
              "#ed7953"
             ],
             [
              0.7777777777777778,
              "#fb9f3a"
             ],
             [
              0.8888888888888888,
              "#fdca26"
             ],
             [
              1,
              "#f0f921"
             ]
            ],
            "type": "heatmapgl"
           }
          ],
          "histogram": [
           {
            "marker": {
             "pattern": {
              "fillmode": "overlay",
              "size": 10,
              "solidity": 0.2
             }
            },
            "type": "histogram"
           }
          ],
          "histogram2d": [
           {
            "colorbar": {
             "outlinewidth": 0,
             "ticks": ""
            },
            "colorscale": [
             [
              0,
              "#0d0887"
             ],
             [
              0.1111111111111111,
              "#46039f"
             ],
             [
              0.2222222222222222,
              "#7201a8"
             ],
             [
              0.3333333333333333,
              "#9c179e"
             ],
             [
              0.4444444444444444,
              "#bd3786"
             ],
             [
              0.5555555555555556,
              "#d8576b"
             ],
             [
              0.6666666666666666,
              "#ed7953"
             ],
             [
              0.7777777777777778,
              "#fb9f3a"
             ],
             [
              0.8888888888888888,
              "#fdca26"
             ],
             [
              1,
              "#f0f921"
             ]
            ],
            "type": "histogram2d"
           }
          ],
          "histogram2dcontour": [
           {
            "colorbar": {
             "outlinewidth": 0,
             "ticks": ""
            },
            "colorscale": [
             [
              0,
              "#0d0887"
             ],
             [
              0.1111111111111111,
              "#46039f"
             ],
             [
              0.2222222222222222,
              "#7201a8"
             ],
             [
              0.3333333333333333,
              "#9c179e"
             ],
             [
              0.4444444444444444,
              "#bd3786"
             ],
             [
              0.5555555555555556,
              "#d8576b"
             ],
             [
              0.6666666666666666,
              "#ed7953"
             ],
             [
              0.7777777777777778,
              "#fb9f3a"
             ],
             [
              0.8888888888888888,
              "#fdca26"
             ],
             [
              1,
              "#f0f921"
             ]
            ],
            "type": "histogram2dcontour"
           }
          ],
          "mesh3d": [
           {
            "colorbar": {
             "outlinewidth": 0,
             "ticks": ""
            },
            "type": "mesh3d"
           }
          ],
          "parcoords": [
           {
            "line": {
             "colorbar": {
              "outlinewidth": 0,
              "ticks": ""
             }
            },
            "type": "parcoords"
           }
          ],
          "pie": [
           {
            "automargin": true,
            "type": "pie"
           }
          ],
          "scatter": [
           {
            "fillpattern": {
             "fillmode": "overlay",
             "size": 10,
             "solidity": 0.2
            },
            "type": "scatter"
           }
          ],
          "scatter3d": [
           {
            "line": {
             "colorbar": {
              "outlinewidth": 0,
              "ticks": ""
             }
            },
            "marker": {
             "colorbar": {
              "outlinewidth": 0,
              "ticks": ""
             }
            },
            "type": "scatter3d"
           }
          ],
          "scattercarpet": [
           {
            "marker": {
             "colorbar": {
              "outlinewidth": 0,
              "ticks": ""
             }
            },
            "type": "scattercarpet"
           }
          ],
          "scattergeo": [
           {
            "marker": {
             "colorbar": {
              "outlinewidth": 0,
              "ticks": ""
             }
            },
            "type": "scattergeo"
           }
          ],
          "scattergl": [
           {
            "marker": {
             "colorbar": {
              "outlinewidth": 0,
              "ticks": ""
             }
            },
            "type": "scattergl"
           }
          ],
          "scattermapbox": [
           {
            "marker": {
             "colorbar": {
              "outlinewidth": 0,
              "ticks": ""
             }
            },
            "type": "scattermapbox"
           }
          ],
          "scatterpolar": [
           {
            "marker": {
             "colorbar": {
              "outlinewidth": 0,
              "ticks": ""
             }
            },
            "type": "scatterpolar"
           }
          ],
          "scatterpolargl": [
           {
            "marker": {
             "colorbar": {
              "outlinewidth": 0,
              "ticks": ""
             }
            },
            "type": "scatterpolargl"
           }
          ],
          "scatterternary": [
           {
            "marker": {
             "colorbar": {
              "outlinewidth": 0,
              "ticks": ""
             }
            },
            "type": "scatterternary"
           }
          ],
          "surface": [
           {
            "colorbar": {
             "outlinewidth": 0,
             "ticks": ""
            },
            "colorscale": [
             [
              0,
              "#0d0887"
             ],
             [
              0.1111111111111111,
              "#46039f"
             ],
             [
              0.2222222222222222,
              "#7201a8"
             ],
             [
              0.3333333333333333,
              "#9c179e"
             ],
             [
              0.4444444444444444,
              "#bd3786"
             ],
             [
              0.5555555555555556,
              "#d8576b"
             ],
             [
              0.6666666666666666,
              "#ed7953"
             ],
             [
              0.7777777777777778,
              "#fb9f3a"
             ],
             [
              0.8888888888888888,
              "#fdca26"
             ],
             [
              1,
              "#f0f921"
             ]
            ],
            "type": "surface"
           }
          ],
          "table": [
           {
            "cells": {
             "fill": {
              "color": "#EBF0F8"
             },
             "line": {
              "color": "white"
             }
            },
            "header": {
             "fill": {
              "color": "#C8D4E3"
             },
             "line": {
              "color": "white"
             }
            },
            "type": "table"
           }
          ]
         },
         "layout": {
          "annotationdefaults": {
           "arrowcolor": "#2a3f5f",
           "arrowhead": 0,
           "arrowwidth": 1
          },
          "autotypenumbers": "strict",
          "coloraxis": {
           "colorbar": {
            "outlinewidth": 0,
            "ticks": ""
           }
          },
          "colorscale": {
           "diverging": [
            [
             0,
             "#8e0152"
            ],
            [
             0.1,
             "#c51b7d"
            ],
            [
             0.2,
             "#de77ae"
            ],
            [
             0.3,
             "#f1b6da"
            ],
            [
             0.4,
             "#fde0ef"
            ],
            [
             0.5,
             "#f7f7f7"
            ],
            [
             0.6,
             "#e6f5d0"
            ],
            [
             0.7,
             "#b8e186"
            ],
            [
             0.8,
             "#7fbc41"
            ],
            [
             0.9,
             "#4d9221"
            ],
            [
             1,
             "#276419"
            ]
           ],
           "sequential": [
            [
             0,
             "#0d0887"
            ],
            [
             0.1111111111111111,
             "#46039f"
            ],
            [
             0.2222222222222222,
             "#7201a8"
            ],
            [
             0.3333333333333333,
             "#9c179e"
            ],
            [
             0.4444444444444444,
             "#bd3786"
            ],
            [
             0.5555555555555556,
             "#d8576b"
            ],
            [
             0.6666666666666666,
             "#ed7953"
            ],
            [
             0.7777777777777778,
             "#fb9f3a"
            ],
            [
             0.8888888888888888,
             "#fdca26"
            ],
            [
             1,
             "#f0f921"
            ]
           ],
           "sequentialminus": [
            [
             0,
             "#0d0887"
            ],
            [
             0.1111111111111111,
             "#46039f"
            ],
            [
             0.2222222222222222,
             "#7201a8"
            ],
            [
             0.3333333333333333,
             "#9c179e"
            ],
            [
             0.4444444444444444,
             "#bd3786"
            ],
            [
             0.5555555555555556,
             "#d8576b"
            ],
            [
             0.6666666666666666,
             "#ed7953"
            ],
            [
             0.7777777777777778,
             "#fb9f3a"
            ],
            [
             0.8888888888888888,
             "#fdca26"
            ],
            [
             1,
             "#f0f921"
            ]
           ]
          },
          "colorway": [
           "#636efa",
           "#EF553B",
           "#00cc96",
           "#ab63fa",
           "#FFA15A",
           "#19d3f3",
           "#FF6692",
           "#B6E880",
           "#FF97FF",
           "#FECB52"
          ],
          "font": {
           "color": "#2a3f5f"
          },
          "geo": {
           "bgcolor": "white",
           "lakecolor": "white",
           "landcolor": "white",
           "showlakes": true,
           "showland": true,
           "subunitcolor": "#C8D4E3"
          },
          "hoverlabel": {
           "align": "left"
          },
          "hovermode": "closest",
          "mapbox": {
           "style": "light"
          },
          "paper_bgcolor": "white",
          "plot_bgcolor": "white",
          "polar": {
           "angularaxis": {
            "gridcolor": "#EBF0F8",
            "linecolor": "#EBF0F8",
            "ticks": ""
           },
           "bgcolor": "white",
           "radialaxis": {
            "gridcolor": "#EBF0F8",
            "linecolor": "#EBF0F8",
            "ticks": ""
           }
          },
          "scene": {
           "xaxis": {
            "backgroundcolor": "white",
            "gridcolor": "#DFE8F3",
            "gridwidth": 2,
            "linecolor": "#EBF0F8",
            "showbackground": true,
            "ticks": "",
            "zerolinecolor": "#EBF0F8"
           },
           "yaxis": {
            "backgroundcolor": "white",
            "gridcolor": "#DFE8F3",
            "gridwidth": 2,
            "linecolor": "#EBF0F8",
            "showbackground": true,
            "ticks": "",
            "zerolinecolor": "#EBF0F8"
           },
           "zaxis": {
            "backgroundcolor": "white",
            "gridcolor": "#DFE8F3",
            "gridwidth": 2,
            "linecolor": "#EBF0F8",
            "showbackground": true,
            "ticks": "",
            "zerolinecolor": "#EBF0F8"
           }
          },
          "shapedefaults": {
           "line": {
            "color": "#2a3f5f"
           }
          },
          "ternary": {
           "aaxis": {
            "gridcolor": "#DFE8F3",
            "linecolor": "#A2B1C6",
            "ticks": ""
           },
           "baxis": {
            "gridcolor": "#DFE8F3",
            "linecolor": "#A2B1C6",
            "ticks": ""
           },
           "bgcolor": "white",
           "caxis": {
            "gridcolor": "#DFE8F3",
            "linecolor": "#A2B1C6",
            "ticks": ""
           }
          },
          "title": {
           "x": 0.05
          },
          "xaxis": {
           "automargin": true,
           "gridcolor": "#EBF0F8",
           "linecolor": "#EBF0F8",
           "ticks": "",
           "title": {
            "standoff": 15
           },
           "zerolinecolor": "#EBF0F8",
           "zerolinewidth": 2
          },
          "yaxis": {
           "automargin": true,
           "gridcolor": "#EBF0F8",
           "linecolor": "#EBF0F8",
           "ticks": "",
           "title": {
            "standoff": 15
           },
           "zerolinecolor": "#EBF0F8",
           "zerolinewidth": 2
          }
         }
        },
        "title": {
         "text": "Large domestically chartered commercial banks: assets"
        },
        "xaxis": {
         "anchor": "y",
         "domain": [
          0,
          1
         ],
         "title": {
          "text": "Date"
         }
        },
        "yaxis": {
         "anchor": "x",
         "domain": [
          0,
          1
         ],
         "title": {
          "text": "Value (1000000 multiplier)"
         }
        }
       }
      }
     },
     "metadata": {},
     "output_type": "display_data"
    },
    {
     "data": {
      "application/vnd.plotly.v1+json": {
       "config": {
        "plotlyServerURL": "https://plot.ly"
       },
       "data": [
        {
         "alignmentgroup": "True",
         "hovertemplate": "variable=Treasury and agency securities, large domestically chartered commercial banks, not seasonally adjusted<br>Series Description=%{x}<br>value=%{y}<extra></extra>",
         "legendgroup": "Treasury and agency securities, large domestically chartered commercial banks, not seasonally adjusted",
         "marker": {
          "color": "#636efa",
          "pattern": {
           "shape": ""
          }
         },
         "name": "Treasury and agency securities, large domestically chartered commercial banks, not seasonally adjusted",
         "offsetgroup": "Treasury and agency securities, large domestically chartered commercial banks, not seasonally adjusted",
         "orientation": "v",
         "showlegend": true,
         "textposition": "auto",
         "type": "bar",
         "x": [
          "2022-05-04T00:00:00",
          "2022-05-11T00:00:00",
          "2022-05-18T00:00:00",
          "2022-05-25T00:00:00",
          "2022-06-01T00:00:00",
          "2022-06-08T00:00:00",
          "2022-06-15T00:00:00",
          "2022-06-22T00:00:00",
          "2022-06-29T00:00:00",
          "2022-07-06T00:00:00",
          "2022-07-13T00:00:00",
          "2022-07-20T00:00:00",
          "2022-07-27T00:00:00",
          "2022-08-03T00:00:00",
          "2022-08-10T00:00:00",
          "2022-08-17T00:00:00",
          "2022-08-24T00:00:00",
          "2022-08-31T00:00:00",
          "2022-09-07T00:00:00",
          "2022-09-14T00:00:00",
          "2022-09-21T00:00:00",
          "2022-09-28T00:00:00",
          "2022-10-05T00:00:00",
          "2022-10-12T00:00:00",
          "2022-10-19T00:00:00",
          "2022-10-26T00:00:00",
          "2022-11-02T00:00:00",
          "2022-11-09T00:00:00",
          "2022-11-16T00:00:00",
          "2022-11-23T00:00:00",
          "2022-11-30T00:00:00",
          "2022-12-07T00:00:00",
          "2022-12-14T00:00:00",
          "2022-12-21T00:00:00",
          "2022-12-28T00:00:00",
          "2023-01-04T00:00:00",
          "2023-01-11T00:00:00",
          "2023-01-18T00:00:00",
          "2023-01-25T00:00:00",
          "2023-02-01T00:00:00",
          "2023-02-08T00:00:00",
          "2023-02-15T00:00:00",
          "2023-02-22T00:00:00",
          "2023-03-01T00:00:00",
          "2023-03-08T00:00:00",
          "2023-03-15T00:00:00",
          "2023-03-22T00:00:00",
          "2023-03-29T00:00:00",
          "2023-04-05T00:00:00",
          "2023-04-12T00:00:00",
          "2023-04-19T00:00:00",
          "2023-04-26T00:00:00"
         ],
         "xaxis": "x",
         "y": [
          0.2592119686546117,
          0.2586555422745763,
          0.25906572439099984,
          0.2588349661673832,
          0.25539206934830555,
          0.2562263742758213,
          0.25330919674926344,
          0.2546561324681015,
          0.2540930606822843,
          0.25303892678430445,
          0.2524146156081895,
          0.2523850913815853,
          0.25188046680537335,
          0.252217074405873,
          0.2509610210939302,
          0.2524802041695802,
          0.2517512114302616,
          0.2503018984457415,
          0.2502265330272389,
          0.2476898957058862,
          0.24872974708065368,
          0.2477200313948139,
          0.24833764797499994,
          0.2455422194303681,
          0.24704037146037405,
          0.2459104084582014,
          0.24620532670917927,
          0.2456026955945691,
          0.24438504589052434,
          0.2439486242067976,
          0.24405515251569918,
          0.24581498007328695,
          0.24192194195500644,
          0.24179943808096108,
          0.24207837082753922,
          0.24131502321604856,
          0.2423737340054421,
          0.24387392416450704,
          0.24557416471771917,
          0.24558638954832687,
          0.24599399100779207,
          0.24385325083281,
          0.2442590402781859,
          0.24365666732635988,
          0.24389998567651625,
          0.2372344269144451,
          0.23700929578333113,
          0.23397734406122866,
          0.23468079903886163,
          0.23410027059724667,
          0.2364589532222411,
          0.23808973579673864
         ],
         "yaxis": "y"
        },
        {
         "alignmentgroup": "True",
         "hovertemplate": "variable=Other securities, large domestically chartered commercial banks, not seasonally adjusted<br>Series Description=%{x}<br>value=%{y}<extra></extra>",
         "legendgroup": "Other securities, large domestically chartered commercial banks, not seasonally adjusted",
         "marker": {
          "color": "#EF553B",
          "pattern": {
           "shape": ""
          }
         },
         "name": "Other securities, large domestically chartered commercial banks, not seasonally adjusted",
         "offsetgroup": "Other securities, large domestically chartered commercial banks, not seasonally adjusted",
         "orientation": "v",
         "showlegend": true,
         "textposition": "auto",
         "type": "bar",
         "x": [
          "2022-05-04T00:00:00",
          "2022-05-11T00:00:00",
          "2022-05-18T00:00:00",
          "2022-05-25T00:00:00",
          "2022-06-01T00:00:00",
          "2022-06-08T00:00:00",
          "2022-06-15T00:00:00",
          "2022-06-22T00:00:00",
          "2022-06-29T00:00:00",
          "2022-07-06T00:00:00",
          "2022-07-13T00:00:00",
          "2022-07-20T00:00:00",
          "2022-07-27T00:00:00",
          "2022-08-03T00:00:00",
          "2022-08-10T00:00:00",
          "2022-08-17T00:00:00",
          "2022-08-24T00:00:00",
          "2022-08-31T00:00:00",
          "2022-09-07T00:00:00",
          "2022-09-14T00:00:00",
          "2022-09-21T00:00:00",
          "2022-09-28T00:00:00",
          "2022-10-05T00:00:00",
          "2022-10-12T00:00:00",
          "2022-10-19T00:00:00",
          "2022-10-26T00:00:00",
          "2022-11-02T00:00:00",
          "2022-11-09T00:00:00",
          "2022-11-16T00:00:00",
          "2022-11-23T00:00:00",
          "2022-11-30T00:00:00",
          "2022-12-07T00:00:00",
          "2022-12-14T00:00:00",
          "2022-12-21T00:00:00",
          "2022-12-28T00:00:00",
          "2023-01-04T00:00:00",
          "2023-01-11T00:00:00",
          "2023-01-18T00:00:00",
          "2023-01-25T00:00:00",
          "2023-02-01T00:00:00",
          "2023-02-08T00:00:00",
          "2023-02-15T00:00:00",
          "2023-02-22T00:00:00",
          "2023-03-01T00:00:00",
          "2023-03-08T00:00:00",
          "2023-03-15T00:00:00",
          "2023-03-22T00:00:00",
          "2023-03-29T00:00:00",
          "2023-04-05T00:00:00",
          "2023-04-12T00:00:00",
          "2023-04-19T00:00:00",
          "2023-04-26T00:00:00"
         ],
         "xaxis": "x",
         "y": [
          0.04829964205700158,
          0.04759063090357564,
          0.04756665707055028,
          0.047547388672801116,
          0.04734369247420899,
          0.04766676902388272,
          0.047019017459067815,
          0.04694002359232461,
          0.047065313172032115,
          0.04668100294090786,
          0.04658657809081919,
          0.0468862377469206,
          0.04673034897090226,
          0.046773141571353635,
          0.04664726198032582,
          0.04623351560197126,
          0.046252306258776195,
          0.045671941914447935,
          0.04576136889200958,
          0.045852477464927426,
          0.04562040000166638,
          0.045434790780894345,
          0.04538014905737852,
          0.04480475666385513,
          0.045053680241638326,
          0.044769820228507326,
          0.04468625353461159,
          0.044710811661895083,
          0.04469691491858397,
          0.04458718410053229,
          0.04438611884900039,
          0.0445768367503752,
          0.04437011230534441,
          0.04383384959145643,
          0.04436447744465049,
          0.045594328990270806,
          0.046090651378037154,
          0.0455941736590148,
          0.04587382442450267,
          0.04585904751969955,
          0.046008258924602086,
          0.045593245664603085,
          0.04561875354828163,
          0.045382494316179696,
          0.04540133981057184,
          0.04401035750574444,
          0.044421353166119476,
          0.04424653234665669,
          0.04435741256048214,
          0.04430603576928458,
          0.044764431013772685,
          0.04509930140037912
         ],
         "yaxis": "y"
        },
        {
         "alignmentgroup": "True",
         "hovertemplate": "variable=Commercial and industrial loans, large domestically chartered commercial banks, not seasonally adjusted<br>Series Description=%{x}<br>value=%{y}<extra></extra>",
         "legendgroup": "Commercial and industrial loans, large domestically chartered commercial banks, not seasonally adjusted",
         "marker": {
          "color": "#00cc96",
          "pattern": {
           "shape": ""
          }
         },
         "name": "Commercial and industrial loans, large domestically chartered commercial banks, not seasonally adjusted",
         "offsetgroup": "Commercial and industrial loans, large domestically chartered commercial banks, not seasonally adjusted",
         "orientation": "v",
         "showlegend": true,
         "textposition": "auto",
         "type": "bar",
         "x": [
          "2022-05-04T00:00:00",
          "2022-05-11T00:00:00",
          "2022-05-18T00:00:00",
          "2022-05-25T00:00:00",
          "2022-06-01T00:00:00",
          "2022-06-08T00:00:00",
          "2022-06-15T00:00:00",
          "2022-06-22T00:00:00",
          "2022-06-29T00:00:00",
          "2022-07-06T00:00:00",
          "2022-07-13T00:00:00",
          "2022-07-20T00:00:00",
          "2022-07-27T00:00:00",
          "2022-08-03T00:00:00",
          "2022-08-10T00:00:00",
          "2022-08-17T00:00:00",
          "2022-08-24T00:00:00",
          "2022-08-31T00:00:00",
          "2022-09-07T00:00:00",
          "2022-09-14T00:00:00",
          "2022-09-21T00:00:00",
          "2022-09-28T00:00:00",
          "2022-10-05T00:00:00",
          "2022-10-12T00:00:00",
          "2022-10-19T00:00:00",
          "2022-10-26T00:00:00",
          "2022-11-02T00:00:00",
          "2022-11-09T00:00:00",
          "2022-11-16T00:00:00",
          "2022-11-23T00:00:00",
          "2022-11-30T00:00:00",
          "2022-12-07T00:00:00",
          "2022-12-14T00:00:00",
          "2022-12-21T00:00:00",
          "2022-12-28T00:00:00",
          "2023-01-04T00:00:00",
          "2023-01-11T00:00:00",
          "2023-01-18T00:00:00",
          "2023-01-25T00:00:00",
          "2023-02-01T00:00:00",
          "2023-02-08T00:00:00",
          "2023-02-15T00:00:00",
          "2023-02-22T00:00:00",
          "2023-03-01T00:00:00",
          "2023-03-08T00:00:00",
          "2023-03-15T00:00:00",
          "2023-03-22T00:00:00",
          "2023-03-29T00:00:00",
          "2023-04-05T00:00:00",
          "2023-04-12T00:00:00",
          "2023-04-19T00:00:00",
          "2023-04-26T00:00:00"
         ],
         "xaxis": "x",
         "y": [
          0.10919938803689914,
          0.10918253902623624,
          0.10986739998967543,
          0.10999111340598709,
          0.10990840751346846,
          0.11113563342745826,
          0.11118102925988776,
          0.1124230580564568,
          0.11222151458766408,
          0.11178834860821127,
          0.11161058864142827,
          0.1122936366704711,
          0.111810613586108,
          0.112623648008816,
          0.11226801129410581,
          0.11286054686846721,
          0.11268853586399756,
          0.11163543324686047,
          0.11214394528821121,
          0.11249110679119181,
          0.11364506937276571,
          0.1133272283862747,
          0.11401354615552863,
          0.11342098102794658,
          0.11425117919296875,
          0.11386819918323728,
          0.11452365422635176,
          0.11497849513458444,
          0.1140855413864505,
          0.11457565379991913,
          0.11413646139465751,
          0.11458543460931502,
          0.11405653181460021,
          0.11485682503757581,
          0.11529154438698788,
          0.11463527674673245,
          0.11463933851705388,
          0.1150402894567042,
          0.11584743641920832,
          0.1159152271878619,
          0.11669900021043592,
          0.1161103055608006,
          0.11665454823323008,
          0.11687132410084619,
          0.11701685386781409,
          0.1146239677625836,
          0.11539286783199167,
          0.11453622777261369,
          0.11521340091132788,
          0.11508735405431257,
          0.11642017745268275,
          0.11666758487185061
         ],
         "yaxis": "y"
        },
        {
         "alignmentgroup": "True",
         "hovertemplate": "variable=Real estate loans, large domestically chartered commercial banks, not seasonally adjusted<br>Series Description=%{x}<br>value=%{y}<extra></extra>",
         "legendgroup": "Real estate loans, large domestically chartered commercial banks, not seasonally adjusted",
         "marker": {
          "color": "#ab63fa",
          "pattern": {
           "shape": ""
          }
         },
         "name": "Real estate loans, large domestically chartered commercial banks, not seasonally adjusted",
         "offsetgroup": "Real estate loans, large domestically chartered commercial banks, not seasonally adjusted",
         "orientation": "v",
         "showlegend": true,
         "textposition": "auto",
         "type": "bar",
         "x": [
          "2022-05-04T00:00:00",
          "2022-05-11T00:00:00",
          "2022-05-18T00:00:00",
          "2022-05-25T00:00:00",
          "2022-06-01T00:00:00",
          "2022-06-08T00:00:00",
          "2022-06-15T00:00:00",
          "2022-06-22T00:00:00",
          "2022-06-29T00:00:00",
          "2022-07-06T00:00:00",
          "2022-07-13T00:00:00",
          "2022-07-20T00:00:00",
          "2022-07-27T00:00:00",
          "2022-08-03T00:00:00",
          "2022-08-10T00:00:00",
          "2022-08-17T00:00:00",
          "2022-08-24T00:00:00",
          "2022-08-31T00:00:00",
          "2022-09-07T00:00:00",
          "2022-09-14T00:00:00",
          "2022-09-21T00:00:00",
          "2022-09-28T00:00:00",
          "2022-10-05T00:00:00",
          "2022-10-12T00:00:00",
          "2022-10-19T00:00:00",
          "2022-10-26T00:00:00",
          "2022-11-02T00:00:00",
          "2022-11-09T00:00:00",
          "2022-11-16T00:00:00",
          "2022-11-23T00:00:00",
          "2022-11-30T00:00:00",
          "2022-12-07T00:00:00",
          "2022-12-14T00:00:00",
          "2022-12-21T00:00:00",
          "2022-12-28T00:00:00",
          "2023-01-04T00:00:00",
          "2023-01-11T00:00:00",
          "2023-01-18T00:00:00",
          "2023-01-25T00:00:00",
          "2023-02-01T00:00:00",
          "2023-02-08T00:00:00",
          "2023-02-15T00:00:00",
          "2023-02-22T00:00:00",
          "2023-03-01T00:00:00",
          "2023-03-08T00:00:00",
          "2023-03-15T00:00:00",
          "2023-03-22T00:00:00",
          "2023-03-29T00:00:00",
          "2023-04-05T00:00:00",
          "2023-04-12T00:00:00",
          "2023-04-19T00:00:00",
          "2023-04-26T00:00:00"
         ],
         "xaxis": "x",
         "y": [
          0.17591902821422503,
          0.17676768008295254,
          0.17653718521587608,
          0.17684164979028322,
          0.1755070429228483,
          0.17748297380180367,
          0.17655531623066648,
          0.17768283018477504,
          0.17737445638789984,
          0.17653325350102952,
          0.1774170202544209,
          0.17821298444168274,
          0.17776448022045033,
          0.178656593417291,
          0.17894622183944958,
          0.17905570885914887,
          0.1794726154081006,
          0.1792457433031747,
          0.18014051860082655,
          0.18002469958593256,
          0.1815605205640786,
          0.1817714943326308,
          0.18262855805560174,
          0.18181475878319406,
          0.18281377924213502,
          0.1822461504770347,
          0.18242309571036533,
          0.18271193737501004,
          0.181103270817377,
          0.18103832200280456,
          0.18140928223000372,
          0.18259204613300026,
          0.18102902104367452,
          0.1815182145787936,
          0.1821518821741365,
          0.1820575129485753,
          0.1828250774177528,
          0.18274107601757641,
          0.18397844055629195,
          0.1835798545155779,
          0.18481623893534196,
          0.18395262506759646,
          0.1846468500347108,
          0.18429453339576285,
          0.18492593131351023,
          0.18019211794264944,
          0.18166683597908664,
          0.18069899320352018,
          0.1812171370759731,
          0.18199313343001527,
          0.18333449928454382,
          0.1840100045797878
         ],
         "yaxis": "y"
        },
        {
         "alignmentgroup": "True",
         "hovertemplate": "variable=Consumer loans, large domestically chartered commercial banks, not seasonally adjusted<br>Series Description=%{x}<br>value=%{y}<extra></extra>",
         "legendgroup": "Consumer loans, large domestically chartered commercial banks, not seasonally adjusted",
         "marker": {
          "color": "#FFA15A",
          "pattern": {
           "shape": ""
          }
         },
         "name": "Consumer loans, large domestically chartered commercial banks, not seasonally adjusted",
         "offsetgroup": "Consumer loans, large domestically chartered commercial banks, not seasonally adjusted",
         "orientation": "v",
         "showlegend": true,
         "textposition": "auto",
         "type": "bar",
         "x": [
          "2022-05-04T00:00:00",
          "2022-05-11T00:00:00",
          "2022-05-18T00:00:00",
          "2022-05-25T00:00:00",
          "2022-06-01T00:00:00",
          "2022-06-08T00:00:00",
          "2022-06-15T00:00:00",
          "2022-06-22T00:00:00",
          "2022-06-29T00:00:00",
          "2022-07-06T00:00:00",
          "2022-07-13T00:00:00",
          "2022-07-20T00:00:00",
          "2022-07-27T00:00:00",
          "2022-08-03T00:00:00",
          "2022-08-10T00:00:00",
          "2022-08-17T00:00:00",
          "2022-08-24T00:00:00",
          "2022-08-31T00:00:00",
          "2022-09-07T00:00:00",
          "2022-09-14T00:00:00",
          "2022-09-21T00:00:00",
          "2022-09-28T00:00:00",
          "2022-10-05T00:00:00",
          "2022-10-12T00:00:00",
          "2022-10-19T00:00:00",
          "2022-10-26T00:00:00",
          "2022-11-02T00:00:00",
          "2022-11-09T00:00:00",
          "2022-11-16T00:00:00",
          "2022-11-23T00:00:00",
          "2022-11-30T00:00:00",
          "2022-12-07T00:00:00",
          "2022-12-14T00:00:00",
          "2022-12-21T00:00:00",
          "2022-12-28T00:00:00",
          "2023-01-04T00:00:00",
          "2023-01-11T00:00:00",
          "2023-01-18T00:00:00",
          "2023-01-25T00:00:00",
          "2023-02-01T00:00:00",
          "2023-02-08T00:00:00",
          "2023-02-15T00:00:00",
          "2023-02-22T00:00:00",
          "2023-03-01T00:00:00",
          "2023-03-08T00:00:00",
          "2023-03-15T00:00:00",
          "2023-03-22T00:00:00",
          "2023-03-29T00:00:00",
          "2023-04-05T00:00:00",
          "2023-04-12T00:00:00",
          "2023-04-19T00:00:00",
          "2023-04-26T00:00:00"
         ],
         "xaxis": "x",
         "y": [
          0.10107071730296083,
          0.10141943271144838,
          0.10147930516863495,
          0.10195508423960624,
          0.10160749040999142,
          0.10243298338870371,
          0.10217319331346313,
          0.10337826876363139,
          0.1039100955827888,
          0.10296879779183002,
          0.1032329063710414,
          0.1035938339581314,
          0.10376685866937387,
          0.10391261517227089,
          0.10371818057743876,
          0.1040772387446523,
          0.10465062941000887,
          0.10523232671306672,
          0.10529060096533219,
          0.10518293071400624,
          0.10594563186094177,
          0.10669603002082177,
          0.10705122844059785,
          0.10651112683480088,
          0.10715201796101609,
          0.10711719071920138,
          0.10707066200149278,
          0.10707548831480031,
          0.10619615534029525,
          0.10665134195441706,
          0.10789253867821234,
          0.1083617964926104,
          0.1078202614980593,
          0.10836000595326505,
          0.10905378096239773,
          0.10864236548601765,
          0.10846766409987023,
          0.10821218910698445,
          0.10890892725908129,
          0.10857308723326743,
          0.10893662820942814,
          0.10831959634692763,
          0.10877972001751088,
          0.10829019679775254,
          0.10839797103156516,
          0.10529505441533327,
          0.10617164270554262,
          0.10639508915098325,
          0.1063528026336824,
          0.1068109528597495,
          0.10791657451069762,
          0.10908331221716822
         ],
         "yaxis": "y"
        },
        {
         "alignmentgroup": "True",
         "hovertemplate": "variable=Other loans and leases: All other loans and leases, large domestically chartered commercial banks, not seasonally adjusted<br>Series Description=%{x}<br>value=%{y}<extra></extra>",
         "legendgroup": "Other loans and leases: All other loans and leases, large domestically chartered commercial banks, not seasonally adjusted",
         "marker": {
          "color": "#19d3f3",
          "pattern": {
           "shape": ""
          }
         },
         "name": "Other loans and leases: All other loans and leases, large domestically chartered commercial banks, not seasonally adjusted",
         "offsetgroup": "Other loans and leases: All other loans and leases, large domestically chartered commercial banks, not seasonally adjusted",
         "orientation": "v",
         "showlegend": true,
         "textposition": "auto",
         "type": "bar",
         "x": [
          "2022-05-04T00:00:00",
          "2022-05-11T00:00:00",
          "2022-05-18T00:00:00",
          "2022-05-25T00:00:00",
          "2022-06-01T00:00:00",
          "2022-06-08T00:00:00",
          "2022-06-15T00:00:00",
          "2022-06-22T00:00:00",
          "2022-06-29T00:00:00",
          "2022-07-06T00:00:00",
          "2022-07-13T00:00:00",
          "2022-07-20T00:00:00",
          "2022-07-27T00:00:00",
          "2022-08-03T00:00:00",
          "2022-08-10T00:00:00",
          "2022-08-17T00:00:00",
          "2022-08-24T00:00:00",
          "2022-08-31T00:00:00",
          "2022-09-07T00:00:00",
          "2022-09-14T00:00:00",
          "2022-09-21T00:00:00",
          "2022-09-28T00:00:00",
          "2022-10-05T00:00:00",
          "2022-10-12T00:00:00",
          "2022-10-19T00:00:00",
          "2022-10-26T00:00:00",
          "2022-11-02T00:00:00",
          "2022-11-09T00:00:00",
          "2022-11-16T00:00:00",
          "2022-11-23T00:00:00",
          "2022-11-30T00:00:00",
          "2022-12-07T00:00:00",
          "2022-12-14T00:00:00",
          "2022-12-21T00:00:00",
          "2022-12-28T00:00:00",
          "2023-01-04T00:00:00",
          "2023-01-11T00:00:00",
          "2023-01-18T00:00:00",
          "2023-01-25T00:00:00",
          "2023-02-01T00:00:00",
          "2023-02-08T00:00:00",
          "2023-02-15T00:00:00",
          "2023-02-22T00:00:00",
          "2023-03-01T00:00:00",
          "2023-03-08T00:00:00",
          "2023-03-15T00:00:00",
          "2023-03-22T00:00:00",
          "2023-03-29T00:00:00",
          "2023-04-05T00:00:00",
          "2023-04-12T00:00:00",
          "2023-04-19T00:00:00",
          "2023-04-26T00:00:00"
         ],
         "xaxis": "x",
         "y": [
          0.08763458250313878,
          0.0882817354846698,
          0.08855207104496328,
          0.08889602681954276,
          0.08908919076291764,
          0.08925855060461349,
          0.08954780648068542,
          0.090649555626143,
          0.0906630110143316,
          0.08951904134154531,
          0.08942759944149692,
          0.0900874527365282,
          0.08980361924877442,
          0.09016031371927273,
          0.09013161564371104,
          0.09036022516233358,
          0.09032189500529063,
          0.09128164532348361,
          0.09122524549241406,
          0.09145332632919645,
          0.0925328628635031,
          0.09279888634836446,
          0.09363934942131937,
          0.09285426246699603,
          0.09343820013657501,
          0.09327446314100185,
          0.0942119712719474,
          0.09409640652717474,
          0.09403436911596258,
          0.09351675657589749,
          0.09396641974062239,
          0.09444442623959215,
          0.09389343095533592,
          0.09448138853686981,
          0.09471437723925737,
          0.09406446020558638,
          0.09347480307984944,
          0.09343506466199837,
          0.09384471035254631,
          0.09387898161765633,
          0.09393673584947738,
          0.09359414197591516,
          0.09381620329243441,
          0.09451113739157299,
          0.09417344853825632,
          0.09251054983466495,
          0.09335704618311343,
          0.09325822096406196,
          0.09341054085197101,
          0.09317012913208028,
          0.09392187597374746,
          0.09437611712303508
         ],
         "yaxis": "y"
        },
        {
         "alignmentgroup": "True",
         "hovertemplate": "variable=LESS: Allowance for loan and lease losses, large domestically chartered commercial banks, not seasonally adjusted<br>Series Description=%{x}<br>value=%{y}<extra></extra>",
         "legendgroup": "LESS: Allowance for loan and lease losses, large domestically chartered commercial banks, not seasonally adjusted",
         "marker": {
          "color": "#FF6692",
          "pattern": {
           "shape": ""
          }
         },
         "name": "LESS: Allowance for loan and lease losses, large domestically chartered commercial banks, not seasonally adjusted",
         "offsetgroup": "LESS: Allowance for loan and lease losses, large domestically chartered commercial banks, not seasonally adjusted",
         "orientation": "v",
         "showlegend": true,
         "textposition": "auto",
         "type": "bar",
         "x": [
          "2022-05-04T00:00:00",
          "2022-05-11T00:00:00",
          "2022-05-18T00:00:00",
          "2022-05-25T00:00:00",
          "2022-06-01T00:00:00",
          "2022-06-08T00:00:00",
          "2022-06-15T00:00:00",
          "2022-06-22T00:00:00",
          "2022-06-29T00:00:00",
          "2022-07-06T00:00:00",
          "2022-07-13T00:00:00",
          "2022-07-20T00:00:00",
          "2022-07-27T00:00:00",
          "2022-08-03T00:00:00",
          "2022-08-10T00:00:00",
          "2022-08-17T00:00:00",
          "2022-08-24T00:00:00",
          "2022-08-31T00:00:00",
          "2022-09-07T00:00:00",
          "2022-09-14T00:00:00",
          "2022-09-21T00:00:00",
          "2022-09-28T00:00:00",
          "2022-10-05T00:00:00",
          "2022-10-12T00:00:00",
          "2022-10-19T00:00:00",
          "2022-10-26T00:00:00",
          "2022-11-02T00:00:00",
          "2022-11-09T00:00:00",
          "2022-11-16T00:00:00",
          "2022-11-23T00:00:00",
          "2022-11-30T00:00:00",
          "2022-12-07T00:00:00",
          "2022-12-14T00:00:00",
          "2022-12-21T00:00:00",
          "2022-12-28T00:00:00",
          "2023-01-04T00:00:00",
          "2023-01-11T00:00:00",
          "2023-01-18T00:00:00",
          "2023-01-25T00:00:00",
          "2023-02-01T00:00:00",
          "2023-02-08T00:00:00",
          "2023-02-15T00:00:00",
          "2023-02-22T00:00:00",
          "2023-03-01T00:00:00",
          "2023-03-08T00:00:00",
          "2023-03-15T00:00:00",
          "2023-03-22T00:00:00",
          "2023-03-29T00:00:00",
          "2023-04-05T00:00:00",
          "2023-04-12T00:00:00",
          "2023-04-19T00:00:00",
          "2023-04-26T00:00:00"
         ],
         "xaxis": "x",
         "y": [
          -0.007645473731242358,
          -0.007642591337781277,
          -0.0076541050049457335,
          -0.007634095387636386,
          -0.007560439171886242,
          -0.0076418363074904965,
          -0.00761549481521354,
          -0.007657128826690743,
          -0.007616908176687476,
          -0.007748749428622646,
          -0.007778005996429733,
          -0.007810327297702274,
          -0.0077741473536970555,
          -0.007814830368650813,
          -0.00780654669502454,
          -0.007850631730183983,
          -0.007845036527207888,
          -0.007797991975068695,
          -0.007884299277245354,
          -0.00788156339729648,
          -0.007934499356484218,
          -0.007920296202884815,
          -0.008229574369674975,
          -0.008214369911983304,
          -0.00827643592614703,
          -0.008234023103336567,
          -0.008271187244919142,
          -0.008281436798278587,
          -0.008219656324964476,
          -0.008212130670521388,
          -0.008206789240830114,
          -0.00832988860608733,
          -0.008254831219875828,
          -0.008271920691100642,
          -0.00832278081678498,
          -0.008565587294071288,
          -0.008674984335744845,
          -0.008672626039372851,
          -0.008697357561005387,
          -0.008650196732477475,
          -0.008692982520354841,
          -0.008648768031715177,
          -0.00867364946442624,
          -0.008664414699252294,
          -0.008799577544336076,
          -0.008557412537434441,
          -0.008604032004451019,
          -0.008549546096551059,
          -0.008782745767336638,
          -0.008837271629096685,
          -0.008908147280105675,
          -0.008928479069864024
         ],
         "yaxis": "y"
        },
        {
         "alignmentgroup": "True",
         "hovertemplate": "variable=Cash assets, large domestically chartered commercial banks, not seasonally adjusted<br>Series Description=%{x}<br>value=%{y}<extra></extra>",
         "legendgroup": "Cash assets, large domestically chartered commercial banks, not seasonally adjusted",
         "marker": {
          "color": "#B6E880",
          "pattern": {
           "shape": ""
          }
         },
         "name": "Cash assets, large domestically chartered commercial banks, not seasonally adjusted",
         "offsetgroup": "Cash assets, large domestically chartered commercial banks, not seasonally adjusted",
         "orientation": "v",
         "showlegend": true,
         "textposition": "auto",
         "type": "bar",
         "x": [
          "2022-05-04T00:00:00",
          "2022-05-11T00:00:00",
          "2022-05-18T00:00:00",
          "2022-05-25T00:00:00",
          "2022-06-01T00:00:00",
          "2022-06-08T00:00:00",
          "2022-06-15T00:00:00",
          "2022-06-22T00:00:00",
          "2022-06-29T00:00:00",
          "2022-07-06T00:00:00",
          "2022-07-13T00:00:00",
          "2022-07-20T00:00:00",
          "2022-07-27T00:00:00",
          "2022-08-03T00:00:00",
          "2022-08-10T00:00:00",
          "2022-08-17T00:00:00",
          "2022-08-24T00:00:00",
          "2022-08-31T00:00:00",
          "2022-09-07T00:00:00",
          "2022-09-14T00:00:00",
          "2022-09-21T00:00:00",
          "2022-09-28T00:00:00",
          "2022-10-05T00:00:00",
          "2022-10-12T00:00:00",
          "2022-10-19T00:00:00",
          "2022-10-26T00:00:00",
          "2022-11-02T00:00:00",
          "2022-11-09T00:00:00",
          "2022-11-16T00:00:00",
          "2022-11-23T00:00:00",
          "2022-11-30T00:00:00",
          "2022-12-07T00:00:00",
          "2022-12-14T00:00:00",
          "2022-12-21T00:00:00",
          "2022-12-28T00:00:00",
          "2023-01-04T00:00:00",
          "2023-01-11T00:00:00",
          "2023-01-18T00:00:00",
          "2023-01-25T00:00:00",
          "2023-02-01T00:00:00",
          "2023-02-08T00:00:00",
          "2023-02-15T00:00:00",
          "2023-02-22T00:00:00",
          "2023-03-01T00:00:00",
          "2023-03-08T00:00:00",
          "2023-03-15T00:00:00",
          "2023-03-22T00:00:00",
          "2023-03-29T00:00:00",
          "2023-04-05T00:00:00",
          "2023-04-12T00:00:00",
          "2023-04-19T00:00:00",
          "2023-04-26T00:00:00"
         ],
         "xaxis": "x",
         "y": [
          0.11257542927072695,
          0.10911478226831062,
          0.10894107013620015,
          0.11059526482625201,
          0.11558992803744299,
          0.10759617414202116,
          0.11188538015783898,
          0.10780717044849922,
          0.11162396402071476,
          0.11136619224310719,
          0.11262979233657541,
          0.10976456347422296,
          0.1141945458738664,
          0.1112636284343159,
          0.11160583136374538,
          0.10905997729659217,
          0.1065543905012743,
          0.10985582135617354,
          0.11058673861813019,
          0.11001416485385622,
          0.10499362947557139,
          0.10651349116951747,
          0.1024618156845001,
          0.1074545227731214,
          0.10236759519304847,
          0.10574016746608407,
          0.10235032083434341,
          0.10143762939337983,
          0.10492329441591251,
          0.10254971289865204,
          0.10471929262742428,
          0.10381083802890581,
          0.10918502578858531,
          0.10805064553631803,
          0.10783238551892303,
          0.10817292098664891,
          0.10554658200707519,
          0.10449400283743968,
          0.0996221321740412,
          0.09846828615630851,
          0.09661322772856575,
          0.10134626753848365,
          0.09868331896658582,
          0.0997351508686229,
          0.09813775276595423,
          0.12215188371201975,
          0.11708880125136305,
          0.12314236090152951,
          0.12377370013707333,
          0.12138130564270522,
          0.11301343603479647,
          0.11007665953327235
         ],
         "yaxis": "y"
        },
        {
         "alignmentgroup": "True",
         "hovertemplate": "variable=Total fed funds sold and securities purchased under agreements to resell, large domestically chartered commercial banks, not seasonally adjusted<br>Series Description=%{x}<br>value=%{y}<extra></extra>",
         "legendgroup": "Total fed funds sold and securities purchased under agreements to resell, large domestically chartered commercial banks, not seasonally adjusted",
         "marker": {
          "color": "#FF97FF",
          "pattern": {
           "shape": ""
          }
         },
         "name": "Total fed funds sold and securities purchased under agreements to resell, large domestically chartered commercial banks, not seasonally adjusted",
         "offsetgroup": "Total fed funds sold and securities purchased under agreements to resell, large domestically chartered commercial banks, not seasonally adjusted",
         "orientation": "v",
         "showlegend": true,
         "textposition": "auto",
         "type": "bar",
         "x": [
          "2022-05-04T00:00:00",
          "2022-05-11T00:00:00",
          "2022-05-18T00:00:00",
          "2022-05-25T00:00:00",
          "2022-06-01T00:00:00",
          "2022-06-08T00:00:00",
          "2022-06-15T00:00:00",
          "2022-06-22T00:00:00",
          "2022-06-29T00:00:00",
          "2022-07-06T00:00:00",
          "2022-07-13T00:00:00",
          "2022-07-20T00:00:00",
          "2022-07-27T00:00:00",
          "2022-08-03T00:00:00",
          "2022-08-10T00:00:00",
          "2022-08-17T00:00:00",
          "2022-08-24T00:00:00",
          "2022-08-31T00:00:00",
          "2022-09-07T00:00:00",
          "2022-09-14T00:00:00",
          "2022-09-21T00:00:00",
          "2022-09-28T00:00:00",
          "2022-10-05T00:00:00",
          "2022-10-12T00:00:00",
          "2022-10-19T00:00:00",
          "2022-10-26T00:00:00",
          "2022-11-02T00:00:00",
          "2022-11-09T00:00:00",
          "2022-11-16T00:00:00",
          "2022-11-23T00:00:00",
          "2022-11-30T00:00:00",
          "2022-12-07T00:00:00",
          "2022-12-14T00:00:00",
          "2022-12-21T00:00:00",
          "2022-12-28T00:00:00",
          "2023-01-04T00:00:00",
          "2023-01-11T00:00:00",
          "2023-01-18T00:00:00",
          "2023-01-25T00:00:00",
          "2023-02-01T00:00:00",
          "2023-02-08T00:00:00",
          "2023-02-15T00:00:00",
          "2023-02-22T00:00:00",
          "2023-03-01T00:00:00",
          "2023-03-08T00:00:00",
          "2023-03-15T00:00:00",
          "2023-03-22T00:00:00",
          "2023-03-29T00:00:00",
          "2023-04-05T00:00:00",
          "2023-04-12T00:00:00",
          "2023-04-19T00:00:00",
          "2023-04-26T00:00:00"
         ],
         "xaxis": "x",
         "y": [
          0.017410452264417,
          0.01724206073909044,
          0.01751675838603938,
          0.016693575378889054,
          0.017032526132881975,
          0.017438998699283448,
          0.017801556626184167,
          0.017507295653205912,
          0.017399583843610674,
          0.020401202651598848,
          0.018056813800187713,
          0.017410165927146587,
          0.01716671153823333,
          0.017563747162828547,
          0.01733789950249503,
          0.01742234857342963,
          0.017499211969582904,
          0.01767884367194507,
          0.017896044453160925,
          0.018365282069096385,
          0.019082932422510995,
          0.018843535319230754,
          0.01932382700226509,
          0.018541314588686394,
          0.018444036842496406,
          0.018707670981554316,
          0.018827179567931222,
          0.0183146349615578,
          0.020068422016995366,
          0.02010325881115564,
          0.01909142959773024,
          0.018300612377368075,
          0.018925484290535692,
          0.019509080170484278,
          0.020141091157170776,
          0.020071892119834615,
          0.01940774988401598,
          0.019296485739585322,
          0.019143290118781745,
          0.02058654639058902,
          0.01842223459906527,
          0.017893495598868405,
          0.017128351056993032,
          0.017365545670883876,
          0.017009011142964218,
          0.016812071851522826,
          0.01764698557837806,
          0.017375689607301084,
          0.0166206039314006,
          0.016729097609494415,
          0.016497802309255474,
          0.01624640836826919
         ],
         "yaxis": "y"
        },
        {
         "alignmentgroup": "True",
         "hovertemplate": "variable=Loans to commercial banks, large domestically chartered commercial banks, not seasonally adjusted<br>Series Description=%{x}<br>value=%{y}<extra></extra>",
         "legendgroup": "Loans to commercial banks, large domestically chartered commercial banks, not seasonally adjusted",
         "marker": {
          "color": "#FECB52",
          "pattern": {
           "shape": ""
          }
         },
         "name": "Loans to commercial banks, large domestically chartered commercial banks, not seasonally adjusted",
         "offsetgroup": "Loans to commercial banks, large domestically chartered commercial banks, not seasonally adjusted",
         "orientation": "v",
         "showlegend": true,
         "textposition": "auto",
         "type": "bar",
         "x": [
          "2022-05-04T00:00:00",
          "2022-05-11T00:00:00",
          "2022-05-18T00:00:00",
          "2022-05-25T00:00:00",
          "2022-06-01T00:00:00",
          "2022-06-08T00:00:00",
          "2022-06-15T00:00:00",
          "2022-06-22T00:00:00",
          "2022-06-29T00:00:00",
          "2022-07-06T00:00:00",
          "2022-07-13T00:00:00",
          "2022-07-20T00:00:00",
          "2022-07-27T00:00:00",
          "2022-08-03T00:00:00",
          "2022-08-10T00:00:00",
          "2022-08-17T00:00:00",
          "2022-08-24T00:00:00",
          "2022-08-31T00:00:00",
          "2022-09-07T00:00:00",
          "2022-09-14T00:00:00",
          "2022-09-21T00:00:00",
          "2022-09-28T00:00:00",
          "2022-10-05T00:00:00",
          "2022-10-12T00:00:00",
          "2022-10-19T00:00:00",
          "2022-10-26T00:00:00",
          "2022-11-02T00:00:00",
          "2022-11-09T00:00:00",
          "2022-11-16T00:00:00",
          "2022-11-23T00:00:00",
          "2022-11-30T00:00:00",
          "2022-12-07T00:00:00",
          "2022-12-14T00:00:00",
          "2022-12-21T00:00:00",
          "2022-12-28T00:00:00",
          "2023-01-04T00:00:00",
          "2023-01-11T00:00:00",
          "2023-01-18T00:00:00",
          "2023-01-25T00:00:00",
          "2023-02-01T00:00:00",
          "2023-02-08T00:00:00",
          "2023-02-15T00:00:00",
          "2023-02-22T00:00:00",
          "2023-03-01T00:00:00",
          "2023-03-08T00:00:00",
          "2023-03-15T00:00:00",
          "2023-03-22T00:00:00",
          "2023-03-29T00:00:00",
          "2023-04-05T00:00:00",
          "2023-04-12T00:00:00",
          "2023-04-19T00:00:00",
          "2023-04-26T00:00:00"
         ],
         "xaxis": "x",
         "y": [
          0.00047750748688038454,
          0.0005103319629273979,
          0.0005499250155044164,
          0.0004961062636584613,
          0.0004800576250474939,
          0.00048789147837764783,
          0.0004871016078549464,
          0.0004979429413656519,
          0.0004903859619412625,
          0.0004818795098773968,
          0.00048603786601283196,
          0.0004877584592758724,
          0.00048374617027664013,
          0.00048560493488552977,
          0.0004783818008862118,
          0.0004771218334815043,
          0.0005604819074213254,
          0.0005483204746003674,
          0.0005540493272422363,
          0.0005486261164364604,
          0.0004743355809825158,
          0.0003969800751611014,
          0.0003544069746370274,
          0.00035920351944630893,
          0.0003502100437595715,
          0.0003490445576767472,
          0.0003531980784953073,
          0.00035150762062852045,
          0.00034887384140058265,
          0.00035642163345315115,
          0.00035686548293340024,
          0.0003631295155497077,
          0.0003610087101033154,
          0.00037116878037413023,
          0.00035027255473586103,
          0.0003555739162413194,
          0.00035107227119410283,
          0.00037121142674529934,
          0.0003644630759482862,
          0.00039210565534448003,
          0.0003630820353215056,
          0.0003563404283148798,
          0.0003599672409718083,
          0.0003626060135060121,
          0.00036282958482082686,
          0.0003520316225666436,
          0.0007252341864097856,
          0.0004035032654490143,
          0.0003628833999929706,
          0.0003549400330974191,
          0.0003507782036978881,
          0.000356452616053409
         ],
         "yaxis": "y"
        },
        {
         "alignmentgroup": "True",
         "hovertemplate": "variable=Other assets, large domestically chartered commercial banks, not seasonally adjusted<br>Series Description=%{x}<br>value=%{y}<extra></extra>",
         "legendgroup": "Other assets, large domestically chartered commercial banks, not seasonally adjusted",
         "marker": {
          "color": "#636efa",
          "pattern": {
           "shape": ""
          }
         },
         "name": "Other assets, large domestically chartered commercial banks, not seasonally adjusted",
         "offsetgroup": "Other assets, large domestically chartered commercial banks, not seasonally adjusted",
         "orientation": "v",
         "showlegend": true,
         "textposition": "auto",
         "type": "bar",
         "x": [
          "2022-05-04T00:00:00",
          "2022-05-11T00:00:00",
          "2022-05-18T00:00:00",
          "2022-05-25T00:00:00",
          "2022-06-01T00:00:00",
          "2022-06-08T00:00:00",
          "2022-06-15T00:00:00",
          "2022-06-22T00:00:00",
          "2022-06-29T00:00:00",
          "2022-07-06T00:00:00",
          "2022-07-13T00:00:00",
          "2022-07-20T00:00:00",
          "2022-07-27T00:00:00",
          "2022-08-03T00:00:00",
          "2022-08-10T00:00:00",
          "2022-08-17T00:00:00",
          "2022-08-24T00:00:00",
          "2022-08-31T00:00:00",
          "2022-09-07T00:00:00",
          "2022-09-14T00:00:00",
          "2022-09-21T00:00:00",
          "2022-09-28T00:00:00",
          "2022-10-05T00:00:00",
          "2022-10-12T00:00:00",
          "2022-10-19T00:00:00",
          "2022-10-26T00:00:00",
          "2022-11-02T00:00:00",
          "2022-11-09T00:00:00",
          "2022-11-16T00:00:00",
          "2022-11-23T00:00:00",
          "2022-11-30T00:00:00",
          "2022-12-07T00:00:00",
          "2022-12-14T00:00:00",
          "2022-12-21T00:00:00",
          "2022-12-28T00:00:00",
          "2023-01-04T00:00:00",
          "2023-01-11T00:00:00",
          "2023-01-18T00:00:00",
          "2023-01-25T00:00:00",
          "2023-02-01T00:00:00",
          "2023-02-08T00:00:00",
          "2023-02-15T00:00:00",
          "2023-02-22T00:00:00",
          "2023-03-01T00:00:00",
          "2023-03-08T00:00:00",
          "2023-03-15T00:00:00",
          "2023-03-22T00:00:00",
          "2023-03-29T00:00:00",
          "2023-04-05T00:00:00",
          "2023-04-12T00:00:00",
          "2023-04-19T00:00:00",
          "2023-04-26T00:00:00"
         ],
         "xaxis": "x",
         "y": [
          0.09584674268698733,
          0.09887784825114977,
          0.09757800858650183,
          0.09578292744977084,
          0.09561004149997684,
          0.09791547985173794,
          0.09765589693030145,
          0.09611485109218765,
          0.0927755381197622,
          0.09497011161036517,
          0.09591606115458302,
          0.09668861009922124,
          0.09417275627033851,
          0.09415846354174362,
          0.09571210647463073,
          0.09582374462052724,
          0.09809375117170854,
          0.09634601752557471,
          0.09405924700106624,
          0.09625904615963811,
          0.0953493701338101,
          0.09441783603297015,
          0.09503904560284668,
          0.09691123145807465,
          0.09736537330061058,
          0.0962509155436452,
          0.09761952531020109,
          0.09900183787613519,
          0.0983777685814623,
          0.10088485468689246,
          0.09819322812454669,
          0.09547978074768429,
          0.0966919977219972,
          0.09549131201071225,
          0.09234459855098609,
          0.09365622505268277,
          0.09549831933242822,
          0.09561420131181585,
          0.09553996075590458,
          0.09581067090784545,
          0.09690358502032477,
          0.0976294913160677,
          0.098726873611715,
          0.09819476654100315,
          0.09947445381236295,
          0.09537495097590444,
          0.09512396933911517,
          0.09451558482320702,
          0.09279346522657159,
          0.09490405250111075,
          0.09622961927467041,
          0.09492290256330961
         ],
         "yaxis": "y"
        }
       ],
       "layout": {
        "barmode": "relative",
        "legend": {
         "title": {
          "text": "Legend"
         },
         "tracegroupgap": 0
        },
        "margin": {
         "t": 60
        },
        "template": {
         "data": {
          "bar": [
           {
            "error_x": {
             "color": "#2a3f5f"
            },
            "error_y": {
             "color": "#2a3f5f"
            },
            "marker": {
             "line": {
              "color": "white",
              "width": 0.5
             },
             "pattern": {
              "fillmode": "overlay",
              "size": 10,
              "solidity": 0.2
             }
            },
            "type": "bar"
           }
          ],
          "barpolar": [
           {
            "marker": {
             "line": {
              "color": "white",
              "width": 0.5
             },
             "pattern": {
              "fillmode": "overlay",
              "size": 10,
              "solidity": 0.2
             }
            },
            "type": "barpolar"
           }
          ],
          "carpet": [
           {
            "aaxis": {
             "endlinecolor": "#2a3f5f",
             "gridcolor": "#C8D4E3",
             "linecolor": "#C8D4E3",
             "minorgridcolor": "#C8D4E3",
             "startlinecolor": "#2a3f5f"
            },
            "baxis": {
             "endlinecolor": "#2a3f5f",
             "gridcolor": "#C8D4E3",
             "linecolor": "#C8D4E3",
             "minorgridcolor": "#C8D4E3",
             "startlinecolor": "#2a3f5f"
            },
            "type": "carpet"
           }
          ],
          "choropleth": [
           {
            "colorbar": {
             "outlinewidth": 0,
             "ticks": ""
            },
            "type": "choropleth"
           }
          ],
          "contour": [
           {
            "colorbar": {
             "outlinewidth": 0,
             "ticks": ""
            },
            "colorscale": [
             [
              0,
              "#0d0887"
             ],
             [
              0.1111111111111111,
              "#46039f"
             ],
             [
              0.2222222222222222,
              "#7201a8"
             ],
             [
              0.3333333333333333,
              "#9c179e"
             ],
             [
              0.4444444444444444,
              "#bd3786"
             ],
             [
              0.5555555555555556,
              "#d8576b"
             ],
             [
              0.6666666666666666,
              "#ed7953"
             ],
             [
              0.7777777777777778,
              "#fb9f3a"
             ],
             [
              0.8888888888888888,
              "#fdca26"
             ],
             [
              1,
              "#f0f921"
             ]
            ],
            "type": "contour"
           }
          ],
          "contourcarpet": [
           {
            "colorbar": {
             "outlinewidth": 0,
             "ticks": ""
            },
            "type": "contourcarpet"
           }
          ],
          "heatmap": [
           {
            "colorbar": {
             "outlinewidth": 0,
             "ticks": ""
            },
            "colorscale": [
             [
              0,
              "#0d0887"
             ],
             [
              0.1111111111111111,
              "#46039f"
             ],
             [
              0.2222222222222222,
              "#7201a8"
             ],
             [
              0.3333333333333333,
              "#9c179e"
             ],
             [
              0.4444444444444444,
              "#bd3786"
             ],
             [
              0.5555555555555556,
              "#d8576b"
             ],
             [
              0.6666666666666666,
              "#ed7953"
             ],
             [
              0.7777777777777778,
              "#fb9f3a"
             ],
             [
              0.8888888888888888,
              "#fdca26"
             ],
             [
              1,
              "#f0f921"
             ]
            ],
            "type": "heatmap"
           }
          ],
          "heatmapgl": [
           {
            "colorbar": {
             "outlinewidth": 0,
             "ticks": ""
            },
            "colorscale": [
             [
              0,
              "#0d0887"
             ],
             [
              0.1111111111111111,
              "#46039f"
             ],
             [
              0.2222222222222222,
              "#7201a8"
             ],
             [
              0.3333333333333333,
              "#9c179e"
             ],
             [
              0.4444444444444444,
              "#bd3786"
             ],
             [
              0.5555555555555556,
              "#d8576b"
             ],
             [
              0.6666666666666666,
              "#ed7953"
             ],
             [
              0.7777777777777778,
              "#fb9f3a"
             ],
             [
              0.8888888888888888,
              "#fdca26"
             ],
             [
              1,
              "#f0f921"
             ]
            ],
            "type": "heatmapgl"
           }
          ],
          "histogram": [
           {
            "marker": {
             "pattern": {
              "fillmode": "overlay",
              "size": 10,
              "solidity": 0.2
             }
            },
            "type": "histogram"
           }
          ],
          "histogram2d": [
           {
            "colorbar": {
             "outlinewidth": 0,
             "ticks": ""
            },
            "colorscale": [
             [
              0,
              "#0d0887"
             ],
             [
              0.1111111111111111,
              "#46039f"
             ],
             [
              0.2222222222222222,
              "#7201a8"
             ],
             [
              0.3333333333333333,
              "#9c179e"
             ],
             [
              0.4444444444444444,
              "#bd3786"
             ],
             [
              0.5555555555555556,
              "#d8576b"
             ],
             [
              0.6666666666666666,
              "#ed7953"
             ],
             [
              0.7777777777777778,
              "#fb9f3a"
             ],
             [
              0.8888888888888888,
              "#fdca26"
             ],
             [
              1,
              "#f0f921"
             ]
            ],
            "type": "histogram2d"
           }
          ],
          "histogram2dcontour": [
           {
            "colorbar": {
             "outlinewidth": 0,
             "ticks": ""
            },
            "colorscale": [
             [
              0,
              "#0d0887"
             ],
             [
              0.1111111111111111,
              "#46039f"
             ],
             [
              0.2222222222222222,
              "#7201a8"
             ],
             [
              0.3333333333333333,
              "#9c179e"
             ],
             [
              0.4444444444444444,
              "#bd3786"
             ],
             [
              0.5555555555555556,
              "#d8576b"
             ],
             [
              0.6666666666666666,
              "#ed7953"
             ],
             [
              0.7777777777777778,
              "#fb9f3a"
             ],
             [
              0.8888888888888888,
              "#fdca26"
             ],
             [
              1,
              "#f0f921"
             ]
            ],
            "type": "histogram2dcontour"
           }
          ],
          "mesh3d": [
           {
            "colorbar": {
             "outlinewidth": 0,
             "ticks": ""
            },
            "type": "mesh3d"
           }
          ],
          "parcoords": [
           {
            "line": {
             "colorbar": {
              "outlinewidth": 0,
              "ticks": ""
             }
            },
            "type": "parcoords"
           }
          ],
          "pie": [
           {
            "automargin": true,
            "type": "pie"
           }
          ],
          "scatter": [
           {
            "fillpattern": {
             "fillmode": "overlay",
             "size": 10,
             "solidity": 0.2
            },
            "type": "scatter"
           }
          ],
          "scatter3d": [
           {
            "line": {
             "colorbar": {
              "outlinewidth": 0,
              "ticks": ""
             }
            },
            "marker": {
             "colorbar": {
              "outlinewidth": 0,
              "ticks": ""
             }
            },
            "type": "scatter3d"
           }
          ],
          "scattercarpet": [
           {
            "marker": {
             "colorbar": {
              "outlinewidth": 0,
              "ticks": ""
             }
            },
            "type": "scattercarpet"
           }
          ],
          "scattergeo": [
           {
            "marker": {
             "colorbar": {
              "outlinewidth": 0,
              "ticks": ""
             }
            },
            "type": "scattergeo"
           }
          ],
          "scattergl": [
           {
            "marker": {
             "colorbar": {
              "outlinewidth": 0,
              "ticks": ""
             }
            },
            "type": "scattergl"
           }
          ],
          "scattermapbox": [
           {
            "marker": {
             "colorbar": {
              "outlinewidth": 0,
              "ticks": ""
             }
            },
            "type": "scattermapbox"
           }
          ],
          "scatterpolar": [
           {
            "marker": {
             "colorbar": {
              "outlinewidth": 0,
              "ticks": ""
             }
            },
            "type": "scatterpolar"
           }
          ],
          "scatterpolargl": [
           {
            "marker": {
             "colorbar": {
              "outlinewidth": 0,
              "ticks": ""
             }
            },
            "type": "scatterpolargl"
           }
          ],
          "scatterternary": [
           {
            "marker": {
             "colorbar": {
              "outlinewidth": 0,
              "ticks": ""
             }
            },
            "type": "scatterternary"
           }
          ],
          "surface": [
           {
            "colorbar": {
             "outlinewidth": 0,
             "ticks": ""
            },
            "colorscale": [
             [
              0,
              "#0d0887"
             ],
             [
              0.1111111111111111,
              "#46039f"
             ],
             [
              0.2222222222222222,
              "#7201a8"
             ],
             [
              0.3333333333333333,
              "#9c179e"
             ],
             [
              0.4444444444444444,
              "#bd3786"
             ],
             [
              0.5555555555555556,
              "#d8576b"
             ],
             [
              0.6666666666666666,
              "#ed7953"
             ],
             [
              0.7777777777777778,
              "#fb9f3a"
             ],
             [
              0.8888888888888888,
              "#fdca26"
             ],
             [
              1,
              "#f0f921"
             ]
            ],
            "type": "surface"
           }
          ],
          "table": [
           {
            "cells": {
             "fill": {
              "color": "#EBF0F8"
             },
             "line": {
              "color": "white"
             }
            },
            "header": {
             "fill": {
              "color": "#C8D4E3"
             },
             "line": {
              "color": "white"
             }
            },
            "type": "table"
           }
          ]
         },
         "layout": {
          "annotationdefaults": {
           "arrowcolor": "#2a3f5f",
           "arrowhead": 0,
           "arrowwidth": 1
          },
          "autotypenumbers": "strict",
          "coloraxis": {
           "colorbar": {
            "outlinewidth": 0,
            "ticks": ""
           }
          },
          "colorscale": {
           "diverging": [
            [
             0,
             "#8e0152"
            ],
            [
             0.1,
             "#c51b7d"
            ],
            [
             0.2,
             "#de77ae"
            ],
            [
             0.3,
             "#f1b6da"
            ],
            [
             0.4,
             "#fde0ef"
            ],
            [
             0.5,
             "#f7f7f7"
            ],
            [
             0.6,
             "#e6f5d0"
            ],
            [
             0.7,
             "#b8e186"
            ],
            [
             0.8,
             "#7fbc41"
            ],
            [
             0.9,
             "#4d9221"
            ],
            [
             1,
             "#276419"
            ]
           ],
           "sequential": [
            [
             0,
             "#0d0887"
            ],
            [
             0.1111111111111111,
             "#46039f"
            ],
            [
             0.2222222222222222,
             "#7201a8"
            ],
            [
             0.3333333333333333,
             "#9c179e"
            ],
            [
             0.4444444444444444,
             "#bd3786"
            ],
            [
             0.5555555555555556,
             "#d8576b"
            ],
            [
             0.6666666666666666,
             "#ed7953"
            ],
            [
             0.7777777777777778,
             "#fb9f3a"
            ],
            [
             0.8888888888888888,
             "#fdca26"
            ],
            [
             1,
             "#f0f921"
            ]
           ],
           "sequentialminus": [
            [
             0,
             "#0d0887"
            ],
            [
             0.1111111111111111,
             "#46039f"
            ],
            [
             0.2222222222222222,
             "#7201a8"
            ],
            [
             0.3333333333333333,
             "#9c179e"
            ],
            [
             0.4444444444444444,
             "#bd3786"
            ],
            [
             0.5555555555555556,
             "#d8576b"
            ],
            [
             0.6666666666666666,
             "#ed7953"
            ],
            [
             0.7777777777777778,
             "#fb9f3a"
            ],
            [
             0.8888888888888888,
             "#fdca26"
            ],
            [
             1,
             "#f0f921"
            ]
           ]
          },
          "colorway": [
           "#636efa",
           "#EF553B",
           "#00cc96",
           "#ab63fa",
           "#FFA15A",
           "#19d3f3",
           "#FF6692",
           "#B6E880",
           "#FF97FF",
           "#FECB52"
          ],
          "font": {
           "color": "#2a3f5f"
          },
          "geo": {
           "bgcolor": "white",
           "lakecolor": "white",
           "landcolor": "white",
           "showlakes": true,
           "showland": true,
           "subunitcolor": "#C8D4E3"
          },
          "hoverlabel": {
           "align": "left"
          },
          "hovermode": "closest",
          "mapbox": {
           "style": "light"
          },
          "paper_bgcolor": "white",
          "plot_bgcolor": "white",
          "polar": {
           "angularaxis": {
            "gridcolor": "#EBF0F8",
            "linecolor": "#EBF0F8",
            "ticks": ""
           },
           "bgcolor": "white",
           "radialaxis": {
            "gridcolor": "#EBF0F8",
            "linecolor": "#EBF0F8",
            "ticks": ""
           }
          },
          "scene": {
           "xaxis": {
            "backgroundcolor": "white",
            "gridcolor": "#DFE8F3",
            "gridwidth": 2,
            "linecolor": "#EBF0F8",
            "showbackground": true,
            "ticks": "",
            "zerolinecolor": "#EBF0F8"
           },
           "yaxis": {
            "backgroundcolor": "white",
            "gridcolor": "#DFE8F3",
            "gridwidth": 2,
            "linecolor": "#EBF0F8",
            "showbackground": true,
            "ticks": "",
            "zerolinecolor": "#EBF0F8"
           },
           "zaxis": {
            "backgroundcolor": "white",
            "gridcolor": "#DFE8F3",
            "gridwidth": 2,
            "linecolor": "#EBF0F8",
            "showbackground": true,
            "ticks": "",
            "zerolinecolor": "#EBF0F8"
           }
          },
          "shapedefaults": {
           "line": {
            "color": "#2a3f5f"
           }
          },
          "ternary": {
           "aaxis": {
            "gridcolor": "#DFE8F3",
            "linecolor": "#A2B1C6",
            "ticks": ""
           },
           "baxis": {
            "gridcolor": "#DFE8F3",
            "linecolor": "#A2B1C6",
            "ticks": ""
           },
           "bgcolor": "white",
           "caxis": {
            "gridcolor": "#DFE8F3",
            "linecolor": "#A2B1C6",
            "ticks": ""
           }
          },
          "title": {
           "x": 0.05
          },
          "xaxis": {
           "automargin": true,
           "gridcolor": "#EBF0F8",
           "linecolor": "#EBF0F8",
           "ticks": "",
           "title": {
            "standoff": 15
           },
           "zerolinecolor": "#EBF0F8",
           "zerolinewidth": 2
          },
          "yaxis": {
           "automargin": true,
           "gridcolor": "#EBF0F8",
           "linecolor": "#EBF0F8",
           "ticks": "",
           "title": {
            "standoff": 15
           },
           "zerolinecolor": "#EBF0F8",
           "zerolinewidth": 2
          }
         }
        },
        "title": {
         "text": "Large domestically chartered commercial banks: assets as % of total assets"
        },
        "xaxis": {
         "anchor": "y",
         "domain": [
          0,
          1
         ],
         "title": {
          "text": "Date"
         }
        },
        "yaxis": {
         "anchor": "x",
         "domain": [
          0,
          1
         ],
         "title": {
          "text": "% of total assets"
         }
        }
       }
      }
     },
     "metadata": {},
     "output_type": "display_data"
    },
    {
     "data": {
      "application/vnd.plotly.v1+json": {
       "config": {
        "plotlyServerURL": "https://plot.ly"
       },
       "data": [
        {
         "alignmentgroup": "True",
         "hovertemplate": "variable=Treasury and agency securities, large domestically chartered commercial banks, not seasonally adjusted<br>Series Description=%{x}<br>value=%{y}<extra></extra>",
         "legendgroup": "Treasury and agency securities, large domestically chartered commercial banks, not seasonally adjusted",
         "marker": {
          "color": "#636efa",
          "pattern": {
           "shape": ""
          }
         },
         "name": "Treasury and agency securities, large domestically chartered commercial banks, not seasonally adjusted",
         "offsetgroup": "Treasury and agency securities, large domestically chartered commercial banks, not seasonally adjusted",
         "orientation": "v",
         "showlegend": true,
         "textposition": "auto",
         "type": "bar",
         "x": [
          "2022-05-04T00:00:00",
          "2022-05-11T00:00:00",
          "2022-05-18T00:00:00",
          "2022-05-25T00:00:00",
          "2022-06-01T00:00:00",
          "2022-06-08T00:00:00",
          "2022-06-15T00:00:00",
          "2022-06-22T00:00:00",
          "2022-06-29T00:00:00",
          "2022-07-06T00:00:00",
          "2022-07-13T00:00:00",
          "2022-07-20T00:00:00",
          "2022-07-27T00:00:00",
          "2022-08-03T00:00:00",
          "2022-08-10T00:00:00",
          "2022-08-17T00:00:00",
          "2022-08-24T00:00:00",
          "2022-08-31T00:00:00",
          "2022-09-07T00:00:00",
          "2022-09-14T00:00:00",
          "2022-09-21T00:00:00",
          "2022-09-28T00:00:00",
          "2022-10-05T00:00:00",
          "2022-10-12T00:00:00",
          "2022-10-19T00:00:00",
          "2022-10-26T00:00:00",
          "2022-11-02T00:00:00",
          "2022-11-09T00:00:00",
          "2022-11-16T00:00:00",
          "2022-11-23T00:00:00",
          "2022-11-30T00:00:00",
          "2022-12-07T00:00:00",
          "2022-12-14T00:00:00",
          "2022-12-21T00:00:00",
          "2022-12-28T00:00:00",
          "2023-01-04T00:00:00",
          "2023-01-11T00:00:00",
          "2023-01-18T00:00:00",
          "2023-01-25T00:00:00",
          "2023-02-01T00:00:00",
          "2023-02-08T00:00:00",
          "2023-02-15T00:00:00",
          "2023-02-22T00:00:00",
          "2023-03-01T00:00:00",
          "2023-03-08T00:00:00",
          "2023-03-15T00:00:00",
          "2023-03-22T00:00:00",
          "2023-03-29T00:00:00",
          "2023-04-05T00:00:00",
          "2023-04-12T00:00:00",
          "2023-04-19T00:00:00",
          "2023-04-26T00:00:00"
         ],
         "xaxis": "x",
         "y": [
          null,
          -10027.19999999972,
          1737.2999999998137,
          3417.600000000093,
          -13525.899999999907,
          -15052,
          -27199.100000000093,
          1964.1999999997206,
          4074.7000000001863,
          5531.299999999814,
          -14521,
          -13188.5,
          8359.400000000373,
          -1042.6000000000931,
          -10628,
          7210,
          -13681.399999999907,
          -10393.600000000093,
          -14349.100000000093,
          -31407.5,
          -8044.399999999907,
          -13104.80000000028,
          -3885.6999999997206,
          -14772.5,
          -3090.399999999907,
          210.09999999962747,
          3662.4000000003725,
          -11306.200000000186,
          7487.299999999814,
          -1794.6999999997206,
          825.8999999999069,
          5937.200000000186,
          -21638.5,
          -8944.100000000093,
          -11894.899999999907,
          -11062.5,
          790.5999999996275,
          19581.200000000186,
          1407,
          7881.600000000093,
          -15361.700000000186,
          -12527,
          -5651.199999999721,
          -5876.9000000003725,
          -4845.399999999907,
          -1540.8999999999069,
          -26835,
          -20513,
          3744,
          -16194,
          7466,
          11134
         ],
         "yaxis": "y"
        },
        {
         "alignmentgroup": "True",
         "hovertemplate": "variable=Other securities, large domestically chartered commercial banks, not seasonally adjusted<br>Series Description=%{x}<br>value=%{y}<extra></extra>",
         "legendgroup": "Other securities, large domestically chartered commercial banks, not seasonally adjusted",
         "marker": {
          "color": "#EF553B",
          "pattern": {
           "shape": ""
          }
         },
         "name": "Other securities, large domestically chartered commercial banks, not seasonally adjusted",
         "offsetgroup": "Other securities, large domestically chartered commercial banks, not seasonally adjusted",
         "orientation": "v",
         "showlegend": true,
         "textposition": "auto",
         "type": "bar",
         "x": [
          "2022-05-04T00:00:00",
          "2022-05-11T00:00:00",
          "2022-05-18T00:00:00",
          "2022-05-25T00:00:00",
          "2022-06-01T00:00:00",
          "2022-06-08T00:00:00",
          "2022-06-15T00:00:00",
          "2022-06-22T00:00:00",
          "2022-06-29T00:00:00",
          "2022-07-06T00:00:00",
          "2022-07-13T00:00:00",
          "2022-07-20T00:00:00",
          "2022-07-27T00:00:00",
          "2022-08-03T00:00:00",
          "2022-08-10T00:00:00",
          "2022-08-17T00:00:00",
          "2022-08-24T00:00:00",
          "2022-08-31T00:00:00",
          "2022-09-07T00:00:00",
          "2022-09-14T00:00:00",
          "2022-09-21T00:00:00",
          "2022-09-28T00:00:00",
          "2022-10-05T00:00:00",
          "2022-10-12T00:00:00",
          "2022-10-19T00:00:00",
          "2022-10-26T00:00:00",
          "2022-11-02T00:00:00",
          "2022-11-09T00:00:00",
          "2022-11-16T00:00:00",
          "2022-11-23T00:00:00",
          "2022-11-30T00:00:00",
          "2022-12-07T00:00:00",
          "2022-12-14T00:00:00",
          "2022-12-21T00:00:00",
          "2022-12-28T00:00:00",
          "2023-01-04T00:00:00",
          "2023-01-11T00:00:00",
          "2023-01-18T00:00:00",
          "2023-01-25T00:00:00",
          "2023-02-01T00:00:00",
          "2023-02-08T00:00:00",
          "2023-02-15T00:00:00",
          "2023-02-22T00:00:00",
          "2023-03-01T00:00:00",
          "2023-03-08T00:00:00",
          "2023-03-15T00:00:00",
          "2023-03-22T00:00:00",
          "2023-03-29T00:00:00",
          "2023-04-05T00:00:00",
          "2023-04-12T00:00:00",
          "2023-04-19T00:00:00",
          "2023-04-26T00:00:00"
         ],
         "xaxis": "x",
         "y": [
          null,
          -9799,
          -981.8000000000466,
          930.4000000000233,
          3190.3000000000466,
          -578.3000000000466,
          -6444.400000000023,
          -3950.6999999999534,
          3766,
          -1478.0999999999767,
          -2404.70000000007,
          1581.8000000000466,
          731.3000000000466,
          -452.9000000000233,
          -555.3000000000466,
          -7829.699999999953,
          -501.80000000004657,
          -6052.79999999993,
          -1262.7000000000698,
          1552.0999999999767,
          -7033.399999999907,
          -2409,
          -2897.4000000000233,
          -3545.20000000007,
          -881.8999999999069,
          -978.1000000000931,
          -1126.6999999999534,
          -303.9000000000233,
          4094.8000000000466,
          -722,
          -2751.70000000007,
          -613.5,
          2672.600000000093,
          -8413.600000000093,
          4141.300000000047,
          15935.5,
          4018.9000000000233,
          -6486.099999999977,
          -232.90000000002328,
          1250.4000000000233,
          -1923.9000000000233,
          -2532.9000000000233,
          -1708.3000000000466,
          -2700,
          -1244.3999999999069,
          -2280.3000000000466,
          985,
          1370,
          415,
          -2291,
          1570,
          2449
         ],
         "yaxis": "y"
        },
        {
         "alignmentgroup": "True",
         "hovertemplate": "variable=Commercial and industrial loans, large domestically chartered commercial banks, not seasonally adjusted<br>Series Description=%{x}<br>value=%{y}<extra></extra>",
         "legendgroup": "Commercial and industrial loans, large domestically chartered commercial banks, not seasonally adjusted",
         "marker": {
          "color": "#00cc96",
          "pattern": {
           "shape": ""
          }
         },
         "name": "Commercial and industrial loans, large domestically chartered commercial banks, not seasonally adjusted",
         "offsetgroup": "Commercial and industrial loans, large domestically chartered commercial banks, not seasonally adjusted",
         "orientation": "v",
         "showlegend": true,
         "textposition": "auto",
         "type": "bar",
         "x": [
          "2022-05-04T00:00:00",
          "2022-05-11T00:00:00",
          "2022-05-18T00:00:00",
          "2022-05-25T00:00:00",
          "2022-06-01T00:00:00",
          "2022-06-08T00:00:00",
          "2022-06-15T00:00:00",
          "2022-06-22T00:00:00",
          "2022-06-29T00:00:00",
          "2022-07-06T00:00:00",
          "2022-07-13T00:00:00",
          "2022-07-20T00:00:00",
          "2022-07-27T00:00:00",
          "2022-08-03T00:00:00",
          "2022-08-10T00:00:00",
          "2022-08-17T00:00:00",
          "2022-08-24T00:00:00",
          "2022-08-31T00:00:00",
          "2022-09-07T00:00:00",
          "2022-09-14T00:00:00",
          "2022-09-21T00:00:00",
          "2022-09-28T00:00:00",
          "2022-10-05T00:00:00",
          "2022-10-12T00:00:00",
          "2022-10-19T00:00:00",
          "2022-10-26T00:00:00",
          "2022-11-02T00:00:00",
          "2022-11-09T00:00:00",
          "2022-11-16T00:00:00",
          "2022-11-23T00:00:00",
          "2022-11-30T00:00:00",
          "2022-12-07T00:00:00",
          "2022-12-14T00:00:00",
          "2022-12-21T00:00:00",
          "2022-12-28T00:00:00",
          "2023-01-04T00:00:00",
          "2023-01-11T00:00:00",
          "2023-01-18T00:00:00",
          "2023-01-25T00:00:00",
          "2023-02-01T00:00:00",
          "2023-02-08T00:00:00",
          "2023-02-15T00:00:00",
          "2023-02-22T00:00:00",
          "2023-03-01T00:00:00",
          "2023-03-08T00:00:00",
          "2023-03-15T00:00:00",
          "2023-03-22T00:00:00",
          "2023-03-29T00:00:00",
          "2023-04-05T00:00:00",
          "2023-04-12T00:00:00",
          "2023-04-19T00:00:00",
          "2023-04-26T00:00:00"
         ],
         "xaxis": "x",
         "y": [
          null,
          -1373.8999999999069,
          7430.299999999814,
          4354.700000000186,
          12522.299999999814,
          4925.100000000093,
          5474.899999999907,
          9398.5,
          2417.9000000001397,
          2871.8000000000466,
          -5119.600000000093,
          3330.6999999999534,
          301.5,
          8296.90000000014,
          -2031.8000000000466,
          2078.399999999907,
          -4091.5,
          -9986.399999999907,
          722.5999999998603,
          5432.200000000186,
          5248.399999999907,
          -4113.699999999953,
          3475.5999999998603,
          2266.7000000001863,
          369.5999999998603,
          1921.4000000001397,
          8475.899999999907,
          4336.399999999907,
          -740.5,
          8296.100000000093,
          -6051.199999999953,
          -2120.1999999999534,
          6902.799999999814,
          7094.600000000093,
          -1685.5,
          -9107.300000000047,
          -6139.699999999953,
          5231.100000000093,
          730,
          4524.799999999814,
          391.70000000018626,
          -400,
          1851.5,
          3725,
          -1951.9000000001397,
          9945.300000000047,
          -1406,
          -1776,
          6236,
          -5853,
          5939,
          -1768
         ],
         "yaxis": "y"
        },
        {
         "alignmentgroup": "True",
         "hovertemplate": "variable=Real estate loans, large domestically chartered commercial banks, not seasonally adjusted<br>Series Description=%{x}<br>value=%{y}<extra></extra>",
         "legendgroup": "Real estate loans, large domestically chartered commercial banks, not seasonally adjusted",
         "marker": {
          "color": "#ab63fa",
          "pattern": {
           "shape": ""
          }
         },
         "name": "Real estate loans, large domestically chartered commercial banks, not seasonally adjusted",
         "offsetgroup": "Real estate loans, large domestically chartered commercial banks, not seasonally adjusted",
         "orientation": "v",
         "showlegend": true,
         "textposition": "auto",
         "type": "bar",
         "x": [
          "2022-05-04T00:00:00",
          "2022-05-11T00:00:00",
          "2022-05-18T00:00:00",
          "2022-05-25T00:00:00",
          "2022-06-01T00:00:00",
          "2022-06-08T00:00:00",
          "2022-06-15T00:00:00",
          "2022-06-22T00:00:00",
          "2022-06-29T00:00:00",
          "2022-07-06T00:00:00",
          "2022-07-13T00:00:00",
          "2022-07-20T00:00:00",
          "2022-07-27T00:00:00",
          "2022-08-03T00:00:00",
          "2022-08-10T00:00:00",
          "2022-08-17T00:00:00",
          "2022-08-24T00:00:00",
          "2022-08-31T00:00:00",
          "2022-09-07T00:00:00",
          "2022-09-14T00:00:00",
          "2022-09-21T00:00:00",
          "2022-09-28T00:00:00",
          "2022-10-05T00:00:00",
          "2022-10-12T00:00:00",
          "2022-10-19T00:00:00",
          "2022-10-26T00:00:00",
          "2022-11-02T00:00:00",
          "2022-11-09T00:00:00",
          "2022-11-16T00:00:00",
          "2022-11-23T00:00:00",
          "2022-11-30T00:00:00",
          "2022-12-07T00:00:00",
          "2022-12-14T00:00:00",
          "2022-12-21T00:00:00",
          "2022-12-28T00:00:00",
          "2023-01-04T00:00:00",
          "2023-01-11T00:00:00",
          "2023-01-18T00:00:00",
          "2023-01-25T00:00:00",
          "2023-02-01T00:00:00",
          "2023-02-08T00:00:00",
          "2023-02-15T00:00:00",
          "2023-02-22T00:00:00",
          "2023-03-01T00:00:00",
          "2023-03-08T00:00:00",
          "2023-03-15T00:00:00",
          "2023-03-22T00:00:00",
          "2023-03-29T00:00:00",
          "2023-04-05T00:00:00",
          "2023-04-12T00:00:00",
          "2023-04-19T00:00:00",
          "2023-04-26T00:00:00"
         ],
         "xaxis": "x",
         "y": [
          null,
          9260.700000000186,
          -5497.9000000003725,
          8382.900000000373,
          4228.399999999907,
          8077.899999999907,
          -4436.600000000093,
          3844.100000000093,
          3955.2000000001863,
          2466.6999999997206,
          7301.5,
          1479.8999999999069,
          4683.9000000003725,
          7904.299999999814,
          8067.100000000093,
          -7686,
          2584.1999999997206,
          3227,
          2188.8000000002794,
          -127.3000000002794,
          4339.200000000186,
          2813.899999999907,
          2403.3000000002794,
          5404.0999999996275,
          -3723,
          3664.8000000002794,
          2170.399999999907,
          1220.8999999999069,
          -3670.600000000093,
          2072.5,
          4454.9000000003725,
          2772.2999999998137,
          1483.3999999999069,
          964.5,
          -3363.6999999997206,
          -2029.1000000000931,
          189.39999999990687,
          -1105.5,
          578.5,
          601.2999999998137,
          556.9000000003725,
          258.59999999962747,
          759.2000000001863,
          -3108.399999999907,
          2112.7999999998137,
          3079.100000000093,
          1293,
          2251,
          2559,
          3648,
          -642,
          947
         ],
         "yaxis": "y"
        },
        {
         "alignmentgroup": "True",
         "hovertemplate": "variable=Consumer loans, large domestically chartered commercial banks, not seasonally adjusted<br>Series Description=%{x}<br>value=%{y}<extra></extra>",
         "legendgroup": "Consumer loans, large domestically chartered commercial banks, not seasonally adjusted",
         "marker": {
          "color": "#FFA15A",
          "pattern": {
           "shape": ""
          }
         },
         "name": "Consumer loans, large domestically chartered commercial banks, not seasonally adjusted",
         "offsetgroup": "Consumer loans, large domestically chartered commercial banks, not seasonally adjusted",
         "orientation": "v",
         "showlegend": true,
         "textposition": "auto",
         "type": "bar",
         "x": [
          "2022-05-04T00:00:00",
          "2022-05-11T00:00:00",
          "2022-05-18T00:00:00",
          "2022-05-25T00:00:00",
          "2022-06-01T00:00:00",
          "2022-06-08T00:00:00",
          "2022-06-15T00:00:00",
          "2022-06-22T00:00:00",
          "2022-06-29T00:00:00",
          "2022-07-06T00:00:00",
          "2022-07-13T00:00:00",
          "2022-07-20T00:00:00",
          "2022-07-27T00:00:00",
          "2022-08-03T00:00:00",
          "2022-08-10T00:00:00",
          "2022-08-17T00:00:00",
          "2022-08-24T00:00:00",
          "2022-08-31T00:00:00",
          "2022-09-07T00:00:00",
          "2022-09-14T00:00:00",
          "2022-09-21T00:00:00",
          "2022-09-28T00:00:00",
          "2022-10-05T00:00:00",
          "2022-10-12T00:00:00",
          "2022-10-19T00:00:00",
          "2022-10-26T00:00:00",
          "2022-11-02T00:00:00",
          "2022-11-09T00:00:00",
          "2022-11-16T00:00:00",
          "2022-11-23T00:00:00",
          "2022-11-30T00:00:00",
          "2022-12-07T00:00:00",
          "2022-12-14T00:00:00",
          "2022-12-21T00:00:00",
          "2022-12-28T00:00:00",
          "2023-01-04T00:00:00",
          "2023-01-11T00:00:00",
          "2023-01-18T00:00:00",
          "2023-01-25T00:00:00",
          "2023-02-01T00:00:00",
          "2023-02-08T00:00:00",
          "2023-02-15T00:00:00",
          "2023-02-22T00:00:00",
          "2023-03-01T00:00:00",
          "2023-03-08T00:00:00",
          "2023-03-15T00:00:00",
          "2023-03-22T00:00:00",
          "2023-03-29T00:00:00",
          "2023-04-05T00:00:00",
          "2023-04-12T00:00:00",
          "2023-04-19T00:00:00",
          "2023-04-26T00:00:00"
         ],
         "xaxis": "x",
         "y": [
          null,
          3501.3000000000466,
          -640.1000000000931,
          8762.40000000014,
          8021.399999999907,
          494.10000000009313,
          1071.3000000000466,
          9472.199999999953,
          11661.899999999907,
          -4492.09999999986,
          937.3999999999069,
          -484.30000000004657,
          8457.5,
          -336,
          -106.69999999995343,
          -561,
          5857.699999999953,
          11300,
          -4850.800000000047,
          -599.8999999999069,
          777.1999999999534,
          9833.5,
          -513.3000000000466,
          2341.5,
          -1457.2999999998137,
          6040.399999999907,
          -691.1999999999534,
          -1433.1999999999534,
          -1317.5,
          7708.799999999814,
          16084.5,
          -1417.0999999998603,
          5981.399999999907,
          3848.8000000000466,
          2130.8000000000466,
          -5869.199999999953,
          -8150.600000000093,
          -3341.5,
          -124.30000000004657,
          -943.3000000000466,
          -4422.09999999986,
          -1249.8000000000466,
          1111.3000000000466,
          -5482.100000000093,
          -2158.1999999999534,
          -2549.5,
          951,
          11774,
          -3089,
          2177,
          3792,
          10595
         ],
         "yaxis": "y"
        },
        {
         "alignmentgroup": "True",
         "hovertemplate": "variable=Other loans and leases: All other loans and leases, large domestically chartered commercial banks, not seasonally adjusted<br>Series Description=%{x}<br>value=%{y}<extra></extra>",
         "legendgroup": "Other loans and leases: All other loans and leases, large domestically chartered commercial banks, not seasonally adjusted",
         "marker": {
          "color": "#19d3f3",
          "pattern": {
           "shape": ""
          }
         },
         "name": "Other loans and leases: All other loans and leases, large domestically chartered commercial banks, not seasonally adjusted",
         "offsetgroup": "Other loans and leases: All other loans and leases, large domestically chartered commercial banks, not seasonally adjusted",
         "orientation": "v",
         "showlegend": true,
         "textposition": "auto",
         "type": "bar",
         "x": [
          "2022-05-04T00:00:00",
          "2022-05-11T00:00:00",
          "2022-05-18T00:00:00",
          "2022-05-25T00:00:00",
          "2022-06-01T00:00:00",
          "2022-06-08T00:00:00",
          "2022-06-15T00:00:00",
          "2022-06-22T00:00:00",
          "2022-06-29T00:00:00",
          "2022-07-06T00:00:00",
          "2022-07-13T00:00:00",
          "2022-07-20T00:00:00",
          "2022-07-27T00:00:00",
          "2022-08-03T00:00:00",
          "2022-08-10T00:00:00",
          "2022-08-17T00:00:00",
          "2022-08-24T00:00:00",
          "2022-08-31T00:00:00",
          "2022-09-07T00:00:00",
          "2022-09-14T00:00:00",
          "2022-09-21T00:00:00",
          "2022-09-28T00:00:00",
          "2022-10-05T00:00:00",
          "2022-10-12T00:00:00",
          "2022-10-19T00:00:00",
          "2022-10-26T00:00:00",
          "2022-11-02T00:00:00",
          "2022-11-09T00:00:00",
          "2022-11-16T00:00:00",
          "2022-11-23T00:00:00",
          "2022-11-30T00:00:00",
          "2022-12-07T00:00:00",
          "2022-12-14T00:00:00",
          "2022-12-21T00:00:00",
          "2022-12-28T00:00:00",
          "2023-01-04T00:00:00",
          "2023-01-11T00:00:00",
          "2023-01-18T00:00:00",
          "2023-01-25T00:00:00",
          "2023-02-01T00:00:00",
          "2023-02-08T00:00:00",
          "2023-02-15T00:00:00",
          "2023-02-22T00:00:00",
          "2023-03-01T00:00:00",
          "2023-03-08T00:00:00",
          "2023-03-15T00:00:00",
          "2023-03-22T00:00:00",
          "2023-03-29T00:00:00",
          "2023-04-05T00:00:00",
          "2023-04-12T00:00:00",
          "2023-04-19T00:00:00",
          "2023-04-26T00:00:00"
         ],
         "xaxis": "x",
         "y": [
          null,
          7553.09999999986,
          2298.7000000001863,
          6712.399999999907,
          13562.100000000093,
          -6848.700000000186,
          7728.5,
          8899.600000000093,
          4265.5,
          -8190.899999999907,
          -3427.100000000093,
          4150.300000000047,
          1612.5999999998603,
          2752.5,
          1758.8000000000466,
          -1586.3000000000466,
          -1968.1999999999534,
          15790.40000000014,
          -5612.800000000047,
          3704.8000000000466,
          6113.09999999986,
          3503.9000000001397,
          6469,
          -2047.1000000000931,
          -942.3999999999069,
          3524.5999999998603,
          12177.300000000047,
          -2824.899999999907,
          8186.59999999986,
          -5293.899999999907,
          5697.5,
          -326.69999999995343,
          4169.199999999953,
          4906.300000000047,
          -3021.2000000001863,
          -8934.59999999986,
          -12782.40000000014,
          -523.2999999998137,
          -2597.9000000001397,
          3396.9000000001397,
          -7139.40000000014,
          1382.6000000000931,
          -1310.9000000001397,
          9736.40000000014,
          -7459.699999999953,
          11492.399999999907,
          1841,
          6439,
          -202,
          -6569,
          523,
          1897
         ],
         "yaxis": "y"
        },
        {
         "alignmentgroup": "True",
         "hovertemplate": "variable=LESS: Allowance for loan and lease losses, large domestically chartered commercial banks, not seasonally adjusted<br>Series Description=%{x}<br>value=%{y}<extra></extra>",
         "legendgroup": "LESS: Allowance for loan and lease losses, large domestically chartered commercial banks, not seasonally adjusted",
         "marker": {
          "color": "#FF6692",
          "pattern": {
           "shape": ""
          }
         },
         "name": "LESS: Allowance for loan and lease losses, large domestically chartered commercial banks, not seasonally adjusted",
         "offsetgroup": "LESS: Allowance for loan and lease losses, large domestically chartered commercial banks, not seasonally adjusted",
         "orientation": "v",
         "showlegend": true,
         "textposition": "auto",
         "type": "bar",
         "x": [
          "2022-05-04T00:00:00",
          "2022-05-11T00:00:00",
          "2022-05-18T00:00:00",
          "2022-05-25T00:00:00",
          "2022-06-01T00:00:00",
          "2022-06-08T00:00:00",
          "2022-06-15T00:00:00",
          "2022-06-22T00:00:00",
          "2022-06-29T00:00:00",
          "2022-07-06T00:00:00",
          "2022-07-13T00:00:00",
          "2022-07-20T00:00:00",
          "2022-07-27T00:00:00",
          "2022-08-03T00:00:00",
          "2022-08-10T00:00:00",
          "2022-08-17T00:00:00",
          "2022-08-24T00:00:00",
          "2022-08-31T00:00:00",
          "2022-09-07T00:00:00",
          "2022-09-14T00:00:00",
          "2022-09-21T00:00:00",
          "2022-09-28T00:00:00",
          "2022-10-05T00:00:00",
          "2022-10-12T00:00:00",
          "2022-10-19T00:00:00",
          "2022-10-26T00:00:00",
          "2022-11-02T00:00:00",
          "2022-11-09T00:00:00",
          "2022-11-16T00:00:00",
          "2022-11-23T00:00:00",
          "2022-11-30T00:00:00",
          "2022-12-07T00:00:00",
          "2022-12-14T00:00:00",
          "2022-12-21T00:00:00",
          "2022-12-28T00:00:00",
          "2023-01-04T00:00:00",
          "2023-01-11T00:00:00",
          "2023-01-18T00:00:00",
          "2023-01-25T00:00:00",
          "2023-02-01T00:00:00",
          "2023-02-08T00:00:00",
          "2023-02-15T00:00:00",
          "2023-02-22T00:00:00",
          "2023-03-01T00:00:00",
          "2023-03-08T00:00:00",
          "2023-03-15T00:00:00",
          "2023-03-22T00:00:00",
          "2023-03-29T00:00:00",
          "2023-04-05T00:00:00",
          "2023-04-12T00:00:00",
          "2023-04-19T00:00:00",
          "2023-04-26T00:00:00"
         ],
         "xaxis": "x",
         "y": [
          null,
          118.5,
          -43.40000000000873,
          72,
          29.80000000000291,
          -299.09999999999127,
          11.799999999988358,
          -74,
          184,
          -2329.399999999994,
          -194.5,
          -31,
          13.19999999999709,
          -367.6999999999971,
          -75.80000000000291,
          -182.5,
          200.8000000000029,
          348.6999999999971,
          -717.6999999999971,
          -25.10000000000582,
          -3.1999999999970896,
          182.90000000000873,
          -3642.7000000000116,
          -524.6999999999971,
          -52,
          52.5,
          -479.1999999999971,
          -18.19999999999709,
          20,
          -33.80000000000291,
          89.69999999999709,
          -1036.5,
          -18.09999999999127,
          24.79999999998836,
          -135.09999999999127,
          -3148,
          -966,
          31.19999999999709,
          413.6000000000058,
          339.8999999999942,
          173.6999999999971,
          34.5,
          64.69999999999709,
          51.30000000000291,
          -1461.5999999999913,
          77.89999999999418,
          247,
          8,
          -2882,
          -400,
          -44,
          117
         ],
         "yaxis": "y"
        },
        {
         "alignmentgroup": "True",
         "hovertemplate": "variable=Cash assets, large domestically chartered commercial banks, not seasonally adjusted<br>Series Description=%{x}<br>value=%{y}<extra></extra>",
         "legendgroup": "Cash assets, large domestically chartered commercial banks, not seasonally adjusted",
         "marker": {
          "color": "#B6E880",
          "pattern": {
           "shape": ""
          }
         },
         "name": "Cash assets, large domestically chartered commercial banks, not seasonally adjusted",
         "offsetgroup": "Cash assets, large domestically chartered commercial banks, not seasonally adjusted",
         "orientation": "v",
         "showlegend": true,
         "textposition": "auto",
         "type": "bar",
         "x": [
          "2022-05-04T00:00:00",
          "2022-05-11T00:00:00",
          "2022-05-18T00:00:00",
          "2022-05-25T00:00:00",
          "2022-06-01T00:00:00",
          "2022-06-08T00:00:00",
          "2022-06-15T00:00:00",
          "2022-06-22T00:00:00",
          "2022-06-29T00:00:00",
          "2022-07-06T00:00:00",
          "2022-07-13T00:00:00",
          "2022-07-20T00:00:00",
          "2022-07-27T00:00:00",
          "2022-08-03T00:00:00",
          "2022-08-10T00:00:00",
          "2022-08-17T00:00:00",
          "2022-08-24T00:00:00",
          "2022-08-31T00:00:00",
          "2022-09-07T00:00:00",
          "2022-09-14T00:00:00",
          "2022-09-21T00:00:00",
          "2022-09-28T00:00:00",
          "2022-10-05T00:00:00",
          "2022-10-12T00:00:00",
          "2022-10-19T00:00:00",
          "2022-10-26T00:00:00",
          "2022-11-02T00:00:00",
          "2022-11-09T00:00:00",
          "2022-11-16T00:00:00",
          "2022-11-23T00:00:00",
          "2022-11-30T00:00:00",
          "2022-12-07T00:00:00",
          "2022-12-14T00:00:00",
          "2022-12-21T00:00:00",
          "2022-12-28T00:00:00",
          "2023-01-04T00:00:00",
          "2023-01-11T00:00:00",
          "2023-01-18T00:00:00",
          "2023-01-25T00:00:00",
          "2023-02-01T00:00:00",
          "2023-02-08T00:00:00",
          "2023-02-15T00:00:00",
          "2023-02-22T00:00:00",
          "2023-03-01T00:00:00",
          "2023-03-08T00:00:00",
          "2023-03-15T00:00:00",
          "2023-03-22T00:00:00",
          "2023-03-29T00:00:00",
          "2023-04-05T00:00:00",
          "2023-04-12T00:00:00",
          "2023-04-19T00:00:00",
          "2023-04-26T00:00:00"
         ],
         "xaxis": "x",
         "y": [
          null,
          -46527.700000000186,
          -3805.0999999998603,
          24399.5,
          79800.69999999995,
          -116762.5,
          61244.30000000005,
          -60425.19999999995,
          55095.299999999814,
          5147.800000000047,
          13935.5,
          -43424.30000000005,
          65109.700000000186,
          -41175.30000000005,
          7164,
          -39229,
          -34731.69999999995,
          47242.5,
          3739.5,
          -6670.300000000047,
          -75163.6000000001,
          19881.300000000047,
          -57840,
          74408.8999999999,
          -76042.79999999981,
          50275.19999999995,
          -44375,
          -13343,
          55534.19999999995,
          -29550.199999999953,
          28313.399999999907,
          -19231.399999999907,
          83594,
          -18262,
          -9813.699999999953,
          3997.1999999999534,
          -40143.60000000009,
          -13751.5,
          -72063.5,
          -11874.899999999907,
          -32243.600000000093,
          67454.69999999995,
          -38989.69999999995,
          14395.800000000047,
          -23900.300000000047,
          353678.80000000005,
          -78976,
          89952,
          5425,
          -36066,
          -121709,
          -43178
         ],
         "yaxis": "y"
        },
        {
         "alignmentgroup": "True",
         "hovertemplate": "variable=Total fed funds sold and securities purchased under agreements to resell, large domestically chartered commercial banks, not seasonally adjusted<br>Series Description=%{x}<br>value=%{y}<extra></extra>",
         "legendgroup": "Total fed funds sold and securities purchased under agreements to resell, large domestically chartered commercial banks, not seasonally adjusted",
         "marker": {
          "color": "#FF97FF",
          "pattern": {
           "shape": ""
          }
         },
         "name": "Total fed funds sold and securities purchased under agreements to resell, large domestically chartered commercial banks, not seasonally adjusted",
         "offsetgroup": "Total fed funds sold and securities purchased under agreements to resell, large domestically chartered commercial banks, not seasonally adjusted",
         "orientation": "v",
         "showlegend": true,
         "textposition": "auto",
         "type": "bar",
         "x": [
          "2022-05-04T00:00:00",
          "2022-05-11T00:00:00",
          "2022-05-18T00:00:00",
          "2022-05-25T00:00:00",
          "2022-06-01T00:00:00",
          "2022-06-08T00:00:00",
          "2022-06-15T00:00:00",
          "2022-06-22T00:00:00",
          "2022-06-29T00:00:00",
          "2022-07-06T00:00:00",
          "2022-07-13T00:00:00",
          "2022-07-20T00:00:00",
          "2022-07-27T00:00:00",
          "2022-08-03T00:00:00",
          "2022-08-10T00:00:00",
          "2022-08-17T00:00:00",
          "2022-08-24T00:00:00",
          "2022-08-31T00:00:00",
          "2022-09-07T00:00:00",
          "2022-09-14T00:00:00",
          "2022-09-21T00:00:00",
          "2022-09-28T00:00:00",
          "2022-10-05T00:00:00",
          "2022-10-12T00:00:00",
          "2022-10-19T00:00:00",
          "2022-10-26T00:00:00",
          "2022-11-02T00:00:00",
          "2022-11-09T00:00:00",
          "2022-11-16T00:00:00",
          "2022-11-23T00:00:00",
          "2022-11-30T00:00:00",
          "2022-12-07T00:00:00",
          "2022-12-14T00:00:00",
          "2022-12-21T00:00:00",
          "2022-12-28T00:00:00",
          "2023-01-04T00:00:00",
          "2023-01-11T00:00:00",
          "2023-01-18T00:00:00",
          "2023-01-25T00:00:00",
          "2023-02-01T00:00:00",
          "2023-02-08T00:00:00",
          "2023-02-15T00:00:00",
          "2023-02-22T00:00:00",
          "2023-03-01T00:00:00",
          "2023-03-08T00:00:00",
          "2023-03-15T00:00:00",
          "2023-03-22T00:00:00",
          "2023-03-29T00:00:00",
          "2023-04-05T00:00:00",
          "2023-04-12T00:00:00",
          "2023-04-19T00:00:00",
          "2023-04-26T00:00:00"
         ],
         "xaxis": "x",
         "y": [
          null,
          -2390,
          3353,
          -10358,
          6553,
          3604,
          5543,
          -4963,
          -628,
          41069,
          -31482,
          -9427,
          -2182,
          4867,
          -2570,
          228,
          729,
          2976,
          1910,
          6307,
          7768,
          -3120,
          5342,
          -8550,
          -2970,
          4563,
          1547,
          -6953,
          24811,
          783,
          -13365,
          -11691,
          10475,
          7120,
          7036,
          -995,
          -9758,
          -1454,
          -3622,
          19374,
          -29698,
          -5722,
          -10701,
          3206,
          -5174,
          3448,
          9305,
          -2131,
          -10403,
          827,
          -4702,
          -3989
         ],
         "yaxis": "y"
        },
        {
         "alignmentgroup": "True",
         "hovertemplate": "variable=Loans to commercial banks, large domestically chartered commercial banks, not seasonally adjusted<br>Series Description=%{x}<br>value=%{y}<extra></extra>",
         "legendgroup": "Loans to commercial banks, large domestically chartered commercial banks, not seasonally adjusted",
         "marker": {
          "color": "#FECB52",
          "pattern": {
           "shape": ""
          }
         },
         "name": "Loans to commercial banks, large domestically chartered commercial banks, not seasonally adjusted",
         "offsetgroup": "Loans to commercial banks, large domestically chartered commercial banks, not seasonally adjusted",
         "orientation": "v",
         "showlegend": true,
         "textposition": "auto",
         "type": "bar",
         "x": [
          "2022-05-04T00:00:00",
          "2022-05-11T00:00:00",
          "2022-05-18T00:00:00",
          "2022-05-25T00:00:00",
          "2022-06-01T00:00:00",
          "2022-06-08T00:00:00",
          "2022-06-15T00:00:00",
          "2022-06-22T00:00:00",
          "2022-06-29T00:00:00",
          "2022-07-06T00:00:00",
          "2022-07-13T00:00:00",
          "2022-07-20T00:00:00",
          "2022-07-27T00:00:00",
          "2022-08-03T00:00:00",
          "2022-08-10T00:00:00",
          "2022-08-17T00:00:00",
          "2022-08-24T00:00:00",
          "2022-08-31T00:00:00",
          "2022-09-07T00:00:00",
          "2022-09-14T00:00:00",
          "2022-09-21T00:00:00",
          "2022-09-28T00:00:00",
          "2022-10-05T00:00:00",
          "2022-10-12T00:00:00",
          "2022-10-19T00:00:00",
          "2022-10-26T00:00:00",
          "2022-11-02T00:00:00",
          "2022-11-09T00:00:00",
          "2022-11-16T00:00:00",
          "2022-11-23T00:00:00",
          "2022-11-30T00:00:00",
          "2022-12-07T00:00:00",
          "2022-12-14T00:00:00",
          "2022-12-21T00:00:00",
          "2022-12-28T00:00:00",
          "2023-01-04T00:00:00",
          "2023-01-11T00:00:00",
          "2023-01-18T00:00:00",
          "2023-01-25T00:00:00",
          "2023-02-01T00:00:00",
          "2023-02-08T00:00:00",
          "2023-02-15T00:00:00",
          "2023-02-22T00:00:00",
          "2023-03-01T00:00:00",
          "2023-03-08T00:00:00",
          "2023-03-15T00:00:00",
          "2023-03-22T00:00:00",
          "2023-03-29T00:00:00",
          "2023-04-05T00:00:00",
          "2023-04-12T00:00:00",
          "2023-04-19T00:00:00",
          "2023-04-26T00:00:00"
         ],
         "xaxis": "x",
         "y": [
          null,
          425,
          511,
          -692,
          -151,
          54,
          11,
          112,
          -77,
          -75,
          43,
          -2,
          -24,
          14,
          -84,
          -41,
          1089,
          -141,
          46,
          -67,
          -1018,
          -1010,
          -573,
          94,
          -150,
          6,
          54,
          -27,
          -1,
          105,
          5,
          57,
          16,
          123,
          -298,
          68,
          -78,
          263,
          -119,
          371,
          -408,
          -65,
          31,
          37,
          -9,
          -14,
          4880,
          -4204,
          -547,
          -118,
          -90,
          59
         ],
         "yaxis": "y"
        },
        {
         "alignmentgroup": "True",
         "hovertemplate": "variable=Other assets, large domestically chartered commercial banks, not seasonally adjusted<br>Series Description=%{x}<br>value=%{y}<extra></extra>",
         "legendgroup": "Other assets, large domestically chartered commercial banks, not seasonally adjusted",
         "marker": {
          "color": "#636efa",
          "pattern": {
           "shape": ""
          }
         },
         "name": "Other assets, large domestically chartered commercial banks, not seasonally adjusted",
         "offsetgroup": "Other assets, large domestically chartered commercial banks, not seasonally adjusted",
         "orientation": "v",
         "showlegend": true,
         "textposition": "auto",
         "type": "bar",
         "x": [
          "2022-05-04T00:00:00",
          "2022-05-11T00:00:00",
          "2022-05-18T00:00:00",
          "2022-05-25T00:00:00",
          "2022-06-01T00:00:00",
          "2022-06-08T00:00:00",
          "2022-06-15T00:00:00",
          "2022-06-22T00:00:00",
          "2022-06-29T00:00:00",
          "2022-07-06T00:00:00",
          "2022-07-13T00:00:00",
          "2022-07-20T00:00:00",
          "2022-07-27T00:00:00",
          "2022-08-03T00:00:00",
          "2022-08-10T00:00:00",
          "2022-08-17T00:00:00",
          "2022-08-24T00:00:00",
          "2022-08-31T00:00:00",
          "2022-09-07T00:00:00",
          "2022-09-14T00:00:00",
          "2022-09-21T00:00:00",
          "2022-09-28T00:00:00",
          "2022-10-05T00:00:00",
          "2022-10-12T00:00:00",
          "2022-10-19T00:00:00",
          "2022-10-26T00:00:00",
          "2022-11-02T00:00:00",
          "2022-11-09T00:00:00",
          "2022-11-16T00:00:00",
          "2022-11-23T00:00:00",
          "2022-11-30T00:00:00",
          "2022-12-07T00:00:00",
          "2022-12-14T00:00:00",
          "2022-12-21T00:00:00",
          "2022-12-28T00:00:00",
          "2023-01-04T00:00:00",
          "2023-01-11T00:00:00",
          "2023-01-18T00:00:00",
          "2023-01-25T00:00:00",
          "2023-02-01T00:00:00",
          "2023-02-08T00:00:00",
          "2023-02-15T00:00:00",
          "2023-02-22T00:00:00",
          "2023-03-01T00:00:00",
          "2023-03-08T00:00:00",
          "2023-03-15T00:00:00",
          "2023-03-22T00:00:00",
          "2023-03-29T00:00:00",
          "2023-04-05T00:00:00",
          "2023-04-12T00:00:00",
          "2023-04-19T00:00:00",
          "2023-04-26T00:00:00"
         ],
         "xaxis": "x",
         "y": [
          null,
          38699.19999999995,
          -18399.300000000047,
          -21110.399999999907,
          9569.699999999953,
          20542.600000000093,
          875.7999999998137,
          -26265.799999999814,
          -39614,
          36165.89999999991,
          10144.800000000047,
          5304.59999999986,
          -27505.59999999986,
          -2239.6999999999534,
          22778.09999999986,
          -3411.8000000000466,
          28313,
          -19655.199999999953,
          -35185.30000000005,
          29646.100000000093,
          -20282.100000000093,
          -12133.59999999986,
          3538.5,
          32882.09999999986,
          -3003.5999999998603,
          -8660.5,
          17807.899999999907,
          16678.300000000047,
          1266.3000000000466,
          34594,
          -35665,
          -42404.60000000009,
          27592,
          -18757.59999999986,
          -47422.30000000005,
          16799.399999999907,
          18998.300000000047,
          1509,
          -9061,
          6525.5,
          6075.399999999907,
          15441,
          9835.40000000014,
          -6112.600000000093,
          13308.199999999953,
          -18955.899999999907,
          -12902,
          -168,
          -25031,
          24472,
          7863,
          -21184
         ],
         "yaxis": "y"
        }
       ],
       "layout": {
        "barmode": "relative",
        "legend": {
         "title": {
          "text": "Legend"
         },
         "tracegroupgap": 0
        },
        "margin": {
         "t": 60
        },
        "template": {
         "data": {
          "bar": [
           {
            "error_x": {
             "color": "#2a3f5f"
            },
            "error_y": {
             "color": "#2a3f5f"
            },
            "marker": {
             "line": {
              "color": "white",
              "width": 0.5
             },
             "pattern": {
              "fillmode": "overlay",
              "size": 10,
              "solidity": 0.2
             }
            },
            "type": "bar"
           }
          ],
          "barpolar": [
           {
            "marker": {
             "line": {
              "color": "white",
              "width": 0.5
             },
             "pattern": {
              "fillmode": "overlay",
              "size": 10,
              "solidity": 0.2
             }
            },
            "type": "barpolar"
           }
          ],
          "carpet": [
           {
            "aaxis": {
             "endlinecolor": "#2a3f5f",
             "gridcolor": "#C8D4E3",
             "linecolor": "#C8D4E3",
             "minorgridcolor": "#C8D4E3",
             "startlinecolor": "#2a3f5f"
            },
            "baxis": {
             "endlinecolor": "#2a3f5f",
             "gridcolor": "#C8D4E3",
             "linecolor": "#C8D4E3",
             "minorgridcolor": "#C8D4E3",
             "startlinecolor": "#2a3f5f"
            },
            "type": "carpet"
           }
          ],
          "choropleth": [
           {
            "colorbar": {
             "outlinewidth": 0,
             "ticks": ""
            },
            "type": "choropleth"
           }
          ],
          "contour": [
           {
            "colorbar": {
             "outlinewidth": 0,
             "ticks": ""
            },
            "colorscale": [
             [
              0,
              "#0d0887"
             ],
             [
              0.1111111111111111,
              "#46039f"
             ],
             [
              0.2222222222222222,
              "#7201a8"
             ],
             [
              0.3333333333333333,
              "#9c179e"
             ],
             [
              0.4444444444444444,
              "#bd3786"
             ],
             [
              0.5555555555555556,
              "#d8576b"
             ],
             [
              0.6666666666666666,
              "#ed7953"
             ],
             [
              0.7777777777777778,
              "#fb9f3a"
             ],
             [
              0.8888888888888888,
              "#fdca26"
             ],
             [
              1,
              "#f0f921"
             ]
            ],
            "type": "contour"
           }
          ],
          "contourcarpet": [
           {
            "colorbar": {
             "outlinewidth": 0,
             "ticks": ""
            },
            "type": "contourcarpet"
           }
          ],
          "heatmap": [
           {
            "colorbar": {
             "outlinewidth": 0,
             "ticks": ""
            },
            "colorscale": [
             [
              0,
              "#0d0887"
             ],
             [
              0.1111111111111111,
              "#46039f"
             ],
             [
              0.2222222222222222,
              "#7201a8"
             ],
             [
              0.3333333333333333,
              "#9c179e"
             ],
             [
              0.4444444444444444,
              "#bd3786"
             ],
             [
              0.5555555555555556,
              "#d8576b"
             ],
             [
              0.6666666666666666,
              "#ed7953"
             ],
             [
              0.7777777777777778,
              "#fb9f3a"
             ],
             [
              0.8888888888888888,
              "#fdca26"
             ],
             [
              1,
              "#f0f921"
             ]
            ],
            "type": "heatmap"
           }
          ],
          "heatmapgl": [
           {
            "colorbar": {
             "outlinewidth": 0,
             "ticks": ""
            },
            "colorscale": [
             [
              0,
              "#0d0887"
             ],
             [
              0.1111111111111111,
              "#46039f"
             ],
             [
              0.2222222222222222,
              "#7201a8"
             ],
             [
              0.3333333333333333,
              "#9c179e"
             ],
             [
              0.4444444444444444,
              "#bd3786"
             ],
             [
              0.5555555555555556,
              "#d8576b"
             ],
             [
              0.6666666666666666,
              "#ed7953"
             ],
             [
              0.7777777777777778,
              "#fb9f3a"
             ],
             [
              0.8888888888888888,
              "#fdca26"
             ],
             [
              1,
              "#f0f921"
             ]
            ],
            "type": "heatmapgl"
           }
          ],
          "histogram": [
           {
            "marker": {
             "pattern": {
              "fillmode": "overlay",
              "size": 10,
              "solidity": 0.2
             }
            },
            "type": "histogram"
           }
          ],
          "histogram2d": [
           {
            "colorbar": {
             "outlinewidth": 0,
             "ticks": ""
            },
            "colorscale": [
             [
              0,
              "#0d0887"
             ],
             [
              0.1111111111111111,
              "#46039f"
             ],
             [
              0.2222222222222222,
              "#7201a8"
             ],
             [
              0.3333333333333333,
              "#9c179e"
             ],
             [
              0.4444444444444444,
              "#bd3786"
             ],
             [
              0.5555555555555556,
              "#d8576b"
             ],
             [
              0.6666666666666666,
              "#ed7953"
             ],
             [
              0.7777777777777778,
              "#fb9f3a"
             ],
             [
              0.8888888888888888,
              "#fdca26"
             ],
             [
              1,
              "#f0f921"
             ]
            ],
            "type": "histogram2d"
           }
          ],
          "histogram2dcontour": [
           {
            "colorbar": {
             "outlinewidth": 0,
             "ticks": ""
            },
            "colorscale": [
             [
              0,
              "#0d0887"
             ],
             [
              0.1111111111111111,
              "#46039f"
             ],
             [
              0.2222222222222222,
              "#7201a8"
             ],
             [
              0.3333333333333333,
              "#9c179e"
             ],
             [
              0.4444444444444444,
              "#bd3786"
             ],
             [
              0.5555555555555556,
              "#d8576b"
             ],
             [
              0.6666666666666666,
              "#ed7953"
             ],
             [
              0.7777777777777778,
              "#fb9f3a"
             ],
             [
              0.8888888888888888,
              "#fdca26"
             ],
             [
              1,
              "#f0f921"
             ]
            ],
            "type": "histogram2dcontour"
           }
          ],
          "mesh3d": [
           {
            "colorbar": {
             "outlinewidth": 0,
             "ticks": ""
            },
            "type": "mesh3d"
           }
          ],
          "parcoords": [
           {
            "line": {
             "colorbar": {
              "outlinewidth": 0,
              "ticks": ""
             }
            },
            "type": "parcoords"
           }
          ],
          "pie": [
           {
            "automargin": true,
            "type": "pie"
           }
          ],
          "scatter": [
           {
            "fillpattern": {
             "fillmode": "overlay",
             "size": 10,
             "solidity": 0.2
            },
            "type": "scatter"
           }
          ],
          "scatter3d": [
           {
            "line": {
             "colorbar": {
              "outlinewidth": 0,
              "ticks": ""
             }
            },
            "marker": {
             "colorbar": {
              "outlinewidth": 0,
              "ticks": ""
             }
            },
            "type": "scatter3d"
           }
          ],
          "scattercarpet": [
           {
            "marker": {
             "colorbar": {
              "outlinewidth": 0,
              "ticks": ""
             }
            },
            "type": "scattercarpet"
           }
          ],
          "scattergeo": [
           {
            "marker": {
             "colorbar": {
              "outlinewidth": 0,
              "ticks": ""
             }
            },
            "type": "scattergeo"
           }
          ],
          "scattergl": [
           {
            "marker": {
             "colorbar": {
              "outlinewidth": 0,
              "ticks": ""
             }
            },
            "type": "scattergl"
           }
          ],
          "scattermapbox": [
           {
            "marker": {
             "colorbar": {
              "outlinewidth": 0,
              "ticks": ""
             }
            },
            "type": "scattermapbox"
           }
          ],
          "scatterpolar": [
           {
            "marker": {
             "colorbar": {
              "outlinewidth": 0,
              "ticks": ""
             }
            },
            "type": "scatterpolar"
           }
          ],
          "scatterpolargl": [
           {
            "marker": {
             "colorbar": {
              "outlinewidth": 0,
              "ticks": ""
             }
            },
            "type": "scatterpolargl"
           }
          ],
          "scatterternary": [
           {
            "marker": {
             "colorbar": {
              "outlinewidth": 0,
              "ticks": ""
             }
            },
            "type": "scatterternary"
           }
          ],
          "surface": [
           {
            "colorbar": {
             "outlinewidth": 0,
             "ticks": ""
            },
            "colorscale": [
             [
              0,
              "#0d0887"
             ],
             [
              0.1111111111111111,
              "#46039f"
             ],
             [
              0.2222222222222222,
              "#7201a8"
             ],
             [
              0.3333333333333333,
              "#9c179e"
             ],
             [
              0.4444444444444444,
              "#bd3786"
             ],
             [
              0.5555555555555556,
              "#d8576b"
             ],
             [
              0.6666666666666666,
              "#ed7953"
             ],
             [
              0.7777777777777778,
              "#fb9f3a"
             ],
             [
              0.8888888888888888,
              "#fdca26"
             ],
             [
              1,
              "#f0f921"
             ]
            ],
            "type": "surface"
           }
          ],
          "table": [
           {
            "cells": {
             "fill": {
              "color": "#EBF0F8"
             },
             "line": {
              "color": "white"
             }
            },
            "header": {
             "fill": {
              "color": "#C8D4E3"
             },
             "line": {
              "color": "white"
             }
            },
            "type": "table"
           }
          ]
         },
         "layout": {
          "annotationdefaults": {
           "arrowcolor": "#2a3f5f",
           "arrowhead": 0,
           "arrowwidth": 1
          },
          "autotypenumbers": "strict",
          "coloraxis": {
           "colorbar": {
            "outlinewidth": 0,
            "ticks": ""
           }
          },
          "colorscale": {
           "diverging": [
            [
             0,
             "#8e0152"
            ],
            [
             0.1,
             "#c51b7d"
            ],
            [
             0.2,
             "#de77ae"
            ],
            [
             0.3,
             "#f1b6da"
            ],
            [
             0.4,
             "#fde0ef"
            ],
            [
             0.5,
             "#f7f7f7"
            ],
            [
             0.6,
             "#e6f5d0"
            ],
            [
             0.7,
             "#b8e186"
            ],
            [
             0.8,
             "#7fbc41"
            ],
            [
             0.9,
             "#4d9221"
            ],
            [
             1,
             "#276419"
            ]
           ],
           "sequential": [
            [
             0,
             "#0d0887"
            ],
            [
             0.1111111111111111,
             "#46039f"
            ],
            [
             0.2222222222222222,
             "#7201a8"
            ],
            [
             0.3333333333333333,
             "#9c179e"
            ],
            [
             0.4444444444444444,
             "#bd3786"
            ],
            [
             0.5555555555555556,
             "#d8576b"
            ],
            [
             0.6666666666666666,
             "#ed7953"
            ],
            [
             0.7777777777777778,
             "#fb9f3a"
            ],
            [
             0.8888888888888888,
             "#fdca26"
            ],
            [
             1,
             "#f0f921"
            ]
           ],
           "sequentialminus": [
            [
             0,
             "#0d0887"
            ],
            [
             0.1111111111111111,
             "#46039f"
            ],
            [
             0.2222222222222222,
             "#7201a8"
            ],
            [
             0.3333333333333333,
             "#9c179e"
            ],
            [
             0.4444444444444444,
             "#bd3786"
            ],
            [
             0.5555555555555556,
             "#d8576b"
            ],
            [
             0.6666666666666666,
             "#ed7953"
            ],
            [
             0.7777777777777778,
             "#fb9f3a"
            ],
            [
             0.8888888888888888,
             "#fdca26"
            ],
            [
             1,
             "#f0f921"
            ]
           ]
          },
          "colorway": [
           "#636efa",
           "#EF553B",
           "#00cc96",
           "#ab63fa",
           "#FFA15A",
           "#19d3f3",
           "#FF6692",
           "#B6E880",
           "#FF97FF",
           "#FECB52"
          ],
          "font": {
           "color": "#2a3f5f"
          },
          "geo": {
           "bgcolor": "white",
           "lakecolor": "white",
           "landcolor": "white",
           "showlakes": true,
           "showland": true,
           "subunitcolor": "#C8D4E3"
          },
          "hoverlabel": {
           "align": "left"
          },
          "hovermode": "closest",
          "mapbox": {
           "style": "light"
          },
          "paper_bgcolor": "white",
          "plot_bgcolor": "white",
          "polar": {
           "angularaxis": {
            "gridcolor": "#EBF0F8",
            "linecolor": "#EBF0F8",
            "ticks": ""
           },
           "bgcolor": "white",
           "radialaxis": {
            "gridcolor": "#EBF0F8",
            "linecolor": "#EBF0F8",
            "ticks": ""
           }
          },
          "scene": {
           "xaxis": {
            "backgroundcolor": "white",
            "gridcolor": "#DFE8F3",
            "gridwidth": 2,
            "linecolor": "#EBF0F8",
            "showbackground": true,
            "ticks": "",
            "zerolinecolor": "#EBF0F8"
           },
           "yaxis": {
            "backgroundcolor": "white",
            "gridcolor": "#DFE8F3",
            "gridwidth": 2,
            "linecolor": "#EBF0F8",
            "showbackground": true,
            "ticks": "",
            "zerolinecolor": "#EBF0F8"
           },
           "zaxis": {
            "backgroundcolor": "white",
            "gridcolor": "#DFE8F3",
            "gridwidth": 2,
            "linecolor": "#EBF0F8",
            "showbackground": true,
            "ticks": "",
            "zerolinecolor": "#EBF0F8"
           }
          },
          "shapedefaults": {
           "line": {
            "color": "#2a3f5f"
           }
          },
          "ternary": {
           "aaxis": {
            "gridcolor": "#DFE8F3",
            "linecolor": "#A2B1C6",
            "ticks": ""
           },
           "baxis": {
            "gridcolor": "#DFE8F3",
            "linecolor": "#A2B1C6",
            "ticks": ""
           },
           "bgcolor": "white",
           "caxis": {
            "gridcolor": "#DFE8F3",
            "linecolor": "#A2B1C6",
            "ticks": ""
           }
          },
          "title": {
           "x": 0.05
          },
          "xaxis": {
           "automargin": true,
           "gridcolor": "#EBF0F8",
           "linecolor": "#EBF0F8",
           "ticks": "",
           "title": {
            "standoff": 15
           },
           "zerolinecolor": "#EBF0F8",
           "zerolinewidth": 2
          },
          "yaxis": {
           "automargin": true,
           "gridcolor": "#EBF0F8",
           "linecolor": "#EBF0F8",
           "ticks": "",
           "title": {
            "standoff": 15
           },
           "zerolinecolor": "#EBF0F8",
           "zerolinewidth": 2
          }
         }
        },
        "title": {
         "text": "Large domestically chartered commercial banks: assets wow change"
        },
        "xaxis": {
         "anchor": "y",
         "domain": [
          0,
          1
         ],
         "title": {
          "text": "Date"
         }
        },
        "yaxis": {
         "anchor": "x",
         "domain": [
          0,
          1
         ],
         "title": {
          "text": "Value (1000000 multiplier)"
         }
        }
       }
      }
     },
     "metadata": {},
     "output_type": "display_data"
    },
    {
     "data": {
      "application/vnd.plotly.v1+json": {
       "config": {
        "plotlyServerURL": "https://plot.ly"
       },
       "data": [
        {
         "alignmentgroup": "True",
         "hovertemplate": "variable=Deposits, large domestically chartered commercial banks, not seasonally adjusted<br>Series Description=%{x}<br>value=%{y}<extra></extra>",
         "legendgroup": "Deposits, large domestically chartered commercial banks, not seasonally adjusted",
         "marker": {
          "color": "#636efa",
          "pattern": {
           "shape": ""
          }
         },
         "name": "Deposits, large domestically chartered commercial banks, not seasonally adjusted",
         "offsetgroup": "Deposits, large domestically chartered commercial banks, not seasonally adjusted",
         "orientation": "v",
         "showlegend": true,
         "textposition": "auto",
         "type": "bar",
         "x": [
          "2022-05-04T00:00:00",
          "2022-05-11T00:00:00",
          "2022-05-18T00:00:00",
          "2022-05-25T00:00:00",
          "2022-06-01T00:00:00",
          "2022-06-08T00:00:00",
          "2022-06-15T00:00:00",
          "2022-06-22T00:00:00",
          "2022-06-29T00:00:00",
          "2022-07-06T00:00:00",
          "2022-07-13T00:00:00",
          "2022-07-20T00:00:00",
          "2022-07-27T00:00:00",
          "2022-08-03T00:00:00",
          "2022-08-10T00:00:00",
          "2022-08-17T00:00:00",
          "2022-08-24T00:00:00",
          "2022-08-31T00:00:00",
          "2022-09-07T00:00:00",
          "2022-09-14T00:00:00",
          "2022-09-21T00:00:00",
          "2022-09-28T00:00:00",
          "2022-10-05T00:00:00",
          "2022-10-12T00:00:00",
          "2022-10-19T00:00:00",
          "2022-10-26T00:00:00",
          "2022-11-02T00:00:00",
          "2022-11-09T00:00:00",
          "2022-11-16T00:00:00",
          "2022-11-23T00:00:00",
          "2022-11-30T00:00:00",
          "2022-12-07T00:00:00",
          "2022-12-14T00:00:00",
          "2022-12-21T00:00:00",
          "2022-12-28T00:00:00",
          "2023-01-04T00:00:00",
          "2023-01-11T00:00:00",
          "2023-01-18T00:00:00",
          "2023-01-25T00:00:00",
          "2023-02-01T00:00:00",
          "2023-02-08T00:00:00",
          "2023-02-15T00:00:00",
          "2023-02-22T00:00:00",
          "2023-03-01T00:00:00",
          "2023-03-08T00:00:00",
          "2023-03-15T00:00:00",
          "2023-03-22T00:00:00",
          "2023-03-29T00:00:00",
          "2023-04-05T00:00:00",
          "2023-04-12T00:00:00",
          "2023-04-19T00:00:00",
          "2023-04-26T00:00:00"
         ],
         "xaxis": "x",
         "y": [
          11183607.9,
          11143774.6,
          11138074,
          11117581.2,
          11219852,
          11121798,
          11150536.8,
          11092601.4,
          11159893.2,
          11168885.8,
          11145759.5,
          11087831.7,
          11127857.7,
          11110215.6,
          11123723.2,
          11113798.1,
          11054327.8,
          11103498.1,
          11072924.9,
          11056504.2,
          10970788.1,
          10961094.3,
          10927087.5,
          10945161.3,
          10861471.7,
          10844197,
          10867629.2,
          10854400.7,
          10909246.5,
          10894998.3,
          10905079.2,
          10930256.6,
          10995127.1,
          11018039.6,
          11005498.7,
          10988025.6,
          10876468.8,
          10843200.8,
          10747249.2,
          10781081.4,
          10696138,
          10735806.9,
          10672642.1,
          10730471.8,
          10675802.2,
          10795961,
          10699787,
          10748487,
          10776428,
          10735808,
          10612644,
          10535838
         ],
         "yaxis": "y"
        },
        {
         "alignmentgroup": "True",
         "hovertemplate": "variable=Borrowings, large domestically chartered commercial banks, not seasonally adjusted<br>Series Description=%{x}<br>value=%{y}<extra></extra>",
         "legendgroup": "Borrowings, large domestically chartered commercial banks, not seasonally adjusted",
         "marker": {
          "color": "#EF553B",
          "pattern": {
           "shape": ""
          }
         },
         "name": "Borrowings, large domestically chartered commercial banks, not seasonally adjusted",
         "offsetgroup": "Borrowings, large domestically chartered commercial banks, not seasonally adjusted",
         "orientation": "v",
         "showlegend": true,
         "textposition": "auto",
         "type": "bar",
         "x": [
          "2022-05-04T00:00:00",
          "2022-05-11T00:00:00",
          "2022-05-18T00:00:00",
          "2022-05-25T00:00:00",
          "2022-06-01T00:00:00",
          "2022-06-08T00:00:00",
          "2022-06-15T00:00:00",
          "2022-06-22T00:00:00",
          "2022-06-29T00:00:00",
          "2022-07-06T00:00:00",
          "2022-07-13T00:00:00",
          "2022-07-20T00:00:00",
          "2022-07-27T00:00:00",
          "2022-08-03T00:00:00",
          "2022-08-10T00:00:00",
          "2022-08-17T00:00:00",
          "2022-08-24T00:00:00",
          "2022-08-31T00:00:00",
          "2022-09-07T00:00:00",
          "2022-09-14T00:00:00",
          "2022-09-21T00:00:00",
          "2022-09-28T00:00:00",
          "2022-10-05T00:00:00",
          "2022-10-12T00:00:00",
          "2022-10-19T00:00:00",
          "2022-10-26T00:00:00",
          "2022-11-02T00:00:00",
          "2022-11-09T00:00:00",
          "2022-11-16T00:00:00",
          "2022-11-23T00:00:00",
          "2022-11-30T00:00:00",
          "2022-12-07T00:00:00",
          "2022-12-14T00:00:00",
          "2022-12-21T00:00:00",
          "2022-12-28T00:00:00",
          "2023-01-04T00:00:00",
          "2023-01-11T00:00:00",
          "2023-01-18T00:00:00",
          "2023-01-25T00:00:00",
          "2023-02-01T00:00:00",
          "2023-02-08T00:00:00",
          "2023-02-15T00:00:00",
          "2023-02-22T00:00:00",
          "2023-03-01T00:00:00",
          "2023-03-08T00:00:00",
          "2023-03-15T00:00:00",
          "2023-03-22T00:00:00",
          "2023-03-29T00:00:00",
          "2023-04-05T00:00:00",
          "2023-04-12T00:00:00",
          "2023-04-19T00:00:00",
          "2023-04-26T00:00:00"
         ],
         "xaxis": "x",
         "y": [
          419179.9,
          432707.8,
          438697.8,
          443456.5,
          447017.2,
          450247.3,
          461294.4,
          500717.7,
          465423.9,
          498546.2,
          481369.6,
          493046.7,
          500217.2,
          498457.3,
          498210.5,
          484981.9,
          499106.6,
          501403.2,
          507676.6,
          506667.8,
          513774.6,
          537236.1,
          526662.2,
          538844.8,
          542906.8,
          559609.3,
          564629.1,
          587593.8,
          605457.2,
          610690.5,
          611224.5,
          585676.8,
          581047.4,
          579403.3,
          576278.5,
          586321.9,
          600047.7,
          617137.3,
          640629.6,
          643744.8,
          637711.1,
          649033.2,
          649628.7,
          640659.6,
          650815.2,
          878593,
          904867,
          928517,
          892433,
          893192,
          892002,
          920492
         ],
         "yaxis": "y"
        },
        {
         "alignmentgroup": "True",
         "hovertemplate": "variable=Net due to related foreign offices, large domestically chartered commercial banks, not seasonally adjusted<br>Series Description=%{x}<br>value=%{y}<extra></extra>",
         "legendgroup": "Net due to related foreign offices, large domestically chartered commercial banks, not seasonally adjusted",
         "marker": {
          "color": "#00cc96",
          "pattern": {
           "shape": ""
          }
         },
         "name": "Net due to related foreign offices, large domestically chartered commercial banks, not seasonally adjusted",
         "offsetgroup": "Net due to related foreign offices, large domestically chartered commercial banks, not seasonally adjusted",
         "orientation": "v",
         "showlegend": true,
         "textposition": "auto",
         "type": "bar",
         "x": [
          "2022-05-04T00:00:00",
          "2022-05-11T00:00:00",
          "2022-05-18T00:00:00",
          "2022-05-25T00:00:00",
          "2022-06-01T00:00:00",
          "2022-06-08T00:00:00",
          "2022-06-15T00:00:00",
          "2022-06-22T00:00:00",
          "2022-06-29T00:00:00",
          "2022-07-06T00:00:00",
          "2022-07-13T00:00:00",
          "2022-07-20T00:00:00",
          "2022-07-27T00:00:00",
          "2022-08-03T00:00:00",
          "2022-08-10T00:00:00",
          "2022-08-17T00:00:00",
          "2022-08-24T00:00:00",
          "2022-08-31T00:00:00",
          "2022-09-07T00:00:00",
          "2022-09-14T00:00:00",
          "2022-09-21T00:00:00",
          "2022-09-28T00:00:00",
          "2022-10-05T00:00:00",
          "2022-10-12T00:00:00",
          "2022-10-19T00:00:00",
          "2022-10-26T00:00:00",
          "2022-11-02T00:00:00",
          "2022-11-09T00:00:00",
          "2022-11-16T00:00:00",
          "2022-11-23T00:00:00",
          "2022-11-30T00:00:00",
          "2022-12-07T00:00:00",
          "2022-12-14T00:00:00",
          "2022-12-21T00:00:00",
          "2022-12-28T00:00:00",
          "2023-01-04T00:00:00",
          "2023-01-11T00:00:00",
          "2023-01-18T00:00:00",
          "2023-01-25T00:00:00",
          "2023-02-01T00:00:00",
          "2023-02-08T00:00:00",
          "2023-02-15T00:00:00",
          "2023-02-22T00:00:00",
          "2023-03-01T00:00:00",
          "2023-03-08T00:00:00",
          "2023-03-15T00:00:00",
          "2023-03-22T00:00:00",
          "2023-03-29T00:00:00",
          "2023-04-05T00:00:00",
          "2023-04-12T00:00:00",
          "2023-04-19T00:00:00",
          "2023-04-26T00:00:00"
         ],
         "xaxis": "x",
         "y": [
          -383164.4,
          -381605.8,
          -403805.4,
          -368614.3,
          -375910.1,
          -364408.7,
          -353865.1,
          -370943.5,
          -376707.4,
          -377981.5,
          -363176.4,
          -359710.5,
          -363303.5,
          -368385.7,
          -358173.3,
          -362232.4,
          -371408.2,
          -368261.1,
          -385046.7,
          -365706.3,
          -368011.7,
          -376273,
          -366702.4,
          -328285,
          -333853.8,
          -290996.2,
          -323586.9,
          -347249.9,
          -336495.4,
          -332032.2,
          -326750.4,
          -389256.6,
          -355174.8,
          -370074.8,
          -375561.6,
          -412305,
          -377907.9,
          -369667.8,
          -371874,
          -384697.9,
          -367707.9,
          -374962.2,
          -363602.8,
          -382077.9,
          -374336.4,
          -371117,
          -392169,
          -412260,
          -419357,
          -430532,
          -415474,
          -415008
         ],
         "yaxis": "y"
        },
        {
         "alignmentgroup": "True",
         "hovertemplate": "variable=Other liabilities, large domestically chartered commercial banks, not seasonally adjusted<br>Series Description=%{x}<br>value=%{y}<extra></extra>",
         "legendgroup": "Other liabilities, large domestically chartered commercial banks, not seasonally adjusted",
         "marker": {
          "color": "#ab63fa",
          "pattern": {
           "shape": ""
          }
         },
         "name": "Other liabilities, large domestically chartered commercial banks, not seasonally adjusted",
         "offsetgroup": "Other liabilities, large domestically chartered commercial banks, not seasonally adjusted",
         "orientation": "v",
         "showlegend": true,
         "textposition": "auto",
         "type": "bar",
         "x": [
          "2022-05-04T00:00:00",
          "2022-05-11T00:00:00",
          "2022-05-18T00:00:00",
          "2022-05-25T00:00:00",
          "2022-06-01T00:00:00",
          "2022-06-08T00:00:00",
          "2022-06-15T00:00:00",
          "2022-06-22T00:00:00",
          "2022-06-29T00:00:00",
          "2022-07-06T00:00:00",
          "2022-07-13T00:00:00",
          "2022-07-20T00:00:00",
          "2022-07-27T00:00:00",
          "2022-08-03T00:00:00",
          "2022-08-10T00:00:00",
          "2022-08-17T00:00:00",
          "2022-08-24T00:00:00",
          "2022-08-31T00:00:00",
          "2022-09-07T00:00:00",
          "2022-09-14T00:00:00",
          "2022-09-21T00:00:00",
          "2022-09-28T00:00:00",
          "2022-10-05T00:00:00",
          "2022-10-12T00:00:00",
          "2022-10-19T00:00:00",
          "2022-10-26T00:00:00",
          "2022-11-02T00:00:00",
          "2022-11-09T00:00:00",
          "2022-11-16T00:00:00",
          "2022-11-23T00:00:00",
          "2022-11-30T00:00:00",
          "2022-12-07T00:00:00",
          "2022-12-14T00:00:00",
          "2022-12-21T00:00:00",
          "2022-12-28T00:00:00",
          "2023-01-04T00:00:00",
          "2023-01-11T00:00:00",
          "2023-01-18T00:00:00",
          "2023-01-25T00:00:00",
          "2023-02-01T00:00:00",
          "2023-02-08T00:00:00",
          "2023-02-15T00:00:00",
          "2023-02-22T00:00:00",
          "2023-03-01T00:00:00",
          "2023-03-08T00:00:00",
          "2023-03-15T00:00:00",
          "2023-03-22T00:00:00",
          "2023-03-29T00:00:00",
          "2023-04-05T00:00:00",
          "2023-04-12T00:00:00",
          "2023-04-19T00:00:00",
          "2023-04-26T00:00:00"
         ],
         "xaxis": "x",
         "y": [
          482578.9,
          485798.2,
          483061.4,
          476376.1,
          489169.4,
          496546.8,
          504503.9,
          471626.6,
          465207.2,
          492772.3,
          493933,
          487873.1,
          483708.9,
          478403.4,
          486285.5,
          483846.8,
          517793.1,
          509121.1,
          479005.1,
          512874.8,
          505121.2,
          506828.9,
          499673.3,
          529467.7,
          522898.6,
          527724,
          538720,
          540819.2,
          537280.9,
          559900.1,
          536569.2,
          516753.3,
          534499.8,
          507188.6,
          478808.7,
          502867.6,
          505113.3,
          491353.6,
          494981.1,
          500443.5,
          486264.9,
          502116.6,
          508793,
          495261.2,
          507433.9,
          478839,
          480756,
          492432,
          471615,
          484638,
          491981,
          488051
         ],
         "yaxis": "y"
        }
       ],
       "layout": {
        "barmode": "relative",
        "legend": {
         "title": {
          "text": "Legend"
         },
         "tracegroupgap": 0
        },
        "margin": {
         "t": 60
        },
        "template": {
         "data": {
          "bar": [
           {
            "error_x": {
             "color": "#2a3f5f"
            },
            "error_y": {
             "color": "#2a3f5f"
            },
            "marker": {
             "line": {
              "color": "white",
              "width": 0.5
             },
             "pattern": {
              "fillmode": "overlay",
              "size": 10,
              "solidity": 0.2
             }
            },
            "type": "bar"
           }
          ],
          "barpolar": [
           {
            "marker": {
             "line": {
              "color": "white",
              "width": 0.5
             },
             "pattern": {
              "fillmode": "overlay",
              "size": 10,
              "solidity": 0.2
             }
            },
            "type": "barpolar"
           }
          ],
          "carpet": [
           {
            "aaxis": {
             "endlinecolor": "#2a3f5f",
             "gridcolor": "#C8D4E3",
             "linecolor": "#C8D4E3",
             "minorgridcolor": "#C8D4E3",
             "startlinecolor": "#2a3f5f"
            },
            "baxis": {
             "endlinecolor": "#2a3f5f",
             "gridcolor": "#C8D4E3",
             "linecolor": "#C8D4E3",
             "minorgridcolor": "#C8D4E3",
             "startlinecolor": "#2a3f5f"
            },
            "type": "carpet"
           }
          ],
          "choropleth": [
           {
            "colorbar": {
             "outlinewidth": 0,
             "ticks": ""
            },
            "type": "choropleth"
           }
          ],
          "contour": [
           {
            "colorbar": {
             "outlinewidth": 0,
             "ticks": ""
            },
            "colorscale": [
             [
              0,
              "#0d0887"
             ],
             [
              0.1111111111111111,
              "#46039f"
             ],
             [
              0.2222222222222222,
              "#7201a8"
             ],
             [
              0.3333333333333333,
              "#9c179e"
             ],
             [
              0.4444444444444444,
              "#bd3786"
             ],
             [
              0.5555555555555556,
              "#d8576b"
             ],
             [
              0.6666666666666666,
              "#ed7953"
             ],
             [
              0.7777777777777778,
              "#fb9f3a"
             ],
             [
              0.8888888888888888,
              "#fdca26"
             ],
             [
              1,
              "#f0f921"
             ]
            ],
            "type": "contour"
           }
          ],
          "contourcarpet": [
           {
            "colorbar": {
             "outlinewidth": 0,
             "ticks": ""
            },
            "type": "contourcarpet"
           }
          ],
          "heatmap": [
           {
            "colorbar": {
             "outlinewidth": 0,
             "ticks": ""
            },
            "colorscale": [
             [
              0,
              "#0d0887"
             ],
             [
              0.1111111111111111,
              "#46039f"
             ],
             [
              0.2222222222222222,
              "#7201a8"
             ],
             [
              0.3333333333333333,
              "#9c179e"
             ],
             [
              0.4444444444444444,
              "#bd3786"
             ],
             [
              0.5555555555555556,
              "#d8576b"
             ],
             [
              0.6666666666666666,
              "#ed7953"
             ],
             [
              0.7777777777777778,
              "#fb9f3a"
             ],
             [
              0.8888888888888888,
              "#fdca26"
             ],
             [
              1,
              "#f0f921"
             ]
            ],
            "type": "heatmap"
           }
          ],
          "heatmapgl": [
           {
            "colorbar": {
             "outlinewidth": 0,
             "ticks": ""
            },
            "colorscale": [
             [
              0,
              "#0d0887"
             ],
             [
              0.1111111111111111,
              "#46039f"
             ],
             [
              0.2222222222222222,
              "#7201a8"
             ],
             [
              0.3333333333333333,
              "#9c179e"
             ],
             [
              0.4444444444444444,
              "#bd3786"
             ],
             [
              0.5555555555555556,
              "#d8576b"
             ],
             [
              0.6666666666666666,
              "#ed7953"
             ],
             [
              0.7777777777777778,
              "#fb9f3a"
             ],
             [
              0.8888888888888888,
              "#fdca26"
             ],
             [
              1,
              "#f0f921"
             ]
            ],
            "type": "heatmapgl"
           }
          ],
          "histogram": [
           {
            "marker": {
             "pattern": {
              "fillmode": "overlay",
              "size": 10,
              "solidity": 0.2
             }
            },
            "type": "histogram"
           }
          ],
          "histogram2d": [
           {
            "colorbar": {
             "outlinewidth": 0,
             "ticks": ""
            },
            "colorscale": [
             [
              0,
              "#0d0887"
             ],
             [
              0.1111111111111111,
              "#46039f"
             ],
             [
              0.2222222222222222,
              "#7201a8"
             ],
             [
              0.3333333333333333,
              "#9c179e"
             ],
             [
              0.4444444444444444,
              "#bd3786"
             ],
             [
              0.5555555555555556,
              "#d8576b"
             ],
             [
              0.6666666666666666,
              "#ed7953"
             ],
             [
              0.7777777777777778,
              "#fb9f3a"
             ],
             [
              0.8888888888888888,
              "#fdca26"
             ],
             [
              1,
              "#f0f921"
             ]
            ],
            "type": "histogram2d"
           }
          ],
          "histogram2dcontour": [
           {
            "colorbar": {
             "outlinewidth": 0,
             "ticks": ""
            },
            "colorscale": [
             [
              0,
              "#0d0887"
             ],
             [
              0.1111111111111111,
              "#46039f"
             ],
             [
              0.2222222222222222,
              "#7201a8"
             ],
             [
              0.3333333333333333,
              "#9c179e"
             ],
             [
              0.4444444444444444,
              "#bd3786"
             ],
             [
              0.5555555555555556,
              "#d8576b"
             ],
             [
              0.6666666666666666,
              "#ed7953"
             ],
             [
              0.7777777777777778,
              "#fb9f3a"
             ],
             [
              0.8888888888888888,
              "#fdca26"
             ],
             [
              1,
              "#f0f921"
             ]
            ],
            "type": "histogram2dcontour"
           }
          ],
          "mesh3d": [
           {
            "colorbar": {
             "outlinewidth": 0,
             "ticks": ""
            },
            "type": "mesh3d"
           }
          ],
          "parcoords": [
           {
            "line": {
             "colorbar": {
              "outlinewidth": 0,
              "ticks": ""
             }
            },
            "type": "parcoords"
           }
          ],
          "pie": [
           {
            "automargin": true,
            "type": "pie"
           }
          ],
          "scatter": [
           {
            "fillpattern": {
             "fillmode": "overlay",
             "size": 10,
             "solidity": 0.2
            },
            "type": "scatter"
           }
          ],
          "scatter3d": [
           {
            "line": {
             "colorbar": {
              "outlinewidth": 0,
              "ticks": ""
             }
            },
            "marker": {
             "colorbar": {
              "outlinewidth": 0,
              "ticks": ""
             }
            },
            "type": "scatter3d"
           }
          ],
          "scattercarpet": [
           {
            "marker": {
             "colorbar": {
              "outlinewidth": 0,
              "ticks": ""
             }
            },
            "type": "scattercarpet"
           }
          ],
          "scattergeo": [
           {
            "marker": {
             "colorbar": {
              "outlinewidth": 0,
              "ticks": ""
             }
            },
            "type": "scattergeo"
           }
          ],
          "scattergl": [
           {
            "marker": {
             "colorbar": {
              "outlinewidth": 0,
              "ticks": ""
             }
            },
            "type": "scattergl"
           }
          ],
          "scattermapbox": [
           {
            "marker": {
             "colorbar": {
              "outlinewidth": 0,
              "ticks": ""
             }
            },
            "type": "scattermapbox"
           }
          ],
          "scatterpolar": [
           {
            "marker": {
             "colorbar": {
              "outlinewidth": 0,
              "ticks": ""
             }
            },
            "type": "scatterpolar"
           }
          ],
          "scatterpolargl": [
           {
            "marker": {
             "colorbar": {
              "outlinewidth": 0,
              "ticks": ""
             }
            },
            "type": "scatterpolargl"
           }
          ],
          "scatterternary": [
           {
            "marker": {
             "colorbar": {
              "outlinewidth": 0,
              "ticks": ""
             }
            },
            "type": "scatterternary"
           }
          ],
          "surface": [
           {
            "colorbar": {
             "outlinewidth": 0,
             "ticks": ""
            },
            "colorscale": [
             [
              0,
              "#0d0887"
             ],
             [
              0.1111111111111111,
              "#46039f"
             ],
             [
              0.2222222222222222,
              "#7201a8"
             ],
             [
              0.3333333333333333,
              "#9c179e"
             ],
             [
              0.4444444444444444,
              "#bd3786"
             ],
             [
              0.5555555555555556,
              "#d8576b"
             ],
             [
              0.6666666666666666,
              "#ed7953"
             ],
             [
              0.7777777777777778,
              "#fb9f3a"
             ],
             [
              0.8888888888888888,
              "#fdca26"
             ],
             [
              1,
              "#f0f921"
             ]
            ],
            "type": "surface"
           }
          ],
          "table": [
           {
            "cells": {
             "fill": {
              "color": "#EBF0F8"
             },
             "line": {
              "color": "white"
             }
            },
            "header": {
             "fill": {
              "color": "#C8D4E3"
             },
             "line": {
              "color": "white"
             }
            },
            "type": "table"
           }
          ]
         },
         "layout": {
          "annotationdefaults": {
           "arrowcolor": "#2a3f5f",
           "arrowhead": 0,
           "arrowwidth": 1
          },
          "autotypenumbers": "strict",
          "coloraxis": {
           "colorbar": {
            "outlinewidth": 0,
            "ticks": ""
           }
          },
          "colorscale": {
           "diverging": [
            [
             0,
             "#8e0152"
            ],
            [
             0.1,
             "#c51b7d"
            ],
            [
             0.2,
             "#de77ae"
            ],
            [
             0.3,
             "#f1b6da"
            ],
            [
             0.4,
             "#fde0ef"
            ],
            [
             0.5,
             "#f7f7f7"
            ],
            [
             0.6,
             "#e6f5d0"
            ],
            [
             0.7,
             "#b8e186"
            ],
            [
             0.8,
             "#7fbc41"
            ],
            [
             0.9,
             "#4d9221"
            ],
            [
             1,
             "#276419"
            ]
           ],
           "sequential": [
            [
             0,
             "#0d0887"
            ],
            [
             0.1111111111111111,
             "#46039f"
            ],
            [
             0.2222222222222222,
             "#7201a8"
            ],
            [
             0.3333333333333333,
             "#9c179e"
            ],
            [
             0.4444444444444444,
             "#bd3786"
            ],
            [
             0.5555555555555556,
             "#d8576b"
            ],
            [
             0.6666666666666666,
             "#ed7953"
            ],
            [
             0.7777777777777778,
             "#fb9f3a"
            ],
            [
             0.8888888888888888,
             "#fdca26"
            ],
            [
             1,
             "#f0f921"
            ]
           ],
           "sequentialminus": [
            [
             0,
             "#0d0887"
            ],
            [
             0.1111111111111111,
             "#46039f"
            ],
            [
             0.2222222222222222,
             "#7201a8"
            ],
            [
             0.3333333333333333,
             "#9c179e"
            ],
            [
             0.4444444444444444,
             "#bd3786"
            ],
            [
             0.5555555555555556,
             "#d8576b"
            ],
            [
             0.6666666666666666,
             "#ed7953"
            ],
            [
             0.7777777777777778,
             "#fb9f3a"
            ],
            [
             0.8888888888888888,
             "#fdca26"
            ],
            [
             1,
             "#f0f921"
            ]
           ]
          },
          "colorway": [
           "#636efa",
           "#EF553B",
           "#00cc96",
           "#ab63fa",
           "#FFA15A",
           "#19d3f3",
           "#FF6692",
           "#B6E880",
           "#FF97FF",
           "#FECB52"
          ],
          "font": {
           "color": "#2a3f5f"
          },
          "geo": {
           "bgcolor": "white",
           "lakecolor": "white",
           "landcolor": "white",
           "showlakes": true,
           "showland": true,
           "subunitcolor": "#C8D4E3"
          },
          "hoverlabel": {
           "align": "left"
          },
          "hovermode": "closest",
          "mapbox": {
           "style": "light"
          },
          "paper_bgcolor": "white",
          "plot_bgcolor": "white",
          "polar": {
           "angularaxis": {
            "gridcolor": "#EBF0F8",
            "linecolor": "#EBF0F8",
            "ticks": ""
           },
           "bgcolor": "white",
           "radialaxis": {
            "gridcolor": "#EBF0F8",
            "linecolor": "#EBF0F8",
            "ticks": ""
           }
          },
          "scene": {
           "xaxis": {
            "backgroundcolor": "white",
            "gridcolor": "#DFE8F3",
            "gridwidth": 2,
            "linecolor": "#EBF0F8",
            "showbackground": true,
            "ticks": "",
            "zerolinecolor": "#EBF0F8"
           },
           "yaxis": {
            "backgroundcolor": "white",
            "gridcolor": "#DFE8F3",
            "gridwidth": 2,
            "linecolor": "#EBF0F8",
            "showbackground": true,
            "ticks": "",
            "zerolinecolor": "#EBF0F8"
           },
           "zaxis": {
            "backgroundcolor": "white",
            "gridcolor": "#DFE8F3",
            "gridwidth": 2,
            "linecolor": "#EBF0F8",
            "showbackground": true,
            "ticks": "",
            "zerolinecolor": "#EBF0F8"
           }
          },
          "shapedefaults": {
           "line": {
            "color": "#2a3f5f"
           }
          },
          "ternary": {
           "aaxis": {
            "gridcolor": "#DFE8F3",
            "linecolor": "#A2B1C6",
            "ticks": ""
           },
           "baxis": {
            "gridcolor": "#DFE8F3",
            "linecolor": "#A2B1C6",
            "ticks": ""
           },
           "bgcolor": "white",
           "caxis": {
            "gridcolor": "#DFE8F3",
            "linecolor": "#A2B1C6",
            "ticks": ""
           }
          },
          "title": {
           "x": 0.05
          },
          "xaxis": {
           "automargin": true,
           "gridcolor": "#EBF0F8",
           "linecolor": "#EBF0F8",
           "ticks": "",
           "title": {
            "standoff": 15
           },
           "zerolinecolor": "#EBF0F8",
           "zerolinewidth": 2
          },
          "yaxis": {
           "automargin": true,
           "gridcolor": "#EBF0F8",
           "linecolor": "#EBF0F8",
           "ticks": "",
           "title": {
            "standoff": 15
           },
           "zerolinecolor": "#EBF0F8",
           "zerolinewidth": 2
          }
         }
        },
        "title": {
         "text": "Large domestically chartered commercial banks: liabilities"
        },
        "xaxis": {
         "anchor": "y",
         "domain": [
          0,
          1
         ],
         "title": {
          "text": "Date"
         }
        },
        "yaxis": {
         "anchor": "x",
         "domain": [
          0,
          1
         ],
         "title": {
          "text": "Value (1000000 multiplier)"
         }
        }
       }
      }
     },
     "metadata": {},
     "output_type": "display_data"
    },
    {
     "data": {
      "application/vnd.plotly.v1+json": {
       "config": {
        "plotlyServerURL": "https://plot.ly"
       },
       "data": [
        {
         "alignmentgroup": "True",
         "hovertemplate": "variable=Deposits, large domestically chartered commercial banks, not seasonally adjusted<br>Series Description=%{x}<br>value=%{y}<extra></extra>",
         "legendgroup": "Deposits, large domestically chartered commercial banks, not seasonally adjusted",
         "marker": {
          "color": "#636efa",
          "pattern": {
           "shape": ""
          }
         },
         "name": "Deposits, large domestically chartered commercial banks, not seasonally adjusted",
         "offsetgroup": "Deposits, large domestically chartered commercial banks, not seasonally adjusted",
         "orientation": "v",
         "showlegend": true,
         "textposition": "auto",
         "type": "bar",
         "x": [
          "2022-05-04T00:00:00",
          "2022-05-11T00:00:00",
          "2022-05-18T00:00:00",
          "2022-05-25T00:00:00",
          "2022-06-01T00:00:00",
          "2022-06-08T00:00:00",
          "2022-06-15T00:00:00",
          "2022-06-22T00:00:00",
          "2022-06-29T00:00:00",
          "2022-07-06T00:00:00",
          "2022-07-13T00:00:00",
          "2022-07-20T00:00:00",
          "2022-07-27T00:00:00",
          "2022-08-03T00:00:00",
          "2022-08-10T00:00:00",
          "2022-08-17T00:00:00",
          "2022-08-24T00:00:00",
          "2022-08-31T00:00:00",
          "2022-09-07T00:00:00",
          "2022-09-14T00:00:00",
          "2022-09-21T00:00:00",
          "2022-09-28T00:00:00",
          "2022-10-05T00:00:00",
          "2022-10-12T00:00:00",
          "2022-10-19T00:00:00",
          "2022-10-26T00:00:00",
          "2022-11-02T00:00:00",
          "2022-11-09T00:00:00",
          "2022-11-16T00:00:00",
          "2022-11-23T00:00:00",
          "2022-11-30T00:00:00",
          "2022-12-07T00:00:00",
          "2022-12-14T00:00:00",
          "2022-12-21T00:00:00",
          "2022-12-28T00:00:00",
          "2023-01-04T00:00:00",
          "2023-01-11T00:00:00",
          "2023-01-18T00:00:00",
          "2023-01-25T00:00:00",
          "2023-02-01T00:00:00",
          "2023-02-08T00:00:00",
          "2023-02-15T00:00:00",
          "2023-02-22T00:00:00",
          "2023-03-01T00:00:00",
          "2023-03-08T00:00:00",
          "2023-03-15T00:00:00",
          "2023-03-22T00:00:00",
          "2023-03-29T00:00:00",
          "2023-04-05T00:00:00",
          "2023-04-12T00:00:00",
          "2023-04-19T00:00:00",
          "2023-04-26T00:00:00"
         ],
         "xaxis": "x",
         "y": [
          0.9556840339360737,
          0.9540351808615987,
          0.9555634463703274,
          0.9527613530423588,
          0.9524388464862671,
          0.9502412615988228,
          0.9479757907990414,
          0.9485718584865668,
          0.9527119379849619,
          0.9479438633599765,
          0.9479391005471256,
          0.9469461845765165,
          0.9471742230354677,
          0.9480765368103498,
          0.9466961486507894,
          0.9482443701020473,
          0.9448289423139121,
          0.9453195766884859,
          0.9484661516019974,
          0.9441659019223223,
          0.9439939455872275,
          0.9425747163546117,
          0.9430698972488394,
          0.9366696234866966,
          0.9368649211931653,
          0.9315892908076333,
          0.9330526398645161,
          0.932864181450322,
          0.9311814738389244,
          0.9285333150518633,
          0.9299816883202439,
          0.9387488485888708,
          0.935317721417812,
          0.9389395681219045,
          0.9418464538409217,
          0.9419725998743239,
          0.9373258683722344,
          0.9362095077027902,
          0.9336515035923334,
          0.934189534698792,
          0.9339642528571857,
          0.9325757414792395,
          0.9306891996406179,
          0.9343589130311799,
          0.9315940486442642,
          0.9162882451573873,
          0.9150403211564698,
          0.9142065237434568,
          0.9194026611281738,
          0.9189172810723449,
          0.9163719709082506,
          0.9138257561794557
         ],
         "yaxis": "y"
        },
        {
         "alignmentgroup": "True",
         "hovertemplate": "variable=Borrowings, large domestically chartered commercial banks, not seasonally adjusted<br>Series Description=%{x}<br>value=%{y}<extra></extra>",
         "legendgroup": "Borrowings, large domestically chartered commercial banks, not seasonally adjusted",
         "marker": {
          "color": "#EF553B",
          "pattern": {
           "shape": ""
          }
         },
         "name": "Borrowings, large domestically chartered commercial banks, not seasonally adjusted",
         "offsetgroup": "Borrowings, large domestically chartered commercial banks, not seasonally adjusted",
         "orientation": "v",
         "showlegend": true,
         "textposition": "auto",
         "type": "bar",
         "x": [
          "2022-05-04T00:00:00",
          "2022-05-11T00:00:00",
          "2022-05-18T00:00:00",
          "2022-05-25T00:00:00",
          "2022-06-01T00:00:00",
          "2022-06-08T00:00:00",
          "2022-06-15T00:00:00",
          "2022-06-22T00:00:00",
          "2022-06-29T00:00:00",
          "2022-07-06T00:00:00",
          "2022-07-13T00:00:00",
          "2022-07-20T00:00:00",
          "2022-07-27T00:00:00",
          "2022-08-03T00:00:00",
          "2022-08-10T00:00:00",
          "2022-08-17T00:00:00",
          "2022-08-24T00:00:00",
          "2022-08-31T00:00:00",
          "2022-09-07T00:00:00",
          "2022-09-14T00:00:00",
          "2022-09-21T00:00:00",
          "2022-09-28T00:00:00",
          "2022-10-05T00:00:00",
          "2022-10-12T00:00:00",
          "2022-10-19T00:00:00",
          "2022-10-26T00:00:00",
          "2022-11-02T00:00:00",
          "2022-11-09T00:00:00",
          "2022-11-16T00:00:00",
          "2022-11-23T00:00:00",
          "2022-11-30T00:00:00",
          "2022-12-07T00:00:00",
          "2022-12-14T00:00:00",
          "2022-12-21T00:00:00",
          "2022-12-28T00:00:00",
          "2023-01-04T00:00:00",
          "2023-01-11T00:00:00",
          "2023-01-18T00:00:00",
          "2023-01-25T00:00:00",
          "2023-02-01T00:00:00",
          "2023-02-08T00:00:00",
          "2023-02-15T00:00:00",
          "2023-02-22T00:00:00",
          "2023-03-01T00:00:00",
          "2023-03-08T00:00:00",
          "2023-03-15T00:00:00",
          "2023-03-22T00:00:00",
          "2023-03-29T00:00:00",
          "2023-04-05T00:00:00",
          "2023-04-12T00:00:00",
          "2023-04-19T00:00:00",
          "2023-04-26T00:00:00"
         ],
         "xaxis": "x",
         "y": [
          0.03582059934137355,
          0.03704476077910123,
          0.037636990172904276,
          0.0380036095401245,
          0.03794671679515211,
          0.038468920437456575,
          0.03921747728155736,
          0.04281833468442481,
          0.03973289867626324,
          0.04231342493370606,
          0.04094014998751136,
          0.042108205104072996,
          0.04257718336557963,
          0.042535238535950426,
          0.042400727983539194,
          0.04137931534642456,
          0.04265934297514615,
          0.04268801205759221,
          0.04348571632237717,
          0.043266700912753135,
          0.04420832007469906,
          0.046198413289169286,
          0.0454539479837466,
          0.046113487238764066,
          0.046828859886200655,
          0.04807419405202212,
          0.048476872241769706,
          0.05049981333951347,
          0.05168006129867799,
          0.05204649498987805,
          0.052125031100434094,
          0.0503010534670535,
          0.049427707861944045,
          0.04937581493811352,
          0.049317698038505574,
          0.05026373113894578,
          0.05171165769052378,
          0.05328406422373264,
          0.05565375643152995,
          0.05578101424749162,
          0.05568359075492799,
          0.0563788659178141,
          0.056649741385647615,
          0.055785618622937946,
          0.056791569919422684,
          0.07456903912283161,
          0.0773837638341671,
          0.07897449183375327,
          0.07613889083456964,
          0.07645158744600965,
          0.07702186474869989,
          0.07983886027453531
         ],
         "yaxis": "y"
        },
        {
         "alignmentgroup": "True",
         "hovertemplate": "variable=Net due to related foreign offices, large domestically chartered commercial banks, not seasonally adjusted<br>Series Description=%{x}<br>value=%{y}<extra></extra>",
         "legendgroup": "Net due to related foreign offices, large domestically chartered commercial banks, not seasonally adjusted",
         "marker": {
          "color": "#00cc96",
          "pattern": {
           "shape": ""
          }
         },
         "name": "Net due to related foreign offices, large domestically chartered commercial banks, not seasonally adjusted",
         "offsetgroup": "Net due to related foreign offices, large domestically chartered commercial banks, not seasonally adjusted",
         "orientation": "v",
         "showlegend": true,
         "textposition": "auto",
         "type": "bar",
         "x": [
          "2022-05-04T00:00:00",
          "2022-05-11T00:00:00",
          "2022-05-18T00:00:00",
          "2022-05-25T00:00:00",
          "2022-06-01T00:00:00",
          "2022-06-08T00:00:00",
          "2022-06-15T00:00:00",
          "2022-06-22T00:00:00",
          "2022-06-29T00:00:00",
          "2022-07-06T00:00:00",
          "2022-07-13T00:00:00",
          "2022-07-20T00:00:00",
          "2022-07-27T00:00:00",
          "2022-08-03T00:00:00",
          "2022-08-10T00:00:00",
          "2022-08-17T00:00:00",
          "2022-08-24T00:00:00",
          "2022-08-31T00:00:00",
          "2022-09-07T00:00:00",
          "2022-09-14T00:00:00",
          "2022-09-21T00:00:00",
          "2022-09-28T00:00:00",
          "2022-10-05T00:00:00",
          "2022-10-12T00:00:00",
          "2022-10-19T00:00:00",
          "2022-10-26T00:00:00",
          "2022-11-02T00:00:00",
          "2022-11-09T00:00:00",
          "2022-11-16T00:00:00",
          "2022-11-23T00:00:00",
          "2022-11-30T00:00:00",
          "2022-12-07T00:00:00",
          "2022-12-14T00:00:00",
          "2022-12-21T00:00:00",
          "2022-12-28T00:00:00",
          "2023-01-04T00:00:00",
          "2023-01-11T00:00:00",
          "2023-01-18T00:00:00",
          "2023-01-25T00:00:00",
          "2023-02-01T00:00:00",
          "2023-02-08T00:00:00",
          "2023-02-15T00:00:00",
          "2023-02-22T00:00:00",
          "2023-03-01T00:00:00",
          "2023-03-08T00:00:00",
          "2023-03-15T00:00:00",
          "2023-03-22T00:00:00",
          "2023-03-29T00:00:00",
          "2023-04-05T00:00:00",
          "2023-04-12T00:00:00",
          "2023-04-19T00:00:00",
          "2023-04-26T00:00:00"
         ],
         "xaxis": "x",
         "y": [
          -0.03274293079004454,
          -0.03266984226519038,
          -0.034643483216842394,
          -0.031589736373480407,
          -0.03191052627312172,
          -0.03113491027490222,
          -0.03008425101190481,
          -0.03172083377921718,
          -0.032159235816636336,
          -0.03208066138419993,
          -0.030887900457204655,
          -0.030720748180828813,
          -0.030923446328628562,
          -0.03143573907480756,
          -0.030482714965394304,
          -0.03090616105114892,
          -0.03174478115012239,
          -0.031352680392032144,
          -0.03298168867162179,
          -0.031229348113319164,
          -0.03166598548241608,
          -0.03235675257778767,
          -0.031648506035016455,
          -0.028094111993244922,
          -0.028796826311027333,
          -0.024998526270383712,
          -0.02778192057478141,
          -0.029843839625545262,
          -0.028722266245612693,
          -0.02829766016300923,
          -0.02786517026408346,
          -0.03343143701270642,
          -0.03021350109186342,
          -0.03153717771034333,
          -0.032140420966005175,
          -0.0353457506315951,
          -0.032567817464086095,
          -0.03191737526907862,
          -0.03230600805710315,
          -0.03333438816263853,
          -0.03210747973644176,
          -0.03257143640425266,
          -0.03170735004025738,
          -0.033269542848734374,
          -0.032665419974802344,
          -0.03149790414008295,
          -0.03353809264685471,
          -0.035064542709916054,
          -0.035777897997622925,
          -0.03685081689749284,
          -0.03587501175401102,
          -0.03599571286313662
         ],
         "yaxis": "y"
        },
        {
         "alignmentgroup": "True",
         "hovertemplate": "variable=Other liabilities, large domestically chartered commercial banks, not seasonally adjusted<br>Series Description=%{x}<br>value=%{y}<extra></extra>",
         "legendgroup": "Other liabilities, large domestically chartered commercial banks, not seasonally adjusted",
         "marker": {
          "color": "#ab63fa",
          "pattern": {
           "shape": ""
          }
         },
         "name": "Other liabilities, large domestically chartered commercial banks, not seasonally adjusted",
         "offsetgroup": "Other liabilities, large domestically chartered commercial banks, not seasonally adjusted",
         "orientation": "v",
         "showlegend": true,
         "textposition": "auto",
         "type": "bar",
         "x": [
          "2022-05-04T00:00:00",
          "2022-05-11T00:00:00",
          "2022-05-18T00:00:00",
          "2022-05-25T00:00:00",
          "2022-06-01T00:00:00",
          "2022-06-08T00:00:00",
          "2022-06-15T00:00:00",
          "2022-06-22T00:00:00",
          "2022-06-29T00:00:00",
          "2022-07-06T00:00:00",
          "2022-07-13T00:00:00",
          "2022-07-20T00:00:00",
          "2022-07-27T00:00:00",
          "2022-08-03T00:00:00",
          "2022-08-10T00:00:00",
          "2022-08-17T00:00:00",
          "2022-08-24T00:00:00",
          "2022-08-31T00:00:00",
          "2022-09-07T00:00:00",
          "2022-09-14T00:00:00",
          "2022-09-21T00:00:00",
          "2022-09-28T00:00:00",
          "2022-10-05T00:00:00",
          "2022-10-12T00:00:00",
          "2022-10-19T00:00:00",
          "2022-10-26T00:00:00",
          "2022-11-02T00:00:00",
          "2022-11-09T00:00:00",
          "2022-11-16T00:00:00",
          "2022-11-23T00:00:00",
          "2022-11-30T00:00:00",
          "2022-12-07T00:00:00",
          "2022-12-14T00:00:00",
          "2022-12-21T00:00:00",
          "2022-12-28T00:00:00",
          "2023-01-04T00:00:00",
          "2023-01-11T00:00:00",
          "2023-01-18T00:00:00",
          "2023-01-25T00:00:00",
          "2023-02-01T00:00:00",
          "2023-02-08T00:00:00",
          "2023-02-15T00:00:00",
          "2023-02-22T00:00:00",
          "2023-03-01T00:00:00",
          "2023-03-08T00:00:00",
          "2023-03-15T00:00:00",
          "2023-03-22T00:00:00",
          "2023-03-29T00:00:00",
          "2023-04-05T00:00:00",
          "2023-04-12T00:00:00",
          "2023-04-19T00:00:00",
          "2023-04-26T00:00:00"
         ],
         "xaxis": "x",
         "y": [
          0.04123829751259726,
          0.04158990918563977,
          0.04144305525286286,
          0.04082477379099709,
          0.04152496299170251,
          0.042424728238622776,
          0.042890982931306096,
          0.040330640608225644,
          0.03971439915541108,
          0.04182337309051735,
          0.04200865842749822,
          0.04166635850023926,
          0.0411720399275811,
          0.04082396372850735,
          0.04138583833106558,
          0.041282467070541014,
          0.044256504408204875,
          0.043345091645954015,
          0.04102982074724718,
          0.043796745278243614,
          0.04346372842510331,
          0.04358361433473114,
          0.043124652171860844,
          0.04531100982562652,
          0.04510303660608134,
          0.04533503282005735,
          0.04625241705410893,
          0.04647984483570963,
          0.045860731108010415,
          0.047717850121268,
          0.04575845084340539,
          0.044381534956782195,
          0.045468063305450675,
          0.04322179465032539,
          0.04097626908657776,
          0.04310942819104476,
          0.043530282783403464,
          0.042423811976625356,
          0.04300075672059294,
          0.04336383921635494,
          0.0424596273925387,
          0.043616820320607166,
          0.044368409013991854,
          0.043125011194616605,
          0.044279801411115385,
          0.040640619859864086,
          0.04111400765621781,
          0.04188352713270602,
          0.04023634603487943,
          0.04148194837913822,
          0.04248117609706046,
          0.04233109640914558
         ],
         "yaxis": "y"
        }
       ],
       "layout": {
        "barmode": "relative",
        "legend": {
         "title": {
          "text": "Legend"
         },
         "tracegroupgap": 0
        },
        "margin": {
         "t": 60
        },
        "template": {
         "data": {
          "bar": [
           {
            "error_x": {
             "color": "#2a3f5f"
            },
            "error_y": {
             "color": "#2a3f5f"
            },
            "marker": {
             "line": {
              "color": "white",
              "width": 0.5
             },
             "pattern": {
              "fillmode": "overlay",
              "size": 10,
              "solidity": 0.2
             }
            },
            "type": "bar"
           }
          ],
          "barpolar": [
           {
            "marker": {
             "line": {
              "color": "white",
              "width": 0.5
             },
             "pattern": {
              "fillmode": "overlay",
              "size": 10,
              "solidity": 0.2
             }
            },
            "type": "barpolar"
           }
          ],
          "carpet": [
           {
            "aaxis": {
             "endlinecolor": "#2a3f5f",
             "gridcolor": "#C8D4E3",
             "linecolor": "#C8D4E3",
             "minorgridcolor": "#C8D4E3",
             "startlinecolor": "#2a3f5f"
            },
            "baxis": {
             "endlinecolor": "#2a3f5f",
             "gridcolor": "#C8D4E3",
             "linecolor": "#C8D4E3",
             "minorgridcolor": "#C8D4E3",
             "startlinecolor": "#2a3f5f"
            },
            "type": "carpet"
           }
          ],
          "choropleth": [
           {
            "colorbar": {
             "outlinewidth": 0,
             "ticks": ""
            },
            "type": "choropleth"
           }
          ],
          "contour": [
           {
            "colorbar": {
             "outlinewidth": 0,
             "ticks": ""
            },
            "colorscale": [
             [
              0,
              "#0d0887"
             ],
             [
              0.1111111111111111,
              "#46039f"
             ],
             [
              0.2222222222222222,
              "#7201a8"
             ],
             [
              0.3333333333333333,
              "#9c179e"
             ],
             [
              0.4444444444444444,
              "#bd3786"
             ],
             [
              0.5555555555555556,
              "#d8576b"
             ],
             [
              0.6666666666666666,
              "#ed7953"
             ],
             [
              0.7777777777777778,
              "#fb9f3a"
             ],
             [
              0.8888888888888888,
              "#fdca26"
             ],
             [
              1,
              "#f0f921"
             ]
            ],
            "type": "contour"
           }
          ],
          "contourcarpet": [
           {
            "colorbar": {
             "outlinewidth": 0,
             "ticks": ""
            },
            "type": "contourcarpet"
           }
          ],
          "heatmap": [
           {
            "colorbar": {
             "outlinewidth": 0,
             "ticks": ""
            },
            "colorscale": [
             [
              0,
              "#0d0887"
             ],
             [
              0.1111111111111111,
              "#46039f"
             ],
             [
              0.2222222222222222,
              "#7201a8"
             ],
             [
              0.3333333333333333,
              "#9c179e"
             ],
             [
              0.4444444444444444,
              "#bd3786"
             ],
             [
              0.5555555555555556,
              "#d8576b"
             ],
             [
              0.6666666666666666,
              "#ed7953"
             ],
             [
              0.7777777777777778,
              "#fb9f3a"
             ],
             [
              0.8888888888888888,
              "#fdca26"
             ],
             [
              1,
              "#f0f921"
             ]
            ],
            "type": "heatmap"
           }
          ],
          "heatmapgl": [
           {
            "colorbar": {
             "outlinewidth": 0,
             "ticks": ""
            },
            "colorscale": [
             [
              0,
              "#0d0887"
             ],
             [
              0.1111111111111111,
              "#46039f"
             ],
             [
              0.2222222222222222,
              "#7201a8"
             ],
             [
              0.3333333333333333,
              "#9c179e"
             ],
             [
              0.4444444444444444,
              "#bd3786"
             ],
             [
              0.5555555555555556,
              "#d8576b"
             ],
             [
              0.6666666666666666,
              "#ed7953"
             ],
             [
              0.7777777777777778,
              "#fb9f3a"
             ],
             [
              0.8888888888888888,
              "#fdca26"
             ],
             [
              1,
              "#f0f921"
             ]
            ],
            "type": "heatmapgl"
           }
          ],
          "histogram": [
           {
            "marker": {
             "pattern": {
              "fillmode": "overlay",
              "size": 10,
              "solidity": 0.2
             }
            },
            "type": "histogram"
           }
          ],
          "histogram2d": [
           {
            "colorbar": {
             "outlinewidth": 0,
             "ticks": ""
            },
            "colorscale": [
             [
              0,
              "#0d0887"
             ],
             [
              0.1111111111111111,
              "#46039f"
             ],
             [
              0.2222222222222222,
              "#7201a8"
             ],
             [
              0.3333333333333333,
              "#9c179e"
             ],
             [
              0.4444444444444444,
              "#bd3786"
             ],
             [
              0.5555555555555556,
              "#d8576b"
             ],
             [
              0.6666666666666666,
              "#ed7953"
             ],
             [
              0.7777777777777778,
              "#fb9f3a"
             ],
             [
              0.8888888888888888,
              "#fdca26"
             ],
             [
              1,
              "#f0f921"
             ]
            ],
            "type": "histogram2d"
           }
          ],
          "histogram2dcontour": [
           {
            "colorbar": {
             "outlinewidth": 0,
             "ticks": ""
            },
            "colorscale": [
             [
              0,
              "#0d0887"
             ],
             [
              0.1111111111111111,
              "#46039f"
             ],
             [
              0.2222222222222222,
              "#7201a8"
             ],
             [
              0.3333333333333333,
              "#9c179e"
             ],
             [
              0.4444444444444444,
              "#bd3786"
             ],
             [
              0.5555555555555556,
              "#d8576b"
             ],
             [
              0.6666666666666666,
              "#ed7953"
             ],
             [
              0.7777777777777778,
              "#fb9f3a"
             ],
             [
              0.8888888888888888,
              "#fdca26"
             ],
             [
              1,
              "#f0f921"
             ]
            ],
            "type": "histogram2dcontour"
           }
          ],
          "mesh3d": [
           {
            "colorbar": {
             "outlinewidth": 0,
             "ticks": ""
            },
            "type": "mesh3d"
           }
          ],
          "parcoords": [
           {
            "line": {
             "colorbar": {
              "outlinewidth": 0,
              "ticks": ""
             }
            },
            "type": "parcoords"
           }
          ],
          "pie": [
           {
            "automargin": true,
            "type": "pie"
           }
          ],
          "scatter": [
           {
            "fillpattern": {
             "fillmode": "overlay",
             "size": 10,
             "solidity": 0.2
            },
            "type": "scatter"
           }
          ],
          "scatter3d": [
           {
            "line": {
             "colorbar": {
              "outlinewidth": 0,
              "ticks": ""
             }
            },
            "marker": {
             "colorbar": {
              "outlinewidth": 0,
              "ticks": ""
             }
            },
            "type": "scatter3d"
           }
          ],
          "scattercarpet": [
           {
            "marker": {
             "colorbar": {
              "outlinewidth": 0,
              "ticks": ""
             }
            },
            "type": "scattercarpet"
           }
          ],
          "scattergeo": [
           {
            "marker": {
             "colorbar": {
              "outlinewidth": 0,
              "ticks": ""
             }
            },
            "type": "scattergeo"
           }
          ],
          "scattergl": [
           {
            "marker": {
             "colorbar": {
              "outlinewidth": 0,
              "ticks": ""
             }
            },
            "type": "scattergl"
           }
          ],
          "scattermapbox": [
           {
            "marker": {
             "colorbar": {
              "outlinewidth": 0,
              "ticks": ""
             }
            },
            "type": "scattermapbox"
           }
          ],
          "scatterpolar": [
           {
            "marker": {
             "colorbar": {
              "outlinewidth": 0,
              "ticks": ""
             }
            },
            "type": "scatterpolar"
           }
          ],
          "scatterpolargl": [
           {
            "marker": {
             "colorbar": {
              "outlinewidth": 0,
              "ticks": ""
             }
            },
            "type": "scatterpolargl"
           }
          ],
          "scatterternary": [
           {
            "marker": {
             "colorbar": {
              "outlinewidth": 0,
              "ticks": ""
             }
            },
            "type": "scatterternary"
           }
          ],
          "surface": [
           {
            "colorbar": {
             "outlinewidth": 0,
             "ticks": ""
            },
            "colorscale": [
             [
              0,
              "#0d0887"
             ],
             [
              0.1111111111111111,
              "#46039f"
             ],
             [
              0.2222222222222222,
              "#7201a8"
             ],
             [
              0.3333333333333333,
              "#9c179e"
             ],
             [
              0.4444444444444444,
              "#bd3786"
             ],
             [
              0.5555555555555556,
              "#d8576b"
             ],
             [
              0.6666666666666666,
              "#ed7953"
             ],
             [
              0.7777777777777778,
              "#fb9f3a"
             ],
             [
              0.8888888888888888,
              "#fdca26"
             ],
             [
              1,
              "#f0f921"
             ]
            ],
            "type": "surface"
           }
          ],
          "table": [
           {
            "cells": {
             "fill": {
              "color": "#EBF0F8"
             },
             "line": {
              "color": "white"
             }
            },
            "header": {
             "fill": {
              "color": "#C8D4E3"
             },
             "line": {
              "color": "white"
             }
            },
            "type": "table"
           }
          ]
         },
         "layout": {
          "annotationdefaults": {
           "arrowcolor": "#2a3f5f",
           "arrowhead": 0,
           "arrowwidth": 1
          },
          "autotypenumbers": "strict",
          "coloraxis": {
           "colorbar": {
            "outlinewidth": 0,
            "ticks": ""
           }
          },
          "colorscale": {
           "diverging": [
            [
             0,
             "#8e0152"
            ],
            [
             0.1,
             "#c51b7d"
            ],
            [
             0.2,
             "#de77ae"
            ],
            [
             0.3,
             "#f1b6da"
            ],
            [
             0.4,
             "#fde0ef"
            ],
            [
             0.5,
             "#f7f7f7"
            ],
            [
             0.6,
             "#e6f5d0"
            ],
            [
             0.7,
             "#b8e186"
            ],
            [
             0.8,
             "#7fbc41"
            ],
            [
             0.9,
             "#4d9221"
            ],
            [
             1,
             "#276419"
            ]
           ],
           "sequential": [
            [
             0,
             "#0d0887"
            ],
            [
             0.1111111111111111,
             "#46039f"
            ],
            [
             0.2222222222222222,
             "#7201a8"
            ],
            [
             0.3333333333333333,
             "#9c179e"
            ],
            [
             0.4444444444444444,
             "#bd3786"
            ],
            [
             0.5555555555555556,
             "#d8576b"
            ],
            [
             0.6666666666666666,
             "#ed7953"
            ],
            [
             0.7777777777777778,
             "#fb9f3a"
            ],
            [
             0.8888888888888888,
             "#fdca26"
            ],
            [
             1,
             "#f0f921"
            ]
           ],
           "sequentialminus": [
            [
             0,
             "#0d0887"
            ],
            [
             0.1111111111111111,
             "#46039f"
            ],
            [
             0.2222222222222222,
             "#7201a8"
            ],
            [
             0.3333333333333333,
             "#9c179e"
            ],
            [
             0.4444444444444444,
             "#bd3786"
            ],
            [
             0.5555555555555556,
             "#d8576b"
            ],
            [
             0.6666666666666666,
             "#ed7953"
            ],
            [
             0.7777777777777778,
             "#fb9f3a"
            ],
            [
             0.8888888888888888,
             "#fdca26"
            ],
            [
             1,
             "#f0f921"
            ]
           ]
          },
          "colorway": [
           "#636efa",
           "#EF553B",
           "#00cc96",
           "#ab63fa",
           "#FFA15A",
           "#19d3f3",
           "#FF6692",
           "#B6E880",
           "#FF97FF",
           "#FECB52"
          ],
          "font": {
           "color": "#2a3f5f"
          },
          "geo": {
           "bgcolor": "white",
           "lakecolor": "white",
           "landcolor": "white",
           "showlakes": true,
           "showland": true,
           "subunitcolor": "#C8D4E3"
          },
          "hoverlabel": {
           "align": "left"
          },
          "hovermode": "closest",
          "mapbox": {
           "style": "light"
          },
          "paper_bgcolor": "white",
          "plot_bgcolor": "white",
          "polar": {
           "angularaxis": {
            "gridcolor": "#EBF0F8",
            "linecolor": "#EBF0F8",
            "ticks": ""
           },
           "bgcolor": "white",
           "radialaxis": {
            "gridcolor": "#EBF0F8",
            "linecolor": "#EBF0F8",
            "ticks": ""
           }
          },
          "scene": {
           "xaxis": {
            "backgroundcolor": "white",
            "gridcolor": "#DFE8F3",
            "gridwidth": 2,
            "linecolor": "#EBF0F8",
            "showbackground": true,
            "ticks": "",
            "zerolinecolor": "#EBF0F8"
           },
           "yaxis": {
            "backgroundcolor": "white",
            "gridcolor": "#DFE8F3",
            "gridwidth": 2,
            "linecolor": "#EBF0F8",
            "showbackground": true,
            "ticks": "",
            "zerolinecolor": "#EBF0F8"
           },
           "zaxis": {
            "backgroundcolor": "white",
            "gridcolor": "#DFE8F3",
            "gridwidth": 2,
            "linecolor": "#EBF0F8",
            "showbackground": true,
            "ticks": "",
            "zerolinecolor": "#EBF0F8"
           }
          },
          "shapedefaults": {
           "line": {
            "color": "#2a3f5f"
           }
          },
          "ternary": {
           "aaxis": {
            "gridcolor": "#DFE8F3",
            "linecolor": "#A2B1C6",
            "ticks": ""
           },
           "baxis": {
            "gridcolor": "#DFE8F3",
            "linecolor": "#A2B1C6",
            "ticks": ""
           },
           "bgcolor": "white",
           "caxis": {
            "gridcolor": "#DFE8F3",
            "linecolor": "#A2B1C6",
            "ticks": ""
           }
          },
          "title": {
           "x": 0.05
          },
          "xaxis": {
           "automargin": true,
           "gridcolor": "#EBF0F8",
           "linecolor": "#EBF0F8",
           "ticks": "",
           "title": {
            "standoff": 15
           },
           "zerolinecolor": "#EBF0F8",
           "zerolinewidth": 2
          },
          "yaxis": {
           "automargin": true,
           "gridcolor": "#EBF0F8",
           "linecolor": "#EBF0F8",
           "ticks": "",
           "title": {
            "standoff": 15
           },
           "zerolinecolor": "#EBF0F8",
           "zerolinewidth": 2
          }
         }
        },
        "title": {
         "text": "Large domestically chartered commercial banks: liabilities as % of total liabilities"
        },
        "xaxis": {
         "anchor": "y",
         "domain": [
          0,
          1
         ],
         "title": {
          "text": "Date"
         }
        },
        "yaxis": {
         "anchor": "x",
         "domain": [
          0,
          1
         ],
         "title": {
          "text": "% value "
         }
        }
       }
      }
     },
     "metadata": {},
     "output_type": "display_data"
    },
    {
     "data": {
      "application/vnd.plotly.v1+json": {
       "config": {
        "plotlyServerURL": "https://plot.ly"
       },
       "data": [
        {
         "alignmentgroup": "True",
         "hovertemplate": "variable=Deposits, large domestically chartered commercial banks, not seasonally adjusted<br>Series Description=%{x}<br>value=%{y}<extra></extra>",
         "legendgroup": "Deposits, large domestically chartered commercial banks, not seasonally adjusted",
         "marker": {
          "color": "#636efa",
          "pattern": {
           "shape": ""
          }
         },
         "name": "Deposits, large domestically chartered commercial banks, not seasonally adjusted",
         "offsetgroup": "Deposits, large domestically chartered commercial banks, not seasonally adjusted",
         "orientation": "v",
         "showlegend": true,
         "textposition": "auto",
         "type": "bar",
         "x": [
          "2022-05-04T00:00:00",
          "2022-05-11T00:00:00",
          "2022-05-18T00:00:00",
          "2022-05-25T00:00:00",
          "2022-06-01T00:00:00",
          "2022-06-08T00:00:00",
          "2022-06-15T00:00:00",
          "2022-06-22T00:00:00",
          "2022-06-29T00:00:00",
          "2022-07-06T00:00:00",
          "2022-07-13T00:00:00",
          "2022-07-20T00:00:00",
          "2022-07-27T00:00:00",
          "2022-08-03T00:00:00",
          "2022-08-10T00:00:00",
          "2022-08-17T00:00:00",
          "2022-08-24T00:00:00",
          "2022-08-31T00:00:00",
          "2022-09-07T00:00:00",
          "2022-09-14T00:00:00",
          "2022-09-21T00:00:00",
          "2022-09-28T00:00:00",
          "2022-10-05T00:00:00",
          "2022-10-12T00:00:00",
          "2022-10-19T00:00:00",
          "2022-10-26T00:00:00",
          "2022-11-02T00:00:00",
          "2022-11-09T00:00:00",
          "2022-11-16T00:00:00",
          "2022-11-23T00:00:00",
          "2022-11-30T00:00:00",
          "2022-12-07T00:00:00",
          "2022-12-14T00:00:00",
          "2022-12-21T00:00:00",
          "2022-12-28T00:00:00",
          "2023-01-04T00:00:00",
          "2023-01-11T00:00:00",
          "2023-01-18T00:00:00",
          "2023-01-25T00:00:00",
          "2023-02-01T00:00:00",
          "2023-02-08T00:00:00",
          "2023-02-15T00:00:00",
          "2023-02-22T00:00:00",
          "2023-03-01T00:00:00",
          "2023-03-08T00:00:00",
          "2023-03-15T00:00:00",
          "2023-03-22T00:00:00",
          "2023-03-29T00:00:00",
          "2023-04-05T00:00:00",
          "2023-04-12T00:00:00",
          "2023-04-19T00:00:00",
          "2023-04-26T00:00:00"
         ],
         "xaxis": "x",
         "y": [
          null,
          -39833.300000000745,
          -5700.5999999996275,
          -20492.800000000745,
          102270.80000000075,
          -98054,
          28738.800000000745,
          -57935.40000000037,
          67291.79999999888,
          8992.60000000149,
          -23126.300000000745,
          -57927.800000000745,
          40026,
          -17642.099999999627,
          13507.599999999627,
          -9925.099999999627,
          -59470.29999999888,
          49170.29999999888,
          -30573.199999999255,
          -16420.700000001118,
          -85716.09999999963,
          -9693.799999998882,
          -34006.800000000745,
          18073.800000000745,
          -83689.60000000149,
          -17274.699999999255,
          23432.199999999255,
          -13228.5,
          54845.800000000745,
          -14248.199999999255,
          10080.89999999851,
          25177.400000000373,
          64870.5,
          22912.5,
          -12540.900000000373,
          -17473.099999999627,
          -111556.79999999888,
          -33268,
          -95951.60000000149,
          33832.20000000112,
          -84943.40000000037,
          39668.90000000037,
          -63164.800000000745,
          57829.70000000112,
          -54669.60000000149,
          120158.80000000075,
          -96174,
          48700,
          27941,
          -40620,
          -123164,
          -76806
         ],
         "yaxis": "y"
        },
        {
         "alignmentgroup": "True",
         "hovertemplate": "variable=Borrowings, large domestically chartered commercial banks, not seasonally adjusted<br>Series Description=%{x}<br>value=%{y}<extra></extra>",
         "legendgroup": "Borrowings, large domestically chartered commercial banks, not seasonally adjusted",
         "marker": {
          "color": "#EF553B",
          "pattern": {
           "shape": ""
          }
         },
         "name": "Borrowings, large domestically chartered commercial banks, not seasonally adjusted",
         "offsetgroup": "Borrowings, large domestically chartered commercial banks, not seasonally adjusted",
         "orientation": "v",
         "showlegend": true,
         "textposition": "auto",
         "type": "bar",
         "x": [
          "2022-05-04T00:00:00",
          "2022-05-11T00:00:00",
          "2022-05-18T00:00:00",
          "2022-05-25T00:00:00",
          "2022-06-01T00:00:00",
          "2022-06-08T00:00:00",
          "2022-06-15T00:00:00",
          "2022-06-22T00:00:00",
          "2022-06-29T00:00:00",
          "2022-07-06T00:00:00",
          "2022-07-13T00:00:00",
          "2022-07-20T00:00:00",
          "2022-07-27T00:00:00",
          "2022-08-03T00:00:00",
          "2022-08-10T00:00:00",
          "2022-08-17T00:00:00",
          "2022-08-24T00:00:00",
          "2022-08-31T00:00:00",
          "2022-09-07T00:00:00",
          "2022-09-14T00:00:00",
          "2022-09-21T00:00:00",
          "2022-09-28T00:00:00",
          "2022-10-05T00:00:00",
          "2022-10-12T00:00:00",
          "2022-10-19T00:00:00",
          "2022-10-26T00:00:00",
          "2022-11-02T00:00:00",
          "2022-11-09T00:00:00",
          "2022-11-16T00:00:00",
          "2022-11-23T00:00:00",
          "2022-11-30T00:00:00",
          "2022-12-07T00:00:00",
          "2022-12-14T00:00:00",
          "2022-12-21T00:00:00",
          "2022-12-28T00:00:00",
          "2023-01-04T00:00:00",
          "2023-01-11T00:00:00",
          "2023-01-18T00:00:00",
          "2023-01-25T00:00:00",
          "2023-02-01T00:00:00",
          "2023-02-08T00:00:00",
          "2023-02-15T00:00:00",
          "2023-02-22T00:00:00",
          "2023-03-01T00:00:00",
          "2023-03-08T00:00:00",
          "2023-03-15T00:00:00",
          "2023-03-22T00:00:00",
          "2023-03-29T00:00:00",
          "2023-04-05T00:00:00",
          "2023-04-12T00:00:00",
          "2023-04-19T00:00:00",
          "2023-04-26T00:00:00"
         ],
         "xaxis": "x",
         "y": [
          null,
          13527.899999999965,
          5990,
          4758.700000000012,
          3560.7000000000116,
          3230.0999999999767,
          11047.100000000035,
          39423.29999999999,
          -35293.79999999999,
          33122.29999999999,
          -17176.600000000035,
          11677.100000000035,
          7170.5,
          -1759.9000000000233,
          -246.79999999998836,
          -13228.599999999977,
          14124.699999999953,
          2296.600000000035,
          6273.399999999965,
          -1008.7999999999884,
          7106.799999999988,
          23461.5,
          -10573.900000000023,
          12182.600000000093,
          4062,
          16702.5,
          5019.79999999993,
          22964.70000000007,
          17863.399999999907,
          5233.300000000047,
          534,
          -25547.699999999953,
          -4629.400000000023,
          -1644.0999999999767,
          -3124.8000000000466,
          10043.400000000023,
          13725.79999999993,
          17089.600000000093,
          23492.29999999993,
          3115.20000000007,
          -6033.70000000007,
          11322.099999999977,
          595.5,
          -8969.099999999977,
          10155.599999999977,
          227777.80000000005,
          26274,
          23650,
          -36084,
          759,
          -1190,
          28490
         ],
         "yaxis": "y"
        },
        {
         "alignmentgroup": "True",
         "hovertemplate": "variable=Net due to related foreign offices, large domestically chartered commercial banks, not seasonally adjusted<br>Series Description=%{x}<br>value=%{y}<extra></extra>",
         "legendgroup": "Net due to related foreign offices, large domestically chartered commercial banks, not seasonally adjusted",
         "marker": {
          "color": "#00cc96",
          "pattern": {
           "shape": ""
          }
         },
         "name": "Net due to related foreign offices, large domestically chartered commercial banks, not seasonally adjusted",
         "offsetgroup": "Net due to related foreign offices, large domestically chartered commercial banks, not seasonally adjusted",
         "orientation": "v",
         "showlegend": true,
         "textposition": "auto",
         "type": "bar",
         "x": [
          "2022-05-04T00:00:00",
          "2022-05-11T00:00:00",
          "2022-05-18T00:00:00",
          "2022-05-25T00:00:00",
          "2022-06-01T00:00:00",
          "2022-06-08T00:00:00",
          "2022-06-15T00:00:00",
          "2022-06-22T00:00:00",
          "2022-06-29T00:00:00",
          "2022-07-06T00:00:00",
          "2022-07-13T00:00:00",
          "2022-07-20T00:00:00",
          "2022-07-27T00:00:00",
          "2022-08-03T00:00:00",
          "2022-08-10T00:00:00",
          "2022-08-17T00:00:00",
          "2022-08-24T00:00:00",
          "2022-08-31T00:00:00",
          "2022-09-07T00:00:00",
          "2022-09-14T00:00:00",
          "2022-09-21T00:00:00",
          "2022-09-28T00:00:00",
          "2022-10-05T00:00:00",
          "2022-10-12T00:00:00",
          "2022-10-19T00:00:00",
          "2022-10-26T00:00:00",
          "2022-11-02T00:00:00",
          "2022-11-09T00:00:00",
          "2022-11-16T00:00:00",
          "2022-11-23T00:00:00",
          "2022-11-30T00:00:00",
          "2022-12-07T00:00:00",
          "2022-12-14T00:00:00",
          "2022-12-21T00:00:00",
          "2022-12-28T00:00:00",
          "2023-01-04T00:00:00",
          "2023-01-11T00:00:00",
          "2023-01-18T00:00:00",
          "2023-01-25T00:00:00",
          "2023-02-01T00:00:00",
          "2023-02-08T00:00:00",
          "2023-02-15T00:00:00",
          "2023-02-22T00:00:00",
          "2023-03-01T00:00:00",
          "2023-03-08T00:00:00",
          "2023-03-15T00:00:00",
          "2023-03-22T00:00:00",
          "2023-03-29T00:00:00",
          "2023-04-05T00:00:00",
          "2023-04-12T00:00:00",
          "2023-04-19T00:00:00",
          "2023-04-26T00:00:00"
         ],
         "xaxis": "x",
         "y": [
          null,
          1558.600000000035,
          -22199.600000000035,
          35191.100000000035,
          -7295.799999999988,
          11501.399999999965,
          10543.600000000035,
          -17078.400000000023,
          -5763.900000000023,
          -1274.0999999999767,
          14805.099999999977,
          3465.9000000000233,
          -3593,
          -5082.200000000012,
          10212.400000000023,
          -4059.100000000035,
          -9175.799999999988,
          3147.100000000035,
          -16785.600000000035,
          19340.400000000023,
          -2305.4000000000233,
          -8261.299999999988,
          9570.599999999977,
          38417.40000000002,
          -5568.799999999988,
          42857.59999999998,
          -32590.70000000001,
          -23663,
          10754.5,
          4463.200000000012,
          5281.799999999988,
          -62506.19999999995,
          34081.79999999999,
          -14900,
          -5486.799999999988,
          -36743.40000000002,
          34397.09999999998,
          8240.100000000035,
          -2206.2000000000116,
          -12823.900000000023,
          16990,
          -7254.299999999988,
          11359.400000000023,
          -18475.100000000035,
          7741.5,
          3219.4000000000233,
          -21052,
          -20091,
          -7097,
          -11175,
          15058,
          466
         ],
         "yaxis": "y"
        },
        {
         "alignmentgroup": "True",
         "hovertemplate": "variable=Other liabilities, large domestically chartered commercial banks, not seasonally adjusted<br>Series Description=%{x}<br>value=%{y}<extra></extra>",
         "legendgroup": "Other liabilities, large domestically chartered commercial banks, not seasonally adjusted",
         "marker": {
          "color": "#ab63fa",
          "pattern": {
           "shape": ""
          }
         },
         "name": "Other liabilities, large domestically chartered commercial banks, not seasonally adjusted",
         "offsetgroup": "Other liabilities, large domestically chartered commercial banks, not seasonally adjusted",
         "orientation": "v",
         "showlegend": true,
         "textposition": "auto",
         "type": "bar",
         "x": [
          "2022-05-04T00:00:00",
          "2022-05-11T00:00:00",
          "2022-05-18T00:00:00",
          "2022-05-25T00:00:00",
          "2022-06-01T00:00:00",
          "2022-06-08T00:00:00",
          "2022-06-15T00:00:00",
          "2022-06-22T00:00:00",
          "2022-06-29T00:00:00",
          "2022-07-06T00:00:00",
          "2022-07-13T00:00:00",
          "2022-07-20T00:00:00",
          "2022-07-27T00:00:00",
          "2022-08-03T00:00:00",
          "2022-08-10T00:00:00",
          "2022-08-17T00:00:00",
          "2022-08-24T00:00:00",
          "2022-08-31T00:00:00",
          "2022-09-07T00:00:00",
          "2022-09-14T00:00:00",
          "2022-09-21T00:00:00",
          "2022-09-28T00:00:00",
          "2022-10-05T00:00:00",
          "2022-10-12T00:00:00",
          "2022-10-19T00:00:00",
          "2022-10-26T00:00:00",
          "2022-11-02T00:00:00",
          "2022-11-09T00:00:00",
          "2022-11-16T00:00:00",
          "2022-11-23T00:00:00",
          "2022-11-30T00:00:00",
          "2022-12-07T00:00:00",
          "2022-12-14T00:00:00",
          "2022-12-21T00:00:00",
          "2022-12-28T00:00:00",
          "2023-01-04T00:00:00",
          "2023-01-11T00:00:00",
          "2023-01-18T00:00:00",
          "2023-01-25T00:00:00",
          "2023-02-01T00:00:00",
          "2023-02-08T00:00:00",
          "2023-02-15T00:00:00",
          "2023-02-22T00:00:00",
          "2023-03-01T00:00:00",
          "2023-03-08T00:00:00",
          "2023-03-15T00:00:00",
          "2023-03-22T00:00:00",
          "2023-03-29T00:00:00",
          "2023-04-05T00:00:00",
          "2023-04-12T00:00:00",
          "2023-04-19T00:00:00",
          "2023-04-26T00:00:00"
         ],
         "xaxis": "x",
         "y": [
          null,
          3219.2999999999884,
          -2736.7999999999884,
          -6685.300000000047,
          12793.300000000047,
          7377.399999999965,
          7957.100000000035,
          -32877.30000000005,
          -6419.399999999965,
          27565.099999999977,
          1160.7000000000116,
          -6059.900000000023,
          -4164.199999999953,
          -5305.5,
          7882.099999999977,
          -2438.7000000000116,
          33946.29999999999,
          -8672,
          -30116,
          33869.70000000001,
          -7753.599999999977,
          1707.7000000000116,
          -7155.600000000035,
          29794.399999999965,
          -6569.099999999977,
          4825.400000000023,
          10996,
          2099.1999999999534,
          -3538.29999999993,
          22619.199999999953,
          -23330.900000000023,
          -19815.899999999965,
          17746.50000000006,
          -27311.20000000007,
          -28379.899999999965,
          24058.899999999965,
          2245.7000000000116,
          -13759.700000000012,
          3627.5,
          5462.400000000023,
          -14178.599999999977,
          15851.699999999953,
          6676.400000000023,
          -13531.799999999988,
          12172.700000000012,
          -28594.900000000023,
          1917,
          11676,
          -20817,
          13023,
          7343,
          -3930
         ],
         "yaxis": "y"
        }
       ],
       "layout": {
        "barmode": "relative",
        "legend": {
         "title": {
          "text": "Legend"
         },
         "tracegroupgap": 0
        },
        "template": {
         "data": {
          "bar": [
           {
            "error_x": {
             "color": "#2a3f5f"
            },
            "error_y": {
             "color": "#2a3f5f"
            },
            "marker": {
             "line": {
              "color": "white",
              "width": 0.5
             },
             "pattern": {
              "fillmode": "overlay",
              "size": 10,
              "solidity": 0.2
             }
            },
            "type": "bar"
           }
          ],
          "barpolar": [
           {
            "marker": {
             "line": {
              "color": "white",
              "width": 0.5
             },
             "pattern": {
              "fillmode": "overlay",
              "size": 10,
              "solidity": 0.2
             }
            },
            "type": "barpolar"
           }
          ],
          "carpet": [
           {
            "aaxis": {
             "endlinecolor": "#2a3f5f",
             "gridcolor": "#C8D4E3",
             "linecolor": "#C8D4E3",
             "minorgridcolor": "#C8D4E3",
             "startlinecolor": "#2a3f5f"
            },
            "baxis": {
             "endlinecolor": "#2a3f5f",
             "gridcolor": "#C8D4E3",
             "linecolor": "#C8D4E3",
             "minorgridcolor": "#C8D4E3",
             "startlinecolor": "#2a3f5f"
            },
            "type": "carpet"
           }
          ],
          "choropleth": [
           {
            "colorbar": {
             "outlinewidth": 0,
             "ticks": ""
            },
            "type": "choropleth"
           }
          ],
          "contour": [
           {
            "colorbar": {
             "outlinewidth": 0,
             "ticks": ""
            },
            "colorscale": [
             [
              0,
              "#0d0887"
             ],
             [
              0.1111111111111111,
              "#46039f"
             ],
             [
              0.2222222222222222,
              "#7201a8"
             ],
             [
              0.3333333333333333,
              "#9c179e"
             ],
             [
              0.4444444444444444,
              "#bd3786"
             ],
             [
              0.5555555555555556,
              "#d8576b"
             ],
             [
              0.6666666666666666,
              "#ed7953"
             ],
             [
              0.7777777777777778,
              "#fb9f3a"
             ],
             [
              0.8888888888888888,
              "#fdca26"
             ],
             [
              1,
              "#f0f921"
             ]
            ],
            "type": "contour"
           }
          ],
          "contourcarpet": [
           {
            "colorbar": {
             "outlinewidth": 0,
             "ticks": ""
            },
            "type": "contourcarpet"
           }
          ],
          "heatmap": [
           {
            "colorbar": {
             "outlinewidth": 0,
             "ticks": ""
            },
            "colorscale": [
             [
              0,
              "#0d0887"
             ],
             [
              0.1111111111111111,
              "#46039f"
             ],
             [
              0.2222222222222222,
              "#7201a8"
             ],
             [
              0.3333333333333333,
              "#9c179e"
             ],
             [
              0.4444444444444444,
              "#bd3786"
             ],
             [
              0.5555555555555556,
              "#d8576b"
             ],
             [
              0.6666666666666666,
              "#ed7953"
             ],
             [
              0.7777777777777778,
              "#fb9f3a"
             ],
             [
              0.8888888888888888,
              "#fdca26"
             ],
             [
              1,
              "#f0f921"
             ]
            ],
            "type": "heatmap"
           }
          ],
          "heatmapgl": [
           {
            "colorbar": {
             "outlinewidth": 0,
             "ticks": ""
            },
            "colorscale": [
             [
              0,
              "#0d0887"
             ],
             [
              0.1111111111111111,
              "#46039f"
             ],
             [
              0.2222222222222222,
              "#7201a8"
             ],
             [
              0.3333333333333333,
              "#9c179e"
             ],
             [
              0.4444444444444444,
              "#bd3786"
             ],
             [
              0.5555555555555556,
              "#d8576b"
             ],
             [
              0.6666666666666666,
              "#ed7953"
             ],
             [
              0.7777777777777778,
              "#fb9f3a"
             ],
             [
              0.8888888888888888,
              "#fdca26"
             ],
             [
              1,
              "#f0f921"
             ]
            ],
            "type": "heatmapgl"
           }
          ],
          "histogram": [
           {
            "marker": {
             "pattern": {
              "fillmode": "overlay",
              "size": 10,
              "solidity": 0.2
             }
            },
            "type": "histogram"
           }
          ],
          "histogram2d": [
           {
            "colorbar": {
             "outlinewidth": 0,
             "ticks": ""
            },
            "colorscale": [
             [
              0,
              "#0d0887"
             ],
             [
              0.1111111111111111,
              "#46039f"
             ],
             [
              0.2222222222222222,
              "#7201a8"
             ],
             [
              0.3333333333333333,
              "#9c179e"
             ],
             [
              0.4444444444444444,
              "#bd3786"
             ],
             [
              0.5555555555555556,
              "#d8576b"
             ],
             [
              0.6666666666666666,
              "#ed7953"
             ],
             [
              0.7777777777777778,
              "#fb9f3a"
             ],
             [
              0.8888888888888888,
              "#fdca26"
             ],
             [
              1,
              "#f0f921"
             ]
            ],
            "type": "histogram2d"
           }
          ],
          "histogram2dcontour": [
           {
            "colorbar": {
             "outlinewidth": 0,
             "ticks": ""
            },
            "colorscale": [
             [
              0,
              "#0d0887"
             ],
             [
              0.1111111111111111,
              "#46039f"
             ],
             [
              0.2222222222222222,
              "#7201a8"
             ],
             [
              0.3333333333333333,
              "#9c179e"
             ],
             [
              0.4444444444444444,
              "#bd3786"
             ],
             [
              0.5555555555555556,
              "#d8576b"
             ],
             [
              0.6666666666666666,
              "#ed7953"
             ],
             [
              0.7777777777777778,
              "#fb9f3a"
             ],
             [
              0.8888888888888888,
              "#fdca26"
             ],
             [
              1,
              "#f0f921"
             ]
            ],
            "type": "histogram2dcontour"
           }
          ],
          "mesh3d": [
           {
            "colorbar": {
             "outlinewidth": 0,
             "ticks": ""
            },
            "type": "mesh3d"
           }
          ],
          "parcoords": [
           {
            "line": {
             "colorbar": {
              "outlinewidth": 0,
              "ticks": ""
             }
            },
            "type": "parcoords"
           }
          ],
          "pie": [
           {
            "automargin": true,
            "type": "pie"
           }
          ],
          "scatter": [
           {
            "fillpattern": {
             "fillmode": "overlay",
             "size": 10,
             "solidity": 0.2
            },
            "type": "scatter"
           }
          ],
          "scatter3d": [
           {
            "line": {
             "colorbar": {
              "outlinewidth": 0,
              "ticks": ""
             }
            },
            "marker": {
             "colorbar": {
              "outlinewidth": 0,
              "ticks": ""
             }
            },
            "type": "scatter3d"
           }
          ],
          "scattercarpet": [
           {
            "marker": {
             "colorbar": {
              "outlinewidth": 0,
              "ticks": ""
             }
            },
            "type": "scattercarpet"
           }
          ],
          "scattergeo": [
           {
            "marker": {
             "colorbar": {
              "outlinewidth": 0,
              "ticks": ""
             }
            },
            "type": "scattergeo"
           }
          ],
          "scattergl": [
           {
            "marker": {
             "colorbar": {
              "outlinewidth": 0,
              "ticks": ""
             }
            },
            "type": "scattergl"
           }
          ],
          "scattermapbox": [
           {
            "marker": {
             "colorbar": {
              "outlinewidth": 0,
              "ticks": ""
             }
            },
            "type": "scattermapbox"
           }
          ],
          "scatterpolar": [
           {
            "marker": {
             "colorbar": {
              "outlinewidth": 0,
              "ticks": ""
             }
            },
            "type": "scatterpolar"
           }
          ],
          "scatterpolargl": [
           {
            "marker": {
             "colorbar": {
              "outlinewidth": 0,
              "ticks": ""
             }
            },
            "type": "scatterpolargl"
           }
          ],
          "scatterternary": [
           {
            "marker": {
             "colorbar": {
              "outlinewidth": 0,
              "ticks": ""
             }
            },
            "type": "scatterternary"
           }
          ],
          "surface": [
           {
            "colorbar": {
             "outlinewidth": 0,
             "ticks": ""
            },
            "colorscale": [
             [
              0,
              "#0d0887"
             ],
             [
              0.1111111111111111,
              "#46039f"
             ],
             [
              0.2222222222222222,
              "#7201a8"
             ],
             [
              0.3333333333333333,
              "#9c179e"
             ],
             [
              0.4444444444444444,
              "#bd3786"
             ],
             [
              0.5555555555555556,
              "#d8576b"
             ],
             [
              0.6666666666666666,
              "#ed7953"
             ],
             [
              0.7777777777777778,
              "#fb9f3a"
             ],
             [
              0.8888888888888888,
              "#fdca26"
             ],
             [
              1,
              "#f0f921"
             ]
            ],
            "type": "surface"
           }
          ],
          "table": [
           {
            "cells": {
             "fill": {
              "color": "#EBF0F8"
             },
             "line": {
              "color": "white"
             }
            },
            "header": {
             "fill": {
              "color": "#C8D4E3"
             },
             "line": {
              "color": "white"
             }
            },
            "type": "table"
           }
          ]
         },
         "layout": {
          "annotationdefaults": {
           "arrowcolor": "#2a3f5f",
           "arrowhead": 0,
           "arrowwidth": 1
          },
          "autotypenumbers": "strict",
          "coloraxis": {
           "colorbar": {
            "outlinewidth": 0,
            "ticks": ""
           }
          },
          "colorscale": {
           "diverging": [
            [
             0,
             "#8e0152"
            ],
            [
             0.1,
             "#c51b7d"
            ],
            [
             0.2,
             "#de77ae"
            ],
            [
             0.3,
             "#f1b6da"
            ],
            [
             0.4,
             "#fde0ef"
            ],
            [
             0.5,
             "#f7f7f7"
            ],
            [
             0.6,
             "#e6f5d0"
            ],
            [
             0.7,
             "#b8e186"
            ],
            [
             0.8,
             "#7fbc41"
            ],
            [
             0.9,
             "#4d9221"
            ],
            [
             1,
             "#276419"
            ]
           ],
           "sequential": [
            [
             0,
             "#0d0887"
            ],
            [
             0.1111111111111111,
             "#46039f"
            ],
            [
             0.2222222222222222,
             "#7201a8"
            ],
            [
             0.3333333333333333,
             "#9c179e"
            ],
            [
             0.4444444444444444,
             "#bd3786"
            ],
            [
             0.5555555555555556,
             "#d8576b"
            ],
            [
             0.6666666666666666,
             "#ed7953"
            ],
            [
             0.7777777777777778,
             "#fb9f3a"
            ],
            [
             0.8888888888888888,
             "#fdca26"
            ],
            [
             1,
             "#f0f921"
            ]
           ],
           "sequentialminus": [
            [
             0,
             "#0d0887"
            ],
            [
             0.1111111111111111,
             "#46039f"
            ],
            [
             0.2222222222222222,
             "#7201a8"
            ],
            [
             0.3333333333333333,
             "#9c179e"
            ],
            [
             0.4444444444444444,
             "#bd3786"
            ],
            [
             0.5555555555555556,
             "#d8576b"
            ],
            [
             0.6666666666666666,
             "#ed7953"
            ],
            [
             0.7777777777777778,
             "#fb9f3a"
            ],
            [
             0.8888888888888888,
             "#fdca26"
            ],
            [
             1,
             "#f0f921"
            ]
           ]
          },
          "colorway": [
           "#636efa",
           "#EF553B",
           "#00cc96",
           "#ab63fa",
           "#FFA15A",
           "#19d3f3",
           "#FF6692",
           "#B6E880",
           "#FF97FF",
           "#FECB52"
          ],
          "font": {
           "color": "#2a3f5f"
          },
          "geo": {
           "bgcolor": "white",
           "lakecolor": "white",
           "landcolor": "white",
           "showlakes": true,
           "showland": true,
           "subunitcolor": "#C8D4E3"
          },
          "hoverlabel": {
           "align": "left"
          },
          "hovermode": "closest",
          "mapbox": {
           "style": "light"
          },
          "paper_bgcolor": "white",
          "plot_bgcolor": "white",
          "polar": {
           "angularaxis": {
            "gridcolor": "#EBF0F8",
            "linecolor": "#EBF0F8",
            "ticks": ""
           },
           "bgcolor": "white",
           "radialaxis": {
            "gridcolor": "#EBF0F8",
            "linecolor": "#EBF0F8",
            "ticks": ""
           }
          },
          "scene": {
           "xaxis": {
            "backgroundcolor": "white",
            "gridcolor": "#DFE8F3",
            "gridwidth": 2,
            "linecolor": "#EBF0F8",
            "showbackground": true,
            "ticks": "",
            "zerolinecolor": "#EBF0F8"
           },
           "yaxis": {
            "backgroundcolor": "white",
            "gridcolor": "#DFE8F3",
            "gridwidth": 2,
            "linecolor": "#EBF0F8",
            "showbackground": true,
            "ticks": "",
            "zerolinecolor": "#EBF0F8"
           },
           "zaxis": {
            "backgroundcolor": "white",
            "gridcolor": "#DFE8F3",
            "gridwidth": 2,
            "linecolor": "#EBF0F8",
            "showbackground": true,
            "ticks": "",
            "zerolinecolor": "#EBF0F8"
           }
          },
          "shapedefaults": {
           "line": {
            "color": "#2a3f5f"
           }
          },
          "ternary": {
           "aaxis": {
            "gridcolor": "#DFE8F3",
            "linecolor": "#A2B1C6",
            "ticks": ""
           },
           "baxis": {
            "gridcolor": "#DFE8F3",
            "linecolor": "#A2B1C6",
            "ticks": ""
           },
           "bgcolor": "white",
           "caxis": {
            "gridcolor": "#DFE8F3",
            "linecolor": "#A2B1C6",
            "ticks": ""
           }
          },
          "title": {
           "x": 0.05
          },
          "xaxis": {
           "automargin": true,
           "gridcolor": "#EBF0F8",
           "linecolor": "#EBF0F8",
           "ticks": "",
           "title": {
            "standoff": 15
           },
           "zerolinecolor": "#EBF0F8",
           "zerolinewidth": 2
          },
          "yaxis": {
           "automargin": true,
           "gridcolor": "#EBF0F8",
           "linecolor": "#EBF0F8",
           "ticks": "",
           "title": {
            "standoff": 15
           },
           "zerolinecolor": "#EBF0F8",
           "zerolinewidth": 2
          }
         }
        },
        "title": {
         "text": "Large domestically chartered commercial banks: liabilities wow change"
        },
        "xaxis": {
         "anchor": "y",
         "domain": [
          0,
          1
         ],
         "title": {
          "text": "Date"
         }
        },
        "yaxis": {
         "anchor": "x",
         "domain": [
          0,
          1
         ],
         "title": {
          "text": "Value (1000000 multiplier) "
         }
        }
       }
      }
     },
     "metadata": {},
     "output_type": "display_data"
    }
   ],
   "source": [
    "single_bank_type(bank_type = 'large domestically chartered commercial banks', sa= 'not seasonally adjusted', last_days = 52, file_name = 'FRB_H8_large.csv')"
   ]
  },
  {
   "cell_type": "code",
   "execution_count": 185,
   "metadata": {},
   "outputs": [],
   "source": [
    "# WoW CHANGE GRAPH\n",
    "\n",
    "def banks_bs_comp_change(reports, bank_type, sa, comp_criterias, last_x_days):\n",
    "    banks_df = pd.DataFrame()\n",
    "    for i in reports:\n",
    "        a = pd.read_csv(i).iloc[-last_x_days:,:]\n",
    "        a.set_index('Series Description', inplace=True, drop=True)\n",
    "\n",
    "        banks_df = pd.concat([banks_df, a], axis=1)\n",
    "\n",
    "    banks_df = banks_df.astype(float)\n",
    "    banks_df.index = banks_df.index.astype('datetime64[ns]')\n",
    "\n",
    "    # correct for the negative fields\n",
    "    for element in bank_type: \n",
    "        banks_df[f'LESS: Allowance for loan and lease losses, {element}, {sa}'] = banks_df[f'LESS: Allowance for loan and lease losses, {element}, {sa}'] * -1\n",
    "\n",
    "    comp_df = pd.DataFrame(index=banks_df.index)\n",
    "\n",
    "    for i in comp_criterias:\n",
    "        for z in bank_type:\n",
    "            comp_df = pd.concat([comp_df, banks_df[f'{i}, {z}, {sa}']], axis=1)\n",
    "\n",
    "    comp_df = comp_df - comp_df.shift(1)\n",
    "\n",
    "    \n",
    "    fig = px.bar(comp_df,template='plotly_white')\n",
    "\n",
    "    fig.update_layout(\n",
    "        title = 'comparison'.capitalize(),\n",
    "        xaxis_title='Date',\n",
    "        yaxis_title='Value (1000000 multiplier) ',\n",
    "        legend_title='Legend'\n",
    "    )\n",
    "    fig.show()\n"
   ]
  },
  {
   "cell_type": "code",
   "execution_count": 186,
   "metadata": {},
   "outputs": [],
   "source": [
    "# WoW CHANGE GRAPH DIVIDER\n",
    " \n",
    "def banks_bs_comp_change_div(reports, bank_type, sa, comp_criterias, last_x_days, divider):\n",
    "    banks_df = pd.DataFrame()\n",
    "    for i in reports:\n",
    "        a = pd.read_csv(i).iloc[-last_x_days:,:]\n",
    "        a.set_index('Series Description', inplace=True, drop=True)\n",
    "\n",
    "        banks_df = pd.concat([banks_df, a], axis=1)\n",
    "\n",
    "    banks_df = banks_df.astype(float)\n",
    "    banks_df.index = banks_df.index.astype('datetime64[ns]')\n",
    "\n",
    "    # correct for the negative fields\n",
    "    for element in bank_type: \n",
    "        banks_df[f'LESS: Allowance for loan and lease losses, {element}, {sa}'] = banks_df[f'LESS: Allowance for loan and lease losses, {element}, {sa}'] * -1\n",
    "\n",
    "    comp_df = pd.DataFrame(index=banks_df.index)\n",
    "\n",
    "    for i in comp_criterias:\n",
    "        for z in bank_type:\n",
    "            comp_df = pd.concat([comp_df, banks_df[f'{i}, {z}, {sa}']], axis=1)\n",
    "\n",
    "    comp_df = comp_df - comp_df.shift(1)\n",
    "\n",
    "    for i in comp_criterias:\n",
    "        for z in bank_type:\n",
    "            comp_df[f'{i}, {z}, {sa}'] = comp_df[f'{i}, {z}, {sa}']/ banks_df[f'{divider}, {z}, {sa}']\n",
    "\n",
    "    \n",
    "    fig = px.bar(comp_df,template='plotly_white')\n",
    "\n",
    "    fig.update_layout(\n",
    "        title = f\"comparison, value divided by each bank's {divider}\".capitalize(),\n",
    "        xaxis_title='Date',\n",
    "        yaxis_title='Value (1000000 multiplier) ',\n",
    "        legend_title='Legend'\n",
    "    )\n",
    "    fig.show()\n"
   ]
  },
  {
   "cell_type": "code",
   "execution_count": 187,
   "metadata": {},
   "outputs": [],
   "source": [
    "# VALUE AS % OF THE SUM OF THE TWO\n",
    "\n",
    "def banks_bs_comp_percent(reports, bank_type, sa, comp_criterias, last_x_days):\n",
    "    banks_df = pd.DataFrame()\n",
    "    for i in reports:\n",
    "        a = pd.read_csv(i).iloc[-last_x_days:,:]\n",
    "        a.set_index('Series Description', inplace=True, drop=True)\n",
    "\n",
    "        banks_df = pd.concat([banks_df, a], axis=1)\n",
    "\n",
    "    banks_df = banks_df.astype(float)\n",
    "    banks_df.index = banks_df.index.astype('datetime64[ns]')\n",
    "\n",
    "    # correct for the negative fields\n",
    "    for element in bank_type: \n",
    "        banks_df[f'LESS: Allowance for loan and lease losses, {element}, {sa}'] = banks_df[f'LESS: Allowance for loan and lease losses, {element}, {sa}'] * -1\n",
    "\n",
    "    comp_df = pd.DataFrame(index=banks_df.index)\n",
    "\n",
    "    for i in comp_criterias:\n",
    "        for z in bank_type:\n",
    "            comp_df = pd.concat([comp_df, banks_df[f'{i}, {z}, {sa}']], axis=1)\n",
    "\n",
    "    comp_sum_df = comp_df.sum(axis=1)\n",
    "\n",
    "    for i in range(comp_df.shape[1]):\n",
    "        comp_df.iloc[:,i] = comp_df.iloc[:,i] / comp_sum_df\n",
    "\n",
    "    fig = px.bar(comp_df,template='plotly_white')\n",
    "\n",
    "    fig.update_layout(\n",
    "        title = 'comparison'.capitalize(),\n",
    "        xaxis_title='Date',\n",
    "        yaxis_title='Value (1000000 multiplier) ',\n",
    "        legend_title='Legend'\n",
    "    )\n",
    "    fig.show()\n"
   ]
  },
  {
   "cell_type": "code",
   "execution_count": 188,
   "metadata": {},
   "outputs": [],
   "source": [
    "# ABSOLUTE VALUE GRAPH\n",
    "\n",
    "def banks_bs_comp_absol(reports, bank_type, sa, comp_criterias, last_x_days):\n",
    "    banks_df = pd.DataFrame()\n",
    "    for i in reports:\n",
    "        a = pd.read_csv(i).iloc[-last_x_days:,:]\n",
    "        a.set_index('Series Description', inplace=True, drop=True)\n",
    "\n",
    "        banks_df = pd.concat([banks_df, a], axis=1)\n",
    "\n",
    "    banks_df = banks_df.astype(float)\n",
    "    banks_df.index = banks_df.index.astype('datetime64[ns]')\n",
    "\n",
    "    # correct for the negative fields\n",
    "    for element in bank_type: \n",
    "        banks_df[f'LESS: Allowance for loan and lease losses, {element}, {sa}'] = banks_df[f'LESS: Allowance for loan and lease losses, {element}, {sa}'] * -1\n",
    "\n",
    "    comp_df = pd.DataFrame(index=banks_df.index)\n",
    "\n",
    "    for i in comp_criterias:\n",
    "        for z in bank_type:\n",
    "            comp_df = pd.concat([comp_df, banks_df[f'{i}, {z}, {sa}']], axis=1)\n",
    "\n",
    "    fig = px.bar(comp_df,template='plotly_white')\n",
    "\n",
    "    fig.update_layout(\n",
    "        title = 'comparison'.capitalize(),\n",
    "        xaxis_title='Date',\n",
    "        yaxis_title='Value (1000000 multiplier) ',\n",
    "        legend_title='Legend'\n",
    "    )\n",
    "    fig.show()"
   ]
  },
  {
   "cell_type": "code",
   "execution_count": 189,
   "metadata": {},
   "outputs": [],
   "source": [
    "# PERCENT w DIVIDER\n",
    "\n",
    "def banks_bs_comp_percent_div(reports, bank_type, sa, comp_criterias, last_x_days, divider):\n",
    "    banks_df = pd.DataFrame()\n",
    "    for i in reports:\n",
    "        a = pd.read_csv(i).iloc[-last_x_days:,:]\n",
    "        a.set_index('Series Description', inplace=True, drop=True)\n",
    "\n",
    "        banks_df = pd.concat([banks_df, a], axis=1)\n",
    "\n",
    "    banks_df = banks_df.astype(float)\n",
    "    banks_df.index = banks_df.index.astype('datetime64[ns]')\n",
    "\n",
    "    # correct for the negative fields\n",
    "    for element in bank_type: \n",
    "        banks_df[f'LESS: Allowance for loan and lease losses, {element}, {sa}'] = banks_df[f'LESS: Allowance for loan and lease losses, {element}, {sa}'] * -1\n",
    "\n",
    "    comp_df = pd.DataFrame(index=banks_df.index)\n",
    "\n",
    "    for i in comp_criterias:\n",
    "        for z in bank_type:\n",
    "            banks_df[f'{i}, {z}, {sa}'] = banks_df[f'{i}, {z}, {sa}']/ banks_df[f'{divider}, {z}, {sa}']\n",
    "\n",
    "    for i in comp_criterias:\n",
    "        for z in bank_type:\n",
    "            comp_df = pd.concat([comp_df, banks_df[f'{i}, {z}, {sa}']], axis=1)\n",
    "\n",
    "    fig = px.bar(comp_df,template='plotly_white')\n",
    "\n",
    "    fig.update_layout(\n",
    "        title = f\"comparison, value divided by each bank's {divider}\".capitalize(),\n",
    "        xaxis_title='Date',\n",
    "        yaxis_title='Value (1000000 multiplier) ',\n",
    "        legend_title='Legend'\n",
    "    )\n",
    "    fig.show()"
   ]
  },
  {
   "attachments": {},
   "cell_type": "markdown",
   "metadata": {},
   "source": [
    "# LIABILITIES\n",
    "Comparison of liabilities: deposit dropped by borrowing ofsetted the the loss in deposit more than prioportionally "
   ]
  },
  {
   "cell_type": "code",
   "execution_count": 197,
   "metadata": {},
   "outputs": [
    {
     "data": {
      "application/vnd.plotly.v1+json": {
       "config": {
        "plotlyServerURL": "https://plot.ly"
       },
       "data": [
        {
         "alignmentgroup": "True",
         "hovertemplate": "variable=Deposits, large domestically chartered commercial banks, not seasonally adjusted<br>Series Description=%{x}<br>value=%{y}<extra></extra>",
         "legendgroup": "Deposits, large domestically chartered commercial banks, not seasonally adjusted",
         "marker": {
          "color": "#636efa",
          "pattern": {
           "shape": ""
          }
         },
         "name": "Deposits, large domestically chartered commercial banks, not seasonally adjusted",
         "offsetgroup": "Deposits, large domestically chartered commercial banks, not seasonally adjusted",
         "orientation": "v",
         "showlegend": true,
         "textposition": "auto",
         "type": "bar",
         "x": [
          "2021-06-02T00:00:00",
          "2021-06-09T00:00:00",
          "2021-06-16T00:00:00",
          "2021-06-23T00:00:00",
          "2021-06-30T00:00:00",
          "2021-07-07T00:00:00",
          "2021-07-14T00:00:00",
          "2021-07-21T00:00:00",
          "2021-07-28T00:00:00",
          "2021-08-04T00:00:00",
          "2021-08-11T00:00:00",
          "2021-08-18T00:00:00",
          "2021-08-25T00:00:00",
          "2021-09-01T00:00:00",
          "2021-09-08T00:00:00",
          "2021-09-15T00:00:00",
          "2021-09-22T00:00:00",
          "2021-09-29T00:00:00",
          "2021-10-06T00:00:00",
          "2021-10-13T00:00:00",
          "2021-10-20T00:00:00",
          "2021-10-27T00:00:00",
          "2021-11-03T00:00:00",
          "2021-11-10T00:00:00",
          "2021-11-17T00:00:00",
          "2021-11-24T00:00:00",
          "2021-12-01T00:00:00",
          "2021-12-08T00:00:00",
          "2021-12-15T00:00:00",
          "2021-12-22T00:00:00",
          "2021-12-29T00:00:00",
          "2022-01-05T00:00:00",
          "2022-01-12T00:00:00",
          "2022-01-19T00:00:00",
          "2022-01-26T00:00:00",
          "2022-02-02T00:00:00",
          "2022-02-09T00:00:00",
          "2022-02-16T00:00:00",
          "2022-02-23T00:00:00",
          "2022-03-02T00:00:00",
          "2022-03-09T00:00:00",
          "2022-03-16T00:00:00",
          "2022-03-23T00:00:00",
          "2022-03-30T00:00:00",
          "2022-04-06T00:00:00",
          "2022-04-13T00:00:00",
          "2022-04-20T00:00:00",
          "2022-04-27T00:00:00",
          "2022-05-04T00:00:00",
          "2022-05-11T00:00:00",
          "2022-05-18T00:00:00",
          "2022-05-25T00:00:00",
          "2022-06-01T00:00:00",
          "2022-06-08T00:00:00",
          "2022-06-15T00:00:00",
          "2022-06-22T00:00:00",
          "2022-06-29T00:00:00",
          "2022-07-06T00:00:00",
          "2022-07-13T00:00:00",
          "2022-07-20T00:00:00",
          "2022-07-27T00:00:00",
          "2022-08-03T00:00:00",
          "2022-08-10T00:00:00",
          "2022-08-17T00:00:00",
          "2022-08-24T00:00:00",
          "2022-08-31T00:00:00",
          "2022-09-07T00:00:00",
          "2022-09-14T00:00:00",
          "2022-09-21T00:00:00",
          "2022-09-28T00:00:00",
          "2022-10-05T00:00:00",
          "2022-10-12T00:00:00",
          "2022-10-19T00:00:00",
          "2022-10-26T00:00:00",
          "2022-11-02T00:00:00",
          "2022-11-09T00:00:00",
          "2022-11-16T00:00:00",
          "2022-11-23T00:00:00",
          "2022-11-30T00:00:00",
          "2022-12-07T00:00:00",
          "2022-12-14T00:00:00",
          "2022-12-21T00:00:00",
          "2022-12-28T00:00:00",
          "2023-01-04T00:00:00",
          "2023-01-11T00:00:00",
          "2023-01-18T00:00:00",
          "2023-01-25T00:00:00",
          "2023-02-01T00:00:00",
          "2023-02-08T00:00:00",
          "2023-02-15T00:00:00",
          "2023-02-22T00:00:00",
          "2023-03-01T00:00:00",
          "2023-03-08T00:00:00",
          "2023-03-15T00:00:00",
          "2023-03-22T00:00:00",
          "2023-03-29T00:00:00",
          "2023-04-05T00:00:00",
          "2023-04-12T00:00:00",
          "2023-04-19T00:00:00",
          "2023-04-26T00:00:00"
         ],
         "xaxis": "x",
         "y": [
          null,
          43306,
          -3016.60000000149,
          -94397.5,
          130927.40000000037,
          6306.200000001118,
          35784.199999999255,
          -33777.59999999963,
          8495.900000000373,
          63240,
          32961.199999999255,
          27833.400000000373,
          -20456.200000001118,
          119879.10000000149,
          -13644.5,
          43081.59999999963,
          -119995.80000000075,
          89349.80000000075,
          40777.5,
          37095.5,
          -57954,
          19853.900000000373,
          80227.29999999888,
          7421.300000000745,
          62748,
          14478.299999998882,
          126945.10000000149,
          -25635.5,
          113590.29999999888,
          4464.5999999996275,
          9961.60000000149,
          -10852,
          -51139.20000000112,
          -39519.90000000037,
          -105786.89999999851,
          24961.199999999255,
          -11252.900000000373,
          43421.5,
          15071.599999999627,
          98489.70000000112,
          31694.299999998882,
          36418.20000000112,
          -67663.90000000037,
          94822.5,
          26574.199999999255,
          8109.800000000745,
          -275741.0999999996,
          5332.799999998882,
          2758.7000000011176,
          -39833.300000000745,
          -5700.5999999996275,
          -20492.800000000745,
          102270.80000000075,
          -98054,
          28738.800000000745,
          -57935.40000000037,
          67291.79999999888,
          8992.60000000149,
          -23126.300000000745,
          -57927.800000000745,
          40026,
          -17642.099999999627,
          13507.599999999627,
          -9925.099999999627,
          -59470.29999999888,
          49170.29999999888,
          -30573.199999999255,
          -16420.700000001118,
          -85716.09999999963,
          -9693.799999998882,
          -34006.800000000745,
          18073.800000000745,
          -83689.60000000149,
          -17274.699999999255,
          23432.199999999255,
          -13228.5,
          54845.800000000745,
          -14248.199999999255,
          10080.89999999851,
          25177.400000000373,
          64870.5,
          22912.5,
          -12540.900000000373,
          -17473.099999999627,
          -111556.79999999888,
          -33268,
          -95951.60000000149,
          33832.20000000112,
          -84943.40000000037,
          39668.90000000037,
          -63164.800000000745,
          57829.70000000112,
          -54669.60000000149,
          120158.80000000075,
          -96174,
          48700,
          27941,
          -40620,
          -123164,
          -76806
         ],
         "yaxis": "y"
        },
        {
         "alignmentgroup": "True",
         "hovertemplate": "variable=Deposits, small domestically chartered commercial banks, not seasonally adjusted<br>Series Description=%{x}<br>value=%{y}<extra></extra>",
         "legendgroup": "Deposits, small domestically chartered commercial banks, not seasonally adjusted",
         "marker": {
          "color": "#EF553B",
          "pattern": {
           "shape": ""
          }
         },
         "name": "Deposits, small domestically chartered commercial banks, not seasonally adjusted",
         "offsetgroup": "Deposits, small domestically chartered commercial banks, not seasonally adjusted",
         "orientation": "v",
         "showlegend": true,
         "textposition": "auto",
         "type": "bar",
         "x": [
          "2021-06-02T00:00:00",
          "2021-06-09T00:00:00",
          "2021-06-16T00:00:00",
          "2021-06-23T00:00:00",
          "2021-06-30T00:00:00",
          "2021-07-07T00:00:00",
          "2021-07-14T00:00:00",
          "2021-07-21T00:00:00",
          "2021-07-28T00:00:00",
          "2021-08-04T00:00:00",
          "2021-08-11T00:00:00",
          "2021-08-18T00:00:00",
          "2021-08-25T00:00:00",
          "2021-09-01T00:00:00",
          "2021-09-08T00:00:00",
          "2021-09-15T00:00:00",
          "2021-09-22T00:00:00",
          "2021-09-29T00:00:00",
          "2021-10-06T00:00:00",
          "2021-10-13T00:00:00",
          "2021-10-20T00:00:00",
          "2021-10-27T00:00:00",
          "2021-11-03T00:00:00",
          "2021-11-10T00:00:00",
          "2021-11-17T00:00:00",
          "2021-11-24T00:00:00",
          "2021-12-01T00:00:00",
          "2021-12-08T00:00:00",
          "2021-12-15T00:00:00",
          "2021-12-22T00:00:00",
          "2021-12-29T00:00:00",
          "2022-01-05T00:00:00",
          "2022-01-12T00:00:00",
          "2022-01-19T00:00:00",
          "2022-01-26T00:00:00",
          "2022-02-02T00:00:00",
          "2022-02-09T00:00:00",
          "2022-02-16T00:00:00",
          "2022-02-23T00:00:00",
          "2022-03-02T00:00:00",
          "2022-03-09T00:00:00",
          "2022-03-16T00:00:00",
          "2022-03-23T00:00:00",
          "2022-03-30T00:00:00",
          "2022-04-06T00:00:00",
          "2022-04-13T00:00:00",
          "2022-04-20T00:00:00",
          "2022-04-27T00:00:00",
          "2022-05-04T00:00:00",
          "2022-05-11T00:00:00",
          "2022-05-18T00:00:00",
          "2022-05-25T00:00:00",
          "2022-06-01T00:00:00",
          "2022-06-08T00:00:00",
          "2022-06-15T00:00:00",
          "2022-06-22T00:00:00",
          "2022-06-29T00:00:00",
          "2022-07-06T00:00:00",
          "2022-07-13T00:00:00",
          "2022-07-20T00:00:00",
          "2022-07-27T00:00:00",
          "2022-08-03T00:00:00",
          "2022-08-10T00:00:00",
          "2022-08-17T00:00:00",
          "2022-08-24T00:00:00",
          "2022-08-31T00:00:00",
          "2022-09-07T00:00:00",
          "2022-09-14T00:00:00",
          "2022-09-21T00:00:00",
          "2022-09-28T00:00:00",
          "2022-10-05T00:00:00",
          "2022-10-12T00:00:00",
          "2022-10-19T00:00:00",
          "2022-10-26T00:00:00",
          "2022-11-02T00:00:00",
          "2022-11-09T00:00:00",
          "2022-11-16T00:00:00",
          "2022-11-23T00:00:00",
          "2022-11-30T00:00:00",
          "2022-12-07T00:00:00",
          "2022-12-14T00:00:00",
          "2022-12-21T00:00:00",
          "2022-12-28T00:00:00",
          "2023-01-04T00:00:00",
          "2023-01-11T00:00:00",
          "2023-01-18T00:00:00",
          "2023-01-25T00:00:00",
          "2023-02-01T00:00:00",
          "2023-02-08T00:00:00",
          "2023-02-15T00:00:00",
          "2023-02-22T00:00:00",
          "2023-03-01T00:00:00",
          "2023-03-08T00:00:00",
          "2023-03-15T00:00:00",
          "2023-03-22T00:00:00",
          "2023-03-29T00:00:00",
          "2023-04-05T00:00:00",
          "2023-04-12T00:00:00",
          "2023-04-19T00:00:00",
          "2023-04-26T00:00:00"
         ],
         "xaxis": "x",
         "y": [
          null,
          17142,
          -2819.4000000003725,
          -35028.5,
          45671.60000000056,
          -3679.2000000001863,
          12879.799999999814,
          -16097.400000000373,
          27423.10000000056,
          22543,
          12657.799999999814,
          7589.5999999996275,
          6959.200000000186,
          44529.90000000037,
          5386.5,
          -80.6000000005588,
          -30441.199999999255,
          39689.199999999255,
          9688.5,
          15575.5,
          -8129,
          13742.100000000559,
          50506.700000000186,
          18831.699999999255,
          36144,
          -1438.2999999998137,
          32970.90000000037,
          7538.5,
          25737.700000000186,
          7794.399999999441,
          7762.4000000003725,
          -24196,
          1369.2000000001863,
          -17352.10000000056,
          -21777.099999999627,
          14443.799999999814,
          12436.900000000373,
          -778.5,
          9625.399999999441,
          16159.299999999814,
          10179.700000000186,
          2268.7999999998137,
          -16313.099999999627,
          52807.5,
          14195.799999999814,
          11070.200000000186,
          -60330.90000000037,
          -26398.799999999814,
          15813.299999999814,
          -2754.699999999255,
          7193.5999999996275,
          -2653.2000000001863,
          37701.200000000186,
          1514,
          6328.200000000186,
          -23954.60000000056,
          11840.200000000186,
          -897.5999999996275,
          -2523.7000000001863,
          -16613.200000000186,
          -3545,
          17508.10000000056,
          -564.6000000005588,
          679.1000000005588,
          -8255.700000000186,
          31205.700000000186,
          -1491.800000000745,
          -11626.299999999814,
          -42871.89999999944,
          15765.799999999814,
          22977.799999999814,
          -4983.799999999814,
          -20121.400000000373,
          -2807.2999999998137,
          10792.799999999814,
          15408.5,
          5538.200000000186,
          -21826.799999999814,
          5079.0999999996275,
          67542.60000000056,
          5039.5,
          -13938.5,
          154.8999999994412,
          4261.100000000559,
          -29286.200000000186,
          -12165,
          -39277.40000000037,
          17248.799999999814,
          -3933.5999999996275,
          127.09999999962747,
          -5114.199999999255,
          23273.299999999814,
          -5369.4000000003725,
          -180623.7999999998,
          -47461,
          26227,
          28270,
          -16980,
          -39940,
          -26370
         ],
         "yaxis": "y"
        },
        {
         "alignmentgroup": "True",
         "hovertemplate": "variable=Borrowings, large domestically chartered commercial banks, not seasonally adjusted<br>Series Description=%{x}<br>value=%{y}<extra></extra>",
         "legendgroup": "Borrowings, large domestically chartered commercial banks, not seasonally adjusted",
         "marker": {
          "color": "#00cc96",
          "pattern": {
           "shape": ""
          }
         },
         "name": "Borrowings, large domestically chartered commercial banks, not seasonally adjusted",
         "offsetgroup": "Borrowings, large domestically chartered commercial banks, not seasonally adjusted",
         "orientation": "v",
         "showlegend": true,
         "textposition": "auto",
         "type": "bar",
         "x": [
          "2021-06-02T00:00:00",
          "2021-06-09T00:00:00",
          "2021-06-16T00:00:00",
          "2021-06-23T00:00:00",
          "2021-06-30T00:00:00",
          "2021-07-07T00:00:00",
          "2021-07-14T00:00:00",
          "2021-07-21T00:00:00",
          "2021-07-28T00:00:00",
          "2021-08-04T00:00:00",
          "2021-08-11T00:00:00",
          "2021-08-18T00:00:00",
          "2021-08-25T00:00:00",
          "2021-09-01T00:00:00",
          "2021-09-08T00:00:00",
          "2021-09-15T00:00:00",
          "2021-09-22T00:00:00",
          "2021-09-29T00:00:00",
          "2021-10-06T00:00:00",
          "2021-10-13T00:00:00",
          "2021-10-20T00:00:00",
          "2021-10-27T00:00:00",
          "2021-11-03T00:00:00",
          "2021-11-10T00:00:00",
          "2021-11-17T00:00:00",
          "2021-11-24T00:00:00",
          "2021-12-01T00:00:00",
          "2021-12-08T00:00:00",
          "2021-12-15T00:00:00",
          "2021-12-22T00:00:00",
          "2021-12-29T00:00:00",
          "2022-01-05T00:00:00",
          "2022-01-12T00:00:00",
          "2022-01-19T00:00:00",
          "2022-01-26T00:00:00",
          "2022-02-02T00:00:00",
          "2022-02-09T00:00:00",
          "2022-02-16T00:00:00",
          "2022-02-23T00:00:00",
          "2022-03-02T00:00:00",
          "2022-03-09T00:00:00",
          "2022-03-16T00:00:00",
          "2022-03-23T00:00:00",
          "2022-03-30T00:00:00",
          "2022-04-06T00:00:00",
          "2022-04-13T00:00:00",
          "2022-04-20T00:00:00",
          "2022-04-27T00:00:00",
          "2022-05-04T00:00:00",
          "2022-05-11T00:00:00",
          "2022-05-18T00:00:00",
          "2022-05-25T00:00:00",
          "2022-06-01T00:00:00",
          "2022-06-08T00:00:00",
          "2022-06-15T00:00:00",
          "2022-06-22T00:00:00",
          "2022-06-29T00:00:00",
          "2022-07-06T00:00:00",
          "2022-07-13T00:00:00",
          "2022-07-20T00:00:00",
          "2022-07-27T00:00:00",
          "2022-08-03T00:00:00",
          "2022-08-10T00:00:00",
          "2022-08-17T00:00:00",
          "2022-08-24T00:00:00",
          "2022-08-31T00:00:00",
          "2022-09-07T00:00:00",
          "2022-09-14T00:00:00",
          "2022-09-21T00:00:00",
          "2022-09-28T00:00:00",
          "2022-10-05T00:00:00",
          "2022-10-12T00:00:00",
          "2022-10-19T00:00:00",
          "2022-10-26T00:00:00",
          "2022-11-02T00:00:00",
          "2022-11-09T00:00:00",
          "2022-11-16T00:00:00",
          "2022-11-23T00:00:00",
          "2022-11-30T00:00:00",
          "2022-12-07T00:00:00",
          "2022-12-14T00:00:00",
          "2022-12-21T00:00:00",
          "2022-12-28T00:00:00",
          "2023-01-04T00:00:00",
          "2023-01-11T00:00:00",
          "2023-01-18T00:00:00",
          "2023-01-25T00:00:00",
          "2023-02-01T00:00:00",
          "2023-02-08T00:00:00",
          "2023-02-15T00:00:00",
          "2023-02-22T00:00:00",
          "2023-03-01T00:00:00",
          "2023-03-08T00:00:00",
          "2023-03-15T00:00:00",
          "2023-03-22T00:00:00",
          "2023-03-29T00:00:00",
          "2023-04-05T00:00:00",
          "2023-04-12T00:00:00",
          "2023-04-19T00:00:00",
          "2023-04-26T00:00:00"
         ],
         "xaxis": "x",
         "y": [
          null,
          -1784,
          -13009.799999999988,
          -5496.300000000047,
          -1883.2999999999884,
          -2221.5,
          -6022.099999999977,
          -3430.2000000000116,
          -4403.400000000023,
          3496.4000000000233,
          5218.900000000023,
          1942.6999999999534,
          -2849.6999999999534,
          -89.70000000001164,
          -1553.2000000000116,
          2589.0999999999767,
          -5612.399999999965,
          21808.399999999965,
          4602.400000000023,
          22458.400000000023,
          -23234.800000000047,
          -2776.7999999999884,
          15647.700000000012,
          -8270.400000000023,
          2573,
          -11523.399999999965,
          -15868.5,
          3938.899999999965,
          -13766.599999999977,
          14412.299999999988,
          -1201.5999999999767,
          4053.2999999999884,
          -23284.099999999977,
          3656.6999999999534,
          6833.700000000012,
          -6386.5,
          6571.100000000035,
          -2553.3000000000466,
          -2170.5999999999767,
          25460.5,
          -10978.400000000023,
          -24627,
          -13420.599999999977,
          -893,
          -1765.2000000000116,
          5203.900000000023,
          12325.700000000012,
          22204,
          5484,
          13527.899999999965,
          5990,
          4758.700000000012,
          3560.7000000000116,
          3230.0999999999767,
          11047.100000000035,
          39423.29999999999,
          -35293.79999999999,
          33122.29999999999,
          -17176.600000000035,
          11677.100000000035,
          7170.5,
          -1759.9000000000233,
          -246.79999999998836,
          -13228.599999999977,
          14124.699999999953,
          2296.600000000035,
          6273.399999999965,
          -1008.7999999999884,
          7106.799999999988,
          23461.5,
          -10573.900000000023,
          12182.600000000093,
          4062,
          16702.5,
          5019.79999999993,
          22964.70000000007,
          17863.399999999907,
          5233.300000000047,
          534,
          -25547.699999999953,
          -4629.400000000023,
          -1644.0999999999767,
          -3124.8000000000466,
          10043.400000000023,
          13725.79999999993,
          17089.600000000093,
          23492.29999999993,
          3115.20000000007,
          -6033.70000000007,
          11322.099999999977,
          595.5,
          -8969.099999999977,
          10155.599999999977,
          227777.80000000005,
          26274,
          23650,
          -36084,
          759,
          -1190,
          28490
         ],
         "yaxis": "y"
        },
        {
         "alignmentgroup": "True",
         "hovertemplate": "variable=Borrowings, small domestically chartered commercial banks, not seasonally adjusted<br>Series Description=%{x}<br>value=%{y}<extra></extra>",
         "legendgroup": "Borrowings, small domestically chartered commercial banks, not seasonally adjusted",
         "marker": {
          "color": "#ab63fa",
          "pattern": {
           "shape": ""
          }
         },
         "name": "Borrowings, small domestically chartered commercial banks, not seasonally adjusted",
         "offsetgroup": "Borrowings, small domestically chartered commercial banks, not seasonally adjusted",
         "orientation": "v",
         "showlegend": true,
         "textposition": "auto",
         "type": "bar",
         "x": [
          "2021-06-02T00:00:00",
          "2021-06-09T00:00:00",
          "2021-06-16T00:00:00",
          "2021-06-23T00:00:00",
          "2021-06-30T00:00:00",
          "2021-07-07T00:00:00",
          "2021-07-14T00:00:00",
          "2021-07-21T00:00:00",
          "2021-07-28T00:00:00",
          "2021-08-04T00:00:00",
          "2021-08-11T00:00:00",
          "2021-08-18T00:00:00",
          "2021-08-25T00:00:00",
          "2021-09-01T00:00:00",
          "2021-09-08T00:00:00",
          "2021-09-15T00:00:00",
          "2021-09-22T00:00:00",
          "2021-09-29T00:00:00",
          "2021-10-06T00:00:00",
          "2021-10-13T00:00:00",
          "2021-10-20T00:00:00",
          "2021-10-27T00:00:00",
          "2021-11-03T00:00:00",
          "2021-11-10T00:00:00",
          "2021-11-17T00:00:00",
          "2021-11-24T00:00:00",
          "2021-12-01T00:00:00",
          "2021-12-08T00:00:00",
          "2021-12-15T00:00:00",
          "2021-12-22T00:00:00",
          "2021-12-29T00:00:00",
          "2022-01-05T00:00:00",
          "2022-01-12T00:00:00",
          "2022-01-19T00:00:00",
          "2022-01-26T00:00:00",
          "2022-02-02T00:00:00",
          "2022-02-09T00:00:00",
          "2022-02-16T00:00:00",
          "2022-02-23T00:00:00",
          "2022-03-02T00:00:00",
          "2022-03-09T00:00:00",
          "2022-03-16T00:00:00",
          "2022-03-23T00:00:00",
          "2022-03-30T00:00:00",
          "2022-04-06T00:00:00",
          "2022-04-13T00:00:00",
          "2022-04-20T00:00:00",
          "2022-04-27T00:00:00",
          "2022-05-04T00:00:00",
          "2022-05-11T00:00:00",
          "2022-05-18T00:00:00",
          "2022-05-25T00:00:00",
          "2022-06-01T00:00:00",
          "2022-06-08T00:00:00",
          "2022-06-15T00:00:00",
          "2022-06-22T00:00:00",
          "2022-06-29T00:00:00",
          "2022-07-06T00:00:00",
          "2022-07-13T00:00:00",
          "2022-07-20T00:00:00",
          "2022-07-27T00:00:00",
          "2022-08-03T00:00:00",
          "2022-08-10T00:00:00",
          "2022-08-17T00:00:00",
          "2022-08-24T00:00:00",
          "2022-08-31T00:00:00",
          "2022-09-07T00:00:00",
          "2022-09-14T00:00:00",
          "2022-09-21T00:00:00",
          "2022-09-28T00:00:00",
          "2022-10-05T00:00:00",
          "2022-10-12T00:00:00",
          "2022-10-19T00:00:00",
          "2022-10-26T00:00:00",
          "2022-11-02T00:00:00",
          "2022-11-09T00:00:00",
          "2022-11-16T00:00:00",
          "2022-11-23T00:00:00",
          "2022-11-30T00:00:00",
          "2022-12-07T00:00:00",
          "2022-12-14T00:00:00",
          "2022-12-21T00:00:00",
          "2022-12-28T00:00:00",
          "2023-01-04T00:00:00",
          "2023-01-11T00:00:00",
          "2023-01-18T00:00:00",
          "2023-01-25T00:00:00",
          "2023-02-01T00:00:00",
          "2023-02-08T00:00:00",
          "2023-02-15T00:00:00",
          "2023-02-22T00:00:00",
          "2023-03-01T00:00:00",
          "2023-03-08T00:00:00",
          "2023-03-15T00:00:00",
          "2023-03-22T00:00:00",
          "2023-03-29T00:00:00",
          "2023-04-05T00:00:00",
          "2023-04-12T00:00:00",
          "2023-04-19T00:00:00",
          "2023-04-26T00:00:00"
         ],
         "xaxis": "x",
         "y": [
          null,
          -81,
          -2578.1999999999825,
          3615.2999999999884,
          -9756.699999999983,
          -1078.5,
          2202.0999999999767,
          -7406.799999999988,
          5065.399999999994,
          2623.600000000006,
          2712.100000000006,
          -5512.700000000012,
          -7378.299999999988,
          -3432.3000000000175,
          4014.2000000000116,
          107.89999999999418,
          -1947.6000000000058,
          -5291.399999999994,
          -1108.3999999999942,
          2835.600000000006,
          3683.7999999999884,
          -6530.1999999999825,
          -921.7000000000116,
          1492.3999999999942,
          -1500,
          -916.6000000000058,
          738.5,
          -565.8999999999942,
          -1765.3999999999942,
          6341.700000000012,
          248.59999999997672,
          -430.29999999998836,
          -2152.899999999994,
          2818.2999999999884,
          -42.69999999998254,
          -3512.5,
          -3195.100000000006,
          -2298.7000000000116,
          -3050.399999999994,
          -709.5,
          -855.6000000000058,
          -5055,
          676.6000000000058,
          2798,
          2056.2000000000116,
          485.0999999999767,
          14768.300000000017,
          -495,
          900,
          158.10000000000582,
          8465,
          6674.299999999988,
          -3256.7000000000116,
          -8074.099999999977,
          12195.899999999994,
          15219.699999999983,
          5747.799999999988,
          2336.7000000000116,
          -1122.399999999965,
          9542.899999999965,
          -6475.5,
          372.9000000000233,
          3059.7999999999884,
          -274.4000000000233,
          8723.300000000047,
          5684.399999999965,
          -5471.399999999965,
          10287.799999999988,
          18216.20000000001,
          5028.5,
          1365.899999999965,
          9123.400000000023,
          10274,
          2505.5,
          -1960.7999999999884,
          -1669.7000000000116,
          8643.599999999977,
          16365.700000000012,
          5788,
          6569.700000000012,
          -1388.600000000035,
          24393.100000000035,
          9196.799999999988,
          7915.599999999977,
          -9655.799999999988,
          970.4000000000233,
          7229.700000000012,
          8910.799999999988,
          -13100.299999999988,
          3314.899999999965,
          4904.5,
          260.1000000000349,
          -10905.600000000035,
          311393.2,
          -15887,
          -129204,
          -25437,
          10481,
          8252,
          15621
         ],
         "yaxis": "y"
        }
       ],
       "layout": {
        "barmode": "relative",
        "legend": {
         "title": {
          "text": "Legend"
         },
         "tracegroupgap": 0
        },
        "margin": {
         "t": 60
        },
        "template": {
         "data": {
          "bar": [
           {
            "error_x": {
             "color": "#2a3f5f"
            },
            "error_y": {
             "color": "#2a3f5f"
            },
            "marker": {
             "line": {
              "color": "white",
              "width": 0.5
             },
             "pattern": {
              "fillmode": "overlay",
              "size": 10,
              "solidity": 0.2
             }
            },
            "type": "bar"
           }
          ],
          "barpolar": [
           {
            "marker": {
             "line": {
              "color": "white",
              "width": 0.5
             },
             "pattern": {
              "fillmode": "overlay",
              "size": 10,
              "solidity": 0.2
             }
            },
            "type": "barpolar"
           }
          ],
          "carpet": [
           {
            "aaxis": {
             "endlinecolor": "#2a3f5f",
             "gridcolor": "#C8D4E3",
             "linecolor": "#C8D4E3",
             "minorgridcolor": "#C8D4E3",
             "startlinecolor": "#2a3f5f"
            },
            "baxis": {
             "endlinecolor": "#2a3f5f",
             "gridcolor": "#C8D4E3",
             "linecolor": "#C8D4E3",
             "minorgridcolor": "#C8D4E3",
             "startlinecolor": "#2a3f5f"
            },
            "type": "carpet"
           }
          ],
          "choropleth": [
           {
            "colorbar": {
             "outlinewidth": 0,
             "ticks": ""
            },
            "type": "choropleth"
           }
          ],
          "contour": [
           {
            "colorbar": {
             "outlinewidth": 0,
             "ticks": ""
            },
            "colorscale": [
             [
              0,
              "#0d0887"
             ],
             [
              0.1111111111111111,
              "#46039f"
             ],
             [
              0.2222222222222222,
              "#7201a8"
             ],
             [
              0.3333333333333333,
              "#9c179e"
             ],
             [
              0.4444444444444444,
              "#bd3786"
             ],
             [
              0.5555555555555556,
              "#d8576b"
             ],
             [
              0.6666666666666666,
              "#ed7953"
             ],
             [
              0.7777777777777778,
              "#fb9f3a"
             ],
             [
              0.8888888888888888,
              "#fdca26"
             ],
             [
              1,
              "#f0f921"
             ]
            ],
            "type": "contour"
           }
          ],
          "contourcarpet": [
           {
            "colorbar": {
             "outlinewidth": 0,
             "ticks": ""
            },
            "type": "contourcarpet"
           }
          ],
          "heatmap": [
           {
            "colorbar": {
             "outlinewidth": 0,
             "ticks": ""
            },
            "colorscale": [
             [
              0,
              "#0d0887"
             ],
             [
              0.1111111111111111,
              "#46039f"
             ],
             [
              0.2222222222222222,
              "#7201a8"
             ],
             [
              0.3333333333333333,
              "#9c179e"
             ],
             [
              0.4444444444444444,
              "#bd3786"
             ],
             [
              0.5555555555555556,
              "#d8576b"
             ],
             [
              0.6666666666666666,
              "#ed7953"
             ],
             [
              0.7777777777777778,
              "#fb9f3a"
             ],
             [
              0.8888888888888888,
              "#fdca26"
             ],
             [
              1,
              "#f0f921"
             ]
            ],
            "type": "heatmap"
           }
          ],
          "heatmapgl": [
           {
            "colorbar": {
             "outlinewidth": 0,
             "ticks": ""
            },
            "colorscale": [
             [
              0,
              "#0d0887"
             ],
             [
              0.1111111111111111,
              "#46039f"
             ],
             [
              0.2222222222222222,
              "#7201a8"
             ],
             [
              0.3333333333333333,
              "#9c179e"
             ],
             [
              0.4444444444444444,
              "#bd3786"
             ],
             [
              0.5555555555555556,
              "#d8576b"
             ],
             [
              0.6666666666666666,
              "#ed7953"
             ],
             [
              0.7777777777777778,
              "#fb9f3a"
             ],
             [
              0.8888888888888888,
              "#fdca26"
             ],
             [
              1,
              "#f0f921"
             ]
            ],
            "type": "heatmapgl"
           }
          ],
          "histogram": [
           {
            "marker": {
             "pattern": {
              "fillmode": "overlay",
              "size": 10,
              "solidity": 0.2
             }
            },
            "type": "histogram"
           }
          ],
          "histogram2d": [
           {
            "colorbar": {
             "outlinewidth": 0,
             "ticks": ""
            },
            "colorscale": [
             [
              0,
              "#0d0887"
             ],
             [
              0.1111111111111111,
              "#46039f"
             ],
             [
              0.2222222222222222,
              "#7201a8"
             ],
             [
              0.3333333333333333,
              "#9c179e"
             ],
             [
              0.4444444444444444,
              "#bd3786"
             ],
             [
              0.5555555555555556,
              "#d8576b"
             ],
             [
              0.6666666666666666,
              "#ed7953"
             ],
             [
              0.7777777777777778,
              "#fb9f3a"
             ],
             [
              0.8888888888888888,
              "#fdca26"
             ],
             [
              1,
              "#f0f921"
             ]
            ],
            "type": "histogram2d"
           }
          ],
          "histogram2dcontour": [
           {
            "colorbar": {
             "outlinewidth": 0,
             "ticks": ""
            },
            "colorscale": [
             [
              0,
              "#0d0887"
             ],
             [
              0.1111111111111111,
              "#46039f"
             ],
             [
              0.2222222222222222,
              "#7201a8"
             ],
             [
              0.3333333333333333,
              "#9c179e"
             ],
             [
              0.4444444444444444,
              "#bd3786"
             ],
             [
              0.5555555555555556,
              "#d8576b"
             ],
             [
              0.6666666666666666,
              "#ed7953"
             ],
             [
              0.7777777777777778,
              "#fb9f3a"
             ],
             [
              0.8888888888888888,
              "#fdca26"
             ],
             [
              1,
              "#f0f921"
             ]
            ],
            "type": "histogram2dcontour"
           }
          ],
          "mesh3d": [
           {
            "colorbar": {
             "outlinewidth": 0,
             "ticks": ""
            },
            "type": "mesh3d"
           }
          ],
          "parcoords": [
           {
            "line": {
             "colorbar": {
              "outlinewidth": 0,
              "ticks": ""
             }
            },
            "type": "parcoords"
           }
          ],
          "pie": [
           {
            "automargin": true,
            "type": "pie"
           }
          ],
          "scatter": [
           {
            "fillpattern": {
             "fillmode": "overlay",
             "size": 10,
             "solidity": 0.2
            },
            "type": "scatter"
           }
          ],
          "scatter3d": [
           {
            "line": {
             "colorbar": {
              "outlinewidth": 0,
              "ticks": ""
             }
            },
            "marker": {
             "colorbar": {
              "outlinewidth": 0,
              "ticks": ""
             }
            },
            "type": "scatter3d"
           }
          ],
          "scattercarpet": [
           {
            "marker": {
             "colorbar": {
              "outlinewidth": 0,
              "ticks": ""
             }
            },
            "type": "scattercarpet"
           }
          ],
          "scattergeo": [
           {
            "marker": {
             "colorbar": {
              "outlinewidth": 0,
              "ticks": ""
             }
            },
            "type": "scattergeo"
           }
          ],
          "scattergl": [
           {
            "marker": {
             "colorbar": {
              "outlinewidth": 0,
              "ticks": ""
             }
            },
            "type": "scattergl"
           }
          ],
          "scattermapbox": [
           {
            "marker": {
             "colorbar": {
              "outlinewidth": 0,
              "ticks": ""
             }
            },
            "type": "scattermapbox"
           }
          ],
          "scatterpolar": [
           {
            "marker": {
             "colorbar": {
              "outlinewidth": 0,
              "ticks": ""
             }
            },
            "type": "scatterpolar"
           }
          ],
          "scatterpolargl": [
           {
            "marker": {
             "colorbar": {
              "outlinewidth": 0,
              "ticks": ""
             }
            },
            "type": "scatterpolargl"
           }
          ],
          "scatterternary": [
           {
            "marker": {
             "colorbar": {
              "outlinewidth": 0,
              "ticks": ""
             }
            },
            "type": "scatterternary"
           }
          ],
          "surface": [
           {
            "colorbar": {
             "outlinewidth": 0,
             "ticks": ""
            },
            "colorscale": [
             [
              0,
              "#0d0887"
             ],
             [
              0.1111111111111111,
              "#46039f"
             ],
             [
              0.2222222222222222,
              "#7201a8"
             ],
             [
              0.3333333333333333,
              "#9c179e"
             ],
             [
              0.4444444444444444,
              "#bd3786"
             ],
             [
              0.5555555555555556,
              "#d8576b"
             ],
             [
              0.6666666666666666,
              "#ed7953"
             ],
             [
              0.7777777777777778,
              "#fb9f3a"
             ],
             [
              0.8888888888888888,
              "#fdca26"
             ],
             [
              1,
              "#f0f921"
             ]
            ],
            "type": "surface"
           }
          ],
          "table": [
           {
            "cells": {
             "fill": {
              "color": "#EBF0F8"
             },
             "line": {
              "color": "white"
             }
            },
            "header": {
             "fill": {
              "color": "#C8D4E3"
             },
             "line": {
              "color": "white"
             }
            },
            "type": "table"
           }
          ]
         },
         "layout": {
          "annotationdefaults": {
           "arrowcolor": "#2a3f5f",
           "arrowhead": 0,
           "arrowwidth": 1
          },
          "autotypenumbers": "strict",
          "coloraxis": {
           "colorbar": {
            "outlinewidth": 0,
            "ticks": ""
           }
          },
          "colorscale": {
           "diverging": [
            [
             0,
             "#8e0152"
            ],
            [
             0.1,
             "#c51b7d"
            ],
            [
             0.2,
             "#de77ae"
            ],
            [
             0.3,
             "#f1b6da"
            ],
            [
             0.4,
             "#fde0ef"
            ],
            [
             0.5,
             "#f7f7f7"
            ],
            [
             0.6,
             "#e6f5d0"
            ],
            [
             0.7,
             "#b8e186"
            ],
            [
             0.8,
             "#7fbc41"
            ],
            [
             0.9,
             "#4d9221"
            ],
            [
             1,
             "#276419"
            ]
           ],
           "sequential": [
            [
             0,
             "#0d0887"
            ],
            [
             0.1111111111111111,
             "#46039f"
            ],
            [
             0.2222222222222222,
             "#7201a8"
            ],
            [
             0.3333333333333333,
             "#9c179e"
            ],
            [
             0.4444444444444444,
             "#bd3786"
            ],
            [
             0.5555555555555556,
             "#d8576b"
            ],
            [
             0.6666666666666666,
             "#ed7953"
            ],
            [
             0.7777777777777778,
             "#fb9f3a"
            ],
            [
             0.8888888888888888,
             "#fdca26"
            ],
            [
             1,
             "#f0f921"
            ]
           ],
           "sequentialminus": [
            [
             0,
             "#0d0887"
            ],
            [
             0.1111111111111111,
             "#46039f"
            ],
            [
             0.2222222222222222,
             "#7201a8"
            ],
            [
             0.3333333333333333,
             "#9c179e"
            ],
            [
             0.4444444444444444,
             "#bd3786"
            ],
            [
             0.5555555555555556,
             "#d8576b"
            ],
            [
             0.6666666666666666,
             "#ed7953"
            ],
            [
             0.7777777777777778,
             "#fb9f3a"
            ],
            [
             0.8888888888888888,
             "#fdca26"
            ],
            [
             1,
             "#f0f921"
            ]
           ]
          },
          "colorway": [
           "#636efa",
           "#EF553B",
           "#00cc96",
           "#ab63fa",
           "#FFA15A",
           "#19d3f3",
           "#FF6692",
           "#B6E880",
           "#FF97FF",
           "#FECB52"
          ],
          "font": {
           "color": "#2a3f5f"
          },
          "geo": {
           "bgcolor": "white",
           "lakecolor": "white",
           "landcolor": "white",
           "showlakes": true,
           "showland": true,
           "subunitcolor": "#C8D4E3"
          },
          "hoverlabel": {
           "align": "left"
          },
          "hovermode": "closest",
          "mapbox": {
           "style": "light"
          },
          "paper_bgcolor": "white",
          "plot_bgcolor": "white",
          "polar": {
           "angularaxis": {
            "gridcolor": "#EBF0F8",
            "linecolor": "#EBF0F8",
            "ticks": ""
           },
           "bgcolor": "white",
           "radialaxis": {
            "gridcolor": "#EBF0F8",
            "linecolor": "#EBF0F8",
            "ticks": ""
           }
          },
          "scene": {
           "xaxis": {
            "backgroundcolor": "white",
            "gridcolor": "#DFE8F3",
            "gridwidth": 2,
            "linecolor": "#EBF0F8",
            "showbackground": true,
            "ticks": "",
            "zerolinecolor": "#EBF0F8"
           },
           "yaxis": {
            "backgroundcolor": "white",
            "gridcolor": "#DFE8F3",
            "gridwidth": 2,
            "linecolor": "#EBF0F8",
            "showbackground": true,
            "ticks": "",
            "zerolinecolor": "#EBF0F8"
           },
           "zaxis": {
            "backgroundcolor": "white",
            "gridcolor": "#DFE8F3",
            "gridwidth": 2,
            "linecolor": "#EBF0F8",
            "showbackground": true,
            "ticks": "",
            "zerolinecolor": "#EBF0F8"
           }
          },
          "shapedefaults": {
           "line": {
            "color": "#2a3f5f"
           }
          },
          "ternary": {
           "aaxis": {
            "gridcolor": "#DFE8F3",
            "linecolor": "#A2B1C6",
            "ticks": ""
           },
           "baxis": {
            "gridcolor": "#DFE8F3",
            "linecolor": "#A2B1C6",
            "ticks": ""
           },
           "bgcolor": "white",
           "caxis": {
            "gridcolor": "#DFE8F3",
            "linecolor": "#A2B1C6",
            "ticks": ""
           }
          },
          "title": {
           "x": 0.05
          },
          "xaxis": {
           "automargin": true,
           "gridcolor": "#EBF0F8",
           "linecolor": "#EBF0F8",
           "ticks": "",
           "title": {
            "standoff": 15
           },
           "zerolinecolor": "#EBF0F8",
           "zerolinewidth": 2
          },
          "yaxis": {
           "automargin": true,
           "gridcolor": "#EBF0F8",
           "linecolor": "#EBF0F8",
           "ticks": "",
           "title": {
            "standoff": 15
           },
           "zerolinecolor": "#EBF0F8",
           "zerolinewidth": 2
          }
         }
        },
        "title": {
         "text": "Comparison"
        },
        "xaxis": {
         "anchor": "y",
         "domain": [
          0,
          1
         ],
         "title": {
          "text": "Date"
         }
        },
        "yaxis": {
         "anchor": "x",
         "domain": [
          0,
          1
         ],
         "title": {
          "text": "Value (1000000 multiplier) "
         }
        }
       }
      }
     },
     "metadata": {},
     "output_type": "display_data"
    }
   ],
   "source": [
    "banks_bs_comp_change(reports = ['FRB_H8_large.csv', 'FRB_H8_small.csv'],\n",
    "bank_type = ['large domestically chartered commercial banks', 'small domestically chartered commercial banks'],\n",
    "sa = 'not seasonally adjusted',\n",
    "comp_criterias = ['Deposits', 'Borrowings'],\n",
    "last_x_days = 100)"
   ]
  },
  {
   "attachments": {},
   "cell_type": "markdown",
   "metadata": {},
   "source": [
    "## DEPOSITS"
   ]
  },
  {
   "cell_type": "code",
   "execution_count": 191,
   "metadata": {},
   "outputs": [
    {
     "data": {
      "application/vnd.plotly.v1+json": {
       "config": {
        "plotlyServerURL": "https://plot.ly"
       },
       "data": [
        {
         "alignmentgroup": "True",
         "hovertemplate": "variable=Deposits, large domestically chartered commercial banks, not seasonally adjusted<br>Series Description=%{x}<br>value=%{y}<extra></extra>",
         "legendgroup": "Deposits, large domestically chartered commercial banks, not seasonally adjusted",
         "marker": {
          "color": "#636efa",
          "pattern": {
           "shape": ""
          }
         },
         "name": "Deposits, large domestically chartered commercial banks, not seasonally adjusted",
         "offsetgroup": "Deposits, large domestically chartered commercial banks, not seasonally adjusted",
         "orientation": "v",
         "showlegend": true,
         "textposition": "auto",
         "type": "bar",
         "x": [
          "2021-06-02T00:00:00",
          "2021-06-09T00:00:00",
          "2021-06-16T00:00:00",
          "2021-06-23T00:00:00",
          "2021-06-30T00:00:00",
          "2021-07-07T00:00:00",
          "2021-07-14T00:00:00",
          "2021-07-21T00:00:00",
          "2021-07-28T00:00:00",
          "2021-08-04T00:00:00",
          "2021-08-11T00:00:00",
          "2021-08-18T00:00:00",
          "2021-08-25T00:00:00",
          "2021-09-01T00:00:00",
          "2021-09-08T00:00:00",
          "2021-09-15T00:00:00",
          "2021-09-22T00:00:00",
          "2021-09-29T00:00:00",
          "2021-10-06T00:00:00",
          "2021-10-13T00:00:00",
          "2021-10-20T00:00:00",
          "2021-10-27T00:00:00",
          "2021-11-03T00:00:00",
          "2021-11-10T00:00:00",
          "2021-11-17T00:00:00",
          "2021-11-24T00:00:00",
          "2021-12-01T00:00:00",
          "2021-12-08T00:00:00",
          "2021-12-15T00:00:00",
          "2021-12-22T00:00:00",
          "2021-12-29T00:00:00",
          "2022-01-05T00:00:00",
          "2022-01-12T00:00:00",
          "2022-01-19T00:00:00",
          "2022-01-26T00:00:00",
          "2022-02-02T00:00:00",
          "2022-02-09T00:00:00",
          "2022-02-16T00:00:00",
          "2022-02-23T00:00:00",
          "2022-03-02T00:00:00",
          "2022-03-09T00:00:00",
          "2022-03-16T00:00:00",
          "2022-03-23T00:00:00",
          "2022-03-30T00:00:00",
          "2022-04-06T00:00:00",
          "2022-04-13T00:00:00",
          "2022-04-20T00:00:00",
          "2022-04-27T00:00:00",
          "2022-05-04T00:00:00",
          "2022-05-11T00:00:00",
          "2022-05-18T00:00:00",
          "2022-05-25T00:00:00",
          "2022-06-01T00:00:00",
          "2022-06-08T00:00:00",
          "2022-06-15T00:00:00",
          "2022-06-22T00:00:00",
          "2022-06-29T00:00:00",
          "2022-07-06T00:00:00",
          "2022-07-13T00:00:00",
          "2022-07-20T00:00:00",
          "2022-07-27T00:00:00",
          "2022-08-03T00:00:00",
          "2022-08-10T00:00:00",
          "2022-08-17T00:00:00",
          "2022-08-24T00:00:00",
          "2022-08-31T00:00:00",
          "2022-09-07T00:00:00",
          "2022-09-14T00:00:00",
          "2022-09-21T00:00:00",
          "2022-09-28T00:00:00",
          "2022-10-05T00:00:00",
          "2022-10-12T00:00:00",
          "2022-10-19T00:00:00",
          "2022-10-26T00:00:00",
          "2022-11-02T00:00:00",
          "2022-11-09T00:00:00",
          "2022-11-16T00:00:00",
          "2022-11-23T00:00:00",
          "2022-11-30T00:00:00",
          "2022-12-07T00:00:00",
          "2022-12-14T00:00:00",
          "2022-12-21T00:00:00",
          "2022-12-28T00:00:00",
          "2023-01-04T00:00:00",
          "2023-01-11T00:00:00",
          "2023-01-18T00:00:00",
          "2023-01-25T00:00:00",
          "2023-02-01T00:00:00",
          "2023-02-08T00:00:00",
          "2023-02-15T00:00:00",
          "2023-02-22T00:00:00",
          "2023-03-01T00:00:00",
          "2023-03-08T00:00:00",
          "2023-03-15T00:00:00",
          "2023-03-22T00:00:00",
          "2023-03-29T00:00:00",
          "2023-04-05T00:00:00",
          "2023-04-12T00:00:00",
          "2023-04-19T00:00:00",
          "2023-04-26T00:00:00"
         ],
         "xaxis": "x",
         "y": [
          null,
          0.003823776138665631,
          -0.0002674269442886972,
          -0.008430794876123738,
          0.01168192824507225,
          0.0005620344424033247,
          0.003174287295363046,
          -0.003002230928066149,
          0.0007553649793435006,
          0.005579526905349546,
          0.002897105001826952,
          0.0024399909193983313,
          -0.0017971477376028935,
          0.01041483454019811,
          -0.0011847811082929354,
          0.003729204409068145,
          -0.010507903638730737,
          0.007786758729629758,
          0.00352185708424435,
          0.0031883646431620847,
          -0.005009297591354531,
          0.0017088131712891374,
          0.006857883686395349,
          0.0006351481701155315,
          0.005327058495131444,
          0.0012266473317117503,
          0.010656706546953484,
          -0.0021597190753553114,
          0.00953120882838484,
          0.0003743180586228249,
          0.000835621465321788,
          -0.0009114250480851882,
          -0.004322185843866118,
          -0.003352921503259721,
          -0.009065431279857586,
          0.0021353610440482122,
          -0.0009620206713774243,
          0.003703311065336364,
          0.0012840016441654537,
          0.008302245827980307,
          0.0026651299079183278,
          0.003064854594453882,
          -0.0057326738986373214,
          0.008011554787349776,
          0.002237220069145799,
          0.000680415373038097,
          -0.023705787301183452,
          0.000456416968122327,
          0.00023574195089766286,
          -0.0034101882830450494,
          -0.0004890688446115847,
          -0.0017562046549862086,
          0.008681637046658764,
          -0.008377688271699501,
          0.002443262342008162,
          -0.004954283316279894,
          0.005744651856390113,
          0.0007632345910146504,
          -0.001966875745074501,
          -0.004947271087358969,
          0.0034069087216327034,
          -0.0015054668309102408,
          0.0011495784880295342,
          -0.0008468230314260861,
          -0.005083010171644266,
          0.0041862165205076044,
          -0.0026187882251560725,
          -0.0014022393285661606,
          -0.007375539359779359,
          -0.0008335965858260411,
          -0.0029349805592535556,
          0.0015467272685122104,
          -0.007218713326729832,
          -0.0014840126495224983,
          0.0020117981268474474,
          -0.0011369023647998903,
          0.0046814775775646435,
          -0.0012143121104958104,
          0.0008596959480850135,
          0.0021623696611534063,
          0.005518310765796802,
          0.0019525663035911702,
          -0.0010732455216203847,
          -0.0014979198296428886,
          -0.009613880787560999,
          -0.0028723822860733544,
          -0.008335654449334954,
          0.0029315878438537263,
          -0.0074170788667974755,
          0.003445875487120223,
          -0.005508176570210332,
          0.00503553773217318,
          -0.0047705898861411895,
          0.010198267295724591,
          -0.008224751375602368,
          0.004142151142417193,
          0.002383816766982743,
          -0.0034768151551479547,
          -0.010634865112307903,
          -0.006661767296452288
         ],
         "yaxis": "y"
        },
        {
         "alignmentgroup": "True",
         "hovertemplate": "variable=Deposits, small domestically chartered commercial banks, not seasonally adjusted<br>Series Description=%{x}<br>value=%{y}<extra></extra>",
         "legendgroup": "Deposits, small domestically chartered commercial banks, not seasonally adjusted",
         "marker": {
          "color": "#EF553B",
          "pattern": {
           "shape": ""
          }
         },
         "name": "Deposits, small domestically chartered commercial banks, not seasonally adjusted",
         "offsetgroup": "Deposits, small domestically chartered commercial banks, not seasonally adjusted",
         "orientation": "v",
         "showlegend": true,
         "textposition": "auto",
         "type": "bar",
         "x": [
          "2021-06-02T00:00:00",
          "2021-06-09T00:00:00",
          "2021-06-16T00:00:00",
          "2021-06-23T00:00:00",
          "2021-06-30T00:00:00",
          "2021-07-07T00:00:00",
          "2021-07-14T00:00:00",
          "2021-07-21T00:00:00",
          "2021-07-28T00:00:00",
          "2021-08-04T00:00:00",
          "2021-08-11T00:00:00",
          "2021-08-18T00:00:00",
          "2021-08-25T00:00:00",
          "2021-09-01T00:00:00",
          "2021-09-08T00:00:00",
          "2021-09-15T00:00:00",
          "2021-09-22T00:00:00",
          "2021-09-29T00:00:00",
          "2021-10-06T00:00:00",
          "2021-10-13T00:00:00",
          "2021-10-20T00:00:00",
          "2021-10-27T00:00:00",
          "2021-11-03T00:00:00",
          "2021-11-10T00:00:00",
          "2021-11-17T00:00:00",
          "2021-11-24T00:00:00",
          "2021-12-01T00:00:00",
          "2021-12-08T00:00:00",
          "2021-12-15T00:00:00",
          "2021-12-22T00:00:00",
          "2021-12-29T00:00:00",
          "2022-01-05T00:00:00",
          "2022-01-12T00:00:00",
          "2022-01-19T00:00:00",
          "2022-01-26T00:00:00",
          "2022-02-02T00:00:00",
          "2022-02-09T00:00:00",
          "2022-02-16T00:00:00",
          "2022-02-23T00:00:00",
          "2022-03-02T00:00:00",
          "2022-03-09T00:00:00",
          "2022-03-16T00:00:00",
          "2022-03-23T00:00:00",
          "2022-03-30T00:00:00",
          "2022-04-06T00:00:00",
          "2022-04-13T00:00:00",
          "2022-04-20T00:00:00",
          "2022-04-27T00:00:00",
          "2022-05-04T00:00:00",
          "2022-05-11T00:00:00",
          "2022-05-18T00:00:00",
          "2022-05-25T00:00:00",
          "2022-06-01T00:00:00",
          "2022-06-08T00:00:00",
          "2022-06-15T00:00:00",
          "2022-06-22T00:00:00",
          "2022-06-29T00:00:00",
          "2022-07-06T00:00:00",
          "2022-07-13T00:00:00",
          "2022-07-20T00:00:00",
          "2022-07-27T00:00:00",
          "2022-08-03T00:00:00",
          "2022-08-10T00:00:00",
          "2022-08-17T00:00:00",
          "2022-08-24T00:00:00",
          "2022-08-31T00:00:00",
          "2022-09-07T00:00:00",
          "2022-09-14T00:00:00",
          "2022-09-21T00:00:00",
          "2022-09-28T00:00:00",
          "2022-10-05T00:00:00",
          "2022-10-12T00:00:00",
          "2022-10-19T00:00:00",
          "2022-10-26T00:00:00",
          "2022-11-02T00:00:00",
          "2022-11-09T00:00:00",
          "2022-11-16T00:00:00",
          "2022-11-23T00:00:00",
          "2022-11-30T00:00:00",
          "2022-12-07T00:00:00",
          "2022-12-14T00:00:00",
          "2022-12-21T00:00:00",
          "2022-12-28T00:00:00",
          "2023-01-04T00:00:00",
          "2023-01-11T00:00:00",
          "2023-01-18T00:00:00",
          "2023-01-25T00:00:00",
          "2023-02-01T00:00:00",
          "2023-02-08T00:00:00",
          "2023-02-15T00:00:00",
          "2023-02-22T00:00:00",
          "2023-03-01T00:00:00",
          "2023-03-08T00:00:00",
          "2023-03-15T00:00:00",
          "2023-03-22T00:00:00",
          "2023-03-29T00:00:00",
          "2023-04-05T00:00:00",
          "2023-04-12T00:00:00",
          "2023-04-19T00:00:00",
          "2023-04-26T00:00:00"
         ],
         "xaxis": "x",
         "y": [
          null,
          0.0030771041301587403,
          -0.0005065292398738388,
          -0.0063320848366502525,
          0.008180279228804651,
          -0.0006603006543136172,
          0.0023050744299151576,
          -0.002893513234191258,
          0.004895136414189642,
          0.004006329157679025,
          0.002242865009943203,
          0.0013449074954350701,
          0.0012329118221259636,
          0.007829616197259996,
          0.0009456610170509186,
          -0.000014147511255399913,
          -0.005361481150469189,
          0.0069672159637529036,
          0.0016970086773657822,
          0.0027176619902686923,
          -0.001420173057756983,
          0.0023972412702161195,
          0.008736681981624195,
          0.003246413950093185,
          0.006194591301195806,
          -0.00024671164069670244,
          0.005625822190957575,
          0.001284146483016032,
          0.004365223279668941,
          0.0013171622588804552,
          0.0013107307366071307,
          -0.004104005987140227,
          0.00023197575727965596,
          -0.0029506766094418995,
          -0.0037179295265314595,
          0.0024609016368220818,
          0.002115627409858463,
          -0.00013257894748494245,
          0.001638763221545458,
          0.0027423197296389747,
          0.0017239013708332874,
          0.00038451417300290765,
          -0.0027704113256940034,
          0.008876668543053393,
          0.0023795824390845407,
          0.0018539669511826809,
          -0.01018204234512048,
          -0.004477946054615311,
          0.0026712676533563796,
          -0.00046576489384556714,
          0.001215746848840924,
          -0.00044802579137168493,
          0.006324123136655202,
          0.00025423887061787234,
          0.0010593618985951152,
          -0.004019133239268535,
          0.0019800559225909187,
          -0.00015012955196859674,
          -0.00042226834113181204,
          -0.002782752136033482,
          -0.0005944815975412576,
          0.0029266041035342903,
          -0.00009435048323549478,
          0.00011350186686429219,
          -0.0013792863096783016,
          0.005173005681956387,
          -0.0002476784873569737,
          -0.0019316389257566528,
          -0.007152653023662059,
          0.0026209775356134477,
          0.0038004400629676137,
          -0.0008235005422119068,
          -0.003328768671570994,
          -0.00046428913187670514,
          0.0017799416076638508,
          0.0025386401008226553,
          0.0009101077105951785,
          -0.0035912187209460947,
          0.0008331306864990669,
          0.010956266664616389,
          0.0008170130140389083,
          -0.0022571931199114876,
          0.00002502756546391811,
          0.0006874824341954804,
          -0.00475316835150941,
          -0.001978072838999733,
          -0.006420797489681313,
          0.0028053574898627355,
          -0.0006420678004401219,
          0.000020723917246190787,
          -0.0008326293272359685,
          0.003778397298005855,
          -0.0008746191703315659,
          -0.02882848862541977,
          -0.007647367433922401,
          0.004296106525488834,
          0.004634923154056189,
          -0.0027864144409128345,
          -0.006592769544243855,
          -0.004357253116253892
         ],
         "yaxis": "y"
        }
       ],
       "layout": {
        "barmode": "relative",
        "legend": {
         "title": {
          "text": "Legend"
         },
         "tracegroupgap": 0
        },
        "margin": {
         "t": 60
        },
        "template": {
         "data": {
          "bar": [
           {
            "error_x": {
             "color": "#2a3f5f"
            },
            "error_y": {
             "color": "#2a3f5f"
            },
            "marker": {
             "line": {
              "color": "white",
              "width": 0.5
             },
             "pattern": {
              "fillmode": "overlay",
              "size": 10,
              "solidity": 0.2
             }
            },
            "type": "bar"
           }
          ],
          "barpolar": [
           {
            "marker": {
             "line": {
              "color": "white",
              "width": 0.5
             },
             "pattern": {
              "fillmode": "overlay",
              "size": 10,
              "solidity": 0.2
             }
            },
            "type": "barpolar"
           }
          ],
          "carpet": [
           {
            "aaxis": {
             "endlinecolor": "#2a3f5f",
             "gridcolor": "#C8D4E3",
             "linecolor": "#C8D4E3",
             "minorgridcolor": "#C8D4E3",
             "startlinecolor": "#2a3f5f"
            },
            "baxis": {
             "endlinecolor": "#2a3f5f",
             "gridcolor": "#C8D4E3",
             "linecolor": "#C8D4E3",
             "minorgridcolor": "#C8D4E3",
             "startlinecolor": "#2a3f5f"
            },
            "type": "carpet"
           }
          ],
          "choropleth": [
           {
            "colorbar": {
             "outlinewidth": 0,
             "ticks": ""
            },
            "type": "choropleth"
           }
          ],
          "contour": [
           {
            "colorbar": {
             "outlinewidth": 0,
             "ticks": ""
            },
            "colorscale": [
             [
              0,
              "#0d0887"
             ],
             [
              0.1111111111111111,
              "#46039f"
             ],
             [
              0.2222222222222222,
              "#7201a8"
             ],
             [
              0.3333333333333333,
              "#9c179e"
             ],
             [
              0.4444444444444444,
              "#bd3786"
             ],
             [
              0.5555555555555556,
              "#d8576b"
             ],
             [
              0.6666666666666666,
              "#ed7953"
             ],
             [
              0.7777777777777778,
              "#fb9f3a"
             ],
             [
              0.8888888888888888,
              "#fdca26"
             ],
             [
              1,
              "#f0f921"
             ]
            ],
            "type": "contour"
           }
          ],
          "contourcarpet": [
           {
            "colorbar": {
             "outlinewidth": 0,
             "ticks": ""
            },
            "type": "contourcarpet"
           }
          ],
          "heatmap": [
           {
            "colorbar": {
             "outlinewidth": 0,
             "ticks": ""
            },
            "colorscale": [
             [
              0,
              "#0d0887"
             ],
             [
              0.1111111111111111,
              "#46039f"
             ],
             [
              0.2222222222222222,
              "#7201a8"
             ],
             [
              0.3333333333333333,
              "#9c179e"
             ],
             [
              0.4444444444444444,
              "#bd3786"
             ],
             [
              0.5555555555555556,
              "#d8576b"
             ],
             [
              0.6666666666666666,
              "#ed7953"
             ],
             [
              0.7777777777777778,
              "#fb9f3a"
             ],
             [
              0.8888888888888888,
              "#fdca26"
             ],
             [
              1,
              "#f0f921"
             ]
            ],
            "type": "heatmap"
           }
          ],
          "heatmapgl": [
           {
            "colorbar": {
             "outlinewidth": 0,
             "ticks": ""
            },
            "colorscale": [
             [
              0,
              "#0d0887"
             ],
             [
              0.1111111111111111,
              "#46039f"
             ],
             [
              0.2222222222222222,
              "#7201a8"
             ],
             [
              0.3333333333333333,
              "#9c179e"
             ],
             [
              0.4444444444444444,
              "#bd3786"
             ],
             [
              0.5555555555555556,
              "#d8576b"
             ],
             [
              0.6666666666666666,
              "#ed7953"
             ],
             [
              0.7777777777777778,
              "#fb9f3a"
             ],
             [
              0.8888888888888888,
              "#fdca26"
             ],
             [
              1,
              "#f0f921"
             ]
            ],
            "type": "heatmapgl"
           }
          ],
          "histogram": [
           {
            "marker": {
             "pattern": {
              "fillmode": "overlay",
              "size": 10,
              "solidity": 0.2
             }
            },
            "type": "histogram"
           }
          ],
          "histogram2d": [
           {
            "colorbar": {
             "outlinewidth": 0,
             "ticks": ""
            },
            "colorscale": [
             [
              0,
              "#0d0887"
             ],
             [
              0.1111111111111111,
              "#46039f"
             ],
             [
              0.2222222222222222,
              "#7201a8"
             ],
             [
              0.3333333333333333,
              "#9c179e"
             ],
             [
              0.4444444444444444,
              "#bd3786"
             ],
             [
              0.5555555555555556,
              "#d8576b"
             ],
             [
              0.6666666666666666,
              "#ed7953"
             ],
             [
              0.7777777777777778,
              "#fb9f3a"
             ],
             [
              0.8888888888888888,
              "#fdca26"
             ],
             [
              1,
              "#f0f921"
             ]
            ],
            "type": "histogram2d"
           }
          ],
          "histogram2dcontour": [
           {
            "colorbar": {
             "outlinewidth": 0,
             "ticks": ""
            },
            "colorscale": [
             [
              0,
              "#0d0887"
             ],
             [
              0.1111111111111111,
              "#46039f"
             ],
             [
              0.2222222222222222,
              "#7201a8"
             ],
             [
              0.3333333333333333,
              "#9c179e"
             ],
             [
              0.4444444444444444,
              "#bd3786"
             ],
             [
              0.5555555555555556,
              "#d8576b"
             ],
             [
              0.6666666666666666,
              "#ed7953"
             ],
             [
              0.7777777777777778,
              "#fb9f3a"
             ],
             [
              0.8888888888888888,
              "#fdca26"
             ],
             [
              1,
              "#f0f921"
             ]
            ],
            "type": "histogram2dcontour"
           }
          ],
          "mesh3d": [
           {
            "colorbar": {
             "outlinewidth": 0,
             "ticks": ""
            },
            "type": "mesh3d"
           }
          ],
          "parcoords": [
           {
            "line": {
             "colorbar": {
              "outlinewidth": 0,
              "ticks": ""
             }
            },
            "type": "parcoords"
           }
          ],
          "pie": [
           {
            "automargin": true,
            "type": "pie"
           }
          ],
          "scatter": [
           {
            "fillpattern": {
             "fillmode": "overlay",
             "size": 10,
             "solidity": 0.2
            },
            "type": "scatter"
           }
          ],
          "scatter3d": [
           {
            "line": {
             "colorbar": {
              "outlinewidth": 0,
              "ticks": ""
             }
            },
            "marker": {
             "colorbar": {
              "outlinewidth": 0,
              "ticks": ""
             }
            },
            "type": "scatter3d"
           }
          ],
          "scattercarpet": [
           {
            "marker": {
             "colorbar": {
              "outlinewidth": 0,
              "ticks": ""
             }
            },
            "type": "scattercarpet"
           }
          ],
          "scattergeo": [
           {
            "marker": {
             "colorbar": {
              "outlinewidth": 0,
              "ticks": ""
             }
            },
            "type": "scattergeo"
           }
          ],
          "scattergl": [
           {
            "marker": {
             "colorbar": {
              "outlinewidth": 0,
              "ticks": ""
             }
            },
            "type": "scattergl"
           }
          ],
          "scattermapbox": [
           {
            "marker": {
             "colorbar": {
              "outlinewidth": 0,
              "ticks": ""
             }
            },
            "type": "scattermapbox"
           }
          ],
          "scatterpolar": [
           {
            "marker": {
             "colorbar": {
              "outlinewidth": 0,
              "ticks": ""
             }
            },
            "type": "scatterpolar"
           }
          ],
          "scatterpolargl": [
           {
            "marker": {
             "colorbar": {
              "outlinewidth": 0,
              "ticks": ""
             }
            },
            "type": "scatterpolargl"
           }
          ],
          "scatterternary": [
           {
            "marker": {
             "colorbar": {
              "outlinewidth": 0,
              "ticks": ""
             }
            },
            "type": "scatterternary"
           }
          ],
          "surface": [
           {
            "colorbar": {
             "outlinewidth": 0,
             "ticks": ""
            },
            "colorscale": [
             [
              0,
              "#0d0887"
             ],
             [
              0.1111111111111111,
              "#46039f"
             ],
             [
              0.2222222222222222,
              "#7201a8"
             ],
             [
              0.3333333333333333,
              "#9c179e"
             ],
             [
              0.4444444444444444,
              "#bd3786"
             ],
             [
              0.5555555555555556,
              "#d8576b"
             ],
             [
              0.6666666666666666,
              "#ed7953"
             ],
             [
              0.7777777777777778,
              "#fb9f3a"
             ],
             [
              0.8888888888888888,
              "#fdca26"
             ],
             [
              1,
              "#f0f921"
             ]
            ],
            "type": "surface"
           }
          ],
          "table": [
           {
            "cells": {
             "fill": {
              "color": "#EBF0F8"
             },
             "line": {
              "color": "white"
             }
            },
            "header": {
             "fill": {
              "color": "#C8D4E3"
             },
             "line": {
              "color": "white"
             }
            },
            "type": "table"
           }
          ]
         },
         "layout": {
          "annotationdefaults": {
           "arrowcolor": "#2a3f5f",
           "arrowhead": 0,
           "arrowwidth": 1
          },
          "autotypenumbers": "strict",
          "coloraxis": {
           "colorbar": {
            "outlinewidth": 0,
            "ticks": ""
           }
          },
          "colorscale": {
           "diverging": [
            [
             0,
             "#8e0152"
            ],
            [
             0.1,
             "#c51b7d"
            ],
            [
             0.2,
             "#de77ae"
            ],
            [
             0.3,
             "#f1b6da"
            ],
            [
             0.4,
             "#fde0ef"
            ],
            [
             0.5,
             "#f7f7f7"
            ],
            [
             0.6,
             "#e6f5d0"
            ],
            [
             0.7,
             "#b8e186"
            ],
            [
             0.8,
             "#7fbc41"
            ],
            [
             0.9,
             "#4d9221"
            ],
            [
             1,
             "#276419"
            ]
           ],
           "sequential": [
            [
             0,
             "#0d0887"
            ],
            [
             0.1111111111111111,
             "#46039f"
            ],
            [
             0.2222222222222222,
             "#7201a8"
            ],
            [
             0.3333333333333333,
             "#9c179e"
            ],
            [
             0.4444444444444444,
             "#bd3786"
            ],
            [
             0.5555555555555556,
             "#d8576b"
            ],
            [
             0.6666666666666666,
             "#ed7953"
            ],
            [
             0.7777777777777778,
             "#fb9f3a"
            ],
            [
             0.8888888888888888,
             "#fdca26"
            ],
            [
             1,
             "#f0f921"
            ]
           ],
           "sequentialminus": [
            [
             0,
             "#0d0887"
            ],
            [
             0.1111111111111111,
             "#46039f"
            ],
            [
             0.2222222222222222,
             "#7201a8"
            ],
            [
             0.3333333333333333,
             "#9c179e"
            ],
            [
             0.4444444444444444,
             "#bd3786"
            ],
            [
             0.5555555555555556,
             "#d8576b"
            ],
            [
             0.6666666666666666,
             "#ed7953"
            ],
            [
             0.7777777777777778,
             "#fb9f3a"
            ],
            [
             0.8888888888888888,
             "#fdca26"
            ],
            [
             1,
             "#f0f921"
            ]
           ]
          },
          "colorway": [
           "#636efa",
           "#EF553B",
           "#00cc96",
           "#ab63fa",
           "#FFA15A",
           "#19d3f3",
           "#FF6692",
           "#B6E880",
           "#FF97FF",
           "#FECB52"
          ],
          "font": {
           "color": "#2a3f5f"
          },
          "geo": {
           "bgcolor": "white",
           "lakecolor": "white",
           "landcolor": "white",
           "showlakes": true,
           "showland": true,
           "subunitcolor": "#C8D4E3"
          },
          "hoverlabel": {
           "align": "left"
          },
          "hovermode": "closest",
          "mapbox": {
           "style": "light"
          },
          "paper_bgcolor": "white",
          "plot_bgcolor": "white",
          "polar": {
           "angularaxis": {
            "gridcolor": "#EBF0F8",
            "linecolor": "#EBF0F8",
            "ticks": ""
           },
           "bgcolor": "white",
           "radialaxis": {
            "gridcolor": "#EBF0F8",
            "linecolor": "#EBF0F8",
            "ticks": ""
           }
          },
          "scene": {
           "xaxis": {
            "backgroundcolor": "white",
            "gridcolor": "#DFE8F3",
            "gridwidth": 2,
            "linecolor": "#EBF0F8",
            "showbackground": true,
            "ticks": "",
            "zerolinecolor": "#EBF0F8"
           },
           "yaxis": {
            "backgroundcolor": "white",
            "gridcolor": "#DFE8F3",
            "gridwidth": 2,
            "linecolor": "#EBF0F8",
            "showbackground": true,
            "ticks": "",
            "zerolinecolor": "#EBF0F8"
           },
           "zaxis": {
            "backgroundcolor": "white",
            "gridcolor": "#DFE8F3",
            "gridwidth": 2,
            "linecolor": "#EBF0F8",
            "showbackground": true,
            "ticks": "",
            "zerolinecolor": "#EBF0F8"
           }
          },
          "shapedefaults": {
           "line": {
            "color": "#2a3f5f"
           }
          },
          "ternary": {
           "aaxis": {
            "gridcolor": "#DFE8F3",
            "linecolor": "#A2B1C6",
            "ticks": ""
           },
           "baxis": {
            "gridcolor": "#DFE8F3",
            "linecolor": "#A2B1C6",
            "ticks": ""
           },
           "bgcolor": "white",
           "caxis": {
            "gridcolor": "#DFE8F3",
            "linecolor": "#A2B1C6",
            "ticks": ""
           }
          },
          "title": {
           "x": 0.05
          },
          "xaxis": {
           "automargin": true,
           "gridcolor": "#EBF0F8",
           "linecolor": "#EBF0F8",
           "ticks": "",
           "title": {
            "standoff": 15
           },
           "zerolinecolor": "#EBF0F8",
           "zerolinewidth": 2
          },
          "yaxis": {
           "automargin": true,
           "gridcolor": "#EBF0F8",
           "linecolor": "#EBF0F8",
           "ticks": "",
           "title": {
            "standoff": 15
           },
           "zerolinecolor": "#EBF0F8",
           "zerolinewidth": 2
          }
         }
        },
        "title": {
         "text": "Comparison, value divided by each bank's total liabilities"
        },
        "xaxis": {
         "anchor": "y",
         "domain": [
          0,
          1
         ],
         "title": {
          "text": "Date"
         }
        },
        "yaxis": {
         "anchor": "x",
         "domain": [
          0,
          1
         ],
         "title": {
          "text": "Value (1000000 multiplier) "
         }
        }
       }
      }
     },
     "metadata": {},
     "output_type": "display_data"
    }
   ],
   "source": [
    "banks_bs_comp_change_div(reports = ['FRB_H8_large.csv', 'FRB_H8_small.csv'],\n",
    "bank_type = ['large domestically chartered commercial banks', 'small domestically chartered commercial banks'],\n",
    "sa = 'not seasonally adjusted',\n",
    "comp_criterias = ['Deposits'],\n",
    "last_x_days = 100,\n",
    "divider= 'Total liabilities'\n",
    ")"
   ]
  },
  {
   "attachments": {},
   "cell_type": "markdown",
   "metadata": {},
   "source": [
    "# LOANS"
   ]
  },
  {
   "cell_type": "code",
   "execution_count": 192,
   "metadata": {},
   "outputs": [
    {
     "data": {
      "application/vnd.plotly.v1+json": {
       "config": {
        "plotlyServerURL": "https://plot.ly"
       },
       "data": [
        {
         "alignmentgroup": "True",
         "hovertemplate": "variable=Loans and leases in bank credit, large domestically chartered commercial banks, not seasonally adjusted<br>Series Description=%{x}<br>value=%{y}<extra></extra>",
         "legendgroup": "Loans and leases in bank credit, large domestically chartered commercial banks, not seasonally adjusted",
         "marker": {
          "color": "#636efa",
          "pattern": {
           "shape": ""
          }
         },
         "name": "Loans and leases in bank credit, large domestically chartered commercial banks, not seasonally adjusted",
         "offsetgroup": "Loans and leases in bank credit, large domestically chartered commercial banks, not seasonally adjusted",
         "orientation": "v",
         "showlegend": true,
         "textposition": "auto",
         "type": "bar",
         "x": [
          "2021-06-02T00:00:00",
          "2021-06-09T00:00:00",
          "2021-06-16T00:00:00",
          "2021-06-23T00:00:00",
          "2021-06-30T00:00:00",
          "2021-07-07T00:00:00",
          "2021-07-14T00:00:00",
          "2021-07-21T00:00:00",
          "2021-07-28T00:00:00",
          "2021-08-04T00:00:00",
          "2021-08-11T00:00:00",
          "2021-08-18T00:00:00",
          "2021-08-25T00:00:00",
          "2021-09-01T00:00:00",
          "2021-09-08T00:00:00",
          "2021-09-15T00:00:00",
          "2021-09-22T00:00:00",
          "2021-09-29T00:00:00",
          "2021-10-06T00:00:00",
          "2021-10-13T00:00:00",
          "2021-10-20T00:00:00",
          "2021-10-27T00:00:00",
          "2021-11-03T00:00:00",
          "2021-11-10T00:00:00",
          "2021-11-17T00:00:00",
          "2021-11-24T00:00:00",
          "2021-12-01T00:00:00",
          "2021-12-08T00:00:00",
          "2021-12-15T00:00:00",
          "2021-12-22T00:00:00",
          "2021-12-29T00:00:00",
          "2022-01-05T00:00:00",
          "2022-01-12T00:00:00",
          "2022-01-19T00:00:00",
          "2022-01-26T00:00:00",
          "2022-02-02T00:00:00",
          "2022-02-09T00:00:00",
          "2022-02-16T00:00:00",
          "2022-02-23T00:00:00",
          "2022-03-02T00:00:00",
          "2022-03-09T00:00:00",
          "2022-03-16T00:00:00",
          "2022-03-23T00:00:00",
          "2022-03-30T00:00:00",
          "2022-04-06T00:00:00",
          "2022-04-13T00:00:00",
          "2022-04-20T00:00:00",
          "2022-04-27T00:00:00",
          "2022-05-04T00:00:00",
          "2022-05-11T00:00:00",
          "2022-05-18T00:00:00",
          "2022-05-25T00:00:00",
          "2022-06-01T00:00:00",
          "2022-06-08T00:00:00",
          "2022-06-15T00:00:00",
          "2022-06-22T00:00:00",
          "2022-06-29T00:00:00",
          "2022-07-06T00:00:00",
          "2022-07-13T00:00:00",
          "2022-07-20T00:00:00",
          "2022-07-27T00:00:00",
          "2022-08-03T00:00:00",
          "2022-08-10T00:00:00",
          "2022-08-17T00:00:00",
          "2022-08-24T00:00:00",
          "2022-08-31T00:00:00",
          "2022-09-07T00:00:00",
          "2022-09-14T00:00:00",
          "2022-09-21T00:00:00",
          "2022-09-28T00:00:00",
          "2022-10-05T00:00:00",
          "2022-10-12T00:00:00",
          "2022-10-19T00:00:00",
          "2022-10-26T00:00:00",
          "2022-11-02T00:00:00",
          "2022-11-09T00:00:00",
          "2022-11-16T00:00:00",
          "2022-11-23T00:00:00",
          "2022-11-30T00:00:00",
          "2022-12-07T00:00:00",
          "2022-12-14T00:00:00",
          "2022-12-21T00:00:00",
          "2022-12-28T00:00:00",
          "2023-01-04T00:00:00",
          "2023-01-11T00:00:00",
          "2023-01-18T00:00:00",
          "2023-01-25T00:00:00",
          "2023-02-01T00:00:00",
          "2023-02-08T00:00:00",
          "2023-02-15T00:00:00",
          "2023-02-22T00:00:00",
          "2023-03-01T00:00:00",
          "2023-03-08T00:00:00",
          "2023-03-15T00:00:00",
          "2023-03-22T00:00:00",
          "2023-03-29T00:00:00",
          "2023-04-05T00:00:00",
          "2023-04-12T00:00:00",
          "2023-04-19T00:00:00",
          "2023-04-26T00:00:00"
         ],
         "xaxis": "x",
         "y": [
          0.6009824091085985,
          0.6015235569723953,
          0.6029625867420284,
          0.6030458376573008,
          0.602948888884962,
          0.6036021455525303,
          0.6033162085532574,
          0.6034351791454127,
          0.6041102288067173,
          0.6046527507162164,
          0.6048904376206699,
          0.6044680845527372,
          0.6042560143718029,
          0.6050505655286346,
          0.6050323851016501,
          0.6048171817998934,
          0.6051067043433002,
          0.6049765136217273,
          0.6049478367573606,
          0.6055319800417154,
          0.6052571787520277,
          0.6056694995453786,
          0.6061343588750602,
          0.605777611334013,
          0.6053797853320472,
          0.6056302107273823,
          0.6064593808168223,
          0.6067116977504443,
          0.6075704192599962,
          0.6076495368807264,
          0.6081824911689327,
          0.6083133198191049,
          0.6082169865249396,
          0.6077647275771602,
          0.6077040810202959,
          0.6075040618069484,
          0.6075619158766753,
          0.607731747271948,
          0.607331675968209,
          0.6077520085884264,
          0.6076822289192734,
          0.6074612881500803,
          0.6078013011801625,
          0.6073384219113306,
          0.6068463855567655,
          0.6070012498114148,
          0.6068513151573572,
          0.6067460036570832,
          0.6066721051389363,
          0.6069418009330224,
          0.6062243956259348,
          0.6065857981621452,
          0.6069437215611505,
          0.6066016745421154,
          0.6058667271677002,
          0.6062122476497848,
          0.6058507256978639,
          0.6052385158120173,
          0.6052046333309307,
          0.6048509341729301,
          0.6045716571697677,
          0.6046460622361028,
          0.6044763768608574,
          0.6037945529451836,
          0.6032451129690721,
          0.602403778809624,
          0.601998957385255,
          0.6017259412512947,
          0.6018081434274434,
          0.6012994881684396,
          0.6010625860182931,
          0.6010190195269866,
          0.6004640724867772,
          0.6002618231920447,
          0.6001825432758939,
          0.6000015020022242,
          0.6006883708611617,
          0.6003684595667254,
          0.6003647259763633,
          0.5964960917729392,
          0.5964512128658037,
          0.5961394219224028,
          0.5951850643222818,
          0.5946452316613657,
          0.5939646221109984,
          0.5937515486675314,
          0.5935237144338102,
          0.5935142006859616,
          0.5932678396655742,
          0.5929008485652928,
          0.5927252436227038,
          0.5924830435990608,
          0.5921197445441002,
          0.5916569517890488,
          0.593704082967389,
          0.5955034818890294,
          0.5957264832391277,
          0.595541367437124,
          0.5952765488720871,
          0.5937840689703969
         ],
         "yaxis": "y"
        },
        {
         "alignmentgroup": "True",
         "hovertemplate": "variable=Loans and leases in bank credit, small domestically chartered commercial banks, not seasonally adjusted<br>Series Description=%{x}<br>value=%{y}<extra></extra>",
         "legendgroup": "Loans and leases in bank credit, small domestically chartered commercial banks, not seasonally adjusted",
         "marker": {
          "color": "#EF553B",
          "pattern": {
           "shape": ""
          }
         },
         "name": "Loans and leases in bank credit, small domestically chartered commercial banks, not seasonally adjusted",
         "offsetgroup": "Loans and leases in bank credit, small domestically chartered commercial banks, not seasonally adjusted",
         "orientation": "v",
         "showlegend": true,
         "textposition": "auto",
         "type": "bar",
         "x": [
          "2021-06-02T00:00:00",
          "2021-06-09T00:00:00",
          "2021-06-16T00:00:00",
          "2021-06-23T00:00:00",
          "2021-06-30T00:00:00",
          "2021-07-07T00:00:00",
          "2021-07-14T00:00:00",
          "2021-07-21T00:00:00",
          "2021-07-28T00:00:00",
          "2021-08-04T00:00:00",
          "2021-08-11T00:00:00",
          "2021-08-18T00:00:00",
          "2021-08-25T00:00:00",
          "2021-09-01T00:00:00",
          "2021-09-08T00:00:00",
          "2021-09-15T00:00:00",
          "2021-09-22T00:00:00",
          "2021-09-29T00:00:00",
          "2021-10-06T00:00:00",
          "2021-10-13T00:00:00",
          "2021-10-20T00:00:00",
          "2021-10-27T00:00:00",
          "2021-11-03T00:00:00",
          "2021-11-10T00:00:00",
          "2021-11-17T00:00:00",
          "2021-11-24T00:00:00",
          "2021-12-01T00:00:00",
          "2021-12-08T00:00:00",
          "2021-12-15T00:00:00",
          "2021-12-22T00:00:00",
          "2021-12-29T00:00:00",
          "2022-01-05T00:00:00",
          "2022-01-12T00:00:00",
          "2022-01-19T00:00:00",
          "2022-01-26T00:00:00",
          "2022-02-02T00:00:00",
          "2022-02-09T00:00:00",
          "2022-02-16T00:00:00",
          "2022-02-23T00:00:00",
          "2022-03-02T00:00:00",
          "2022-03-09T00:00:00",
          "2022-03-16T00:00:00",
          "2022-03-23T00:00:00",
          "2022-03-30T00:00:00",
          "2022-04-06T00:00:00",
          "2022-04-13T00:00:00",
          "2022-04-20T00:00:00",
          "2022-04-27T00:00:00",
          "2022-05-04T00:00:00",
          "2022-05-11T00:00:00",
          "2022-05-18T00:00:00",
          "2022-05-25T00:00:00",
          "2022-06-01T00:00:00",
          "2022-06-08T00:00:00",
          "2022-06-15T00:00:00",
          "2022-06-22T00:00:00",
          "2022-06-29T00:00:00",
          "2022-07-06T00:00:00",
          "2022-07-13T00:00:00",
          "2022-07-20T00:00:00",
          "2022-07-27T00:00:00",
          "2022-08-03T00:00:00",
          "2022-08-10T00:00:00",
          "2022-08-17T00:00:00",
          "2022-08-24T00:00:00",
          "2022-08-31T00:00:00",
          "2022-09-07T00:00:00",
          "2022-09-14T00:00:00",
          "2022-09-21T00:00:00",
          "2022-09-28T00:00:00",
          "2022-10-05T00:00:00",
          "2022-10-12T00:00:00",
          "2022-10-19T00:00:00",
          "2022-10-26T00:00:00",
          "2022-11-02T00:00:00",
          "2022-11-09T00:00:00",
          "2022-11-16T00:00:00",
          "2022-11-23T00:00:00",
          "2022-11-30T00:00:00",
          "2022-12-07T00:00:00",
          "2022-12-14T00:00:00",
          "2022-12-21T00:00:00",
          "2022-12-28T00:00:00",
          "2023-01-04T00:00:00",
          "2023-01-11T00:00:00",
          "2023-01-18T00:00:00",
          "2023-01-25T00:00:00",
          "2023-02-01T00:00:00",
          "2023-02-08T00:00:00",
          "2023-02-15T00:00:00",
          "2023-02-22T00:00:00",
          "2023-03-01T00:00:00",
          "2023-03-08T00:00:00",
          "2023-03-15T00:00:00",
          "2023-03-22T00:00:00",
          "2023-03-29T00:00:00",
          "2023-04-05T00:00:00",
          "2023-04-12T00:00:00",
          "2023-04-19T00:00:00",
          "2023-04-26T00:00:00"
         ],
         "xaxis": "x",
         "y": [
          0.3990175908914015,
          0.39847644302760465,
          0.3970374132579716,
          0.3969541623426992,
          0.39705111111503794,
          0.39639785444746967,
          0.3966837914467426,
          0.39656482085458733,
          0.3958897711932828,
          0.3953472492837836,
          0.39510956237933015,
          0.3955319154472628,
          0.3957439856281972,
          0.3949494344713655,
          0.3949676148983498,
          0.39518281820010664,
          0.3948932956566999,
          0.3950234863782727,
          0.3950521632426394,
          0.3944680199582847,
          0.3947428212479724,
          0.39433050045462137,
          0.3938656411249398,
          0.39422238866598697,
          0.39462021466795283,
          0.3943697892726177,
          0.3935406191831777,
          0.39328830224955563,
          0.3924295807400038,
          0.3923504631192736,
          0.39181750883106725,
          0.3916866801808951,
          0.3917830134750604,
          0.39223527242283984,
          0.39229591897970406,
          0.3924959381930516,
          0.39243808412332476,
          0.39226825272805205,
          0.39266832403179097,
          0.3922479914115736,
          0.39231777108072663,
          0.3925387118499197,
          0.3921986988198374,
          0.39266157808866947,
          0.39315361444323443,
          0.39299875018858527,
          0.3931486848426427,
          0.3932539963429168,
          0.39332789486106357,
          0.39305819906697764,
          0.39377560437406517,
          0.3934142018378548,
          0.39305627843884944,
          0.39339832545788456,
          0.3941332728322999,
          0.3937877523502152,
          0.39414927430213603,
          0.39476148418798274,
          0.3947953666690693,
          0.3951490658270699,
          0.3954283428302324,
          0.39535393776389716,
          0.3955236231391426,
          0.3962054470548164,
          0.3967548870309278,
          0.39759622119037596,
          0.39800104261474506,
          0.39827405874870525,
          0.3981918565725567,
          0.3987005118315604,
          0.39893741398170696,
          0.3989809804730135,
          0.39953592751322276,
          0.39973817680795537,
          0.39981745672410607,
          0.3999984979977757,
          0.39931162913883833,
          0.3996315404332746,
          0.39963527402363674,
          0.40350390822706084,
          0.40354878713419623,
          0.40386057807759723,
          0.40481493567771826,
          0.40535476833863426,
          0.4060353778890015,
          0.4062484513324685,
          0.40647628556618975,
          0.40648579931403833,
          0.40673216033442583,
          0.40709915143470726,
          0.40727475637729615,
          0.4075169564009392,
          0.4078802554558998,
          0.4083430482109512,
          0.4062959170326111,
          0.4044965181109707,
          0.40427351676087236,
          0.404458632562876,
          0.4047234511279129,
          0.4062159310296031
         ],
         "yaxis": "y"
        }
       ],
       "layout": {
        "barmode": "relative",
        "legend": {
         "title": {
          "text": "Legend"
         },
         "tracegroupgap": 0
        },
        "margin": {
         "t": 60
        },
        "template": {
         "data": {
          "bar": [
           {
            "error_x": {
             "color": "#2a3f5f"
            },
            "error_y": {
             "color": "#2a3f5f"
            },
            "marker": {
             "line": {
              "color": "white",
              "width": 0.5
             },
             "pattern": {
              "fillmode": "overlay",
              "size": 10,
              "solidity": 0.2
             }
            },
            "type": "bar"
           }
          ],
          "barpolar": [
           {
            "marker": {
             "line": {
              "color": "white",
              "width": 0.5
             },
             "pattern": {
              "fillmode": "overlay",
              "size": 10,
              "solidity": 0.2
             }
            },
            "type": "barpolar"
           }
          ],
          "carpet": [
           {
            "aaxis": {
             "endlinecolor": "#2a3f5f",
             "gridcolor": "#C8D4E3",
             "linecolor": "#C8D4E3",
             "minorgridcolor": "#C8D4E3",
             "startlinecolor": "#2a3f5f"
            },
            "baxis": {
             "endlinecolor": "#2a3f5f",
             "gridcolor": "#C8D4E3",
             "linecolor": "#C8D4E3",
             "minorgridcolor": "#C8D4E3",
             "startlinecolor": "#2a3f5f"
            },
            "type": "carpet"
           }
          ],
          "choropleth": [
           {
            "colorbar": {
             "outlinewidth": 0,
             "ticks": ""
            },
            "type": "choropleth"
           }
          ],
          "contour": [
           {
            "colorbar": {
             "outlinewidth": 0,
             "ticks": ""
            },
            "colorscale": [
             [
              0,
              "#0d0887"
             ],
             [
              0.1111111111111111,
              "#46039f"
             ],
             [
              0.2222222222222222,
              "#7201a8"
             ],
             [
              0.3333333333333333,
              "#9c179e"
             ],
             [
              0.4444444444444444,
              "#bd3786"
             ],
             [
              0.5555555555555556,
              "#d8576b"
             ],
             [
              0.6666666666666666,
              "#ed7953"
             ],
             [
              0.7777777777777778,
              "#fb9f3a"
             ],
             [
              0.8888888888888888,
              "#fdca26"
             ],
             [
              1,
              "#f0f921"
             ]
            ],
            "type": "contour"
           }
          ],
          "contourcarpet": [
           {
            "colorbar": {
             "outlinewidth": 0,
             "ticks": ""
            },
            "type": "contourcarpet"
           }
          ],
          "heatmap": [
           {
            "colorbar": {
             "outlinewidth": 0,
             "ticks": ""
            },
            "colorscale": [
             [
              0,
              "#0d0887"
             ],
             [
              0.1111111111111111,
              "#46039f"
             ],
             [
              0.2222222222222222,
              "#7201a8"
             ],
             [
              0.3333333333333333,
              "#9c179e"
             ],
             [
              0.4444444444444444,
              "#bd3786"
             ],
             [
              0.5555555555555556,
              "#d8576b"
             ],
             [
              0.6666666666666666,
              "#ed7953"
             ],
             [
              0.7777777777777778,
              "#fb9f3a"
             ],
             [
              0.8888888888888888,
              "#fdca26"
             ],
             [
              1,
              "#f0f921"
             ]
            ],
            "type": "heatmap"
           }
          ],
          "heatmapgl": [
           {
            "colorbar": {
             "outlinewidth": 0,
             "ticks": ""
            },
            "colorscale": [
             [
              0,
              "#0d0887"
             ],
             [
              0.1111111111111111,
              "#46039f"
             ],
             [
              0.2222222222222222,
              "#7201a8"
             ],
             [
              0.3333333333333333,
              "#9c179e"
             ],
             [
              0.4444444444444444,
              "#bd3786"
             ],
             [
              0.5555555555555556,
              "#d8576b"
             ],
             [
              0.6666666666666666,
              "#ed7953"
             ],
             [
              0.7777777777777778,
              "#fb9f3a"
             ],
             [
              0.8888888888888888,
              "#fdca26"
             ],
             [
              1,
              "#f0f921"
             ]
            ],
            "type": "heatmapgl"
           }
          ],
          "histogram": [
           {
            "marker": {
             "pattern": {
              "fillmode": "overlay",
              "size": 10,
              "solidity": 0.2
             }
            },
            "type": "histogram"
           }
          ],
          "histogram2d": [
           {
            "colorbar": {
             "outlinewidth": 0,
             "ticks": ""
            },
            "colorscale": [
             [
              0,
              "#0d0887"
             ],
             [
              0.1111111111111111,
              "#46039f"
             ],
             [
              0.2222222222222222,
              "#7201a8"
             ],
             [
              0.3333333333333333,
              "#9c179e"
             ],
             [
              0.4444444444444444,
              "#bd3786"
             ],
             [
              0.5555555555555556,
              "#d8576b"
             ],
             [
              0.6666666666666666,
              "#ed7953"
             ],
             [
              0.7777777777777778,
              "#fb9f3a"
             ],
             [
              0.8888888888888888,
              "#fdca26"
             ],
             [
              1,
              "#f0f921"
             ]
            ],
            "type": "histogram2d"
           }
          ],
          "histogram2dcontour": [
           {
            "colorbar": {
             "outlinewidth": 0,
             "ticks": ""
            },
            "colorscale": [
             [
              0,
              "#0d0887"
             ],
             [
              0.1111111111111111,
              "#46039f"
             ],
             [
              0.2222222222222222,
              "#7201a8"
             ],
             [
              0.3333333333333333,
              "#9c179e"
             ],
             [
              0.4444444444444444,
              "#bd3786"
             ],
             [
              0.5555555555555556,
              "#d8576b"
             ],
             [
              0.6666666666666666,
              "#ed7953"
             ],
             [
              0.7777777777777778,
              "#fb9f3a"
             ],
             [
              0.8888888888888888,
              "#fdca26"
             ],
             [
              1,
              "#f0f921"
             ]
            ],
            "type": "histogram2dcontour"
           }
          ],
          "mesh3d": [
           {
            "colorbar": {
             "outlinewidth": 0,
             "ticks": ""
            },
            "type": "mesh3d"
           }
          ],
          "parcoords": [
           {
            "line": {
             "colorbar": {
              "outlinewidth": 0,
              "ticks": ""
             }
            },
            "type": "parcoords"
           }
          ],
          "pie": [
           {
            "automargin": true,
            "type": "pie"
           }
          ],
          "scatter": [
           {
            "fillpattern": {
             "fillmode": "overlay",
             "size": 10,
             "solidity": 0.2
            },
            "type": "scatter"
           }
          ],
          "scatter3d": [
           {
            "line": {
             "colorbar": {
              "outlinewidth": 0,
              "ticks": ""
             }
            },
            "marker": {
             "colorbar": {
              "outlinewidth": 0,
              "ticks": ""
             }
            },
            "type": "scatter3d"
           }
          ],
          "scattercarpet": [
           {
            "marker": {
             "colorbar": {
              "outlinewidth": 0,
              "ticks": ""
             }
            },
            "type": "scattercarpet"
           }
          ],
          "scattergeo": [
           {
            "marker": {
             "colorbar": {
              "outlinewidth": 0,
              "ticks": ""
             }
            },
            "type": "scattergeo"
           }
          ],
          "scattergl": [
           {
            "marker": {
             "colorbar": {
              "outlinewidth": 0,
              "ticks": ""
             }
            },
            "type": "scattergl"
           }
          ],
          "scattermapbox": [
           {
            "marker": {
             "colorbar": {
              "outlinewidth": 0,
              "ticks": ""
             }
            },
            "type": "scattermapbox"
           }
          ],
          "scatterpolar": [
           {
            "marker": {
             "colorbar": {
              "outlinewidth": 0,
              "ticks": ""
             }
            },
            "type": "scatterpolar"
           }
          ],
          "scatterpolargl": [
           {
            "marker": {
             "colorbar": {
              "outlinewidth": 0,
              "ticks": ""
             }
            },
            "type": "scatterpolargl"
           }
          ],
          "scatterternary": [
           {
            "marker": {
             "colorbar": {
              "outlinewidth": 0,
              "ticks": ""
             }
            },
            "type": "scatterternary"
           }
          ],
          "surface": [
           {
            "colorbar": {
             "outlinewidth": 0,
             "ticks": ""
            },
            "colorscale": [
             [
              0,
              "#0d0887"
             ],
             [
              0.1111111111111111,
              "#46039f"
             ],
             [
              0.2222222222222222,
              "#7201a8"
             ],
             [
              0.3333333333333333,
              "#9c179e"
             ],
             [
              0.4444444444444444,
              "#bd3786"
             ],
             [
              0.5555555555555556,
              "#d8576b"
             ],
             [
              0.6666666666666666,
              "#ed7953"
             ],
             [
              0.7777777777777778,
              "#fb9f3a"
             ],
             [
              0.8888888888888888,
              "#fdca26"
             ],
             [
              1,
              "#f0f921"
             ]
            ],
            "type": "surface"
           }
          ],
          "table": [
           {
            "cells": {
             "fill": {
              "color": "#EBF0F8"
             },
             "line": {
              "color": "white"
             }
            },
            "header": {
             "fill": {
              "color": "#C8D4E3"
             },
             "line": {
              "color": "white"
             }
            },
            "type": "table"
           }
          ]
         },
         "layout": {
          "annotationdefaults": {
           "arrowcolor": "#2a3f5f",
           "arrowhead": 0,
           "arrowwidth": 1
          },
          "autotypenumbers": "strict",
          "coloraxis": {
           "colorbar": {
            "outlinewidth": 0,
            "ticks": ""
           }
          },
          "colorscale": {
           "diverging": [
            [
             0,
             "#8e0152"
            ],
            [
             0.1,
             "#c51b7d"
            ],
            [
             0.2,
             "#de77ae"
            ],
            [
             0.3,
             "#f1b6da"
            ],
            [
             0.4,
             "#fde0ef"
            ],
            [
             0.5,
             "#f7f7f7"
            ],
            [
             0.6,
             "#e6f5d0"
            ],
            [
             0.7,
             "#b8e186"
            ],
            [
             0.8,
             "#7fbc41"
            ],
            [
             0.9,
             "#4d9221"
            ],
            [
             1,
             "#276419"
            ]
           ],
           "sequential": [
            [
             0,
             "#0d0887"
            ],
            [
             0.1111111111111111,
             "#46039f"
            ],
            [
             0.2222222222222222,
             "#7201a8"
            ],
            [
             0.3333333333333333,
             "#9c179e"
            ],
            [
             0.4444444444444444,
             "#bd3786"
            ],
            [
             0.5555555555555556,
             "#d8576b"
            ],
            [
             0.6666666666666666,
             "#ed7953"
            ],
            [
             0.7777777777777778,
             "#fb9f3a"
            ],
            [
             0.8888888888888888,
             "#fdca26"
            ],
            [
             1,
             "#f0f921"
            ]
           ],
           "sequentialminus": [
            [
             0,
             "#0d0887"
            ],
            [
             0.1111111111111111,
             "#46039f"
            ],
            [
             0.2222222222222222,
             "#7201a8"
            ],
            [
             0.3333333333333333,
             "#9c179e"
            ],
            [
             0.4444444444444444,
             "#bd3786"
            ],
            [
             0.5555555555555556,
             "#d8576b"
            ],
            [
             0.6666666666666666,
             "#ed7953"
            ],
            [
             0.7777777777777778,
             "#fb9f3a"
            ],
            [
             0.8888888888888888,
             "#fdca26"
            ],
            [
             1,
             "#f0f921"
            ]
           ]
          },
          "colorway": [
           "#636efa",
           "#EF553B",
           "#00cc96",
           "#ab63fa",
           "#FFA15A",
           "#19d3f3",
           "#FF6692",
           "#B6E880",
           "#FF97FF",
           "#FECB52"
          ],
          "font": {
           "color": "#2a3f5f"
          },
          "geo": {
           "bgcolor": "white",
           "lakecolor": "white",
           "landcolor": "white",
           "showlakes": true,
           "showland": true,
           "subunitcolor": "#C8D4E3"
          },
          "hoverlabel": {
           "align": "left"
          },
          "hovermode": "closest",
          "mapbox": {
           "style": "light"
          },
          "paper_bgcolor": "white",
          "plot_bgcolor": "white",
          "polar": {
           "angularaxis": {
            "gridcolor": "#EBF0F8",
            "linecolor": "#EBF0F8",
            "ticks": ""
           },
           "bgcolor": "white",
           "radialaxis": {
            "gridcolor": "#EBF0F8",
            "linecolor": "#EBF0F8",
            "ticks": ""
           }
          },
          "scene": {
           "xaxis": {
            "backgroundcolor": "white",
            "gridcolor": "#DFE8F3",
            "gridwidth": 2,
            "linecolor": "#EBF0F8",
            "showbackground": true,
            "ticks": "",
            "zerolinecolor": "#EBF0F8"
           },
           "yaxis": {
            "backgroundcolor": "white",
            "gridcolor": "#DFE8F3",
            "gridwidth": 2,
            "linecolor": "#EBF0F8",
            "showbackground": true,
            "ticks": "",
            "zerolinecolor": "#EBF0F8"
           },
           "zaxis": {
            "backgroundcolor": "white",
            "gridcolor": "#DFE8F3",
            "gridwidth": 2,
            "linecolor": "#EBF0F8",
            "showbackground": true,
            "ticks": "",
            "zerolinecolor": "#EBF0F8"
           }
          },
          "shapedefaults": {
           "line": {
            "color": "#2a3f5f"
           }
          },
          "ternary": {
           "aaxis": {
            "gridcolor": "#DFE8F3",
            "linecolor": "#A2B1C6",
            "ticks": ""
           },
           "baxis": {
            "gridcolor": "#DFE8F3",
            "linecolor": "#A2B1C6",
            "ticks": ""
           },
           "bgcolor": "white",
           "caxis": {
            "gridcolor": "#DFE8F3",
            "linecolor": "#A2B1C6",
            "ticks": ""
           }
          },
          "title": {
           "x": 0.05
          },
          "xaxis": {
           "automargin": true,
           "gridcolor": "#EBF0F8",
           "linecolor": "#EBF0F8",
           "ticks": "",
           "title": {
            "standoff": 15
           },
           "zerolinecolor": "#EBF0F8",
           "zerolinewidth": 2
          },
          "yaxis": {
           "automargin": true,
           "gridcolor": "#EBF0F8",
           "linecolor": "#EBF0F8",
           "ticks": "",
           "title": {
            "standoff": 15
           },
           "zerolinecolor": "#EBF0F8",
           "zerolinewidth": 2
          }
         }
        },
        "title": {
         "text": "Comparison"
        },
        "xaxis": {
         "anchor": "y",
         "domain": [
          0,
          1
         ],
         "title": {
          "text": "Date"
         }
        },
        "yaxis": {
         "anchor": "x",
         "domain": [
          0,
          1
         ],
         "title": {
          "text": "Value (1000000 multiplier) "
         }
        }
       }
      }
     },
     "metadata": {},
     "output_type": "display_data"
    }
   ],
   "source": [
    "banks_bs_comp_percent(reports = ['FRB_H8_large.csv', 'FRB_H8_small.csv'],\n",
    "bank_type = ['large domestically chartered commercial banks', 'small domestically chartered commercial banks'],\n",
    "sa = 'not seasonally adjusted',\n",
    "comp_criterias = ['Loans and leases in bank credit'],\n",
    "last_x_days = 100,)"
   ]
  },
  {
   "attachments": {},
   "cell_type": "markdown",
   "metadata": {},
   "source": [
    "## REAL ESTATE LOANS \n",
    "Looking at real estate we can see that small banks give out slightley more than 50% of real estate loans BUT we can see that for small banks real estate loans represent a far larger portion of their assets compared to large banks where real estate loans are a smaller percentage of assets"
   ]
  },
  {
   "cell_type": "code",
   "execution_count": 193,
   "metadata": {},
   "outputs": [
    {
     "data": {
      "application/vnd.plotly.v1+json": {
       "config": {
        "plotlyServerURL": "https://plot.ly"
       },
       "data": [
        {
         "alignmentgroup": "True",
         "hovertemplate": "variable=Real estate loans, large domestically chartered commercial banks, not seasonally adjusted<br>Series Description=%{x}<br>value=%{y}<extra></extra>",
         "legendgroup": "Real estate loans, large domestically chartered commercial banks, not seasonally adjusted",
         "marker": {
          "color": "#636efa",
          "pattern": {
           "shape": ""
          }
         },
         "name": "Real estate loans, large domestically chartered commercial banks, not seasonally adjusted",
         "offsetgroup": "Real estate loans, large domestically chartered commercial banks, not seasonally adjusted",
         "orientation": "v",
         "showlegend": true,
         "textposition": "auto",
         "type": "bar",
         "x": [
          "2021-06-02T00:00:00",
          "2021-06-09T00:00:00",
          "2021-06-16T00:00:00",
          "2021-06-23T00:00:00",
          "2021-06-30T00:00:00",
          "2021-07-07T00:00:00",
          "2021-07-14T00:00:00",
          "2021-07-21T00:00:00",
          "2021-07-28T00:00:00",
          "2021-08-04T00:00:00",
          "2021-08-11T00:00:00",
          "2021-08-18T00:00:00",
          "2021-08-25T00:00:00",
          "2021-09-01T00:00:00",
          "2021-09-08T00:00:00",
          "2021-09-15T00:00:00",
          "2021-09-22T00:00:00",
          "2021-09-29T00:00:00",
          "2021-10-06T00:00:00",
          "2021-10-13T00:00:00",
          "2021-10-20T00:00:00",
          "2021-10-27T00:00:00",
          "2021-11-03T00:00:00",
          "2021-11-10T00:00:00",
          "2021-11-17T00:00:00",
          "2021-11-24T00:00:00",
          "2021-12-01T00:00:00",
          "2021-12-08T00:00:00",
          "2021-12-15T00:00:00",
          "2021-12-22T00:00:00",
          "2021-12-29T00:00:00",
          "2022-01-05T00:00:00",
          "2022-01-12T00:00:00",
          "2022-01-19T00:00:00",
          "2022-01-26T00:00:00",
          "2022-02-02T00:00:00",
          "2022-02-09T00:00:00",
          "2022-02-16T00:00:00",
          "2022-02-23T00:00:00",
          "2022-03-02T00:00:00",
          "2022-03-09T00:00:00",
          "2022-03-16T00:00:00",
          "2022-03-23T00:00:00",
          "2022-03-30T00:00:00",
          "2022-04-06T00:00:00",
          "2022-04-13T00:00:00",
          "2022-04-20T00:00:00",
          "2022-04-27T00:00:00",
          "2022-05-04T00:00:00",
          "2022-05-11T00:00:00",
          "2022-05-18T00:00:00",
          "2022-05-25T00:00:00",
          "2022-06-01T00:00:00",
          "2022-06-08T00:00:00",
          "2022-06-15T00:00:00",
          "2022-06-22T00:00:00",
          "2022-06-29T00:00:00",
          "2022-07-06T00:00:00",
          "2022-07-13T00:00:00",
          "2022-07-20T00:00:00",
          "2022-07-27T00:00:00",
          "2022-08-03T00:00:00",
          "2022-08-10T00:00:00",
          "2022-08-17T00:00:00",
          "2022-08-24T00:00:00",
          "2022-08-31T00:00:00",
          "2022-09-07T00:00:00",
          "2022-09-14T00:00:00",
          "2022-09-21T00:00:00",
          "2022-09-28T00:00:00",
          "2022-10-05T00:00:00",
          "2022-10-12T00:00:00",
          "2022-10-19T00:00:00",
          "2022-10-26T00:00:00",
          "2022-11-02T00:00:00",
          "2022-11-09T00:00:00",
          "2022-11-16T00:00:00",
          "2022-11-23T00:00:00",
          "2022-11-30T00:00:00",
          "2022-12-07T00:00:00",
          "2022-12-14T00:00:00",
          "2022-12-21T00:00:00",
          "2022-12-28T00:00:00",
          "2023-01-04T00:00:00",
          "2023-01-11T00:00:00",
          "2023-01-18T00:00:00",
          "2023-01-25T00:00:00",
          "2023-02-01T00:00:00",
          "2023-02-08T00:00:00",
          "2023-02-15T00:00:00",
          "2023-02-22T00:00:00",
          "2023-03-01T00:00:00",
          "2023-03-08T00:00:00",
          "2023-03-15T00:00:00",
          "2023-03-22T00:00:00",
          "2023-03-29T00:00:00",
          "2023-04-05T00:00:00",
          "2023-04-12T00:00:00",
          "2023-04-19T00:00:00",
          "2023-04-26T00:00:00"
         ],
         "xaxis": "x",
         "y": [
          0.49015554150713714,
          0.49065546257530174,
          0.49049642356897294,
          0.49071805914818556,
          0.4896764169856222,
          0.49044126685325246,
          0.4891216997794665,
          0.4894069778124305,
          0.4898928362049683,
          0.490415648483658,
          0.4910466820709779,
          0.4893483098892719,
          0.48800647122958773,
          0.48771174358901137,
          0.4881039869465657,
          0.48717263563580426,
          0.4878073735121103,
          0.48718537026226383,
          0.4879622648646465,
          0.4882900590743862,
          0.4870507335927725,
          0.4868588641382415,
          0.4859915500734647,
          0.4851627496312585,
          0.48450621854442116,
          0.48398379975247496,
          0.48381302899788636,
          0.48422754902306214,
          0.4834575521915647,
          0.4824051992009,
          0.4826501549219969,
          0.48286897985147836,
          0.4837858739540846,
          0.4815734641125928,
          0.4815645219086023,
          0.4813103197577599,
          0.48170867729562145,
          0.4804480948616467,
          0.47881458024189166,
          0.47829346169131964,
          0.4788706517159904,
          0.4776057055548676,
          0.47784115620261786,
          0.4774705402131945,
          0.4778836565558872,
          0.47720966979772717,
          0.47676462685808474,
          0.47651154555056224,
          0.4762594142224858,
          0.4764695595353898,
          0.4748617529185266,
          0.47515584996272553,
          0.4748025314401424,
          0.47466584049042776,
          0.4729124223419424,
          0.47276540704408954,
          0.47212518565978395,
          0.4717420237059712,
          0.4718761763165385,
          0.4711365519812291,
          0.47094828515519027,
          0.47094083625673655,
          0.47077057624712426,
          0.4694217284023346,
          0.46894850725148574,
          0.46802475372168845,
          0.4679078551222749,
          0.46715737550685466,
          0.46699740467866946,
          0.46645958094717055,
          0.4658644052377336,
          0.4659186493507916,
          0.46488604272684114,
          0.46445185821418905,
          0.46354519655075244,
          0.46303873820278474,
          0.4620095748924697,
          0.46146082227260016,
          0.4612639764715792,
          0.4562796335178469,
          0.45585980313999463,
          0.45510246427776707,
          0.45417042206566655,
          0.4539408366376684,
          0.45370201290556483,
          0.45323823119595974,
          0.45289869095415514,
          0.4526459043504866,
          0.45237140704368506,
          0.45191023561325777,
          0.4517232976027121,
          0.45078527365138976,
          0.4507205291309434,
          0.4504744397056671,
          0.45239500669691307,
          0.45371877873667193,
          0.45372419315188495,
          0.45390217456233145,
          0.45313572713113676,
          0.4514169127250334
         ],
         "yaxis": "y"
        },
        {
         "alignmentgroup": "True",
         "hovertemplate": "variable=Real estate loans, small domestically chartered commercial banks, not seasonally adjusted<br>Series Description=%{x}<br>value=%{y}<extra></extra>",
         "legendgroup": "Real estate loans, small domestically chartered commercial banks, not seasonally adjusted",
         "marker": {
          "color": "#EF553B",
          "pattern": {
           "shape": ""
          }
         },
         "name": "Real estate loans, small domestically chartered commercial banks, not seasonally adjusted",
         "offsetgroup": "Real estate loans, small domestically chartered commercial banks, not seasonally adjusted",
         "orientation": "v",
         "showlegend": true,
         "textposition": "auto",
         "type": "bar",
         "x": [
          "2021-06-02T00:00:00",
          "2021-06-09T00:00:00",
          "2021-06-16T00:00:00",
          "2021-06-23T00:00:00",
          "2021-06-30T00:00:00",
          "2021-07-07T00:00:00",
          "2021-07-14T00:00:00",
          "2021-07-21T00:00:00",
          "2021-07-28T00:00:00",
          "2021-08-04T00:00:00",
          "2021-08-11T00:00:00",
          "2021-08-18T00:00:00",
          "2021-08-25T00:00:00",
          "2021-09-01T00:00:00",
          "2021-09-08T00:00:00",
          "2021-09-15T00:00:00",
          "2021-09-22T00:00:00",
          "2021-09-29T00:00:00",
          "2021-10-06T00:00:00",
          "2021-10-13T00:00:00",
          "2021-10-20T00:00:00",
          "2021-10-27T00:00:00",
          "2021-11-03T00:00:00",
          "2021-11-10T00:00:00",
          "2021-11-17T00:00:00",
          "2021-11-24T00:00:00",
          "2021-12-01T00:00:00",
          "2021-12-08T00:00:00",
          "2021-12-15T00:00:00",
          "2021-12-22T00:00:00",
          "2021-12-29T00:00:00",
          "2022-01-05T00:00:00",
          "2022-01-12T00:00:00",
          "2022-01-19T00:00:00",
          "2022-01-26T00:00:00",
          "2022-02-02T00:00:00",
          "2022-02-09T00:00:00",
          "2022-02-16T00:00:00",
          "2022-02-23T00:00:00",
          "2022-03-02T00:00:00",
          "2022-03-09T00:00:00",
          "2022-03-16T00:00:00",
          "2022-03-23T00:00:00",
          "2022-03-30T00:00:00",
          "2022-04-06T00:00:00",
          "2022-04-13T00:00:00",
          "2022-04-20T00:00:00",
          "2022-04-27T00:00:00",
          "2022-05-04T00:00:00",
          "2022-05-11T00:00:00",
          "2022-05-18T00:00:00",
          "2022-05-25T00:00:00",
          "2022-06-01T00:00:00",
          "2022-06-08T00:00:00",
          "2022-06-15T00:00:00",
          "2022-06-22T00:00:00",
          "2022-06-29T00:00:00",
          "2022-07-06T00:00:00",
          "2022-07-13T00:00:00",
          "2022-07-20T00:00:00",
          "2022-07-27T00:00:00",
          "2022-08-03T00:00:00",
          "2022-08-10T00:00:00",
          "2022-08-17T00:00:00",
          "2022-08-24T00:00:00",
          "2022-08-31T00:00:00",
          "2022-09-07T00:00:00",
          "2022-09-14T00:00:00",
          "2022-09-21T00:00:00",
          "2022-09-28T00:00:00",
          "2022-10-05T00:00:00",
          "2022-10-12T00:00:00",
          "2022-10-19T00:00:00",
          "2022-10-26T00:00:00",
          "2022-11-02T00:00:00",
          "2022-11-09T00:00:00",
          "2022-11-16T00:00:00",
          "2022-11-23T00:00:00",
          "2022-11-30T00:00:00",
          "2022-12-07T00:00:00",
          "2022-12-14T00:00:00",
          "2022-12-21T00:00:00",
          "2022-12-28T00:00:00",
          "2023-01-04T00:00:00",
          "2023-01-11T00:00:00",
          "2023-01-18T00:00:00",
          "2023-01-25T00:00:00",
          "2023-02-01T00:00:00",
          "2023-02-08T00:00:00",
          "2023-02-15T00:00:00",
          "2023-02-22T00:00:00",
          "2023-03-01T00:00:00",
          "2023-03-08T00:00:00",
          "2023-03-15T00:00:00",
          "2023-03-22T00:00:00",
          "2023-03-29T00:00:00",
          "2023-04-05T00:00:00",
          "2023-04-12T00:00:00",
          "2023-04-19T00:00:00",
          "2023-04-26T00:00:00"
         ],
         "xaxis": "x",
         "y": [
          0.5098444584928629,
          0.5093445374246982,
          0.5095035764310271,
          0.5092819408518144,
          0.5103235830143777,
          0.5095587331467475,
          0.5108783002205335,
          0.5105930221875695,
          0.5101071637950317,
          0.5095843515163421,
          0.5089533179290221,
          0.5106516901107281,
          0.5119935287704123,
          0.5122882564109886,
          0.5118960130534344,
          0.5128273643641957,
          0.5121926264878897,
          0.5128146297377362,
          0.5120377351353536,
          0.5117099409256138,
          0.5129492664072275,
          0.5131411358617585,
          0.5140084499265354,
          0.5148372503687415,
          0.5154937814555788,
          0.516016200247525,
          0.5161869710021136,
          0.5157724509769379,
          0.5165424478084353,
          0.5175948007991,
          0.5173498450780031,
          0.5171310201485216,
          0.5162141260459154,
          0.5184265358874073,
          0.5184354780913977,
          0.5186896802422402,
          0.5182913227043785,
          0.5195519051383534,
          0.5211854197581083,
          0.5217065383086804,
          0.5211293482840096,
          0.5223942944451324,
          0.5221588437973822,
          0.5225294597868054,
          0.5221163434441128,
          0.5227903302022728,
          0.5232353731419153,
          0.5234884544494378,
          0.5237405857775143,
          0.5235304404646102,
          0.5251382470814734,
          0.5248441500372745,
          0.5251974685598576,
          0.5253341595095722,
          0.5270875776580576,
          0.5272345929559105,
          0.5278748143402161,
          0.5282579762940288,
          0.5281238236834616,
          0.5288634480187709,
          0.5290517148448097,
          0.5290591637432634,
          0.5292294237528757,
          0.5305782715976654,
          0.5310514927485143,
          0.5319752462783115,
          0.532092144877725,
          0.5328426244931453,
          0.5330025953213305,
          0.5335404190528295,
          0.5341355947622665,
          0.5340813506492084,
          0.5351139572731589,
          0.5355481417858109,
          0.5364548034492476,
          0.5369612617972153,
          0.5379904251075304,
          0.5385391777273999,
          0.5387360235284208,
          0.543720366482153,
          0.5441401968600054,
          0.5448975357222329,
          0.5458295779343335,
          0.5460591633623316,
          0.5462979870944351,
          0.5467617688040403,
          0.5471013090458449,
          0.5473540956495134,
          0.5476285929563149,
          0.5480897643867423,
          0.5482767023972879,
          0.5492147263486102,
          0.5492794708690566,
          0.5495255602943329,
          0.547604993303087,
          0.546281221263328,
          0.546275806848115,
          0.5460978254376686,
          0.5468642728688632,
          0.5485830872749665
         ],
         "yaxis": "y"
        }
       ],
       "layout": {
        "barmode": "relative",
        "legend": {
         "title": {
          "text": "Legend"
         },
         "tracegroupgap": 0
        },
        "margin": {
         "t": 60
        },
        "template": {
         "data": {
          "bar": [
           {
            "error_x": {
             "color": "#2a3f5f"
            },
            "error_y": {
             "color": "#2a3f5f"
            },
            "marker": {
             "line": {
              "color": "white",
              "width": 0.5
             },
             "pattern": {
              "fillmode": "overlay",
              "size": 10,
              "solidity": 0.2
             }
            },
            "type": "bar"
           }
          ],
          "barpolar": [
           {
            "marker": {
             "line": {
              "color": "white",
              "width": 0.5
             },
             "pattern": {
              "fillmode": "overlay",
              "size": 10,
              "solidity": 0.2
             }
            },
            "type": "barpolar"
           }
          ],
          "carpet": [
           {
            "aaxis": {
             "endlinecolor": "#2a3f5f",
             "gridcolor": "#C8D4E3",
             "linecolor": "#C8D4E3",
             "minorgridcolor": "#C8D4E3",
             "startlinecolor": "#2a3f5f"
            },
            "baxis": {
             "endlinecolor": "#2a3f5f",
             "gridcolor": "#C8D4E3",
             "linecolor": "#C8D4E3",
             "minorgridcolor": "#C8D4E3",
             "startlinecolor": "#2a3f5f"
            },
            "type": "carpet"
           }
          ],
          "choropleth": [
           {
            "colorbar": {
             "outlinewidth": 0,
             "ticks": ""
            },
            "type": "choropleth"
           }
          ],
          "contour": [
           {
            "colorbar": {
             "outlinewidth": 0,
             "ticks": ""
            },
            "colorscale": [
             [
              0,
              "#0d0887"
             ],
             [
              0.1111111111111111,
              "#46039f"
             ],
             [
              0.2222222222222222,
              "#7201a8"
             ],
             [
              0.3333333333333333,
              "#9c179e"
             ],
             [
              0.4444444444444444,
              "#bd3786"
             ],
             [
              0.5555555555555556,
              "#d8576b"
             ],
             [
              0.6666666666666666,
              "#ed7953"
             ],
             [
              0.7777777777777778,
              "#fb9f3a"
             ],
             [
              0.8888888888888888,
              "#fdca26"
             ],
             [
              1,
              "#f0f921"
             ]
            ],
            "type": "contour"
           }
          ],
          "contourcarpet": [
           {
            "colorbar": {
             "outlinewidth": 0,
             "ticks": ""
            },
            "type": "contourcarpet"
           }
          ],
          "heatmap": [
           {
            "colorbar": {
             "outlinewidth": 0,
             "ticks": ""
            },
            "colorscale": [
             [
              0,
              "#0d0887"
             ],
             [
              0.1111111111111111,
              "#46039f"
             ],
             [
              0.2222222222222222,
              "#7201a8"
             ],
             [
              0.3333333333333333,
              "#9c179e"
             ],
             [
              0.4444444444444444,
              "#bd3786"
             ],
             [
              0.5555555555555556,
              "#d8576b"
             ],
             [
              0.6666666666666666,
              "#ed7953"
             ],
             [
              0.7777777777777778,
              "#fb9f3a"
             ],
             [
              0.8888888888888888,
              "#fdca26"
             ],
             [
              1,
              "#f0f921"
             ]
            ],
            "type": "heatmap"
           }
          ],
          "heatmapgl": [
           {
            "colorbar": {
             "outlinewidth": 0,
             "ticks": ""
            },
            "colorscale": [
             [
              0,
              "#0d0887"
             ],
             [
              0.1111111111111111,
              "#46039f"
             ],
             [
              0.2222222222222222,
              "#7201a8"
             ],
             [
              0.3333333333333333,
              "#9c179e"
             ],
             [
              0.4444444444444444,
              "#bd3786"
             ],
             [
              0.5555555555555556,
              "#d8576b"
             ],
             [
              0.6666666666666666,
              "#ed7953"
             ],
             [
              0.7777777777777778,
              "#fb9f3a"
             ],
             [
              0.8888888888888888,
              "#fdca26"
             ],
             [
              1,
              "#f0f921"
             ]
            ],
            "type": "heatmapgl"
           }
          ],
          "histogram": [
           {
            "marker": {
             "pattern": {
              "fillmode": "overlay",
              "size": 10,
              "solidity": 0.2
             }
            },
            "type": "histogram"
           }
          ],
          "histogram2d": [
           {
            "colorbar": {
             "outlinewidth": 0,
             "ticks": ""
            },
            "colorscale": [
             [
              0,
              "#0d0887"
             ],
             [
              0.1111111111111111,
              "#46039f"
             ],
             [
              0.2222222222222222,
              "#7201a8"
             ],
             [
              0.3333333333333333,
              "#9c179e"
             ],
             [
              0.4444444444444444,
              "#bd3786"
             ],
             [
              0.5555555555555556,
              "#d8576b"
             ],
             [
              0.6666666666666666,
              "#ed7953"
             ],
             [
              0.7777777777777778,
              "#fb9f3a"
             ],
             [
              0.8888888888888888,
              "#fdca26"
             ],
             [
              1,
              "#f0f921"
             ]
            ],
            "type": "histogram2d"
           }
          ],
          "histogram2dcontour": [
           {
            "colorbar": {
             "outlinewidth": 0,
             "ticks": ""
            },
            "colorscale": [
             [
              0,
              "#0d0887"
             ],
             [
              0.1111111111111111,
              "#46039f"
             ],
             [
              0.2222222222222222,
              "#7201a8"
             ],
             [
              0.3333333333333333,
              "#9c179e"
             ],
             [
              0.4444444444444444,
              "#bd3786"
             ],
             [
              0.5555555555555556,
              "#d8576b"
             ],
             [
              0.6666666666666666,
              "#ed7953"
             ],
             [
              0.7777777777777778,
              "#fb9f3a"
             ],
             [
              0.8888888888888888,
              "#fdca26"
             ],
             [
              1,
              "#f0f921"
             ]
            ],
            "type": "histogram2dcontour"
           }
          ],
          "mesh3d": [
           {
            "colorbar": {
             "outlinewidth": 0,
             "ticks": ""
            },
            "type": "mesh3d"
           }
          ],
          "parcoords": [
           {
            "line": {
             "colorbar": {
              "outlinewidth": 0,
              "ticks": ""
             }
            },
            "type": "parcoords"
           }
          ],
          "pie": [
           {
            "automargin": true,
            "type": "pie"
           }
          ],
          "scatter": [
           {
            "fillpattern": {
             "fillmode": "overlay",
             "size": 10,
             "solidity": 0.2
            },
            "type": "scatter"
           }
          ],
          "scatter3d": [
           {
            "line": {
             "colorbar": {
              "outlinewidth": 0,
              "ticks": ""
             }
            },
            "marker": {
             "colorbar": {
              "outlinewidth": 0,
              "ticks": ""
             }
            },
            "type": "scatter3d"
           }
          ],
          "scattercarpet": [
           {
            "marker": {
             "colorbar": {
              "outlinewidth": 0,
              "ticks": ""
             }
            },
            "type": "scattercarpet"
           }
          ],
          "scattergeo": [
           {
            "marker": {
             "colorbar": {
              "outlinewidth": 0,
              "ticks": ""
             }
            },
            "type": "scattergeo"
           }
          ],
          "scattergl": [
           {
            "marker": {
             "colorbar": {
              "outlinewidth": 0,
              "ticks": ""
             }
            },
            "type": "scattergl"
           }
          ],
          "scattermapbox": [
           {
            "marker": {
             "colorbar": {
              "outlinewidth": 0,
              "ticks": ""
             }
            },
            "type": "scattermapbox"
           }
          ],
          "scatterpolar": [
           {
            "marker": {
             "colorbar": {
              "outlinewidth": 0,
              "ticks": ""
             }
            },
            "type": "scatterpolar"
           }
          ],
          "scatterpolargl": [
           {
            "marker": {
             "colorbar": {
              "outlinewidth": 0,
              "ticks": ""
             }
            },
            "type": "scatterpolargl"
           }
          ],
          "scatterternary": [
           {
            "marker": {
             "colorbar": {
              "outlinewidth": 0,
              "ticks": ""
             }
            },
            "type": "scatterternary"
           }
          ],
          "surface": [
           {
            "colorbar": {
             "outlinewidth": 0,
             "ticks": ""
            },
            "colorscale": [
             [
              0,
              "#0d0887"
             ],
             [
              0.1111111111111111,
              "#46039f"
             ],
             [
              0.2222222222222222,
              "#7201a8"
             ],
             [
              0.3333333333333333,
              "#9c179e"
             ],
             [
              0.4444444444444444,
              "#bd3786"
             ],
             [
              0.5555555555555556,
              "#d8576b"
             ],
             [
              0.6666666666666666,
              "#ed7953"
             ],
             [
              0.7777777777777778,
              "#fb9f3a"
             ],
             [
              0.8888888888888888,
              "#fdca26"
             ],
             [
              1,
              "#f0f921"
             ]
            ],
            "type": "surface"
           }
          ],
          "table": [
           {
            "cells": {
             "fill": {
              "color": "#EBF0F8"
             },
             "line": {
              "color": "white"
             }
            },
            "header": {
             "fill": {
              "color": "#C8D4E3"
             },
             "line": {
              "color": "white"
             }
            },
            "type": "table"
           }
          ]
         },
         "layout": {
          "annotationdefaults": {
           "arrowcolor": "#2a3f5f",
           "arrowhead": 0,
           "arrowwidth": 1
          },
          "autotypenumbers": "strict",
          "coloraxis": {
           "colorbar": {
            "outlinewidth": 0,
            "ticks": ""
           }
          },
          "colorscale": {
           "diverging": [
            [
             0,
             "#8e0152"
            ],
            [
             0.1,
             "#c51b7d"
            ],
            [
             0.2,
             "#de77ae"
            ],
            [
             0.3,
             "#f1b6da"
            ],
            [
             0.4,
             "#fde0ef"
            ],
            [
             0.5,
             "#f7f7f7"
            ],
            [
             0.6,
             "#e6f5d0"
            ],
            [
             0.7,
             "#b8e186"
            ],
            [
             0.8,
             "#7fbc41"
            ],
            [
             0.9,
             "#4d9221"
            ],
            [
             1,
             "#276419"
            ]
           ],
           "sequential": [
            [
             0,
             "#0d0887"
            ],
            [
             0.1111111111111111,
             "#46039f"
            ],
            [
             0.2222222222222222,
             "#7201a8"
            ],
            [
             0.3333333333333333,
             "#9c179e"
            ],
            [
             0.4444444444444444,
             "#bd3786"
            ],
            [
             0.5555555555555556,
             "#d8576b"
            ],
            [
             0.6666666666666666,
             "#ed7953"
            ],
            [
             0.7777777777777778,
             "#fb9f3a"
            ],
            [
             0.8888888888888888,
             "#fdca26"
            ],
            [
             1,
             "#f0f921"
            ]
           ],
           "sequentialminus": [
            [
             0,
             "#0d0887"
            ],
            [
             0.1111111111111111,
             "#46039f"
            ],
            [
             0.2222222222222222,
             "#7201a8"
            ],
            [
             0.3333333333333333,
             "#9c179e"
            ],
            [
             0.4444444444444444,
             "#bd3786"
            ],
            [
             0.5555555555555556,
             "#d8576b"
            ],
            [
             0.6666666666666666,
             "#ed7953"
            ],
            [
             0.7777777777777778,
             "#fb9f3a"
            ],
            [
             0.8888888888888888,
             "#fdca26"
            ],
            [
             1,
             "#f0f921"
            ]
           ]
          },
          "colorway": [
           "#636efa",
           "#EF553B",
           "#00cc96",
           "#ab63fa",
           "#FFA15A",
           "#19d3f3",
           "#FF6692",
           "#B6E880",
           "#FF97FF",
           "#FECB52"
          ],
          "font": {
           "color": "#2a3f5f"
          },
          "geo": {
           "bgcolor": "white",
           "lakecolor": "white",
           "landcolor": "white",
           "showlakes": true,
           "showland": true,
           "subunitcolor": "#C8D4E3"
          },
          "hoverlabel": {
           "align": "left"
          },
          "hovermode": "closest",
          "mapbox": {
           "style": "light"
          },
          "paper_bgcolor": "white",
          "plot_bgcolor": "white",
          "polar": {
           "angularaxis": {
            "gridcolor": "#EBF0F8",
            "linecolor": "#EBF0F8",
            "ticks": ""
           },
           "bgcolor": "white",
           "radialaxis": {
            "gridcolor": "#EBF0F8",
            "linecolor": "#EBF0F8",
            "ticks": ""
           }
          },
          "scene": {
           "xaxis": {
            "backgroundcolor": "white",
            "gridcolor": "#DFE8F3",
            "gridwidth": 2,
            "linecolor": "#EBF0F8",
            "showbackground": true,
            "ticks": "",
            "zerolinecolor": "#EBF0F8"
           },
           "yaxis": {
            "backgroundcolor": "white",
            "gridcolor": "#DFE8F3",
            "gridwidth": 2,
            "linecolor": "#EBF0F8",
            "showbackground": true,
            "ticks": "",
            "zerolinecolor": "#EBF0F8"
           },
           "zaxis": {
            "backgroundcolor": "white",
            "gridcolor": "#DFE8F3",
            "gridwidth": 2,
            "linecolor": "#EBF0F8",
            "showbackground": true,
            "ticks": "",
            "zerolinecolor": "#EBF0F8"
           }
          },
          "shapedefaults": {
           "line": {
            "color": "#2a3f5f"
           }
          },
          "ternary": {
           "aaxis": {
            "gridcolor": "#DFE8F3",
            "linecolor": "#A2B1C6",
            "ticks": ""
           },
           "baxis": {
            "gridcolor": "#DFE8F3",
            "linecolor": "#A2B1C6",
            "ticks": ""
           },
           "bgcolor": "white",
           "caxis": {
            "gridcolor": "#DFE8F3",
            "linecolor": "#A2B1C6",
            "ticks": ""
           }
          },
          "title": {
           "x": 0.05
          },
          "xaxis": {
           "automargin": true,
           "gridcolor": "#EBF0F8",
           "linecolor": "#EBF0F8",
           "ticks": "",
           "title": {
            "standoff": 15
           },
           "zerolinecolor": "#EBF0F8",
           "zerolinewidth": 2
          },
          "yaxis": {
           "automargin": true,
           "gridcolor": "#EBF0F8",
           "linecolor": "#EBF0F8",
           "ticks": "",
           "title": {
            "standoff": 15
           },
           "zerolinecolor": "#EBF0F8",
           "zerolinewidth": 2
          }
         }
        },
        "title": {
         "text": "Comparison"
        },
        "xaxis": {
         "anchor": "y",
         "domain": [
          0,
          1
         ],
         "title": {
          "text": "Date"
         }
        },
        "yaxis": {
         "anchor": "x",
         "domain": [
          0,
          1
         ],
         "title": {
          "text": "Value (1000000 multiplier) "
         }
        }
       }
      }
     },
     "metadata": {},
     "output_type": "display_data"
    }
   ],
   "source": [
    "banks_bs_comp_percent(reports = ['FRB_H8_large.csv', 'FRB_H8_small.csv'],\n",
    "bank_type = ['large domestically chartered commercial banks', 'small domestically chartered commercial banks'],\n",
    "sa = 'not seasonally adjusted',\n",
    "comp_criterias = ['Real estate loans'],\n",
    "last_x_days = 100)"
   ]
  },
  {
   "cell_type": "code",
   "execution_count": 194,
   "metadata": {},
   "outputs": [
    {
     "data": {
      "application/vnd.plotly.v1+json": {
       "config": {
        "plotlyServerURL": "https://plot.ly"
       },
       "data": [
        {
         "alignmentgroup": "True",
         "hovertemplate": "variable=Real estate loans, large domestically chartered commercial banks, not seasonally adjusted<br>Series Description=%{x}<br>value=%{y}<extra></extra>",
         "legendgroup": "Real estate loans, large domestically chartered commercial banks, not seasonally adjusted",
         "marker": {
          "color": "#636efa",
          "pattern": {
           "shape": ""
          }
         },
         "name": "Real estate loans, large domestically chartered commercial banks, not seasonally adjusted",
         "offsetgroup": "Real estate loans, large domestically chartered commercial banks, not seasonally adjusted",
         "orientation": "v",
         "showlegend": true,
         "textposition": "auto",
         "type": "bar",
         "x": [
          "2021-06-02T00:00:00",
          "2021-06-09T00:00:00",
          "2021-06-16T00:00:00",
          "2021-06-23T00:00:00",
          "2021-06-30T00:00:00",
          "2021-07-07T00:00:00",
          "2021-07-14T00:00:00",
          "2021-07-21T00:00:00",
          "2021-07-28T00:00:00",
          "2021-08-04T00:00:00",
          "2021-08-11T00:00:00",
          "2021-08-18T00:00:00",
          "2021-08-25T00:00:00",
          "2021-09-01T00:00:00",
          "2021-09-08T00:00:00",
          "2021-09-15T00:00:00",
          "2021-09-22T00:00:00",
          "2021-09-29T00:00:00",
          "2021-10-06T00:00:00",
          "2021-10-13T00:00:00",
          "2021-10-20T00:00:00",
          "2021-10-27T00:00:00",
          "2021-11-03T00:00:00",
          "2021-11-10T00:00:00",
          "2021-11-17T00:00:00",
          "2021-11-24T00:00:00",
          "2021-12-01T00:00:00",
          "2021-12-08T00:00:00",
          "2021-12-15T00:00:00",
          "2021-12-22T00:00:00",
          "2021-12-29T00:00:00",
          "2022-01-05T00:00:00",
          "2022-01-12T00:00:00",
          "2022-01-19T00:00:00",
          "2022-01-26T00:00:00",
          "2022-02-02T00:00:00",
          "2022-02-09T00:00:00",
          "2022-02-16T00:00:00",
          "2022-02-23T00:00:00",
          "2022-03-02T00:00:00",
          "2022-03-09T00:00:00",
          "2022-03-16T00:00:00",
          "2022-03-23T00:00:00",
          "2022-03-30T00:00:00",
          "2022-04-06T00:00:00",
          "2022-04-13T00:00:00",
          "2022-04-20T00:00:00",
          "2022-04-27T00:00:00",
          "2022-05-04T00:00:00",
          "2022-05-11T00:00:00",
          "2022-05-18T00:00:00",
          "2022-05-25T00:00:00",
          "2022-06-01T00:00:00",
          "2022-06-08T00:00:00",
          "2022-06-15T00:00:00",
          "2022-06-22T00:00:00",
          "2022-06-29T00:00:00",
          "2022-07-06T00:00:00",
          "2022-07-13T00:00:00",
          "2022-07-20T00:00:00",
          "2022-07-27T00:00:00",
          "2022-08-03T00:00:00",
          "2022-08-10T00:00:00",
          "2022-08-17T00:00:00",
          "2022-08-24T00:00:00",
          "2022-08-31T00:00:00",
          "2022-09-07T00:00:00",
          "2022-09-14T00:00:00",
          "2022-09-21T00:00:00",
          "2022-09-28T00:00:00",
          "2022-10-05T00:00:00",
          "2022-10-12T00:00:00",
          "2022-10-19T00:00:00",
          "2022-10-26T00:00:00",
          "2022-11-02T00:00:00",
          "2022-11-09T00:00:00",
          "2022-11-16T00:00:00",
          "2022-11-23T00:00:00",
          "2022-11-30T00:00:00",
          "2022-12-07T00:00:00",
          "2022-12-14T00:00:00",
          "2022-12-21T00:00:00",
          "2022-12-28T00:00:00",
          "2023-01-04T00:00:00",
          "2023-01-11T00:00:00",
          "2023-01-18T00:00:00",
          "2023-01-25T00:00:00",
          "2023-02-01T00:00:00",
          "2023-02-08T00:00:00",
          "2023-02-15T00:00:00",
          "2023-02-22T00:00:00",
          "2023-03-01T00:00:00",
          "2023-03-08T00:00:00",
          "2023-03-15T00:00:00",
          "2023-03-22T00:00:00",
          "2023-03-29T00:00:00",
          "2023-04-05T00:00:00",
          "2023-04-12T00:00:00",
          "2023-04-19T00:00:00",
          "2023-04-26T00:00:00"
         ],
         "xaxis": "x",
         "y": [
          0.17572069565651585,
          0.1756227631102012,
          0.17628099149605753,
          0.17791582623968194,
          0.17707962469408564,
          0.17721142713374247,
          0.1760580942123854,
          0.17652806700032728,
          0.17737588607994292,
          0.17678814240353985,
          0.1769881912732292,
          0.17528533314822192,
          0.17509899483221844,
          0.17371083190481063,
          0.17424573766968454,
          0.1731867538987129,
          0.17532143570899641,
          0.17496750146877638,
          0.1743556627403133,
          0.17407843520061714,
          0.17431426403711248,
          0.17375562584862841,
          0.17300797030349788,
          0.172977571724702,
          0.17197121328971762,
          0.17171107735851943,
          0.17028162672899555,
          0.1715013720080292,
          0.17043682784448538,
          0.17021006680442288,
          0.17074251100477708,
          0.17079302526393927,
          0.1723934297866486,
          0.17166155347640927,
          0.17335678125367585,
          0.17328216555474116,
          0.17368695167246426,
          0.17262526522017058,
          0.17184884945781934,
          0.1703750985684169,
          0.17072898744305204,
          0.170311011654524,
          0.1718824215473896,
          0.1720106202047362,
          0.17215171700143353,
          0.17167121886582837,
          0.1758675289934905,
          0.17526528384805024,
          0.17591902821422503,
          0.17676768008295254,
          0.17653718521587608,
          0.17684164979028322,
          0.1755070429228483,
          0.17748297380180367,
          0.17655531623066648,
          0.17768283018477504,
          0.17737445638789984,
          0.17653325350102952,
          0.1774170202544209,
          0.17821298444168274,
          0.17776448022045033,
          0.178656593417291,
          0.17894622183944958,
          0.17905570885914887,
          0.1794726154081006,
          0.1792457433031747,
          0.18014051860082655,
          0.18002469958593256,
          0.1815605205640786,
          0.1817714943326308,
          0.18262855805560174,
          0.18181475878319406,
          0.18281377924213502,
          0.1822461504770347,
          0.18242309571036533,
          0.18271193737501004,
          0.181103270817377,
          0.18103832200280456,
          0.18140928223000372,
          0.18259204613300026,
          0.18102902104367452,
          0.1815182145787936,
          0.1821518821741365,
          0.1820575129485753,
          0.1828250774177528,
          0.18274107601757641,
          0.18397844055629195,
          0.1835798545155779,
          0.18481623893534196,
          0.18395262506759646,
          0.1846468500347108,
          0.18429453339576285,
          0.18492593131351023,
          0.18019211794264944,
          0.18166683597908664,
          0.18069899320352018,
          0.1812171370759731,
          0.18199313343001527,
          0.18333449928454382,
          0.1840100045797878
         ],
         "yaxis": "y"
        },
        {
         "alignmentgroup": "True",
         "hovertemplate": "variable=Real estate loans, small domestically chartered commercial banks, not seasonally adjusted<br>Series Description=%{x}<br>value=%{y}<extra></extra>",
         "legendgroup": "Real estate loans, small domestically chartered commercial banks, not seasonally adjusted",
         "marker": {
          "color": "#EF553B",
          "pattern": {
           "shape": ""
          }
         },
         "name": "Real estate loans, small domestically chartered commercial banks, not seasonally adjusted",
         "offsetgroup": "Real estate loans, small domestically chartered commercial banks, not seasonally adjusted",
         "orientation": "v",
         "showlegend": true,
         "textposition": "auto",
         "type": "bar",
         "x": [
          "2021-06-02T00:00:00",
          "2021-06-09T00:00:00",
          "2021-06-16T00:00:00",
          "2021-06-23T00:00:00",
          "2021-06-30T00:00:00",
          "2021-07-07T00:00:00",
          "2021-07-14T00:00:00",
          "2021-07-21T00:00:00",
          "2021-07-28T00:00:00",
          "2021-08-04T00:00:00",
          "2021-08-11T00:00:00",
          "2021-08-18T00:00:00",
          "2021-08-25T00:00:00",
          "2021-09-01T00:00:00",
          "2021-09-08T00:00:00",
          "2021-09-15T00:00:00",
          "2021-09-22T00:00:00",
          "2021-09-29T00:00:00",
          "2021-10-06T00:00:00",
          "2021-10-13T00:00:00",
          "2021-10-20T00:00:00",
          "2021-10-27T00:00:00",
          "2021-11-03T00:00:00",
          "2021-11-10T00:00:00",
          "2021-11-17T00:00:00",
          "2021-11-24T00:00:00",
          "2021-12-01T00:00:00",
          "2021-12-08T00:00:00",
          "2021-12-15T00:00:00",
          "2021-12-22T00:00:00",
          "2021-12-29T00:00:00",
          "2022-01-05T00:00:00",
          "2022-01-12T00:00:00",
          "2022-01-19T00:00:00",
          "2022-01-26T00:00:00",
          "2022-02-02T00:00:00",
          "2022-02-09T00:00:00",
          "2022-02-16T00:00:00",
          "2022-02-23T00:00:00",
          "2022-03-02T00:00:00",
          "2022-03-09T00:00:00",
          "2022-03-16T00:00:00",
          "2022-03-23T00:00:00",
          "2022-03-30T00:00:00",
          "2022-04-06T00:00:00",
          "2022-04-13T00:00:00",
          "2022-04-20T00:00:00",
          "2022-04-27T00:00:00",
          "2022-05-04T00:00:00",
          "2022-05-11T00:00:00",
          "2022-05-18T00:00:00",
          "2022-05-25T00:00:00",
          "2022-06-01T00:00:00",
          "2022-06-08T00:00:00",
          "2022-06-15T00:00:00",
          "2022-06-22T00:00:00",
          "2022-06-29T00:00:00",
          "2022-07-06T00:00:00",
          "2022-07-13T00:00:00",
          "2022-07-20T00:00:00",
          "2022-07-27T00:00:00",
          "2022-08-03T00:00:00",
          "2022-08-10T00:00:00",
          "2022-08-17T00:00:00",
          "2022-08-24T00:00:00",
          "2022-08-31T00:00:00",
          "2022-09-07T00:00:00",
          "2022-09-14T00:00:00",
          "2022-09-21T00:00:00",
          "2022-09-28T00:00:00",
          "2022-10-05T00:00:00",
          "2022-10-12T00:00:00",
          "2022-10-19T00:00:00",
          "2022-10-26T00:00:00",
          "2022-11-02T00:00:00",
          "2022-11-09T00:00:00",
          "2022-11-16T00:00:00",
          "2022-11-23T00:00:00",
          "2022-11-30T00:00:00",
          "2022-12-07T00:00:00",
          "2022-12-14T00:00:00",
          "2022-12-21T00:00:00",
          "2022-12-28T00:00:00",
          "2023-01-04T00:00:00",
          "2023-01-11T00:00:00",
          "2023-01-18T00:00:00",
          "2023-01-25T00:00:00",
          "2023-02-01T00:00:00",
          "2023-02-08T00:00:00",
          "2023-02-15T00:00:00",
          "2023-02-22T00:00:00",
          "2023-03-01T00:00:00",
          "2023-03-08T00:00:00",
          "2023-03-15T00:00:00",
          "2023-03-22T00:00:00",
          "2023-03-29T00:00:00",
          "2023-04-05T00:00:00",
          "2023-04-12T00:00:00",
          "2023-04-19T00:00:00",
          "2023-04-26T00:00:00"
         ],
         "xaxis": "x",
         "y": [
          0.36989813989971454,
          0.36981740896456555,
          0.37047176974582996,
          0.37246505535597807,
          0.3706068996520358,
          0.3707754317201355,
          0.37048991239596385,
          0.37209030876676147,
          0.3708863290464515,
          0.3697102444075384,
          0.3690505050327619,
          0.36937163899955533,
          0.3709141649286796,
          0.36887553171442666,
          0.3686205130780907,
          0.3689296154292014,
          0.3700607798731126,
          0.3703529843985904,
          0.36978215557841304,
          0.36896583178302955,
          0.3696987423313666,
          0.370053007637865,
          0.3691741955908719,
          0.36833379780364794,
          0.3680003169595449,
          0.3692244057655666,
          0.36758336401269126,
          0.36756514099468157,
          0.36651974175202684,
          0.36658739534413975,
          0.36696413063744737,
          0.3678434111091681,
          0.3676255950948887,
          0.36915372910816413,
          0.3710447296256491,
          0.3712908664415378,
          0.37160124353477064,
          0.37188154919787425,
          0.37322429667806195,
          0.37407476911440224,
          0.3738140466077196,
          0.3747074548420066,
          0.37606768448637645,
          0.3747036220116708,
          0.37519354787734116,
          0.3758256662260959,
          0.37993581234784535,
          0.3827319032325242,
          0.38349149203454436,
          0.3849980470359913,
          0.38627938260942424,
          0.3867435807053813,
          0.3859543290464963,
          0.38769136827464507,
          0.3885861644750584,
          0.3901493900994615,
          0.3910154930919206,
          0.3923977079957289,
          0.393664672725718,
          0.39539910274777584,
          0.39697953773848027,
          0.39672389845550626,
          0.3979529998624614,
          0.3986858983125743,
          0.3996073354745158,
          0.3991969430338557,
          0.4007082663251475,
          0.40201575714583265,
          0.40434915067719557,
          0.40478981158072047,
          0.40583370042906064,
          0.4064048660939854,
          0.4078533521011191,
          0.4088933787284825,
          0.4101669665404498,
          0.41071318885747593,
          0.410709646531252,
          0.4121458645240984,
          0.4118538808035138,
          0.41582237939188194,
          0.41654718236421323,
          0.4169649811676631,
          0.41723884716940673,
          0.4168178731564105,
          0.41932934957950346,
          0.4202740794336898,
          0.4228889837181841,
          0.4207451867143103,
          0.42268184642780904,
          0.4231250181113359,
          0.42304912464229644,
          0.4241967622664354,
          0.42582728510188883,
          0.4197264407383945,
          0.41989603956376864,
          0.42691524273445913,
          0.4278202580513589,
          0.42846739611008006,
          0.43092908053443396,
          0.4320369434981445
         ],
         "yaxis": "y"
        }
       ],
       "layout": {
        "barmode": "relative",
        "legend": {
         "title": {
          "text": "Legend"
         },
         "tracegroupgap": 0
        },
        "margin": {
         "t": 60
        },
        "template": {
         "data": {
          "bar": [
           {
            "error_x": {
             "color": "#2a3f5f"
            },
            "error_y": {
             "color": "#2a3f5f"
            },
            "marker": {
             "line": {
              "color": "white",
              "width": 0.5
             },
             "pattern": {
              "fillmode": "overlay",
              "size": 10,
              "solidity": 0.2
             }
            },
            "type": "bar"
           }
          ],
          "barpolar": [
           {
            "marker": {
             "line": {
              "color": "white",
              "width": 0.5
             },
             "pattern": {
              "fillmode": "overlay",
              "size": 10,
              "solidity": 0.2
             }
            },
            "type": "barpolar"
           }
          ],
          "carpet": [
           {
            "aaxis": {
             "endlinecolor": "#2a3f5f",
             "gridcolor": "#C8D4E3",
             "linecolor": "#C8D4E3",
             "minorgridcolor": "#C8D4E3",
             "startlinecolor": "#2a3f5f"
            },
            "baxis": {
             "endlinecolor": "#2a3f5f",
             "gridcolor": "#C8D4E3",
             "linecolor": "#C8D4E3",
             "minorgridcolor": "#C8D4E3",
             "startlinecolor": "#2a3f5f"
            },
            "type": "carpet"
           }
          ],
          "choropleth": [
           {
            "colorbar": {
             "outlinewidth": 0,
             "ticks": ""
            },
            "type": "choropleth"
           }
          ],
          "contour": [
           {
            "colorbar": {
             "outlinewidth": 0,
             "ticks": ""
            },
            "colorscale": [
             [
              0,
              "#0d0887"
             ],
             [
              0.1111111111111111,
              "#46039f"
             ],
             [
              0.2222222222222222,
              "#7201a8"
             ],
             [
              0.3333333333333333,
              "#9c179e"
             ],
             [
              0.4444444444444444,
              "#bd3786"
             ],
             [
              0.5555555555555556,
              "#d8576b"
             ],
             [
              0.6666666666666666,
              "#ed7953"
             ],
             [
              0.7777777777777778,
              "#fb9f3a"
             ],
             [
              0.8888888888888888,
              "#fdca26"
             ],
             [
              1,
              "#f0f921"
             ]
            ],
            "type": "contour"
           }
          ],
          "contourcarpet": [
           {
            "colorbar": {
             "outlinewidth": 0,
             "ticks": ""
            },
            "type": "contourcarpet"
           }
          ],
          "heatmap": [
           {
            "colorbar": {
             "outlinewidth": 0,
             "ticks": ""
            },
            "colorscale": [
             [
              0,
              "#0d0887"
             ],
             [
              0.1111111111111111,
              "#46039f"
             ],
             [
              0.2222222222222222,
              "#7201a8"
             ],
             [
              0.3333333333333333,
              "#9c179e"
             ],
             [
              0.4444444444444444,
              "#bd3786"
             ],
             [
              0.5555555555555556,
              "#d8576b"
             ],
             [
              0.6666666666666666,
              "#ed7953"
             ],
             [
              0.7777777777777778,
              "#fb9f3a"
             ],
             [
              0.8888888888888888,
              "#fdca26"
             ],
             [
              1,
              "#f0f921"
             ]
            ],
            "type": "heatmap"
           }
          ],
          "heatmapgl": [
           {
            "colorbar": {
             "outlinewidth": 0,
             "ticks": ""
            },
            "colorscale": [
             [
              0,
              "#0d0887"
             ],
             [
              0.1111111111111111,
              "#46039f"
             ],
             [
              0.2222222222222222,
              "#7201a8"
             ],
             [
              0.3333333333333333,
              "#9c179e"
             ],
             [
              0.4444444444444444,
              "#bd3786"
             ],
             [
              0.5555555555555556,
              "#d8576b"
             ],
             [
              0.6666666666666666,
              "#ed7953"
             ],
             [
              0.7777777777777778,
              "#fb9f3a"
             ],
             [
              0.8888888888888888,
              "#fdca26"
             ],
             [
              1,
              "#f0f921"
             ]
            ],
            "type": "heatmapgl"
           }
          ],
          "histogram": [
           {
            "marker": {
             "pattern": {
              "fillmode": "overlay",
              "size": 10,
              "solidity": 0.2
             }
            },
            "type": "histogram"
           }
          ],
          "histogram2d": [
           {
            "colorbar": {
             "outlinewidth": 0,
             "ticks": ""
            },
            "colorscale": [
             [
              0,
              "#0d0887"
             ],
             [
              0.1111111111111111,
              "#46039f"
             ],
             [
              0.2222222222222222,
              "#7201a8"
             ],
             [
              0.3333333333333333,
              "#9c179e"
             ],
             [
              0.4444444444444444,
              "#bd3786"
             ],
             [
              0.5555555555555556,
              "#d8576b"
             ],
             [
              0.6666666666666666,
              "#ed7953"
             ],
             [
              0.7777777777777778,
              "#fb9f3a"
             ],
             [
              0.8888888888888888,
              "#fdca26"
             ],
             [
              1,
              "#f0f921"
             ]
            ],
            "type": "histogram2d"
           }
          ],
          "histogram2dcontour": [
           {
            "colorbar": {
             "outlinewidth": 0,
             "ticks": ""
            },
            "colorscale": [
             [
              0,
              "#0d0887"
             ],
             [
              0.1111111111111111,
              "#46039f"
             ],
             [
              0.2222222222222222,
              "#7201a8"
             ],
             [
              0.3333333333333333,
              "#9c179e"
             ],
             [
              0.4444444444444444,
              "#bd3786"
             ],
             [
              0.5555555555555556,
              "#d8576b"
             ],
             [
              0.6666666666666666,
              "#ed7953"
             ],
             [
              0.7777777777777778,
              "#fb9f3a"
             ],
             [
              0.8888888888888888,
              "#fdca26"
             ],
             [
              1,
              "#f0f921"
             ]
            ],
            "type": "histogram2dcontour"
           }
          ],
          "mesh3d": [
           {
            "colorbar": {
             "outlinewidth": 0,
             "ticks": ""
            },
            "type": "mesh3d"
           }
          ],
          "parcoords": [
           {
            "line": {
             "colorbar": {
              "outlinewidth": 0,
              "ticks": ""
             }
            },
            "type": "parcoords"
           }
          ],
          "pie": [
           {
            "automargin": true,
            "type": "pie"
           }
          ],
          "scatter": [
           {
            "fillpattern": {
             "fillmode": "overlay",
             "size": 10,
             "solidity": 0.2
            },
            "type": "scatter"
           }
          ],
          "scatter3d": [
           {
            "line": {
             "colorbar": {
              "outlinewidth": 0,
              "ticks": ""
             }
            },
            "marker": {
             "colorbar": {
              "outlinewidth": 0,
              "ticks": ""
             }
            },
            "type": "scatter3d"
           }
          ],
          "scattercarpet": [
           {
            "marker": {
             "colorbar": {
              "outlinewidth": 0,
              "ticks": ""
             }
            },
            "type": "scattercarpet"
           }
          ],
          "scattergeo": [
           {
            "marker": {
             "colorbar": {
              "outlinewidth": 0,
              "ticks": ""
             }
            },
            "type": "scattergeo"
           }
          ],
          "scattergl": [
           {
            "marker": {
             "colorbar": {
              "outlinewidth": 0,
              "ticks": ""
             }
            },
            "type": "scattergl"
           }
          ],
          "scattermapbox": [
           {
            "marker": {
             "colorbar": {
              "outlinewidth": 0,
              "ticks": ""
             }
            },
            "type": "scattermapbox"
           }
          ],
          "scatterpolar": [
           {
            "marker": {
             "colorbar": {
              "outlinewidth": 0,
              "ticks": ""
             }
            },
            "type": "scatterpolar"
           }
          ],
          "scatterpolargl": [
           {
            "marker": {
             "colorbar": {
              "outlinewidth": 0,
              "ticks": ""
             }
            },
            "type": "scatterpolargl"
           }
          ],
          "scatterternary": [
           {
            "marker": {
             "colorbar": {
              "outlinewidth": 0,
              "ticks": ""
             }
            },
            "type": "scatterternary"
           }
          ],
          "surface": [
           {
            "colorbar": {
             "outlinewidth": 0,
             "ticks": ""
            },
            "colorscale": [
             [
              0,
              "#0d0887"
             ],
             [
              0.1111111111111111,
              "#46039f"
             ],
             [
              0.2222222222222222,
              "#7201a8"
             ],
             [
              0.3333333333333333,
              "#9c179e"
             ],
             [
              0.4444444444444444,
              "#bd3786"
             ],
             [
              0.5555555555555556,
              "#d8576b"
             ],
             [
              0.6666666666666666,
              "#ed7953"
             ],
             [
              0.7777777777777778,
              "#fb9f3a"
             ],
             [
              0.8888888888888888,
              "#fdca26"
             ],
             [
              1,
              "#f0f921"
             ]
            ],
            "type": "surface"
           }
          ],
          "table": [
           {
            "cells": {
             "fill": {
              "color": "#EBF0F8"
             },
             "line": {
              "color": "white"
             }
            },
            "header": {
             "fill": {
              "color": "#C8D4E3"
             },
             "line": {
              "color": "white"
             }
            },
            "type": "table"
           }
          ]
         },
         "layout": {
          "annotationdefaults": {
           "arrowcolor": "#2a3f5f",
           "arrowhead": 0,
           "arrowwidth": 1
          },
          "autotypenumbers": "strict",
          "coloraxis": {
           "colorbar": {
            "outlinewidth": 0,
            "ticks": ""
           }
          },
          "colorscale": {
           "diverging": [
            [
             0,
             "#8e0152"
            ],
            [
             0.1,
             "#c51b7d"
            ],
            [
             0.2,
             "#de77ae"
            ],
            [
             0.3,
             "#f1b6da"
            ],
            [
             0.4,
             "#fde0ef"
            ],
            [
             0.5,
             "#f7f7f7"
            ],
            [
             0.6,
             "#e6f5d0"
            ],
            [
             0.7,
             "#b8e186"
            ],
            [
             0.8,
             "#7fbc41"
            ],
            [
             0.9,
             "#4d9221"
            ],
            [
             1,
             "#276419"
            ]
           ],
           "sequential": [
            [
             0,
             "#0d0887"
            ],
            [
             0.1111111111111111,
             "#46039f"
            ],
            [
             0.2222222222222222,
             "#7201a8"
            ],
            [
             0.3333333333333333,
             "#9c179e"
            ],
            [
             0.4444444444444444,
             "#bd3786"
            ],
            [
             0.5555555555555556,
             "#d8576b"
            ],
            [
             0.6666666666666666,
             "#ed7953"
            ],
            [
             0.7777777777777778,
             "#fb9f3a"
            ],
            [
             0.8888888888888888,
             "#fdca26"
            ],
            [
             1,
             "#f0f921"
            ]
           ],
           "sequentialminus": [
            [
             0,
             "#0d0887"
            ],
            [
             0.1111111111111111,
             "#46039f"
            ],
            [
             0.2222222222222222,
             "#7201a8"
            ],
            [
             0.3333333333333333,
             "#9c179e"
            ],
            [
             0.4444444444444444,
             "#bd3786"
            ],
            [
             0.5555555555555556,
             "#d8576b"
            ],
            [
             0.6666666666666666,
             "#ed7953"
            ],
            [
             0.7777777777777778,
             "#fb9f3a"
            ],
            [
             0.8888888888888888,
             "#fdca26"
            ],
            [
             1,
             "#f0f921"
            ]
           ]
          },
          "colorway": [
           "#636efa",
           "#EF553B",
           "#00cc96",
           "#ab63fa",
           "#FFA15A",
           "#19d3f3",
           "#FF6692",
           "#B6E880",
           "#FF97FF",
           "#FECB52"
          ],
          "font": {
           "color": "#2a3f5f"
          },
          "geo": {
           "bgcolor": "white",
           "lakecolor": "white",
           "landcolor": "white",
           "showlakes": true,
           "showland": true,
           "subunitcolor": "#C8D4E3"
          },
          "hoverlabel": {
           "align": "left"
          },
          "hovermode": "closest",
          "mapbox": {
           "style": "light"
          },
          "paper_bgcolor": "white",
          "plot_bgcolor": "white",
          "polar": {
           "angularaxis": {
            "gridcolor": "#EBF0F8",
            "linecolor": "#EBF0F8",
            "ticks": ""
           },
           "bgcolor": "white",
           "radialaxis": {
            "gridcolor": "#EBF0F8",
            "linecolor": "#EBF0F8",
            "ticks": ""
           }
          },
          "scene": {
           "xaxis": {
            "backgroundcolor": "white",
            "gridcolor": "#DFE8F3",
            "gridwidth": 2,
            "linecolor": "#EBF0F8",
            "showbackground": true,
            "ticks": "",
            "zerolinecolor": "#EBF0F8"
           },
           "yaxis": {
            "backgroundcolor": "white",
            "gridcolor": "#DFE8F3",
            "gridwidth": 2,
            "linecolor": "#EBF0F8",
            "showbackground": true,
            "ticks": "",
            "zerolinecolor": "#EBF0F8"
           },
           "zaxis": {
            "backgroundcolor": "white",
            "gridcolor": "#DFE8F3",
            "gridwidth": 2,
            "linecolor": "#EBF0F8",
            "showbackground": true,
            "ticks": "",
            "zerolinecolor": "#EBF0F8"
           }
          },
          "shapedefaults": {
           "line": {
            "color": "#2a3f5f"
           }
          },
          "ternary": {
           "aaxis": {
            "gridcolor": "#DFE8F3",
            "linecolor": "#A2B1C6",
            "ticks": ""
           },
           "baxis": {
            "gridcolor": "#DFE8F3",
            "linecolor": "#A2B1C6",
            "ticks": ""
           },
           "bgcolor": "white",
           "caxis": {
            "gridcolor": "#DFE8F3",
            "linecolor": "#A2B1C6",
            "ticks": ""
           }
          },
          "title": {
           "x": 0.05
          },
          "xaxis": {
           "automargin": true,
           "gridcolor": "#EBF0F8",
           "linecolor": "#EBF0F8",
           "ticks": "",
           "title": {
            "standoff": 15
           },
           "zerolinecolor": "#EBF0F8",
           "zerolinewidth": 2
          },
          "yaxis": {
           "automargin": true,
           "gridcolor": "#EBF0F8",
           "linecolor": "#EBF0F8",
           "ticks": "",
           "title": {
            "standoff": 15
           },
           "zerolinecolor": "#EBF0F8",
           "zerolinewidth": 2
          }
         }
        },
        "title": {
         "text": "Comparison, value divided by each bank's total assets"
        },
        "xaxis": {
         "anchor": "y",
         "domain": [
          0,
          1
         ],
         "title": {
          "text": "Date"
         }
        },
        "yaxis": {
         "anchor": "x",
         "domain": [
          0,
          1
         ],
         "title": {
          "text": "Value (1000000 multiplier) "
         }
        }
       }
      }
     },
     "metadata": {},
     "output_type": "display_data"
    }
   ],
   "source": [
    "banks_bs_comp_percent_div(reports = ['FRB_H8_large.csv', 'FRB_H8_small.csv'],\n",
    "bank_type = ['large domestically chartered commercial banks', 'small domestically chartered commercial banks'],\n",
    "sa = 'not seasonally adjusted',\n",
    "comp_criterias = ['Real estate loans'],\n",
    "last_x_days = 100,\n",
    "divider= 'Total assets')"
   ]
  }
 ],
 "metadata": {
  "kernelspec": {
   "display_name": ".venv",
   "language": "python",
   "name": "python3"
  },
  "language_info": {
   "codemirror_mode": {
    "name": "ipython",
    "version": 3
   },
   "file_extension": ".py",
   "mimetype": "text/x-python",
   "name": "python",
   "nbconvert_exporter": "python",
   "pygments_lexer": "ipython3",
   "version": "3.11.1"
  },
  "orig_nbformat": 4,
  "vscode": {
   "interpreter": {
    "hash": "570bdb0c48713fbb8b7afe2cb0492763054e2fc2ce792547a621c78c403bb596"
   }
  }
 },
 "nbformat": 4,
 "nbformat_minor": 2
}
